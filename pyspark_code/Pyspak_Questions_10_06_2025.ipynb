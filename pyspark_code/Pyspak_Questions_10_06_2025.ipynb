{
 "cells": [
  {
   "cell_type": "code",
   "execution_count": 0,
   "metadata": {
    "application/vnd.databricks.v1+cell": {
     "cellMetadata": {
      "byteLimit": 2048000,
      "rowLimit": 10000
     },
     "inputWidgets": {},
     "nuid": "3fb5fb29-d2b6-4d7c-999f-73248eb100cd",
     "showTitle": false,
     "tableResultSettingsMap": {},
     "title": ""
    }
   },
   "outputs": [],
   "source": [
    "import pyspark.sql.functions as F\n",
    "from pyspark.sql.types import *"
   ]
  },
  {
   "cell_type": "code",
   "execution_count": 0,
   "metadata": {
    "application/vnd.databricks.v1+cell": {
     "cellMetadata": {
      "byteLimit": 2048000,
      "rowLimit": 10000
     },
     "inputWidgets": {},
     "nuid": "53030f7b-9f21-403a-81ef-57417ad6d2e2",
     "showTitle": false,
     "tableResultSettingsMap": {},
     "title": ""
    }
   },
   "outputs": [],
   "source": [
    "## Question1:Find the Median salary for each department"
   ]
  },
  {
   "cell_type": "code",
   "execution_count": 0,
   "metadata": {
    "application/vnd.databricks.v1+cell": {
     "cellMetadata": {
      "byteLimit": 2048000,
      "rowLimit": 10000
     },
     "inputWidgets": {},
     "nuid": "ecefa875-b7b9-485f-b713-4e523a4c723f",
     "showTitle": false,
     "tableResultSettingsMap": {},
     "title": ""
    }
   },
   "outputs": [],
   "source": [
    "cols=['Employee',\t'Department',\t'Salary']\n",
    "\n",
    "data=[('Alice','HR','5000'),('Bob','HR','6000'),('Charlie','HR','6000'),('David','IT','8000'),('Suzan','IT','8500'),\n",
    "('Fred','IT','8500'),('Eve','IT','8500'),('Frank','IT','9000'),('Ivan','Sales','9000'),('Judy','Sales','6500'),\n",
    "('Cris','Sales','9000'),('Garry','Sales','6000')]"
   ]
  },
  {
   "cell_type": "code",
   "execution_count": 0,
   "metadata": {
    "application/vnd.databricks.v1+cell": {
     "cellMetadata": {
      "byteLimit": 2048000,
      "rowLimit": 10000
     },
     "inputWidgets": {},
     "nuid": "9be009e0-ceec-40a9-9178-a27027129fb5",
     "showTitle": false,
     "tableResultSettingsMap": {},
     "title": ""
    }
   },
   "outputs": [
    {
     "output_type": "stream",
     "name": "stdout",
     "output_type": "stream",
     "text": [
      "+--------+----------+------+\n|Employee|Department|Salary|\n+--------+----------+------+\n|   Alice|        HR|  5000|\n|     Bob|        HR|  6000|\n| Charlie|        HR|  6000|\n|   David|        IT|  8000|\n|   Suzan|        IT|  8500|\n|    Fred|        IT|  8500|\n|     Eve|        IT|  8500|\n|   Frank|        IT|  9000|\n|    Ivan|     Sales|  9000|\n|    Judy|     Sales|  6500|\n|    Cris|     Sales|  9000|\n|   Garry|     Sales|  6000|\n+--------+----------+------+\n\n"
     ]
    }
   ],
   "source": [
    "df_src=spark.createDataFrame(data,cols)\n",
    "df_src.show()"
   ]
  },
  {
   "cell_type": "code",
   "execution_count": 0,
   "metadata": {
    "application/vnd.databricks.v1+cell": {
     "cellMetadata": {
      "byteLimit": 2048000,
      "rowLimit": 10000
     },
     "inputWidgets": {},
     "nuid": "04b58f63-7fa8-4654-acd2-74296c1c6204",
     "showTitle": false,
     "tableResultSettingsMap": {},
     "title": ""
    }
   },
   "outputs": [],
   "source": [
    "from pyspark.sql.functions import *  \n",
    "from pyspark.sql.window import Window"
   ]
  },
  {
   "cell_type": "code",
   "execution_count": 0,
   "metadata": {
    "application/vnd.databricks.v1+cell": {
     "cellMetadata": {
      "byteLimit": 2048000,
      "rowLimit": 10000
     },
     "inputWidgets": {},
     "nuid": "cfbe8540-95af-4309-be98-cd82328f0c01",
     "showTitle": false,
     "tableResultSettingsMap": {},
     "title": ""
    }
   },
   "outputs": [
    {
     "output_type": "display_data",
     "data": {
      "text/html": [
       "<style scoped>\n",
       "  .table-result-container {\n",
       "    max-height: 300px;\n",
       "    overflow: auto;\n",
       "  }\n",
       "  table, th, td {\n",
       "    border: 1px solid black;\n",
       "    border-collapse: collapse;\n",
       "  }\n",
       "  th, td {\n",
       "    padding: 5px;\n",
       "  }\n",
       "  th {\n",
       "    text-align: left;\n",
       "  }\n",
       "</style><div class='table-result-container'><table class='table-result'><thead style='background-color: white'><tr><th>Employee</th><th>Department</th><th>Salary</th><th>row_num</th><th>count</th></tr></thead><tbody><tr><td>Alice</td><td>HR</td><td>5000</td><td>1</td><td>3</td></tr><tr><td>Bob</td><td>HR</td><td>6000</td><td>2</td><td>3</td></tr><tr><td>Charlie</td><td>HR</td><td>6000</td><td>3</td><td>3</td></tr><tr><td>David</td><td>IT</td><td>8000</td><td>1</td><td>5</td></tr><tr><td>Suzan</td><td>IT</td><td>8500</td><td>2</td><td>5</td></tr><tr><td>Fred</td><td>IT</td><td>8500</td><td>3</td><td>5</td></tr><tr><td>Eve</td><td>IT</td><td>8500</td><td>4</td><td>5</td></tr><tr><td>Frank</td><td>IT</td><td>9000</td><td>5</td><td>5</td></tr><tr><td>Garry</td><td>Sales</td><td>6000</td><td>1</td><td>4</td></tr><tr><td>Judy</td><td>Sales</td><td>6500</td><td>2</td><td>4</td></tr><tr><td>Ivan</td><td>Sales</td><td>9000</td><td>3</td><td>4</td></tr><tr><td>Cris</td><td>Sales</td><td>9000</td><td>4</td><td>4</td></tr></tbody></table></div>"
      ]
     },
     "metadata": {
      "application/vnd.databricks.v1+output": {
       "addedWidgets": {},
       "aggData": [],
       "aggError": "",
       "aggOverflow": false,
       "aggSchema": [],
       "aggSeriesLimitReached": false,
       "aggType": "",
       "arguments": {},
       "columnCustomDisplayInfos": {},
       "data": [
        [
         "Alice",
         "HR",
         "5000",
         1,
         3
        ],
        [
         "Bob",
         "HR",
         "6000",
         2,
         3
        ],
        [
         "Charlie",
         "HR",
         "6000",
         3,
         3
        ],
        [
         "David",
         "IT",
         "8000",
         1,
         5
        ],
        [
         "Suzan",
         "IT",
         "8500",
         2,
         5
        ],
        [
         "Fred",
         "IT",
         "8500",
         3,
         5
        ],
        [
         "Eve",
         "IT",
         "8500",
         4,
         5
        ],
        [
         "Frank",
         "IT",
         "9000",
         5,
         5
        ],
        [
         "Garry",
         "Sales",
         "6000",
         1,
         4
        ],
        [
         "Judy",
         "Sales",
         "6500",
         2,
         4
        ],
        [
         "Ivan",
         "Sales",
         "9000",
         3,
         4
        ],
        [
         "Cris",
         "Sales",
         "9000",
         4,
         4
        ]
       ],
       "datasetInfos": [],
       "dbfsResultPath": null,
       "isJsonSchema": true,
       "metadata": {},
       "overflow": false,
       "plotOptions": {
        "customPlotOptions": {},
        "displayType": "table",
        "pivotAggregation": null,
        "pivotColumns": null,
        "xColumns": null,
        "yColumns": null
       },
       "removedWidgets": [],
       "schema": [
        {
         "metadata": "{}",
         "name": "Employee",
         "type": "\"string\""
        },
        {
         "metadata": "{}",
         "name": "Department",
         "type": "\"string\""
        },
        {
         "metadata": "{}",
         "name": "Salary",
         "type": "\"string\""
        },
        {
         "metadata": "{}",
         "name": "row_num",
         "type": "\"integer\""
        },
        {
         "metadata": "{}",
         "name": "count",
         "type": "\"long\""
        }
       ],
       "type": "table"
      }
     },
     "output_type": "display_data"
    }
   ],
   "source": [
    "# Define a window partitioned by department and ordered by salary\n",
    "window_spec = Window.partitionBy(\"Department\").orderBy(\"Salary\")\n",
    "\n",
    "# Add a row number and count of salaries within each department\n",
    "df_with_row = df_src.withColumn(\"row_num\", row_number().over(window_spec))\\\n",
    "                .withColumn(\"count\", count(\"Salary\").over(Window.partitionBy(\"Department\")))\n",
    "\n",
    "df_with_row.display()"
   ]
  },
  {
   "cell_type": "code",
   "execution_count": 0,
   "metadata": {
    "application/vnd.databricks.v1+cell": {
     "cellMetadata": {
      "byteLimit": 2048000,
      "rowLimit": 10000
     },
     "inputWidgets": {},
     "nuid": "d38bd7ff-ec3e-4997-bba7-50136db33d44",
     "showTitle": false,
     "tableResultSettingsMap": {},
     "title": ""
    }
   },
   "outputs": [
    {
     "output_type": "display_data",
     "data": {
      "text/html": [
       "<style scoped>\n",
       "  .table-result-container {\n",
       "    max-height: 300px;\n",
       "    overflow: auto;\n",
       "  }\n",
       "  table, th, td {\n",
       "    border: 1px solid black;\n",
       "    border-collapse: collapse;\n",
       "  }\n",
       "  th, td {\n",
       "    padding: 5px;\n",
       "  }\n",
       "  th {\n",
       "    text-align: left;\n",
       "  }\n",
       "</style><div class='table-result-container'><table class='table-result'><thead style='background-color: white'><tr><th>Employee</th><th>Department</th><th>Salary</th><th>row_num</th><th>count</th><th>middle</th><th>next_to_middle</th></tr></thead><tbody><tr><td>Alice</td><td>HR</td><td>5000</td><td>1</td><td>3</td><td>2</td><td>2</td></tr><tr><td>Bob</td><td>HR</td><td>6000</td><td>2</td><td>3</td><td>2</td><td>2</td></tr><tr><td>Charlie</td><td>HR</td><td>6000</td><td>3</td><td>3</td><td>2</td><td>2</td></tr><tr><td>David</td><td>IT</td><td>8000</td><td>1</td><td>5</td><td>3</td><td>3</td></tr><tr><td>Suzan</td><td>IT</td><td>8500</td><td>2</td><td>5</td><td>3</td><td>3</td></tr><tr><td>Fred</td><td>IT</td><td>8500</td><td>3</td><td>5</td><td>3</td><td>3</td></tr><tr><td>Eve</td><td>IT</td><td>8500</td><td>4</td><td>5</td><td>3</td><td>3</td></tr><tr><td>Frank</td><td>IT</td><td>9000</td><td>5</td><td>5</td><td>3</td><td>3</td></tr><tr><td>Garry</td><td>Sales</td><td>6000</td><td>1</td><td>4</td><td>2</td><td>3</td></tr><tr><td>Judy</td><td>Sales</td><td>6500</td><td>2</td><td>4</td><td>2</td><td>3</td></tr><tr><td>Ivan</td><td>Sales</td><td>9000</td><td>3</td><td>4</td><td>2</td><td>3</td></tr><tr><td>Cris</td><td>Sales</td><td>9000</td><td>4</td><td>4</td><td>2</td><td>3</td></tr></tbody></table></div>"
      ]
     },
     "metadata": {
      "application/vnd.databricks.v1+output": {
       "addedWidgets": {},
       "aggData": [],
       "aggError": "",
       "aggOverflow": false,
       "aggSchema": [],
       "aggSeriesLimitReached": false,
       "aggType": "",
       "arguments": {},
       "columnCustomDisplayInfos": {},
       "data": [
        [
         "Alice",
         "HR",
         "5000",
         1,
         3,
         2,
         2
        ],
        [
         "Bob",
         "HR",
         "6000",
         2,
         3,
         2,
         2
        ],
        [
         "Charlie",
         "HR",
         "6000",
         3,
         3,
         2,
         2
        ],
        [
         "David",
         "IT",
         "8000",
         1,
         5,
         3,
         3
        ],
        [
         "Suzan",
         "IT",
         "8500",
         2,
         5,
         3,
         3
        ],
        [
         "Fred",
         "IT",
         "8500",
         3,
         5,
         3,
         3
        ],
        [
         "Eve",
         "IT",
         "8500",
         4,
         5,
         3,
         3
        ],
        [
         "Frank",
         "IT",
         "9000",
         5,
         5,
         3,
         3
        ],
        [
         "Garry",
         "Sales",
         "6000",
         1,
         4,
         2,
         3
        ],
        [
         "Judy",
         "Sales",
         "6500",
         2,
         4,
         2,
         3
        ],
        [
         "Ivan",
         "Sales",
         "9000",
         3,
         4,
         2,
         3
        ],
        [
         "Cris",
         "Sales",
         "9000",
         4,
         4,
         2,
         3
        ]
       ],
       "datasetInfos": [],
       "dbfsResultPath": null,
       "isJsonSchema": true,
       "metadata": {},
       "overflow": false,
       "plotOptions": {
        "customPlotOptions": {},
        "displayType": "table",
        "pivotAggregation": null,
        "pivotColumns": null,
        "xColumns": null,
        "yColumns": null
       },
       "removedWidgets": [],
       "schema": [
        {
         "metadata": "{}",
         "name": "Employee",
         "type": "\"string\""
        },
        {
         "metadata": "{}",
         "name": "Department",
         "type": "\"string\""
        },
        {
         "metadata": "{}",
         "name": "Salary",
         "type": "\"string\""
        },
        {
         "metadata": "{}",
         "name": "row_num",
         "type": "\"integer\""
        },
        {
         "metadata": "{}",
         "name": "count",
         "type": "\"long\""
        },
        {
         "metadata": "{}",
         "name": "middle",
         "type": "\"long\""
        },
        {
         "metadata": "{}",
         "name": "next_to_middle",
         "type": "\"long\""
        }
       ],
       "type": "table"
      }
     },
     "output_type": "display_data"
    }
   ],
   "source": [
    "# Find the median position\n",
    "# middle = middle index of the window. 3/2= 1.5 and ceil(1.5) ->\n",
    "# next_to_middle = if the no of elements in window is even then middle index + 1\n",
    "\n",
    "df_with_median = df_with_row.withColumn(\"middle\", ceil(col(\"count\") / 2))\\\n",
    "        .withColumn(\"next_to_middle\", when(col(\"count\")%2==0, col(\"middle\")+1).otherwise(col(\"middle\")))\n",
    "\n",
    "df_with_median.display()        "
   ]
  },
  {
   "cell_type": "code",
   "execution_count": 0,
   "metadata": {
    "application/vnd.databricks.v1+cell": {
     "cellMetadata": {
      "byteLimit": 2048000,
      "rowLimit": 10000
     },
     "inputWidgets": {},
     "nuid": "248fc30c-7078-410f-a317-4f83e95276c2",
     "showTitle": false,
     "tableResultSettingsMap": {},
     "title": ""
    }
   },
   "outputs": [
    {
     "output_type": "display_data",
     "data": {
      "text/html": [
       "<style scoped>\n",
       "  .table-result-container {\n",
       "    max-height: 300px;\n",
       "    overflow: auto;\n",
       "  }\n",
       "  table, th, td {\n",
       "    border: 1px solid black;\n",
       "    border-collapse: collapse;\n",
       "  }\n",
       "  th, td {\n",
       "    padding: 5px;\n",
       "  }\n",
       "  th {\n",
       "    text-align: left;\n",
       "  }\n",
       "</style><div class='table-result-container'><table class='table-result'><thead style='background-color: white'><tr><th>Employee</th><th>Department</th><th>Salary</th><th>row_num</th><th>count</th><th>middle</th><th>next_to_middle</th></tr></thead><tbody><tr><td>Bob</td><td>HR</td><td>6000</td><td>2</td><td>3</td><td>2</td><td>2</td></tr><tr><td>Fred</td><td>IT</td><td>8500</td><td>3</td><td>5</td><td>3</td><td>3</td></tr><tr><td>Judy</td><td>Sales</td><td>6500</td><td>2</td><td>4</td><td>2</td><td>3</td></tr><tr><td>Ivan</td><td>Sales</td><td>9000</td><td>3</td><td>4</td><td>2</td><td>3</td></tr></tbody></table></div>"
      ]
     },
     "metadata": {
      "application/vnd.databricks.v1+output": {
       "addedWidgets": {},
       "aggData": [],
       "aggError": "",
       "aggOverflow": false,
       "aggSchema": [],
       "aggSeriesLimitReached": false,
       "aggType": "",
       "arguments": {},
       "columnCustomDisplayInfos": {},
       "data": [
        [
         "Bob",
         "HR",
         "6000",
         2,
         3,
         2,
         2
        ],
        [
         "Fred",
         "IT",
         "8500",
         3,
         5,
         3,
         3
        ],
        [
         "Judy",
         "Sales",
         "6500",
         2,
         4,
         2,
         3
        ],
        [
         "Ivan",
         "Sales",
         "9000",
         3,
         4,
         2,
         3
        ]
       ],
       "datasetInfos": [],
       "dbfsResultPath": null,
       "isJsonSchema": true,
       "metadata": {},
       "overflow": false,
       "plotOptions": {
        "customPlotOptions": {},
        "displayType": "table",
        "pivotAggregation": null,
        "pivotColumns": null,
        "xColumns": null,
        "yColumns": null
       },
       "removedWidgets": [],
       "schema": [
        {
         "metadata": "{}",
         "name": "Employee",
         "type": "\"string\""
        },
        {
         "metadata": "{}",
         "name": "Department",
         "type": "\"string\""
        },
        {
         "metadata": "{}",
         "name": "Salary",
         "type": "\"string\""
        },
        {
         "metadata": "{}",
         "name": "row_num",
         "type": "\"integer\""
        },
        {
         "metadata": "{}",
         "name": "count",
         "type": "\"long\""
        },
        {
         "metadata": "{}",
         "name": "middle",
         "type": "\"long\""
        },
        {
         "metadata": "{}",
         "name": "next_to_middle",
         "type": "\"long\""
        }
       ],
       "type": "table"
      }
     },
     "output_type": "display_data"
    }
   ],
   "source": [
    "# Filter to get the median salary per department\n",
    "median_pos_salary_df=df_with_median.filter((col('row_num')==col('middle')) | (col('row_num')==col('next_to_middle')))\n",
    "median_pos_salary_df.display()\n",
    "                                   "
   ]
  },
  {
   "cell_type": "code",
   "execution_count": 0,
   "metadata": {
    "application/vnd.databricks.v1+cell": {
     "cellMetadata": {
      "byteLimit": 2048000,
      "rowLimit": 10000
     },
     "inputWidgets": {},
     "nuid": "ddca8092-11ee-45d1-9c3c-bbf2d9be5e79",
     "showTitle": false,
     "tableResultSettingsMap": {},
     "title": ""
    }
   },
   "outputs": [
    {
     "output_type": "display_data",
     "data": {
      "text/html": [
       "<style scoped>\n",
       "  .table-result-container {\n",
       "    max-height: 300px;\n",
       "    overflow: auto;\n",
       "  }\n",
       "  table, th, td {\n",
       "    border: 1px solid black;\n",
       "    border-collapse: collapse;\n",
       "  }\n",
       "  th, td {\n",
       "    padding: 5px;\n",
       "  }\n",
       "  th {\n",
       "    text-align: left;\n",
       "  }\n",
       "</style><div class='table-result-container'><table class='table-result'><thead style='background-color: white'><tr><th>department</th><th>median_salary</th></tr></thead><tbody><tr><td>HR</td><td>6000</td></tr><tr><td>IT</td><td>8500</td></tr><tr><td>Sales</td><td>7750</td></tr></tbody></table></div>"
      ]
     },
     "metadata": {
      "application/vnd.databricks.v1+output": {
       "addedWidgets": {},
       "aggData": [],
       "aggError": "",
       "aggOverflow": false,
       "aggSchema": [],
       "aggSeriesLimitReached": false,
       "aggType": "",
       "arguments": {},
       "columnCustomDisplayInfos": {},
       "data": [
        [
         "HR",
         6000
        ],
        [
         "IT",
         8500
        ],
        [
         "Sales",
         7750
        ]
       ],
       "datasetInfos": [],
       "dbfsResultPath": null,
       "isJsonSchema": true,
       "metadata": {},
       "overflow": false,
       "plotOptions": {
        "customPlotOptions": {},
        "displayType": "table",
        "pivotAggregation": null,
        "pivotColumns": null,
        "xColumns": null,
        "yColumns": null
       },
       "removedWidgets": [],
       "schema": [
        {
         "metadata": "{}",
         "name": "department",
         "type": "\"string\""
        },
        {
         "metadata": "{}",
         "name": "median_salary",
         "type": "\"long\""
        }
       ],
       "type": "table"
      }
     },
     "output_type": "display_data"
    }
   ],
   "source": [
    "final_result = median_pos_salary_df.groupBy(\"department\").agg(ceil(avg(\"salary\"))\n",
    "                                                              .alias(\"median_salary\"))\n",
    "final_result.display()  "
   ]
  },
  {
   "cell_type": "code",
   "execution_count": 0,
   "metadata": {
    "application/vnd.databricks.v1+cell": {
     "cellMetadata": {
      "byteLimit": 2048000,
      "rowLimit": 10000
     },
     "inputWidgets": {},
     "nuid": "588fdd02-615d-4201-91a3-328fde724bea",
     "showTitle": false,
     "tableResultSettingsMap": {},
     "title": ""
    }
   },
   "outputs": [],
   "source": [
    "##Find customers who have placed order on consecutive days"
   ]
  },
  {
   "cell_type": "code",
   "execution_count": 0,
   "metadata": {
    "application/vnd.databricks.v1+cell": {
     "cellMetadata": {
      "byteLimit": 2048000,
      "rowLimit": 10000
     },
     "inputWidgets": {},
     "nuid": "d4a17eea-d832-4d3d-847d-3b95fd59b6f2",
     "showTitle": false,
     "tableResultSettingsMap": {},
     "title": ""
    }
   },
   "outputs": [
    {
     "output_type": "display_data",
     "data": {
      "text/html": [
       "<style scoped>\n",
       "  .table-result-container {\n",
       "    max-height: 300px;\n",
       "    overflow: auto;\n",
       "  }\n",
       "  table, th, td {\n",
       "    border: 1px solid black;\n",
       "    border-collapse: collapse;\n",
       "  }\n",
       "  th, td {\n",
       "    padding: 5px;\n",
       "  }\n",
       "  th {\n",
       "    text-align: left;\n",
       "  }\n",
       "</style><div class='table-result-container'><table class='table-result'><thead style='background-color: white'><tr><th>customer_id</th><th>order_date</th></tr></thead><tbody><tr><td>1</td><td>2024-10-01</td></tr><tr><td>1</td><td>2024-10-02</td></tr><tr><td>1</td><td>2024-10-04</td></tr><tr><td>2</td><td>2024-10-03</td></tr><tr><td>2</td><td>2024-10-05</td></tr><tr><td>3</td><td>2024-10-01</td></tr><tr><td>3</td><td>2024-10-02</td></tr><tr><td>3</td><td>2024-10-03</td></tr></tbody></table></div>"
      ]
     },
     "metadata": {
      "application/vnd.databricks.v1+output": {
       "addedWidgets": {},
       "aggData": [],
       "aggError": "",
       "aggOverflow": false,
       "aggSchema": [],
       "aggSeriesLimitReached": false,
       "aggType": "",
       "arguments": {},
       "columnCustomDisplayInfos": {},
       "data": [
        [
         1,
         "2024-10-01"
        ],
        [
         1,
         "2024-10-02"
        ],
        [
         1,
         "2024-10-04"
        ],
        [
         2,
         "2024-10-03"
        ],
        [
         2,
         "2024-10-05"
        ],
        [
         3,
         "2024-10-01"
        ],
        [
         3,
         "2024-10-02"
        ],
        [
         3,
         "2024-10-03"
        ]
       ],
       "datasetInfos": [],
       "dbfsResultPath": null,
       "isJsonSchema": true,
       "metadata": {},
       "overflow": false,
       "plotOptions": {
        "customPlotOptions": {},
        "displayType": "table",
        "pivotAggregation": null,
        "pivotColumns": null,
        "xColumns": null,
        "yColumns": null
       },
       "removedWidgets": [],
       "schema": [
        {
         "metadata": "{}",
         "name": "customer_id",
         "type": "\"long\""
        },
        {
         "metadata": "{}",
         "name": "order_date",
         "type": "\"string\""
        }
       ],
       "type": "table"
      }
     },
     "output_type": "display_data"
    }
   ],
   "source": [
    "data = [\n",
    "    (1, '2024-10-01'),\n",
    "    (1, '2024-10-02'),\n",
    "    (1, '2024-10-04'),\n",
    "    (2, '2024-10-03'),\n",
    "    (2, '2024-10-05'),\n",
    "    (3, '2024-10-01'),\n",
    "    (3, '2024-10-02'),\n",
    "    (3, '2024-10-03'),\n",
    "]\n",
    "\n",
    "# Create DataFrame\n",
    "df = spark.createDataFrame(data, [\"customer_id\", \"order_date\"])\n",
    "df.display()"
   ]
  },
  {
   "cell_type": "code",
   "execution_count": 0,
   "metadata": {
    "application/vnd.databricks.v1+cell": {
     "cellMetadata": {
      "byteLimit": 2048000,
      "rowLimit": 10000
     },
     "inputWidgets": {},
     "nuid": "b2c0bf2a-3a6d-4cb8-be34-9023fd859912",
     "showTitle": false,
     "tableResultSettingsMap": {},
     "title": ""
    }
   },
   "outputs": [
    {
     "output_type": "stream",
     "name": "stdout",
     "output_type": "stream",
     "text": [
      "root\n |-- customer_id: long (nullable = true)\n |-- order_date: string (nullable = true)\n\n"
     ]
    }
   ],
   "source": [
    "df.printSchema()"
   ]
  },
  {
   "cell_type": "code",
   "execution_count": 0,
   "metadata": {
    "application/vnd.databricks.v1+cell": {
     "cellMetadata": {
      "byteLimit": 2048000,
      "rowLimit": 10000
     },
     "inputWidgets": {},
     "nuid": "b4222721-5674-49d8-b4f3-803f264c7cb8",
     "showTitle": false,
     "tableResultSettingsMap": {},
     "title": ""
    }
   },
   "outputs": [],
   "source": [
    "df=df.withColumn('order_date',to_date(col('order_date'),'yyyy-MM-dd'))"
   ]
  },
  {
   "cell_type": "code",
   "execution_count": 0,
   "metadata": {
    "application/vnd.databricks.v1+cell": {
     "cellMetadata": {
      "byteLimit": 2048000,
      "rowLimit": 10000
     },
     "inputWidgets": {},
     "nuid": "f0c27951-748e-4926-aee9-f832958cf3a7",
     "showTitle": false,
     "tableResultSettingsMap": {},
     "title": ""
    }
   },
   "outputs": [
    {
     "output_type": "display_data",
     "data": {
      "text/html": [
       "<style scoped>\n",
       "  .table-result-container {\n",
       "    max-height: 300px;\n",
       "    overflow: auto;\n",
       "  }\n",
       "  table, th, td {\n",
       "    border: 1px solid black;\n",
       "    border-collapse: collapse;\n",
       "  }\n",
       "  th, td {\n",
       "    padding: 5px;\n",
       "  }\n",
       "  th {\n",
       "    text-align: left;\n",
       "  }\n",
       "</style><div class='table-result-container'><table class='table-result'><thead style='background-color: white'><tr><th>customer_id</th><th>order_date</th><th>prev_day</th><th>last_day</th><th>same</th></tr></thead><tbody><tr><td>1</td><td>2024-10-01</td><td>null</td><td>2024-09-30</td><td>no</td></tr><tr><td>1</td><td>2024-10-02</td><td>2024-10-01</td><td>2024-10-01</td><td>yes</td></tr><tr><td>1</td><td>2024-10-04</td><td>2024-10-02</td><td>2024-10-03</td><td>no</td></tr><tr><td>2</td><td>2024-10-03</td><td>null</td><td>2024-10-02</td><td>no</td></tr><tr><td>2</td><td>2024-10-05</td><td>2024-10-03</td><td>2024-10-04</td><td>no</td></tr><tr><td>3</td><td>2024-10-01</td><td>null</td><td>2024-09-30</td><td>no</td></tr><tr><td>3</td><td>2024-10-02</td><td>2024-10-01</td><td>2024-10-01</td><td>yes</td></tr><tr><td>3</td><td>2024-10-03</td><td>2024-10-02</td><td>2024-10-02</td><td>yes</td></tr></tbody></table></div>"
      ]
     },
     "metadata": {
      "application/vnd.databricks.v1+output": {
       "addedWidgets": {},
       "aggData": [],
       "aggError": "",
       "aggOverflow": false,
       "aggSchema": [],
       "aggSeriesLimitReached": false,
       "aggType": "",
       "arguments": {},
       "columnCustomDisplayInfos": {},
       "data": [
        [
         1,
         "2024-10-01",
         null,
         "2024-09-30",
         "no"
        ],
        [
         1,
         "2024-10-02",
         "2024-10-01",
         "2024-10-01",
         "yes"
        ],
        [
         1,
         "2024-10-04",
         "2024-10-02",
         "2024-10-03",
         "no"
        ],
        [
         2,
         "2024-10-03",
         null,
         "2024-10-02",
         "no"
        ],
        [
         2,
         "2024-10-05",
         "2024-10-03",
         "2024-10-04",
         "no"
        ],
        [
         3,
         "2024-10-01",
         null,
         "2024-09-30",
         "no"
        ],
        [
         3,
         "2024-10-02",
         "2024-10-01",
         "2024-10-01",
         "yes"
        ],
        [
         3,
         "2024-10-03",
         "2024-10-02",
         "2024-10-02",
         "yes"
        ]
       ],
       "datasetInfos": [],
       "dbfsResultPath": null,
       "isJsonSchema": true,
       "metadata": {},
       "overflow": false,
       "plotOptions": {
        "customPlotOptions": {},
        "displayType": "table",
        "pivotAggregation": null,
        "pivotColumns": null,
        "xColumns": null,
        "yColumns": null
       },
       "removedWidgets": [],
       "schema": [
        {
         "metadata": "{}",
         "name": "customer_id",
         "type": "\"long\""
        },
        {
         "metadata": "{}",
         "name": "order_date",
         "type": "\"date\""
        },
        {
         "metadata": "{}",
         "name": "prev_day",
         "type": "\"date\""
        },
        {
         "metadata": "{}",
         "name": "last_day",
         "type": "\"date\""
        },
        {
         "metadata": "{}",
         "name": "same",
         "type": "\"string\""
        }
       ],
       "type": "table"
      }
     },
     "output_type": "display_data"
    }
   ],
   "source": [
    "cust_wind=Window.partitionBy('customer_id').orderBy('order_date')\n",
    "\n",
    "df1=(\n",
    "    df.withColumn('prev_day',lag(col('order_date'),1,'1990_10_01').over(cust_wind))\n",
    "           .withColumn('last_day',date_add(col('order_date'),-1))\n",
    "           .withColumn('same',when(col('prev_day') ==col('last_day'), lit('yes')).otherwise(lit('no')))\n",
    "          # .withColumn()\n",
    ")\n",
    "\n",
    "df1.display()"
   ]
  },
  {
   "cell_type": "code",
   "execution_count": 0,
   "metadata": {
    "application/vnd.databricks.v1+cell": {
     "cellMetadata": {
      "byteLimit": 2048000,
      "rowLimit": 10000
     },
     "inputWidgets": {},
     "nuid": "360c247f-80d0-499e-a04e-19b25ac854d2",
     "showTitle": false,
     "tableResultSettingsMap": {},
     "title": ""
    }
   },
   "outputs": [
    {
     "output_type": "display_data",
     "data": {
      "text/html": [
       "<style scoped>\n",
       "  .table-result-container {\n",
       "    max-height: 300px;\n",
       "    overflow: auto;\n",
       "  }\n",
       "  table, th, td {\n",
       "    border: 1px solid black;\n",
       "    border-collapse: collapse;\n",
       "  }\n",
       "  th, td {\n",
       "    padding: 5px;\n",
       "  }\n",
       "  th {\n",
       "    text-align: left;\n",
       "  }\n",
       "</style><div class='table-result-container'><table class='table-result'><thead style='background-color: white'><tr><th>customer_id</th><th>order_date</th><th>prev_day</th><th>last_day</th><th>same</th></tr></thead><tbody><tr><td>1</td><td>2024-10-02</td><td>2024-10-01</td><td>2024-10-01</td><td>yes</td></tr><tr><td>3</td><td>2024-10-02</td><td>2024-10-01</td><td>2024-10-01</td><td>yes</td></tr><tr><td>3</td><td>2024-10-03</td><td>2024-10-02</td><td>2024-10-02</td><td>yes</td></tr></tbody></table></div>"
      ]
     },
     "metadata": {
      "application/vnd.databricks.v1+output": {
       "addedWidgets": {},
       "aggData": [],
       "aggError": "",
       "aggOverflow": false,
       "aggSchema": [],
       "aggSeriesLimitReached": false,
       "aggType": "",
       "arguments": {},
       "columnCustomDisplayInfos": {},
       "data": [
        [
         1,
         "2024-10-02",
         "2024-10-01",
         "2024-10-01",
         "yes"
        ],
        [
         3,
         "2024-10-02",
         "2024-10-01",
         "2024-10-01",
         "yes"
        ],
        [
         3,
         "2024-10-03",
         "2024-10-02",
         "2024-10-02",
         "yes"
        ]
       ],
       "datasetInfos": [],
       "dbfsResultPath": null,
       "isJsonSchema": true,
       "metadata": {},
       "overflow": false,
       "plotOptions": {
        "customPlotOptions": {},
        "displayType": "table",
        "pivotAggregation": null,
        "pivotColumns": null,
        "xColumns": null,
        "yColumns": null
       },
       "removedWidgets": [],
       "schema": [
        {
         "metadata": "{}",
         "name": "customer_id",
         "type": "\"long\""
        },
        {
         "metadata": "{}",
         "name": "order_date",
         "type": "\"date\""
        },
        {
         "metadata": "{}",
         "name": "prev_day",
         "type": "\"date\""
        },
        {
         "metadata": "{}",
         "name": "last_day",
         "type": "\"date\""
        },
        {
         "metadata": "{}",
         "name": "same",
         "type": "\"string\""
        }
       ],
       "type": "table"
      }
     },
     "output_type": "display_data"
    }
   ],
   "source": [
    "df1_new=df1.filter(col('same')==\"yes\")\n",
    "df1_new.display()"
   ]
  },
  {
   "cell_type": "code",
   "execution_count": 0,
   "metadata": {
    "application/vnd.databricks.v1+cell": {
     "cellMetadata": {
      "byteLimit": 2048000,
      "rowLimit": 10000
     },
     "inputWidgets": {},
     "nuid": "b384e0bb-1397-4c2d-a6f1-4e2bb20ee79e",
     "showTitle": false,
     "tableResultSettingsMap": {},
     "title": ""
    }
   },
   "outputs": [],
   "source": [
    "#  You need to calculate:\n",
    "#  1. the total amount spent by each customer on products within a given year\n",
    "#  2. identify the top 2 products they spent the most money on. Additionally\n",
    "#  3. return the overall total spending of each customer across all year."
   ]
  },
  {
   "cell_type": "code",
   "execution_count": 0,
   "metadata": {
    "application/vnd.databricks.v1+cell": {
     "cellMetadata": {
      "byteLimit": 2048000,
      "rowLimit": 10000
     },
     "inputWidgets": {},
     "nuid": "2a4d4edc-3df6-4907-ab09-d44914565ad2",
     "showTitle": false,
     "tableResultSettingsMap": {},
     "title": ""
    }
   },
   "outputs": [
    {
     "output_type": "display_data",
     "data": {
      "text/html": [
       "<style scoped>\n",
       "  .table-result-container {\n",
       "    max-height: 300px;\n",
       "    overflow: auto;\n",
       "  }\n",
       "  table, th, td {\n",
       "    border: 1px solid black;\n",
       "    border-collapse: collapse;\n",
       "  }\n",
       "  th, td {\n",
       "    padding: 5px;\n",
       "  }\n",
       "  th {\n",
       "    text-align: left;\n",
       "  }\n",
       "</style><div class='table-result-container'><table class='table-result'><thead style='background-color: white'><tr><th>customer_id</th><th>transaction_date</th><th>product_id</th><th>transaction_amount</th></tr></thead><tbody><tr><td>1</td><td>2023-01-15</td><td>A</td><td>100.0</td></tr><tr><td>1</td><td>2023-03-10</td><td>B</td><td>150.0</td></tr><tr><td>2</td><td>2023-02-05</td><td>A</td><td>50.0</td></tr><tr><td>1</td><td>2023-02-20</td><td>A</td><td>200.0</td></tr><tr><td>2</td><td>2023-04-30</td><td>C</td><td>300.0</td></tr><tr><td>1</td><td>2022-05-12</td><td>B</td><td>120.0</td></tr><tr><td>2</td><td>2022-09-22</td><td>A</td><td>200.0</td></tr><tr><td>1</td><td>2023-05-15</td><td>C</td><td>250.0</td></tr></tbody></table></div>"
      ]
     },
     "metadata": {
      "application/vnd.databricks.v1+output": {
       "addedWidgets": {},
       "aggData": [],
       "aggError": "",
       "aggOverflow": false,
       "aggSchema": [],
       "aggSeriesLimitReached": false,
       "aggType": "",
       "arguments": {},
       "columnCustomDisplayInfos": {},
       "data": [
        [
         1,
         "2023-01-15",
         "A",
         100.0
        ],
        [
         1,
         "2023-03-10",
         "B",
         150.0
        ],
        [
         2,
         "2023-02-05",
         "A",
         50.0
        ],
        [
         1,
         "2023-02-20",
         "A",
         200.0
        ],
        [
         2,
         "2023-04-30",
         "C",
         300.0
        ],
        [
         1,
         "2022-05-12",
         "B",
         120.0
        ],
        [
         2,
         "2022-09-22",
         "A",
         200.0
        ],
        [
         1,
         "2023-05-15",
         "C",
         250.0
        ]
       ],
       "datasetInfos": [],
       "dbfsResultPath": null,
       "isJsonSchema": true,
       "metadata": {},
       "overflow": false,
       "plotOptions": {
        "customPlotOptions": {},
        "displayType": "table",
        "pivotAggregation": null,
        "pivotColumns": null,
        "xColumns": null,
        "yColumns": null
       },
       "removedWidgets": [],
       "schema": [
        {
         "metadata": "{}",
         "name": "customer_id",
         "type": "\"long\""
        },
        {
         "metadata": "{}",
         "name": "transaction_date",
         "type": "\"string\""
        },
        {
         "metadata": "{}",
         "name": "product_id",
         "type": "\"string\""
        },
        {
         "metadata": "{}",
         "name": "transaction_amount",
         "type": "\"double\""
        }
       ],
       "type": "table"
      }
     },
     "output_type": "display_data"
    }
   ],
   "source": [
    "data = [\n",
    "    (1, \"2023-01-15\", \"A\", 100.0),\n",
    "    (1, \"2023-03-10\", \"B\", 150.0),\n",
    "    (2, \"2023-02-05\", \"A\", 50.0),\n",
    "    (1, \"2023-02-20\", \"A\", 200.0),\n",
    "    (2, \"2023-04-30\", \"C\", 300.0),\n",
    "    (1, \"2022-05-12\", \"B\", 120.0),\n",
    "    (2, \"2022-09-22\", \"A\", 200.0),\n",
    "    (1, \"2023-05-15\", \"C\", 250.0),\n",
    "]\n",
    "\n",
    "# Create DataFrame\n",
    "columns = [\"customer_id\", \"transaction_date\", \"product_id\", \"transaction_amount\"]\n",
    "df_cust = spark.createDataFrame(data, columns)\n",
    "df_cust.display()"
   ]
  },
  {
   "cell_type": "code",
   "execution_count": 0,
   "metadata": {
    "application/vnd.databricks.v1+cell": {
     "cellMetadata": {
      "byteLimit": 2048000,
      "rowLimit": 10000
     },
     "inputWidgets": {},
     "nuid": "b85c0ebc-279c-4ec1-81e6-0b03f270bc67",
     "showTitle": false,
     "tableResultSettingsMap": {},
     "title": ""
    }
   },
   "outputs": [
    {
     "output_type": "stream",
     "name": "stdout",
     "output_type": "stream",
     "text": [
      "root\n |-- customer_id: long (nullable = true)\n |-- transaction_date: string (nullable = true)\n |-- product_id: string (nullable = true)\n |-- transaction_amount: double (nullable = true)\n\n"
     ]
    }
   ],
   "source": [
    "df_cust.printSchema()"
   ]
  },
  {
   "cell_type": "code",
   "execution_count": 0,
   "metadata": {
    "application/vnd.databricks.v1+cell": {
     "cellMetadata": {
      "byteLimit": 2048000,
      "rowLimit": 10000
     },
     "inputWidgets": {},
     "nuid": "39047e3e-1363-4b85-95ec-e5cbf35413fa",
     "showTitle": false,
     "tableResultSettingsMap": {},
     "title": ""
    }
   },
   "outputs": [
    {
     "output_type": "display_data",
     "data": {
      "text/html": [
       "<style scoped>\n",
       "  .table-result-container {\n",
       "    max-height: 300px;\n",
       "    overflow: auto;\n",
       "  }\n",
       "  table, th, td {\n",
       "    border: 1px solid black;\n",
       "    border-collapse: collapse;\n",
       "  }\n",
       "  th, td {\n",
       "    padding: 5px;\n",
       "  }\n",
       "  th {\n",
       "    text-align: left;\n",
       "  }\n",
       "</style><div class='table-result-container'><table class='table-result'><thead style='background-color: white'><tr><th>customer_id</th><th>transaction_date</th><th>product_id</th><th>transaction_amount</th><th>total_amount</th></tr></thead><tbody><tr><td>1</td><td>2023-01-15</td><td>A</td><td>100.0</td><td>820.0</td></tr><tr><td>1</td><td>2023-03-10</td><td>B</td><td>150.0</td><td>820.0</td></tr><tr><td>1</td><td>2023-02-20</td><td>A</td><td>200.0</td><td>820.0</td></tr><tr><td>1</td><td>2022-05-12</td><td>B</td><td>120.0</td><td>820.0</td></tr><tr><td>1</td><td>2023-05-15</td><td>C</td><td>250.0</td><td>820.0</td></tr><tr><td>2</td><td>2023-02-05</td><td>A</td><td>50.0</td><td>550.0</td></tr><tr><td>2</td><td>2023-04-30</td><td>C</td><td>300.0</td><td>550.0</td></tr><tr><td>2</td><td>2022-09-22</td><td>A</td><td>200.0</td><td>550.0</td></tr></tbody></table></div>"
      ]
     },
     "metadata": {
      "application/vnd.databricks.v1+output": {
       "addedWidgets": {},
       "aggData": [],
       "aggError": "",
       "aggOverflow": false,
       "aggSchema": [],
       "aggSeriesLimitReached": false,
       "aggType": "",
       "arguments": {},
       "columnCustomDisplayInfos": {},
       "data": [
        [
         1,
         "2023-01-15",
         "A",
         100.0,
         820.0
        ],
        [
         1,
         "2023-03-10",
         "B",
         150.0,
         820.0
        ],
        [
         1,
         "2023-02-20",
         "A",
         200.0,
         820.0
        ],
        [
         1,
         "2022-05-12",
         "B",
         120.0,
         820.0
        ],
        [
         1,
         "2023-05-15",
         "C",
         250.0,
         820.0
        ],
        [
         2,
         "2023-02-05",
         "A",
         50.0,
         550.0
        ],
        [
         2,
         "2023-04-30",
         "C",
         300.0,
         550.0
        ],
        [
         2,
         "2022-09-22",
         "A",
         200.0,
         550.0
        ]
       ],
       "datasetInfos": [],
       "dbfsResultPath": null,
       "isJsonSchema": true,
       "metadata": {},
       "overflow": false,
       "plotOptions": {
        "customPlotOptions": {},
        "displayType": "table",
        "pivotAggregation": null,
        "pivotColumns": null,
        "xColumns": null,
        "yColumns": null
       },
       "removedWidgets": [],
       "schema": [
        {
         "metadata": "{}",
         "name": "customer_id",
         "type": "\"long\""
        },
        {
         "metadata": "{}",
         "name": "transaction_date",
         "type": "\"string\""
        },
        {
         "metadata": "{}",
         "name": "product_id",
         "type": "\"string\""
        },
        {
         "metadata": "{}",
         "name": "transaction_amount",
         "type": "\"double\""
        },
        {
         "metadata": "{}",
         "name": "total_amount",
         "type": "\"double\""
        }
       ],
       "type": "table"
      }
     },
     "output_type": "display_data"
    }
   ],
   "source": [
    "display(df_cust.withColumn('total_amount',sum('transaction_amount')\n",
    "                           .over(Window.partitionBy('customer_id'))))"
   ]
  },
  {
   "cell_type": "code",
   "execution_count": 0,
   "metadata": {
    "application/vnd.databricks.v1+cell": {
     "cellMetadata": {
      "byteLimit": 2048000,
      "rowLimit": 10000
     },
     "inputWidgets": {},
     "nuid": "864ce58b-acab-4b53-97b2-b8ff2c5a0eac",
     "showTitle": false,
     "tableResultSettingsMap": {},
     "title": ""
    }
   },
   "outputs": [],
   "source": [
    "## ICC team and winner"
   ]
  },
  {
   "cell_type": "code",
   "execution_count": 0,
   "metadata": {
    "application/vnd.databricks.v1+cell": {
     "cellMetadata": {
      "byteLimit": 2048000,
      "rowLimit": 10000
     },
     "inputWidgets": {},
     "nuid": "6cdc172f-87bd-4b5f-9857-5f3702b700b8",
     "showTitle": false,
     "tableResultSettingsMap": {},
     "title": ""
    }
   },
   "outputs": [
    {
     "output_type": "display_data",
     "data": {
      "text/html": [
       "<style scoped>\n",
       "  .table-result-container {\n",
       "    max-height: 300px;\n",
       "    overflow: auto;\n",
       "  }\n",
       "  table, th, td {\n",
       "    border: 1px solid black;\n",
       "    border-collapse: collapse;\n",
       "  }\n",
       "  th, td {\n",
       "    padding: 5px;\n",
       "  }\n",
       "  th {\n",
       "    text-align: left;\n",
       "  }\n",
       "</style><div class='table-result-container'><table class='table-result'><thead style='background-color: white'><tr><th>Team_1</th><th>Team_2</th><th>Winner</th></tr></thead><tbody><tr><td>India</td><td>Australia</td><td>India</td></tr><tr><td>England</td><td>Pakistan</td><td>England</td></tr><tr><td>South Africa</td><td>New Zealand</td><td>New Zealand</td></tr><tr><td>West Indies</td><td>Sri Lanka</td><td>Sri Lanka</td></tr><tr><td>India</td><td>Pakistan</td><td>India</td></tr><tr><td>Australia</td><td>England</td><td>Australia</td></tr><tr><td>New Zealand</td><td>Sri Lanka</td><td>New Zealand</td></tr><tr><td>South Africa</td><td>West Indies</td><td>South Africa</td></tr><tr><td>India</td><td>England</td><td>India</td></tr><tr><td>Pakistan</td><td>Australia</td><td>Pakistan</td></tr></tbody></table></div>"
      ]
     },
     "metadata": {
      "application/vnd.databricks.v1+output": {
       "addedWidgets": {},
       "aggData": [],
       "aggError": "",
       "aggOverflow": false,
       "aggSchema": [],
       "aggSeriesLimitReached": false,
       "aggType": "",
       "arguments": {},
       "columnCustomDisplayInfos": {},
       "data": [
        [
         "India",
         "Australia",
         "India"
        ],
        [
         "England",
         "Pakistan",
         "England"
        ],
        [
         "South Africa",
         "New Zealand",
         "New Zealand"
        ],
        [
         "West Indies",
         "Sri Lanka",
         "Sri Lanka"
        ],
        [
         "India",
         "Pakistan",
         "India"
        ],
        [
         "Australia",
         "England",
         "Australia"
        ],
        [
         "New Zealand",
         "Sri Lanka",
         "New Zealand"
        ],
        [
         "South Africa",
         "West Indies",
         "South Africa"
        ],
        [
         "India",
         "England",
         "India"
        ],
        [
         "Pakistan",
         "Australia",
         "Pakistan"
        ]
       ],
       "datasetInfos": [],
       "dbfsResultPath": null,
       "isJsonSchema": true,
       "metadata": {},
       "overflow": false,
       "plotOptions": {
        "customPlotOptions": {},
        "displayType": "table",
        "pivotAggregation": null,
        "pivotColumns": null,
        "xColumns": null,
        "yColumns": null
       },
       "removedWidgets": [],
       "schema": [
        {
         "metadata": "{}",
         "name": "Team_1",
         "type": "\"string\""
        },
        {
         "metadata": "{}",
         "name": "Team_2",
         "type": "\"string\""
        },
        {
         "metadata": "{}",
         "name": "Winner",
         "type": "\"string\""
        }
       ],
       "type": "table"
      }
     },
     "output_type": "display_data"
    }
   ],
   "source": [
    "data = [\n",
    "    (\"India\", \"Australia\", \"India\"),\n",
    "    (\"England\", \"Pakistan\", \"England\"),\n",
    "    (\"South Africa\", \"New Zealand\", \"New Zealand\"),\n",
    "    (\"West Indies\", \"Sri Lanka\", \"Sri Lanka\"),\n",
    "    (\"India\", \"Pakistan\", \"India\"),\n",
    "    (\"Australia\", \"England\", \"Australia\"),\n",
    "    (\"New Zealand\", \"Sri Lanka\", \"New Zealand\"),\n",
    "    (\"South Africa\", \"West Indies\", \"South Africa\"),\n",
    "    (\"India\", \"England\", \"India\"),\n",
    "    (\"Pakistan\", \"Australia\", \"Pakistan\"),\n",
    "]\n",
    "\n",
    "columns = [\"Team_1\", \"Team_2\", \"Winner\"]\n",
    "\n",
    "df = spark.createDataFrame(data, columns)\n",
    "df.display()"
   ]
  },
  {
   "cell_type": "code",
   "execution_count": 0,
   "metadata": {
    "application/vnd.databricks.v1+cell": {
     "cellMetadata": {
      "byteLimit": 2048000,
      "rowLimit": 10000
     },
     "inputWidgets": {},
     "nuid": "fd29a678-ae5c-41fd-bd24-46a988483dc9",
     "showTitle": false,
     "tableResultSettingsMap": {},
     "title": ""
    }
   },
   "outputs": [
    {
     "output_type": "display_data",
     "data": {
      "text/html": [
       "<style scoped>\n",
       "  .table-result-container {\n",
       "    max-height: 300px;\n",
       "    overflow: auto;\n",
       "  }\n",
       "  table, th, td {\n",
       "    border: 1px solid black;\n",
       "    border-collapse: collapse;\n",
       "  }\n",
       "  th, td {\n",
       "    padding: 5px;\n",
       "  }\n",
       "  th {\n",
       "    text-align: left;\n",
       "  }\n",
       "</style><div class='table-result-container'><table class='table-result'><thead style='background-color: white'><tr><th>team</th><th>Winner</th></tr></thead><tbody><tr><td>India</td><td>India</td></tr><tr><td>England</td><td>England</td></tr><tr><td>South Africa</td><td>New Zealand</td></tr><tr><td>West Indies</td><td>Sri Lanka</td></tr><tr><td>India</td><td>India</td></tr><tr><td>Australia</td><td>Australia</td></tr><tr><td>New Zealand</td><td>New Zealand</td></tr><tr><td>South Africa</td><td>South Africa</td></tr><tr><td>India</td><td>India</td></tr><tr><td>Pakistan</td><td>Pakistan</td></tr><tr><td>Australia</td><td>India</td></tr><tr><td>Pakistan</td><td>England</td></tr><tr><td>New Zealand</td><td>New Zealand</td></tr><tr><td>Sri Lanka</td><td>Sri Lanka</td></tr><tr><td>Pakistan</td><td>India</td></tr><tr><td>England</td><td>Australia</td></tr><tr><td>Sri Lanka</td><td>New Zealand</td></tr><tr><td>West Indies</td><td>South Africa</td></tr><tr><td>England</td><td>India</td></tr><tr><td>Australia</td><td>Pakistan</td></tr></tbody></table></div>"
      ]
     },
     "metadata": {
      "application/vnd.databricks.v1+output": {
       "addedWidgets": {},
       "aggData": [],
       "aggError": "",
       "aggOverflow": false,
       "aggSchema": [],
       "aggSeriesLimitReached": false,
       "aggType": "",
       "arguments": {},
       "columnCustomDisplayInfos": {},
       "data": [
        [
         "India",
         "India"
        ],
        [
         "England",
         "England"
        ],
        [
         "South Africa",
         "New Zealand"
        ],
        [
         "West Indies",
         "Sri Lanka"
        ],
        [
         "India",
         "India"
        ],
        [
         "Australia",
         "Australia"
        ],
        [
         "New Zealand",
         "New Zealand"
        ],
        [
         "South Africa",
         "South Africa"
        ],
        [
         "India",
         "India"
        ],
        [
         "Pakistan",
         "Pakistan"
        ],
        [
         "Australia",
         "India"
        ],
        [
         "Pakistan",
         "England"
        ],
        [
         "New Zealand",
         "New Zealand"
        ],
        [
         "Sri Lanka",
         "Sri Lanka"
        ],
        [
         "Pakistan",
         "India"
        ],
        [
         "England",
         "Australia"
        ],
        [
         "Sri Lanka",
         "New Zealand"
        ],
        [
         "West Indies",
         "South Africa"
        ],
        [
         "England",
         "India"
        ],
        [
         "Australia",
         "Pakistan"
        ]
       ],
       "datasetInfos": [],
       "dbfsResultPath": null,
       "isJsonSchema": true,
       "metadata": {},
       "overflow": false,
       "plotOptions": {
        "customPlotOptions": {},
        "displayType": "table",
        "pivotAggregation": null,
        "pivotColumns": null,
        "xColumns": null,
        "yColumns": null
       },
       "removedWidgets": [],
       "schema": [
        {
         "metadata": "{}",
         "name": "team",
         "type": "\"string\""
        },
        {
         "metadata": "{}",
         "name": "Winner",
         "type": "\"string\""
        }
       ],
       "type": "table"
      }
     },
     "output_type": "display_data"
    }
   ],
   "source": [
    "df_team=(\n",
    "    df.select(col('Team_1').alias('team'),col('Winner'))\n",
    "    .union( df.select(col('Team_2').alias('team'),col('Winner')))\n",
    "         )\n",
    "\n",
    "df_team.display()         "
   ]
  },
  {
   "cell_type": "code",
   "execution_count": 0,
   "metadata": {
    "application/vnd.databricks.v1+cell": {
     "cellMetadata": {
      "byteLimit": 2048000,
      "rowLimit": 10000
     },
     "inputWidgets": {},
     "nuid": "4debdb46-f776-43f5-82b8-69a924c38fd2",
     "showTitle": false,
     "tableResultSettingsMap": {},
     "title": ""
    }
   },
   "outputs": [],
   "source": [
    "# Flatten & Explode "
   ]
  },
  {
   "cell_type": "code",
   "execution_count": 0,
   "metadata": {
    "application/vnd.databricks.v1+cell": {
     "cellMetadata": {
      "byteLimit": 2048000,
      "rowLimit": 10000
     },
     "inputWidgets": {},
     "nuid": "d4446c0f-6c18-4d99-b569-aeb92e7764c9",
     "showTitle": false,
     "tableResultSettingsMap": {},
     "title": ""
    }
   },
   "outputs": [
    {
     "output_type": "stream",
     "name": "stdout",
     "output_type": "stream",
     "text": [
      "+---+-------+-------------------------------+\n|id |name   |skills                         |\n+---+-------+-------------------------------+\n|1  |Alice  |[python, flask, C#]            |\n|2  |Bob    |[java, ADF]                    |\n|3  |Charlie|[Dtabricks, Snowflake, PySpark]|\n+---+-------+-------------------------------+\n\n"
     ]
    }
   ],
   "source": [
    "cols=['id','name','skills']\n",
    "\n",
    "data=[(1,'Alice',['python','flask','C#'])\n",
    "       ,(2,'Bob',['java','ADF'])\n",
    "         ,(3,'Charlie',['Dtabricks','Snowflake','PySpark'])\n",
    "      ]\n",
    "\n",
    "sub_df=spark.createDataFrame(data,cols)    \n",
    "sub_df.show(truncate=False)  "
   ]
  },
  {
   "cell_type": "code",
   "execution_count": 0,
   "metadata": {
    "application/vnd.databricks.v1+cell": {
     "cellMetadata": {
      "byteLimit": 2048000,
      "rowLimit": 10000
     },
     "inputWidgets": {},
     "nuid": "216a94c6-1c12-4208-8717-3ca15bce42a8",
     "showTitle": false,
     "tableResultSettingsMap": {},
     "title": ""
    }
   },
   "outputs": [
    {
     "output_type": "display_data",
     "data": {
      "text/html": [
       "<style scoped>\n",
       "  .table-result-container {\n",
       "    max-height: 300px;\n",
       "    overflow: auto;\n",
       "  }\n",
       "  table, th, td {\n",
       "    border: 1px solid black;\n",
       "    border-collapse: collapse;\n",
       "  }\n",
       "  th, td {\n",
       "    padding: 5px;\n",
       "  }\n",
       "  th {\n",
       "    text-align: left;\n",
       "  }\n",
       "</style><div class='table-result-container'><table class='table-result'><thead style='background-color: white'><tr><th>id</th><th>name</th><th>skills</th><th>subject</th></tr></thead><tbody><tr><td>1</td><td>Alice</td><td>List(python, flask, C#)</td><td>python</td></tr><tr><td>1</td><td>Alice</td><td>List(python, flask, C#)</td><td>flask</td></tr><tr><td>1</td><td>Alice</td><td>List(python, flask, C#)</td><td>C#</td></tr><tr><td>2</td><td>Bob</td><td>List(java, ADF)</td><td>java</td></tr><tr><td>2</td><td>Bob</td><td>List(java, ADF)</td><td>ADF</td></tr><tr><td>3</td><td>Charlie</td><td>List(Dtabricks, Snowflake, PySpark)</td><td>Dtabricks</td></tr><tr><td>3</td><td>Charlie</td><td>List(Dtabricks, Snowflake, PySpark)</td><td>Snowflake</td></tr><tr><td>3</td><td>Charlie</td><td>List(Dtabricks, Snowflake, PySpark)</td><td>PySpark</td></tr></tbody></table></div>"
      ]
     },
     "metadata": {
      "application/vnd.databricks.v1+output": {
       "addedWidgets": {},
       "aggData": [],
       "aggError": "",
       "aggOverflow": false,
       "aggSchema": [],
       "aggSeriesLimitReached": false,
       "aggType": "",
       "arguments": {},
       "columnCustomDisplayInfos": {},
       "data": [
        [
         1,
         "Alice",
         [
          "python",
          "flask",
          "C#"
         ],
         "python"
        ],
        [
         1,
         "Alice",
         [
          "python",
          "flask",
          "C#"
         ],
         "flask"
        ],
        [
         1,
         "Alice",
         [
          "python",
          "flask",
          "C#"
         ],
         "C#"
        ],
        [
         2,
         "Bob",
         [
          "java",
          "ADF"
         ],
         "java"
        ],
        [
         2,
         "Bob",
         [
          "java",
          "ADF"
         ],
         "ADF"
        ],
        [
         3,
         "Charlie",
         [
          "Dtabricks",
          "Snowflake",
          "PySpark"
         ],
         "Dtabricks"
        ],
        [
         3,
         "Charlie",
         [
          "Dtabricks",
          "Snowflake",
          "PySpark"
         ],
         "Snowflake"
        ],
        [
         3,
         "Charlie",
         [
          "Dtabricks",
          "Snowflake",
          "PySpark"
         ],
         "PySpark"
        ]
       ],
       "datasetInfos": [],
       "dbfsResultPath": null,
       "isJsonSchema": true,
       "metadata": {},
       "overflow": false,
       "plotOptions": {
        "customPlotOptions": {},
        "displayType": "table",
        "pivotAggregation": null,
        "pivotColumns": null,
        "xColumns": null,
        "yColumns": null
       },
       "removedWidgets": [],
       "schema": [
        {
         "metadata": "{}",
         "name": "id",
         "type": "\"long\""
        },
        {
         "metadata": "{}",
         "name": "name",
         "type": "\"string\""
        },
        {
         "metadata": "{}",
         "name": "skills",
         "type": "{\"type\":\"array\",\"elementType\":\"string\",\"containsNull\":true}"
        },
        {
         "metadata": "{}",
         "name": "subject",
         "type": "\"string\""
        }
       ],
       "type": "table"
      }
     },
     "output_type": "display_data"
    }
   ],
   "source": [
    "display(\n",
    "    sub_df.withColumn('subject',explode(col('skills')))\n",
    ")"
   ]
  },
  {
   "cell_type": "code",
   "execution_count": 0,
   "metadata": {
    "application/vnd.databricks.v1+cell": {
     "cellMetadata": {
      "byteLimit": 2048000,
      "rowLimit": 10000
     },
     "inputWidgets": {},
     "nuid": "8b48280a-f4e4-4a83-8941-5f1465b7cbd3",
     "showTitle": false,
     "tableResultSettingsMap": {},
     "title": ""
    }
   },
   "outputs": [
    {
     "output_type": "display_data",
     "data": {
      "text/html": [
       "<style scoped>\n",
       "  .table-result-container {\n",
       "    max-height: 300px;\n",
       "    overflow: auto;\n",
       "  }\n",
       "  table, th, td {\n",
       "    border: 1px solid black;\n",
       "    border-collapse: collapse;\n",
       "  }\n",
       "  th, td {\n",
       "    padding: 5px;\n",
       "  }\n",
       "  th {\n",
       "    text-align: left;\n",
       "  }\n",
       "</style><div class='table-result-container'><table class='table-result'><thead style='background-color: white'><tr><th>SOId</th><th>SODate</th><th>ItemId</th><th>ItemQty</th><th>ItemValue</th></tr></thead><tbody><tr><td>1</td><td>2024-01-01</td><td>I1</td><td>10</td><td>1000</td></tr><tr><td>2</td><td>2024-01-15</td><td>I2</td><td>20</td><td>2000</td></tr><tr><td>3</td><td>2024-02-01</td><td>I3</td><td>10</td><td>1500</td></tr><tr><td>4</td><td>2024-02-15</td><td>I4</td><td>20</td><td>2500</td></tr><tr><td>5</td><td>2024-03-01</td><td>I5</td><td>30</td><td>3000</td></tr><tr><td>6</td><td>2024-03-10</td><td>I6</td><td>40</td><td>3500</td></tr><tr><td>7</td><td>2024-03-20</td><td>I7</td><td>20</td><td>2500</td></tr><tr><td>8</td><td>2024-03-30</td><td>I8</td><td>10</td><td>1000</td></tr></tbody></table></div>"
      ]
     },
     "metadata": {
      "application/vnd.databricks.v1+output": {
       "addedWidgets": {},
       "aggData": [],
       "aggError": "",
       "aggOverflow": false,
       "aggSchema": [],
       "aggSeriesLimitReached": false,
       "aggType": "",
       "arguments": {},
       "columnCustomDisplayInfos": {},
       "data": [
        [
         1,
         "2024-01-01",
         "I1",
         10,
         1000
        ],
        [
         2,
         "2024-01-15",
         "I2",
         20,
         2000
        ],
        [
         3,
         "2024-02-01",
         "I3",
         10,
         1500
        ],
        [
         4,
         "2024-02-15",
         "I4",
         20,
         2500
        ],
        [
         5,
         "2024-03-01",
         "I5",
         30,
         3000
        ],
        [
         6,
         "2024-03-10",
         "I6",
         40,
         3500
        ],
        [
         7,
         "2024-03-20",
         "I7",
         20,
         2500
        ],
        [
         8,
         "2024-03-30",
         "I8",
         10,
         1000
        ]
       ],
       "datasetInfos": [],
       "dbfsResultPath": null,
       "isJsonSchema": true,
       "metadata": {},
       "overflow": false,
       "plotOptions": {
        "customPlotOptions": {},
        "displayType": "table",
        "pivotAggregation": null,
        "pivotColumns": null,
        "xColumns": null,
        "yColumns": null
       },
       "removedWidgets": [],
       "schema": [
        {
         "metadata": "{}",
         "name": "SOId",
         "type": "\"long\""
        },
        {
         "metadata": "{}",
         "name": "SODate",
         "type": "\"string\""
        },
        {
         "metadata": "{}",
         "name": "ItemId",
         "type": "\"string\""
        },
        {
         "metadata": "{}",
         "name": "ItemQty",
         "type": "\"long\""
        },
        {
         "metadata": "{}",
         "name": "ItemValue",
         "type": "\"long\""
        }
       ],
       "type": "table"
      }
     },
     "output_type": "display_data"
    }
   ],
   "source": [
    "# percentage diff of sales from prev month\n",
    "\n",
    "data=[(1,'2024-01-01',\"I1\",10,1000),(2,\"2024-01-15\",\"I2\",20,2000),(3,\"2024-02-01\",\"I3\",10,1500),(4,\"2024-02-15\",\"I4\",20,2500),(5,\"2024-03-01\",\"I5\",30,3000),(6,\"2024-03-10\",\"I6\",40,3500),(7,\"2024-03-20\",\"I7\",20,2500),(8,\"2024-03-30\",\"I8\",10,1000)]\n",
    "schema=[\"SOId\",\"SODate\",\"ItemId\",\"ItemQty\",\"ItemValue\"]\n",
    "df1=spark.createDataFrame(data,schema)\n",
    "display(df1)"
   ]
  },
  {
   "cell_type": "code",
   "execution_count": 0,
   "metadata": {
    "application/vnd.databricks.v1+cell": {
     "cellMetadata": {
      "byteLimit": 2048000,
      "rowLimit": 10000
     },
     "inputWidgets": {},
     "nuid": "3a73787a-3959-4568-b1c3-8f76a4a928e8",
     "showTitle": false,
     "tableResultSettingsMap": {},
     "title": ""
    }
   },
   "outputs": [
    {
     "output_type": "stream",
     "name": "stdout",
     "output_type": "stream",
     "text": [
      "root\n |-- SOId: long (nullable = true)\n |-- SODate: date (nullable = true)\n |-- ItemId: string (nullable = true)\n |-- ItemQty: long (nullable = true)\n |-- ItemValue: long (nullable = true)\n\n"
     ]
    }
   ],
   "source": [
    "df1=df1.withColumn(\"SODate\",df1.SODate.cast(DateType()))\n",
    "df1.printSchema()"
   ]
  },
  {
   "cell_type": "code",
   "execution_count": 0,
   "metadata": {
    "application/vnd.databricks.v1+cell": {
     "cellMetadata": {
      "byteLimit": 2048000,
      "rowLimit": 10000
     },
     "inputWidgets": {},
     "nuid": "0ba51600-1dca-4403-a791-5107cef18eca",
     "showTitle": false,
     "tableResultSettingsMap": {},
     "title": ""
    }
   },
   "outputs": [
    {
     "output_type": "display_data",
     "data": {
      "text/html": [
       "<style scoped>\n",
       "  .table-result-container {\n",
       "    max-height: 300px;\n",
       "    overflow: auto;\n",
       "  }\n",
       "  table, th, td {\n",
       "    border: 1px solid black;\n",
       "    border-collapse: collapse;\n",
       "  }\n",
       "  th, td {\n",
       "    padding: 5px;\n",
       "  }\n",
       "  th {\n",
       "    text-align: left;\n",
       "  }\n",
       "</style><div class='table-result-container'><table class='table-result'><thead style='background-color: white'><tr><th>SOId</th><th>SODate</th><th>ItemId</th><th>ItemQty</th><th>ItemValue</th><th>year</th><th>month</th><th>total</th></tr></thead><tbody><tr><td>1</td><td>2024-01-01</td><td>I1</td><td>10</td><td>1000</td><td>2024</td><td>1</td><td>1000</td></tr><tr><td>2</td><td>2024-01-15</td><td>I2</td><td>20</td><td>2000</td><td>2024</td><td>1</td><td>2000</td></tr><tr><td>3</td><td>2024-02-01</td><td>I3</td><td>10</td><td>1500</td><td>2024</td><td>2</td><td>1500</td></tr><tr><td>4</td><td>2024-02-15</td><td>I4</td><td>20</td><td>2500</td><td>2024</td><td>2</td><td>2500</td></tr><tr><td>5</td><td>2024-03-01</td><td>I5</td><td>30</td><td>3000</td><td>2024</td><td>3</td><td>3000</td></tr><tr><td>6</td><td>2024-03-10</td><td>I6</td><td>40</td><td>3500</td><td>2024</td><td>3</td><td>3500</td></tr><tr><td>7</td><td>2024-03-20</td><td>I7</td><td>20</td><td>2500</td><td>2024</td><td>3</td><td>2500</td></tr><tr><td>8</td><td>2024-03-30</td><td>I8</td><td>10</td><td>1000</td><td>2024</td><td>3</td><td>1000</td></tr></tbody></table></div>"
      ]
     },
     "metadata": {
      "application/vnd.databricks.v1+output": {
       "addedWidgets": {},
       "aggData": [],
       "aggError": "",
       "aggOverflow": false,
       "aggSchema": [],
       "aggSeriesLimitReached": false,
       "aggType": "",
       "arguments": {},
       "columnCustomDisplayInfos": {},
       "data": [
        [
         1,
         "2024-01-01",
         "I1",
         10,
         1000,
         2024,
         1,
         1000
        ],
        [
         2,
         "2024-01-15",
         "I2",
         20,
         2000,
         2024,
         1,
         2000
        ],
        [
         3,
         "2024-02-01",
         "I3",
         10,
         1500,
         2024,
         2,
         1500
        ],
        [
         4,
         "2024-02-15",
         "I4",
         20,
         2500,
         2024,
         2,
         2500
        ],
        [
         5,
         "2024-03-01",
         "I5",
         30,
         3000,
         2024,
         3,
         3000
        ],
        [
         6,
         "2024-03-10",
         "I6",
         40,
         3500,
         2024,
         3,
         3500
        ],
        [
         7,
         "2024-03-20",
         "I7",
         20,
         2500,
         2024,
         3,
         2500
        ],
        [
         8,
         "2024-03-30",
         "I8",
         10,
         1000,
         2024,
         3,
         1000
        ]
       ],
       "datasetInfos": [],
       "dbfsResultPath": null,
       "isJsonSchema": true,
       "metadata": {},
       "overflow": false,
       "plotOptions": {
        "customPlotOptions": {},
        "displayType": "table",
        "pivotAggregation": null,
        "pivotColumns": null,
        "xColumns": null,
        "yColumns": null
       },
       "removedWidgets": [],
       "schema": [
        {
         "metadata": "{}",
         "name": "SOId",
         "type": "\"long\""
        },
        {
         "metadata": "{}",
         "name": "SODate",
         "type": "\"date\""
        },
        {
         "metadata": "{}",
         "name": "ItemId",
         "type": "\"string\""
        },
        {
         "metadata": "{}",
         "name": "ItemQty",
         "type": "\"long\""
        },
        {
         "metadata": "{}",
         "name": "ItemValue",
         "type": "\"long\""
        },
        {
         "metadata": "{}",
         "name": "year",
         "type": "\"integer\""
        },
        {
         "metadata": "{}",
         "name": "month",
         "type": "\"integer\""
        },
        {
         "metadata": "{}",
         "name": "total",
         "type": "\"long\""
        }
       ],
       "type": "table"
      }
     },
     "output_type": "display_data"
    }
   ],
   "source": [
    "df2=(\n",
    "    df1.withColumn('year',year('SODate'))\n",
    "        .withColumn('month',month('SODate'))\n",
    "       # .withColumn('total',(col('ItemQty') * col('ItemValue')))\n",
    "        .withColumn('total',( col('ItemValue')))\n",
    ")\n",
    "df2.display()"
   ]
  },
  {
   "cell_type": "code",
   "execution_count": 0,
   "metadata": {
    "application/vnd.databricks.v1+cell": {
     "cellMetadata": {
      "byteLimit": 2048000,
      "rowLimit": 10000
     },
     "inputWidgets": {},
     "nuid": "39777b0d-35b3-485a-8a82-39fb6b5556ec",
     "showTitle": false,
     "tableResultSettingsMap": {},
     "title": ""
    }
   },
   "outputs": [
    {
     "output_type": "display_data",
     "data": {
      "text/html": [
       "<style scoped>\n",
       "  .table-result-container {\n",
       "    max-height: 300px;\n",
       "    overflow: auto;\n",
       "  }\n",
       "  table, th, td {\n",
       "    border: 1px solid black;\n",
       "    border-collapse: collapse;\n",
       "  }\n",
       "  th, td {\n",
       "    padding: 5px;\n",
       "  }\n",
       "  th {\n",
       "    text-align: left;\n",
       "  }\n",
       "</style><div class='table-result-container'><table class='table-result'><thead style='background-color: white'><tr><th>year</th><th>month</th><th>total_sale</th></tr></thead><tbody><tr><td>2024</td><td>1</td><td>3000</td></tr><tr><td>2024</td><td>2</td><td>4000</td></tr><tr><td>2024</td><td>3</td><td>10000</td></tr></tbody></table></div>"
      ]
     },
     "metadata": {
      "application/vnd.databricks.v1+output": {
       "addedWidgets": {},
       "aggData": [],
       "aggError": "",
       "aggOverflow": false,
       "aggSchema": [],
       "aggSeriesLimitReached": false,
       "aggType": "",
       "arguments": {},
       "columnCustomDisplayInfos": {},
       "data": [
        [
         2024,
         1,
         3000
        ],
        [
         2024,
         2,
         4000
        ],
        [
         2024,
         3,
         10000
        ]
       ],
       "datasetInfos": [],
       "dbfsResultPath": null,
       "isJsonSchema": true,
       "metadata": {},
       "overflow": false,
       "plotOptions": {
        "customPlotOptions": {},
        "displayType": "table",
        "pivotAggregation": null,
        "pivotColumns": null,
        "xColumns": null,
        "yColumns": null
       },
       "removedWidgets": [],
       "schema": [
        {
         "metadata": "{}",
         "name": "year",
         "type": "\"integer\""
        },
        {
         "metadata": "{}",
         "name": "month",
         "type": "\"integer\""
        },
        {
         "metadata": "{}",
         "name": "total_sale",
         "type": "\"long\""
        }
       ],
       "type": "table"
      }
     },
     "output_type": "display_data"
    }
   ],
   "source": [
    "df3=(\n",
    "    df2.groupBy('year','month').agg(sum(col('total')).alias('total_sale'))\n",
    "    )\n",
    "df3.display()\n"
   ]
  },
  {
   "cell_type": "code",
   "execution_count": 0,
   "metadata": {
    "application/vnd.databricks.v1+cell": {
     "cellMetadata": {
      "byteLimit": 2048000,
      "rowLimit": 10000
     },
     "inputWidgets": {},
     "nuid": "104c1cce-c9cd-4e59-91ab-7443c880a202",
     "showTitle": false,
     "tableResultSettingsMap": {},
     "title": ""
    }
   },
   "outputs": [],
   "source": [
    "sale_window=Window.partitionBy('year').orderBy('month')"
   ]
  },
  {
   "cell_type": "code",
   "execution_count": 0,
   "metadata": {
    "application/vnd.databricks.v1+cell": {
     "cellMetadata": {
      "byteLimit": 2048000,
      "rowLimit": 10000
     },
     "inputWidgets": {},
     "nuid": "429830cf-0dda-464e-872b-8dae1aeddf7d",
     "showTitle": false,
     "tableResultSettingsMap": {},
     "title": ""
    }
   },
   "outputs": [
    {
     "output_type": "display_data",
     "data": {
      "text/html": [
       "<style scoped>\n",
       "  .table-result-container {\n",
       "    max-height: 300px;\n",
       "    overflow: auto;\n",
       "  }\n",
       "  table, th, td {\n",
       "    border: 1px solid black;\n",
       "    border-collapse: collapse;\n",
       "  }\n",
       "  th, td {\n",
       "    padding: 5px;\n",
       "  }\n",
       "  th {\n",
       "    text-align: left;\n",
       "  }\n",
       "</style><div class='table-result-container'><table class='table-result'><thead style='background-color: white'><tr><th>year</th><th>month</th><th>total_sale</th><th>prevmonthsale</th></tr></thead><tbody><tr><td>2024</td><td>1</td><td>3000</td><td>null</td></tr><tr><td>2024</td><td>2</td><td>4000</td><td>3000</td></tr><tr><td>2024</td><td>3</td><td>10000</td><td>4000</td></tr></tbody></table></div>"
      ]
     },
     "metadata": {
      "application/vnd.databricks.v1+output": {
       "addedWidgets": {},
       "aggData": [],
       "aggError": "",
       "aggOverflow": false,
       "aggSchema": [],
       "aggSeriesLimitReached": false,
       "aggType": "",
       "arguments": {},
       "columnCustomDisplayInfos": {},
       "data": [
        [
         2024,
         1,
         3000,
         null
        ],
        [
         2024,
         2,
         4000,
         3000
        ],
        [
         2024,
         3,
         10000,
         4000
        ]
       ],
       "datasetInfos": [],
       "dbfsResultPath": null,
       "isJsonSchema": true,
       "metadata": {},
       "overflow": false,
       "plotOptions": {
        "customPlotOptions": {},
        "displayType": "table",
        "pivotAggregation": null,
        "pivotColumns": null,
        "xColumns": null,
        "yColumns": null
       },
       "removedWidgets": [],
       "schema": [
        {
         "metadata": "{}",
         "name": "year",
         "type": "\"integer\""
        },
        {
         "metadata": "{}",
         "name": "month",
         "type": "\"integer\""
        },
        {
         "metadata": "{}",
         "name": "total_sale",
         "type": "\"long\""
        },
        {
         "metadata": "{}",
         "name": "prevmonthsale",
         "type": "\"long\""
        }
       ],
       "type": "table"
      }
     },
     "output_type": "display_data"
    }
   ],
   "source": [
    "df4=(\n",
    "    df3.withColumn('prevmonthsale',lag(col('total_sale'),1).over(sale_window))\n",
    ")\n",
    "df4.display()"
   ]
  },
  {
   "cell_type": "code",
   "execution_count": 0,
   "metadata": {
    "application/vnd.databricks.v1+cell": {
     "cellMetadata": {
      "byteLimit": 2048000,
      "rowLimit": 10000
     },
     "inputWidgets": {},
     "nuid": "72749bcd-8722-4e91-8cd6-d8fdfc04dcac",
     "showTitle": false,
     "tableResultSettingsMap": {},
     "title": ""
    }
   },
   "outputs": [
    {
     "output_type": "display_data",
     "data": {
      "text/html": [
       "<style scoped>\n",
       "  .table-result-container {\n",
       "    max-height: 300px;\n",
       "    overflow: auto;\n",
       "  }\n",
       "  table, th, td {\n",
       "    border: 1px solid black;\n",
       "    border-collapse: collapse;\n",
       "  }\n",
       "  th, td {\n",
       "    padding: 5px;\n",
       "  }\n",
       "  th {\n",
       "    text-align: left;\n",
       "  }\n",
       "</style><div class='table-result-container'><table class='table-result'><thead style='background-color: white'><tr><th>year</th><th>month</th><th>total_sale</th><th>prevmonthsale</th><th>percntgae_diff</th></tr></thead><tbody><tr><td>2024</td><td>1</td><td>3000</td><td>null</td><td>null</td></tr><tr><td>2024</td><td>2</td><td>4000</td><td>3000</td><td>25.0</td></tr><tr><td>2024</td><td>3</td><td>10000</td><td>4000</td><td>60.0</td></tr></tbody></table></div>"
      ]
     },
     "metadata": {
      "application/vnd.databricks.v1+output": {
       "addedWidgets": {},
       "aggData": [],
       "aggError": "",
       "aggOverflow": false,
       "aggSchema": [],
       "aggSeriesLimitReached": false,
       "aggType": "",
       "arguments": {},
       "columnCustomDisplayInfos": {},
       "data": [
        [
         2024,
         1,
         3000,
         null,
         null
        ],
        [
         2024,
         2,
         4000,
         3000,
         25.0
        ],
        [
         2024,
         3,
         10000,
         4000,
         60.0
        ]
       ],
       "datasetInfos": [],
       "dbfsResultPath": null,
       "isJsonSchema": true,
       "metadata": {},
       "overflow": false,
       "plotOptions": {
        "customPlotOptions": {},
        "displayType": "table",
        "pivotAggregation": null,
        "pivotColumns": null,
        "xColumns": null,
        "yColumns": null
       },
       "removedWidgets": [],
       "schema": [
        {
         "metadata": "{}",
         "name": "year",
         "type": "\"integer\""
        },
        {
         "metadata": "{}",
         "name": "month",
         "type": "\"integer\""
        },
        {
         "metadata": "{}",
         "name": "total_sale",
         "type": "\"long\""
        },
        {
         "metadata": "{}",
         "name": "prevmonthsale",
         "type": "\"long\""
        },
        {
         "metadata": "{}",
         "name": "percntgae_diff",
         "type": "\"double\""
        }
       ],
       "type": "table"
      }
     },
     "output_type": "display_data"
    }
   ],
   "source": [
    "df5=(\n",
    "    df4.withColumn('percntgae_diff', ((col('total_sale') - col('prevmonthsale'))*100 /col('total_sale') ))\n",
    ")\n",
    "df5.display()"
   ]
  },
  {
   "cell_type": "code",
   "execution_count": 0,
   "metadata": {
    "application/vnd.databricks.v1+cell": {
     "cellMetadata": {
      "byteLimit": 2048000,
      "rowLimit": 10000
     },
     "inputWidgets": {},
     "nuid": "bcea970c-b050-4c62-af0b-93ad544c340f",
     "showTitle": false,
     "tableResultSettingsMap": {},
     "title": ""
    }
   },
   "outputs": [],
   "source": [
    "#collect_list()"
   ]
  },
  {
   "cell_type": "code",
   "execution_count": 0,
   "metadata": {
    "application/vnd.databricks.v1+cell": {
     "cellMetadata": {
      "byteLimit": 2048000,
      "rowLimit": 10000
     },
     "inputWidgets": {},
     "nuid": "9cfc738a-76c1-47f2-abfd-cddb9253949e",
     "showTitle": false,
     "tableResultSettingsMap": {},
     "title": ""
    }
   },
   "outputs": [
    {
     "output_type": "display_data",
     "data": {
      "text/html": [
       "<style scoped>\n",
       "  .table-result-container {\n",
       "    max-height: 300px;\n",
       "    overflow: auto;\n",
       "  }\n",
       "  table, th, td {\n",
       "    border: 1px solid black;\n",
       "    border-collapse: collapse;\n",
       "  }\n",
       "  th, td {\n",
       "    padding: 5px;\n",
       "  }\n",
       "  th {\n",
       "    text-align: left;\n",
       "  }\n",
       "</style><div class='table-result-container'><table class='table-result'><thead style='background-color: white'><tr><th>EmpId</th><th>EmpName</th><th>Skill</th></tr></thead><tbody><tr><td>1</td><td>John</td><td>ADF</td></tr><tr><td>1</td><td>John</td><td>ADB</td></tr><tr><td>1</td><td>John</td><td>PowerBI</td></tr><tr><td>2</td><td>Joanne</td><td>ADF</td></tr><tr><td>2</td><td>Joanne</td><td>SQL</td></tr><tr><td>2</td><td>Joanne</td><td>Crystal Report</td></tr><tr><td>3</td><td>Vikas</td><td>ADF</td></tr><tr><td>3</td><td>Vikas</td><td>SQL</td></tr><tr><td>3</td><td>Vikas</td><td>SSIS</td></tr><tr><td>4</td><td>Monu</td><td>SQL</td></tr><tr><td>4</td><td>Monu</td><td>SSIS</td></tr><tr><td>4</td><td>Monu</td><td>SSAS</td></tr><tr><td>4</td><td>Monu</td><td>ADF</td></tr></tbody></table></div>"
      ]
     },
     "metadata": {
      "application/vnd.databricks.v1+output": {
       "addedWidgets": {},
       "aggData": [],
       "aggError": "",
       "aggOverflow": false,
       "aggSchema": [],
       "aggSeriesLimitReached": false,
       "aggType": "",
       "arguments": {},
       "columnCustomDisplayInfos": {},
       "data": [
        [
         1,
         "John",
         "ADF"
        ],
        [
         1,
         "John",
         "ADB"
        ],
        [
         1,
         "John",
         "PowerBI"
        ],
        [
         2,
         "Joanne",
         "ADF"
        ],
        [
         2,
         "Joanne",
         "SQL"
        ],
        [
         2,
         "Joanne",
         "Crystal Report"
        ],
        [
         3,
         "Vikas",
         "ADF"
        ],
        [
         3,
         "Vikas",
         "SQL"
        ],
        [
         3,
         "Vikas",
         "SSIS"
        ],
        [
         4,
         "Monu",
         "SQL"
        ],
        [
         4,
         "Monu",
         "SSIS"
        ],
        [
         4,
         "Monu",
         "SSAS"
        ],
        [
         4,
         "Monu",
         "ADF"
        ]
       ],
       "datasetInfos": [],
       "dbfsResultPath": null,
       "isJsonSchema": true,
       "metadata": {},
       "overflow": false,
       "plotOptions": {
        "customPlotOptions": {},
        "displayType": "table",
        "pivotAggregation": null,
        "pivotColumns": null,
        "xColumns": null,
        "yColumns": null
       },
       "removedWidgets": [],
       "schema": [
        {
         "metadata": "{}",
         "name": "EmpId",
         "type": "\"long\""
        },
        {
         "metadata": "{}",
         "name": "EmpName",
         "type": "\"string\""
        },
        {
         "metadata": "{}",
         "name": "Skill",
         "type": "\"string\""
        }
       ],
       "type": "table"
      }
     },
     "output_type": "display_data"
    }
   ],
   "source": [
    "data=[(1,'John','ADF'),(1,'John','ADB'),(1,'John','PowerBI'),(2,'Joanne','ADF'),(2,'Joanne','SQL'),(2,'Joanne','Crystal Report'),(3,'Vikas','ADF'),(3,'Vikas','SQL'),(3,'Vikas','SSIS'),(4,'Monu','SQL'),(4,'Monu','SSIS'),(4,'Monu','SSAS'),(4,'Monu','ADF')]\n",
    "schema=[\"EmpId\",\"EmpName\",\"Skill\"]\n",
    "df1=spark.createDataFrame(data,schema)\n",
    "display(df1)"
   ]
  },
  {
   "cell_type": "code",
   "execution_count": 0,
   "metadata": {
    "application/vnd.databricks.v1+cell": {
     "cellMetadata": {
      "byteLimit": 2048000,
      "rowLimit": 10000
     },
     "inputWidgets": {},
     "nuid": "522c236a-0e51-48b4-9bfd-aa02436bd9ef",
     "showTitle": false,
     "tableResultSettingsMap": {},
     "title": ""
    }
   },
   "outputs": [
    {
     "output_type": "display_data",
     "data": {
      "text/html": [
       "<style scoped>\n",
       "  .table-result-container {\n",
       "    max-height: 300px;\n",
       "    overflow: auto;\n",
       "  }\n",
       "  table, th, td {\n",
       "    border: 1px solid black;\n",
       "    border-collapse: collapse;\n",
       "  }\n",
       "  th, td {\n",
       "    padding: 5px;\n",
       "  }\n",
       "  th {\n",
       "    text-align: left;\n",
       "  }\n",
       "</style><div class='table-result-container'><table class='table-result'><thead style='background-color: white'><tr><th>EmpId</th><th>EmpName</th><th>skills_array</th></tr></thead><tbody><tr><td>1</td><td>John</td><td>List(ADF, ADB, PowerBI)</td></tr><tr><td>2</td><td>Joanne</td><td>List(ADF, SQL, Crystal Report)</td></tr><tr><td>3</td><td>Vikas</td><td>List(ADF, SQL, SSIS)</td></tr><tr><td>4</td><td>Monu</td><td>List(SQL, SSIS, SSAS, ADF)</td></tr></tbody></table></div>"
      ]
     },
     "metadata": {
      "application/vnd.databricks.v1+output": {
       "addedWidgets": {},
       "aggData": [],
       "aggError": "",
       "aggOverflow": false,
       "aggSchema": [],
       "aggSeriesLimitReached": false,
       "aggType": "",
       "arguments": {},
       "columnCustomDisplayInfos": {},
       "data": [
        [
         1,
         "John",
         [
          "ADF",
          "ADB",
          "PowerBI"
         ]
        ],
        [
         2,
         "Joanne",
         [
          "ADF",
          "SQL",
          "Crystal Report"
         ]
        ],
        [
         3,
         "Vikas",
         [
          "ADF",
          "SQL",
          "SSIS"
         ]
        ],
        [
         4,
         "Monu",
         [
          "SQL",
          "SSIS",
          "SSAS",
          "ADF"
         ]
        ]
       ],
       "datasetInfos": [],
       "dbfsResultPath": null,
       "isJsonSchema": true,
       "metadata": {},
       "overflow": false,
       "plotOptions": {
        "customPlotOptions": {},
        "displayType": "table",
        "pivotAggregation": null,
        "pivotColumns": null,
        "xColumns": null,
        "yColumns": null
       },
       "removedWidgets": [],
       "schema": [
        {
         "metadata": "{}",
         "name": "EmpId",
         "type": "\"long\""
        },
        {
         "metadata": "{}",
         "name": "EmpName",
         "type": "\"string\""
        },
        {
         "metadata": "{}",
         "name": "skills_array",
         "type": "{\"type\":\"array\",\"elementType\":\"string\",\"containsNull\":false}"
        }
       ],
       "type": "table"
      }
     },
     "output_type": "display_data"
    }
   ],
   "source": [
    "df2=(\n",
    "    df1.groupBy('EmpId','EmpName').agg(collect_list(col('Skill')).alias('skills_array'))\n",
    ")\n",
    "display(df2)"
   ]
  },
  {
   "cell_type": "code",
   "execution_count": 0,
   "metadata": {
    "application/vnd.databricks.v1+cell": {
     "cellMetadata": {
      "byteLimit": 2048000,
      "rowLimit": 10000
     },
     "inputWidgets": {},
     "nuid": "aadf022c-55ce-4b69-b54e-ccbd4f73519c",
     "showTitle": false,
     "tableResultSettingsMap": {},
     "title": ""
    }
   },
   "outputs": [
    {
     "output_type": "stream",
     "name": "stdout",
     "output_type": "stream",
     "text": [
      "Help on function concat_ws in module pyspark.sql.functions:\n\nconcat_ws(sep: str, *cols: 'ColumnOrName') -> pyspark.sql.column.Column\n    Concatenates multiple input string columns together into a single string column,\n    using the given separator.\n    \n    .. versionadded:: 1.5.0\n    \n    .. versionchanged:: 3.4.0\n        Support Spark Connect.\n    \n    Parameters\n    ----------\n    sep : str\n        words separator.\n    cols : :class:`~pyspark.sql.Column` or str\n        list of columns to work on.\n    \n    Returns\n    -------\n    :class:`~pyspark.sql.Column`\n        string of concatenated words.\n    \n    Examples\n    --------\n    >>> df = spark.createDataFrame([('abcd','123')], ['s', 'd'])\n    >>> df.select(concat_ws('-', df.s, df.d).alias('s')).collect()\n    [Row(s='abcd-123')]\n\n"
     ]
    }
   ],
   "source": [
    "help(concat_ws)"
   ]
  },
  {
   "cell_type": "code",
   "execution_count": 0,
   "metadata": {
    "application/vnd.databricks.v1+cell": {
     "cellMetadata": {
      "byteLimit": 2048000,
      "rowLimit": 10000
     },
     "inputWidgets": {},
     "nuid": "57ba886b-a5be-4b6b-b64a-43bd5e2638d3",
     "showTitle": false,
     "tableResultSettingsMap": {},
     "title": ""
    }
   },
   "outputs": [
    {
     "output_type": "display_data",
     "data": {
      "text/html": [
       "<style scoped>\n",
       "  .table-result-container {\n",
       "    max-height: 300px;\n",
       "    overflow: auto;\n",
       "  }\n",
       "  table, th, td {\n",
       "    border: 1px solid black;\n",
       "    border-collapse: collapse;\n",
       "  }\n",
       "  th, td {\n",
       "    padding: 5px;\n",
       "  }\n",
       "  th {\n",
       "    text-align: left;\n",
       "  }\n",
       "</style><div class='table-result-container'><table class='table-result'><thead style='background-color: white'><tr><th>EmpId</th><th>EmpName</th><th>skills_array</th><th>all_skills</th></tr></thead><tbody><tr><td>1</td><td>John</td><td>List(ADF, ADB, PowerBI)</td><td>ADF,ADB,PowerBI</td></tr><tr><td>2</td><td>Joanne</td><td>List(ADF, SQL, Crystal Report)</td><td>ADF,SQL,Crystal Report</td></tr><tr><td>3</td><td>Vikas</td><td>List(ADF, SQL, SSIS)</td><td>ADF,SQL,SSIS</td></tr><tr><td>4</td><td>Monu</td><td>List(SQL, SSIS, SSAS, ADF)</td><td>SQL,SSIS,SSAS,ADF</td></tr></tbody></table></div>"
      ]
     },
     "metadata": {
      "application/vnd.databricks.v1+output": {
       "addedWidgets": {},
       "aggData": [],
       "aggError": "",
       "aggOverflow": false,
       "aggSchema": [],
       "aggSeriesLimitReached": false,
       "aggType": "",
       "arguments": {},
       "columnCustomDisplayInfos": {},
       "data": [
        [
         1,
         "John",
         [
          "ADF",
          "ADB",
          "PowerBI"
         ],
         "ADF,ADB,PowerBI"
        ],
        [
         2,
         "Joanne",
         [
          "ADF",
          "SQL",
          "Crystal Report"
         ],
         "ADF,SQL,Crystal Report"
        ],
        [
         3,
         "Vikas",
         [
          "ADF",
          "SQL",
          "SSIS"
         ],
         "ADF,SQL,SSIS"
        ],
        [
         4,
         "Monu",
         [
          "SQL",
          "SSIS",
          "SSAS",
          "ADF"
         ],
         "SQL,SSIS,SSAS,ADF"
        ]
       ],
       "datasetInfos": [],
       "dbfsResultPath": null,
       "isJsonSchema": true,
       "metadata": {},
       "overflow": false,
       "plotOptions": {
        "customPlotOptions": {},
        "displayType": "table",
        "pivotAggregation": null,
        "pivotColumns": null,
        "xColumns": null,
        "yColumns": null
       },
       "removedWidgets": [],
       "schema": [
        {
         "metadata": "{}",
         "name": "EmpId",
         "type": "\"long\""
        },
        {
         "metadata": "{}",
         "name": "EmpName",
         "type": "\"string\""
        },
        {
         "metadata": "{}",
         "name": "skills_array",
         "type": "{\"type\":\"array\",\"elementType\":\"string\",\"containsNull\":false}"
        },
        {
         "metadata": "{}",
         "name": "all_skills",
         "type": "\"string\""
        }
       ],
       "type": "table"
      }
     },
     "output_type": "display_data"
    }
   ],
   "source": [
    "df3=(\n",
    "    df2.withColumn('all_skills',concat_ws(',',col('skills_array')))\n",
    ")\n",
    "display(df3)"
   ]
  },
  {
   "cell_type": "code",
   "execution_count": 0,
   "metadata": {
    "application/vnd.databricks.v1+cell": {
     "cellMetadata": {
      "byteLimit": 2048000,
      "rowLimit": 10000
     },
     "inputWidgets": {},
     "nuid": "8876b174-7623-4062-93ca-83e33a90adcd",
     "showTitle": false,
     "tableResultSettingsMap": {},
     "title": ""
    }
   },
   "outputs": [],
   "source": [
    "#Count total no. of employees"
   ]
  },
  {
   "cell_type": "code",
   "execution_count": 0,
   "metadata": {
    "application/vnd.databricks.v1+cell": {
     "cellMetadata": {
      "byteLimit": 2048000,
      "rowLimit": 10000
     },
     "inputWidgets": {},
     "nuid": "8609ca48-6c7f-41f7-8306-48984b1ab14b",
     "showTitle": false,
     "tableResultSettingsMap": {},
     "title": ""
    }
   },
   "outputs": [
    {
     "output_type": "display_data",
     "data": {
      "text/html": [
       "<style scoped>\n",
       "  .table-result-container {\n",
       "    max-height: 300px;\n",
       "    overflow: auto;\n",
       "  }\n",
       "  table, th, td {\n",
       "    border: 1px solid black;\n",
       "    border-collapse: collapse;\n",
       "  }\n",
       "  th, td {\n",
       "    padding: 5px;\n",
       "  }\n",
       "  th {\n",
       "    text-align: left;\n",
       "  }\n",
       "</style><div class='table-result-container'><table class='table-result'><thead style='background-color: white'><tr><th>Deptname</th><th>Gender</th></tr></thead><tbody><tr><td>IT</td><td>M</td></tr><tr><td>IT</td><td>F</td></tr><tr><td>IT</td><td>M</td></tr><tr><td>IT</td><td>M</td></tr><tr><td>HR</td><td>F</td></tr><tr><td>HR</td><td>F</td></tr><tr><td>HR</td><td>F</td></tr><tr><td>HR</td><td>F</td></tr><tr><td>HR</td><td>F</td></tr><tr><td>SALES</td><td>M</td></tr><tr><td>SALES</td><td>M</td></tr><tr><td>SALES</td><td>F</td></tr></tbody></table></div>"
      ]
     },
     "metadata": {
      "application/vnd.databricks.v1+output": {
       "addedWidgets": {},
       "aggData": [],
       "aggError": "",
       "aggOverflow": false,
       "aggSchema": [],
       "aggSeriesLimitReached": false,
       "aggType": "",
       "arguments": {},
       "columnCustomDisplayInfos": {},
       "data": [
        [
         "IT",
         "M"
        ],
        [
         "IT",
         "F"
        ],
        [
         "IT",
         "M"
        ],
        [
         "IT",
         "M"
        ],
        [
         "HR",
         "F"
        ],
        [
         "HR",
         "F"
        ],
        [
         "HR",
         "F"
        ],
        [
         "HR",
         "F"
        ],
        [
         "HR",
         "F"
        ],
        [
         "SALES",
         "M"
        ],
        [
         "SALES",
         "M"
        ],
        [
         "SALES",
         "F"
        ]
       ],
       "datasetInfos": [],
       "dbfsResultPath": null,
       "isJsonSchema": true,
       "metadata": {},
       "overflow": false,
       "plotOptions": {
        "customPlotOptions": {},
        "displayType": "table",
        "pivotAggregation": null,
        "pivotColumns": null,
        "xColumns": null,
        "yColumns": null
       },
       "removedWidgets": [],
       "schema": [
        {
         "metadata": "{}",
         "name": "Deptname",
         "type": "\"string\""
        },
        {
         "metadata": "{}",
         "name": "Gender",
         "type": "\"string\""
        }
       ],
       "type": "table"
      }
     },
     "output_type": "display_data"
    }
   ],
   "source": [
    "dept_data=[('IT','M'),('IT','F'),('IT','M'),('IT','M'),\n",
    "           ('HR','F'),('HR','F'),('HR','F'),('HR','F'),('HR','F'),\n",
    "           ('SALES','M'),('SALES','M'),('SALES','F')]\n",
    "\n",
    "dept_schema=['Deptname','Gender']    \n",
    "\n",
    "dept_df=spark.createDataFrame(dept_data,dept_schema)\n",
    "display(dept_df)"
   ]
  },
  {
   "cell_type": "code",
   "execution_count": 0,
   "metadata": {
    "application/vnd.databricks.v1+cell": {
     "cellMetadata": {
      "byteLimit": 2048000,
      "rowLimit": 10000
     },
     "inputWidgets": {},
     "nuid": "0f70d1f3-ea73-486f-b0f5-271e7975674e",
     "showTitle": false,
     "tableResultSettingsMap": {},
     "title": ""
    }
   },
   "outputs": [],
   "source": [
    "dept_df=(\n",
    "    dept_df.withColumn('Gender',when(col('Gender')=='M','Male')\n",
    "                        .when(col('Gender')=='F','Female')\n",
    "                        )\n",
    ")"
   ]
  },
  {
   "cell_type": "code",
   "execution_count": 0,
   "metadata": {
    "application/vnd.databricks.v1+cell": {
     "cellMetadata": {
      "byteLimit": 2048000,
      "rowLimit": 10000
     },
     "inputWidgets": {},
     "nuid": "8083ef20-aad7-48b6-aeb4-bd59d0152a6c",
     "showTitle": false,
     "tableResultSettingsMap": {},
     "title": ""
    }
   },
   "outputs": [
    {
     "output_type": "stream",
     "name": "stdout",
     "output_type": "stream",
     "text": [
      "+--------+------+----+\n|Deptname|Female|Male|\n+--------+------+----+\n|      HR|     5|null|\n|   SALES|     1|   2|\n|      IT|     1|   3|\n+--------+------+----+\n\n"
     ]
    }
   ],
   "source": [
    "dept_df1=(\n",
    "    dept_df.groupBy('Deptname').pivot('Gender').agg(count(col('Gender')))\n",
    ")\n",
    "dept_df1.show()"
   ]
  },
  {
   "cell_type": "code",
   "execution_count": 0,
   "metadata": {
    "application/vnd.databricks.v1+cell": {
     "cellMetadata": {
      "byteLimit": 2048000,
      "rowLimit": 10000
     },
     "inputWidgets": {},
     "nuid": "1a5d5d2f-75cb-4863-91aa-5eb5f2fe7115",
     "showTitle": false,
     "tableResultSettingsMap": {},
     "title": ""
    }
   },
   "outputs": [
    {
     "output_type": "stream",
     "name": "stdout",
     "output_type": "stream",
     "text": [
      "+--------+------+----+\n|Deptname|Female|Male|\n+--------+------+----+\n|      HR|     5|   0|\n|   SALES|     1|   2|\n|      IT|     1|   3|\n+--------+------+----+\n\n"
     ]
    }
   ],
   "source": [
    "dept_df1=dept_df1.na.fill(0)\n",
    "dept_df1.show()"
   ]
  },
  {
   "cell_type": "code",
   "execution_count": 0,
   "metadata": {
    "application/vnd.databricks.v1+cell": {
     "cellMetadata": {
      "byteLimit": 2048000,
      "rowLimit": 10000
     },
     "inputWidgets": {},
     "nuid": "f86061d0-7f9c-4d5a-8e25-c18f6e6cdbde",
     "showTitle": false,
     "tableResultSettingsMap": {},
     "title": ""
    }
   },
   "outputs": [
    {
     "output_type": "display_data",
     "data": {
      "text/html": [
       "<style scoped>\n",
       "  .table-result-container {\n",
       "    max-height: 300px;\n",
       "    overflow: auto;\n",
       "  }\n",
       "  table, th, td {\n",
       "    border: 1px solid black;\n",
       "    border-collapse: collapse;\n",
       "  }\n",
       "  th, td {\n",
       "    padding: 5px;\n",
       "  }\n",
       "  th {\n",
       "    text-align: left;\n",
       "  }\n",
       "</style><div class='table-result-container'><table class='table-result'><thead style='background-color: white'><tr><th>Deptname</th><th>Female</th><th>Male</th><th>total</th></tr></thead><tbody><tr><td>HR</td><td>5</td><td>0</td><td>5</td></tr><tr><td>SALES</td><td>1</td><td>2</td><td>3</td></tr><tr><td>IT</td><td>1</td><td>3</td><td>4</td></tr></tbody></table></div>"
      ]
     },
     "metadata": {
      "application/vnd.databricks.v1+output": {
       "addedWidgets": {},
       "aggData": [],
       "aggError": "",
       "aggOverflow": false,
       "aggSchema": [],
       "aggSeriesLimitReached": false,
       "aggType": "",
       "arguments": {},
       "columnCustomDisplayInfos": {},
       "data": [
        [
         "HR",
         5,
         0,
         5
        ],
        [
         "SALES",
         1,
         2,
         3
        ],
        [
         "IT",
         1,
         3,
         4
        ]
       ],
       "datasetInfos": [],
       "dbfsResultPath": null,
       "isJsonSchema": true,
       "metadata": {},
       "overflow": false,
       "plotOptions": {
        "customPlotOptions": {},
        "displayType": "table",
        "pivotAggregation": null,
        "pivotColumns": null,
        "xColumns": null,
        "yColumns": null
       },
       "removedWidgets": [],
       "schema": [
        {
         "metadata": "{}",
         "name": "Deptname",
         "type": "\"string\""
        },
        {
         "metadata": "{}",
         "name": "Female",
         "type": "\"long\""
        },
        {
         "metadata": "{}",
         "name": "Male",
         "type": "\"long\""
        },
        {
         "metadata": "{}",
         "name": "total",
         "type": "\"long\""
        }
       ],
       "type": "table"
      }
     },
     "output_type": "display_data"
    }
   ],
   "source": [
    "df_final=(\n",
    "    dept_df1.withColumn('total',(col('Female')+col('Male')))\n",
    ")\n",
    "df_final.display()"
   ]
  },
  {
   "cell_type": "code",
   "execution_count": 0,
   "metadata": {
    "application/vnd.databricks.v1+cell": {
     "cellMetadata": {
      "byteLimit": 2048000,
      "rowLimit": 10000
     },
     "inputWidgets": {},
     "nuid": "5f2505b3-e30d-4b35-b81a-5b06d1f686a2",
     "showTitle": false,
     "tableResultSettingsMap": {},
     "title": ""
    }
   },
   "outputs": [],
   "source": [
    "#3 or more consecutive records with people more than or equal to 100"
   ]
  },
  {
   "cell_type": "code",
   "execution_count": 0,
   "metadata": {
    "application/vnd.databricks.v1+cell": {
     "cellMetadata": {
      "byteLimit": 2048000,
      "rowLimit": 10000
     },
     "inputWidgets": {},
     "nuid": "ddf3a1c6-82b7-440d-bf98-2f83550a55f3",
     "showTitle": false,
     "tableResultSettingsMap": {},
     "title": ""
    }
   },
   "outputs": [],
   "source": [
    "\n",
    "cols=['id','visit_date','no_of_people']\n",
    "\n",
    "data=[(1,'2017-07-01',10)\n",
    ",(2,'2017-07-02',109)\n",
    ",(3,'2017-07-03',150)\n",
    ",(4,'2017-07-04',99)\n",
    ",(5,'2017-07-05',145)\n",
    ",(6,'2017-07-06',1455)\n",
    ",(7,'2017-07-07',199)\n",
    ",(8,'2017-07-08',188)\n",
    "]"
   ]
  },
  {
   "cell_type": "code",
   "execution_count": 0,
   "metadata": {
    "application/vnd.databricks.v1+cell": {
     "cellMetadata": {
      "byteLimit": 2048000,
      "rowLimit": 10000
     },
     "inputWidgets": {},
     "nuid": "ffd5d156-461c-4395-83c1-b61ef4a43724",
     "showTitle": false,
     "tableResultSettingsMap": {},
     "title": ""
    }
   },
   "outputs": [
    {
     "output_type": "stream",
     "name": "stdout",
     "output_type": "stream",
     "text": [
      "+---+----------+------------+\n| id|visit_date|no_of_people|\n+---+----------+------------+\n|  1|2017-07-01|          10|\n|  2|2017-07-02|         109|\n|  3|2017-07-03|         150|\n|  4|2017-07-04|          99|\n|  5|2017-07-05|         145|\n|  6|2017-07-06|        1455|\n|  7|2017-07-07|         199|\n|  8|2017-07-08|         188|\n+---+----------+------------+\n\n"
     ]
    }
   ],
   "source": [
    "people_df=spark.createDataFrame(data,cols)\n",
    "people_df.show()"
   ]
  },
  {
   "cell_type": "code",
   "execution_count": 0,
   "metadata": {
    "application/vnd.databricks.v1+cell": {
     "cellMetadata": {
      "byteLimit": 2048000,
      "rowLimit": 10000
     },
     "inputWidgets": {},
     "nuid": "382082f7-19b1-4797-8008-3322cf45bb9f",
     "showTitle": false,
     "tableResultSettingsMap": {},
     "title": ""
    }
   },
   "outputs": [
    {
     "output_type": "stream",
     "name": "stdout",
     "output_type": "stream",
     "text": [
      "+---+----------+------------+----+---+\n| id|visit_date|no_of_people|rnum|grp|\n+---+----------+------------+----+---+\n|  2|2017-07-02|         109|   1|  1|\n|  3|2017-07-03|         150|   2|  1|\n|  5|2017-07-05|         145|   3|  2|\n|  6|2017-07-06|        1455|   4|  2|\n|  7|2017-07-07|         199|   5|  2|\n|  8|2017-07-08|         188|   6|  2|\n+---+----------+------------+----+---+\n\n"
     ]
    }
   ],
   "source": [
    "people_df1=(\n",
    "    people_df.filter(col('no_of_people')>=100)\n",
    "    .withColumn('rnum',row_number().over(Window.orderBy('visit_date')))   \n",
    "    .withColumn('grp',(col('id') - col('rnum')))\n",
    ")\n",
    "people_df1.show()"
   ]
  },
  {
   "cell_type": "code",
   "execution_count": 0,
   "metadata": {
    "application/vnd.databricks.v1+cell": {
     "cellMetadata": {
      "byteLimit": 2048000,
      "rowLimit": 10000
     },
     "inputWidgets": {},
     "nuid": "e85769b1-ffc1-44f4-b172-2d05c4bc1a7c",
     "showTitle": false,
     "tableResultSettingsMap": {},
     "title": ""
    }
   },
   "outputs": [
    {
     "output_type": "stream",
     "name": "stdout",
     "output_type": "stream",
     "text": [
      "+---+-----+\n|grp|count|\n+---+-----+\n|  1|    2|\n|  2|    4|\n+---+-----+\n\n"
     ]
    }
   ],
   "source": [
    "final_df= (\n",
    "    people_df1.groupBy('grp').count().alias('total_count')\n",
    ")\n",
    "final_df.show()"
   ]
  },
  {
   "cell_type": "code",
   "execution_count": 0,
   "metadata": {
    "application/vnd.databricks.v1+cell": {
     "cellMetadata": {
      "byteLimit": 2048000,
      "rowLimit": 10000
     },
     "inputWidgets": {},
     "nuid": "749779d7-ab20-4cd9-b97f-9757c7d38fbd",
     "showTitle": false,
     "tableResultSettingsMap": {},
     "title": ""
    }
   },
   "outputs": [],
   "source": [
    "# Find Median salary of employee"
   ]
  },
  {
   "cell_type": "code",
   "execution_count": 0,
   "metadata": {
    "application/vnd.databricks.v1+cell": {
     "cellMetadata": {
      "byteLimit": 2048000,
      "rowLimit": 10000
     },
     "inputWidgets": {},
     "nuid": "0b857579-45a6-4793-a5aa-bcfbda32dac6",
     "showTitle": false,
     "tableResultSettingsMap": {},
     "title": ""
    }
   },
   "outputs": [],
   "source": [
    "\n",
    "cols=['emp_id','company','salary']\n",
    "salary=[(1,'A',2341) ,(2,'A',341) ,(3,'A',15), (4,'A',15314) ,(5,'A',451) ,(6,'A',513), (7,'B',15), (8,'B',13), (9,'B',1154),\n",
    "         (10,'B',1345), (11,'B',1221) ,(12,'B',234), (13,'C',2345), (14,'C',2645), (15,'C',2645), (16,'C',2652), (17,'C',65)\t]"
   ]
  },
  {
   "cell_type": "code",
   "execution_count": 0,
   "metadata": {
    "application/vnd.databricks.v1+cell": {
     "cellMetadata": {
      "byteLimit": 2048000,
      "rowLimit": 10000
     },
     "inputWidgets": {},
     "nuid": "5aaebd42-69ea-4f88-a0a3-769312005d32",
     "showTitle": false,
     "tableResultSettingsMap": {},
     "title": ""
    }
   },
   "outputs": [
    {
     "output_type": "stream",
     "name": "stdout",
     "output_type": "stream",
     "text": [
      "+------+-------+------+\n|emp_id|company|salary|\n+------+-------+------+\n|     1|      A|  2341|\n|     2|      A|   341|\n|     3|      A|    15|\n|     4|      A| 15314|\n|     5|      A|   451|\n|     6|      A|   513|\n|     7|      B|    15|\n|     8|      B|    13|\n|     9|      B|  1154|\n|    10|      B|  1345|\n+------+-------+------+\nonly showing top 10 rows\n\n"
     ]
    }
   ],
   "source": [
    "sal_df=spark.createDataFrame(salary,cols)\n",
    "sal_df.show(10)"
   ]
  },
  {
   "cell_type": "code",
   "execution_count": 0,
   "metadata": {
    "application/vnd.databricks.v1+cell": {
     "cellMetadata": {
      "byteLimit": 2048000,
      "rowLimit": 10000
     },
     "inputWidgets": {},
     "nuid": "25d3865a-f22f-45a2-9d4f-9751e78b2c64",
     "showTitle": false,
     "tableResultSettingsMap": {},
     "title": ""
    }
   },
   "outputs": [
    {
     "output_type": "stream",
     "name": "stdout",
     "output_type": "stream",
     "text": [
      "+------+-------+------+-----+----+------+--------+\n|emp_id|company|salary|count|rnow|middle|middle+1|\n+------+-------+------+-----+----+------+--------+\n|     3|      A|    15|    6|   1|     3|       4|\n|     2|      A|   341|    6|   2|     3|       4|\n|     5|      A|   451|    6|   3|     3|       4|\n|     6|      A|   513|    6|   4|     3|       4|\n|     1|      A|  2341|    6|   5|     3|       4|\n|     4|      A| 15314|    6|   6|     3|       4|\n|     8|      B|    13|    6|   1|     3|       4|\n|     7|      B|    15|    6|   2|     3|       4|\n|    12|      B|   234|    6|   3|     3|       4|\n|     9|      B|  1154|    6|   4|     3|       4|\n|    11|      B|  1221|    6|   5|     3|       4|\n|    10|      B|  1345|    6|   6|     3|       4|\n|    17|      C|    65|    5|   1|     3|       3|\n|    13|      C|  2345|    5|   2|     3|       3|\n|    14|      C|  2645|    5|   3|     3|       3|\n|    15|      C|  2645|    5|   4|     3|       3|\n|    16|      C|  2652|    5|   5|     3|       3|\n+------+-------+------+-----+----+------+--------+\n\n"
     ]
    }
   ],
   "source": [
    "sal_df1=(\n",
    "   sal_df\n",
    "   .withColumn('count',count(col('emp_id')).over(Window.partitionBy('company')))\n",
    "   .withColumn('rnow',row_number().over(Window.partitionBy('company').orderBy('salary'))) \n",
    "   .withColumn('middle',ceil(col('count')/2)) \n",
    "   .withColumn('middle+1',when(col('count')%2==0,col('middle')+1).otherwise(col('middle')))\n",
    ")\n",
    "\n",
    "sal_df1.show()"
   ]
  },
  {
   "cell_type": "code",
   "execution_count": 0,
   "metadata": {
    "application/vnd.databricks.v1+cell": {
     "cellMetadata": {
      "byteLimit": 2048000,
      "rowLimit": 10000
     },
     "inputWidgets": {},
     "nuid": "c973a950-9325-4eb6-8d9a-2fe836da49d2",
     "showTitle": false,
     "tableResultSettingsMap": {},
     "title": ""
    }
   },
   "outputs": [
    {
     "output_type": "stream",
     "name": "stdout",
     "output_type": "stream",
     "text": [
      "+------+-------+------+-----+----+------+--------+\n|emp_id|company|salary|count|rnow|middle|middle+1|\n+------+-------+------+-----+----+------+--------+\n|     5|      A|   451|    6|   3|     3|       4|\n|     6|      A|   513|    6|   4|     3|       4|\n|    12|      B|   234|    6|   3|     3|       4|\n|     9|      B|  1154|    6|   4|     3|       4|\n|    14|      C|  2645|    5|   3|     3|       3|\n+------+-------+------+-----+----+------+--------+\n\n"
     ]
    }
   ],
   "source": [
    "final_df=(\n",
    "    sal_df1.filter((col('rnow')==col('middle')) | (col('rnow')==col('middle+1')) )\n",
    ")\n",
    "final_df.show()"
   ]
  },
  {
   "cell_type": "code",
   "execution_count": 0,
   "metadata": {
    "application/vnd.databricks.v1+cell": {
     "cellMetadata": {
      "byteLimit": 2048000,
      "rowLimit": 10000
     },
     "inputWidgets": {},
     "nuid": "20ca2f22-0f38-4272-ba81-6f239bd7c48a",
     "showTitle": false,
     "tableResultSettingsMap": {},
     "title": ""
    }
   },
   "outputs": [
    {
     "output_type": "stream",
     "name": "stdout",
     "output_type": "stream",
     "text": [
      "+-------+------+\n|company|median|\n+-------+------+\n|      A| 482.0|\n|      B| 694.0|\n|      C|2645.0|\n+-------+------+\n\n"
     ]
    }
   ],
   "source": [
    "median_df=final_df.groupBy('company').agg(avg(col('salary')).alias('median'))\n",
    "median_df.show()"
   ]
  },
  {
   "cell_type": "code",
   "execution_count": 0,
   "metadata": {
    "application/vnd.databricks.v1+cell": {
     "cellMetadata": {},
     "inputWidgets": {},
     "nuid": "506d6e68-734d-4041-9775-cff468628726",
     "showTitle": false,
     "tableResultSettingsMap": {},
     "title": ""
    }
   },
   "outputs": [],
   "source": [
    "#Player Location"
   ]
  },
  {
   "cell_type": "code",
   "execution_count": 0,
   "metadata": {
    "application/vnd.databricks.v1+cell": {
     "cellMetadata": {
      "byteLimit": 2048000,
      "rowLimit": 10000
     },
     "inputWidgets": {},
     "nuid": "f3eff618-ecc1-4845-9e19-347ea10b6fdc",
     "showTitle": false,
     "tableResultSettingsMap": {},
     "title": ""
    }
   },
   "outputs": [
    {
     "output_type": "stream",
     "name": "stdout",
     "output_type": "stream",
     "text": [
      "+------+---------+\n|  name|     city|\n+------+---------+\n|Sachin|   Mumbai|\n| Virat|    Delhi|\n| Rahul|Bangalore|\n| Rohit|   Mumbai|\n|Mayank|Bangalore|\n+------+---------+\n\n"
     ]
    }
   ],
   "source": [
    "\n",
    "cols=['name','city']\n",
    "player_data=[ ('Sachin','Mumbai'),('Virat','Delhi') , ('Rahul','Bangalore'),('Rohit','Mumbai'),('Mayank','Bangalore')]\n",
    "\n",
    "player_df=spark.createDataFrame(player_data,cols)\n",
    "player_df.show()"
   ]
  },
  {
   "cell_type": "code",
   "execution_count": 0,
   "metadata": {
    "application/vnd.databricks.v1+cell": {
     "cellMetadata": {
      "byteLimit": 2048000,
      "rowLimit": 10000
     },
     "inputWidgets": {},
     "nuid": "957d7fa5-1d69-4d46-afc2-2020eea3b18f",
     "showTitle": false,
     "tableResultSettingsMap": {},
     "title": ""
    }
   },
   "outputs": [
    {
     "output_type": "stream",
     "name": "stdout",
     "output_type": "stream",
     "text": [
      "+------+---------+----+\n|  name|     city|rnow|\n+------+---------+----+\n|Sachin|   Mumbai| yes|\n| Virat|    Delhi| yes|\n| Rahul|Bangalore| yes|\n| Rohit|   Mumbai| yes|\n|Mayank|Bangalore| yes|\n+------+---------+----+\n\n"
     ]
    }
   ],
   "source": [
    "player_df1=(\n",
    "    #player_df.withColumn('rnow',row_number().over(Window.orderBy('city')))\n",
    "    player_df.withColumn('rnow',lit('yes'))\n",
    ")\n",
    "player_df1.show()"
   ]
  },
  {
   "cell_type": "code",
   "execution_count": 0,
   "metadata": {
    "application/vnd.databricks.v1+cell": {
     "cellMetadata": {
      "byteLimit": 2048000,
      "rowLimit": 10000
     },
     "inputWidgets": {},
     "nuid": "1b9d0ae8-a04b-4a98-bf91-a438b505691c",
     "showTitle": false,
     "tableResultSettingsMap": {},
     "title": ""
    }
   },
   "outputs": [],
   "source": [
    "player_df1.createOrReplaceTempView('player_table')"
   ]
  },
  {
   "cell_type": "code",
   "execution_count": 0,
   "metadata": {
    "application/vnd.databricks.v1+cell": {
     "cellMetadata": {
      "byteLimit": 2048000,
      "implicitDf": true,
      "rowLimit": 10000
     },
     "inputWidgets": {},
     "nuid": "5fc17c58-7fcd-46c8-8dad-6c84fe67e584",
     "showTitle": false,
     "tableResultSettingsMap": {},
     "title": ""
    }
   },
   "outputs": [
    {
     "output_type": "stream",
     "name": "stdout",
     "output_type": "stream",
     "text": [
      "Unexpected exception formatting exception. Falling back to standard exception\n"
     ]
    },
    {
     "output_type": "stream",
     "name": "stderr",
     "output_type": "stream",
     "text": [
      "Traceback (most recent call last):\n  File \"/databricks/python/lib/python3.9/site-packages/IPython/core/interactiveshell.py\", line 3378, in run_code\n    exec(code_obj, self.user_global_ns, self.user_ns)\n  File \"<command-1042775268348521>\", line 7, in <module>\n    _sqldf = ____databricks_percent_sql()\n  File \"<command-1042775268348521>\", line 4, in ____databricks_percent_sql\n    df = spark.sql(base64.standard_b64decode(\"d2l0aCBkYXRhc2V0IGFzICgKc2VsZWN0IHJub3csY2l0eSwKcGl2b3QoY291bnQoY2l0eSkpCiBmcm9tIHBsYXllcl90YWJsZQogZ3JvdXAgYnkgcm5vdyAKCikKCnNlbGVjdCAqIGZyb20gZGF0YXNldA==\").decode())\n  File \"/databricks/spark/python/pyspark/instrumentation_utils.py\", line 48, in wrapper\n    res = func(*args, **kwargs)\n  File \"/databricks/spark/python/pyspark/sql/session.py\", line 1387, in sql\n    return DataFrame(self._jsparkSession.sql(sqlQuery, litArgs), self)\n  File \"/databricks/spark/python/lib/py4j-0.10.9.5-src.zip/py4j/java_gateway.py\", line 1321, in __call__\n    return_value = get_return_value(\n  File \"/databricks/spark/python/pyspark/errors/exceptions.py\", line 234, in deco\n    raise converted from None\npyspark.errors.exceptions.AnalysisException: [UNRESOLVED_ROUTINE] Cannot resolve function `pivot` on search path [`system`.`builtin`, `system`.`session`, `spark_catalog`.`default`].; line 3 pos 0\n\nDuring handling of the above exception, another exception occurred:\n\nTraceback (most recent call last):\n  File \"/databricks/python/lib/python3.9/site-packages/IPython/core/interactiveshell.py\", line 1997, in showtraceback\n    stb = self.InteractiveTB.structured_traceback(\n  File \"/databricks/python/lib/python3.9/site-packages/IPython/core/ultratb.py\", line 1112, in structured_traceback\n    return FormattedTB.structured_traceback(\n  File \"/databricks/python/lib/python3.9/site-packages/IPython/core/ultratb.py\", line 1006, in structured_traceback\n    return VerboseTB.structured_traceback(\n  File \"/databricks/python/lib/python3.9/site-packages/IPython/core/ultratb.py\", line 859, in structured_traceback\n    formatted_exception = self.format_exception_as_a_whole(etype, evalue, etb, number_of_lines_of_context,\n  File \"/databricks/python/lib/python3.9/site-packages/IPython/core/ultratb.py\", line 812, in format_exception_as_a_whole\n    frames.append(self.format_record(r))\n  File \"/databricks/python/lib/python3.9/site-packages/IPython/core/ultratb.py\", line 730, in format_record\n    result += ''.join(_format_traceback_lines(frame_info.lines, Colors, self.has_colors, lvals))\n  File \"/databricks/python/lib/python3.9/site-packages/stack_data/utils.py\", line 145, in cached_property_wrapper\n    value = obj.__dict__[self.func.__name__] = self.func(obj)\n  File \"/databricks/python/lib/python3.9/site-packages/stack_data/core.py\", line 698, in lines\n    pieces = self.included_pieces\n  File \"/databricks/python/lib/python3.9/site-packages/stack_data/utils.py\", line 145, in cached_property_wrapper\n    value = obj.__dict__[self.func.__name__] = self.func(obj)\n  File \"/databricks/python/lib/python3.9/site-packages/stack_data/core.py\", line 649, in included_pieces\n    pos = scope_pieces.index(self.executing_piece)\n  File \"/databricks/python/lib/python3.9/site-packages/stack_data/utils.py\", line 145, in cached_property_wrapper\n    value = obj.__dict__[self.func.__name__] = self.func(obj)\n  File \"/databricks/python/lib/python3.9/site-packages/stack_data/core.py\", line 628, in executing_piece\n    return only(\n  File \"/databricks/python/lib/python3.9/site-packages/executing/executing.py\", line 164, in only\n    raise NotOneValueFound('Expected one value, found 0')\nexecuting.executing.NotOneValueFound: Expected one value, found 0\n"
     ]
    },
    {
     "output_type": "display_data",
     "data": {
      "text/plain": [
       ""
      ]
     },
     "metadata": {
      "application/vnd.databricks.v1+output": {
       "arguments": {},
       "data": "",
       "errorSummary": "<span class='ansi-red-fg'>AnalysisException</span>: [UNRESOLVED_ROUTINE] Cannot resolve function `pivot` on search path [`system`.`builtin`, `system`.`session`, `spark_catalog`.`default`].; line 3 pos 0",
       "errorTraceType": "ansi",
       "metadata": {},
       "type": "ipynbError"
      }
     },
     "output_type": "display_data"
    }
   ],
   "source": [
    "%sql\n",
    "\n",
    "with dataset as (\n",
    "select rnow,city,\n",
    "pivot(count(city))\n",
    " from player_table\n",
    " group by rnow \n",
    "\n",
    ")\n",
    "\n",
    "select * from dataset\n"
   ]
  },
  {
   "cell_type": "code",
   "execution_count": 0,
   "metadata": {
    "application/vnd.databricks.v1+cell": {
     "cellMetadata": {
      "byteLimit": 2048000,
      "rowLimit": 10000
     },
     "inputWidgets": {},
     "nuid": "fd580dc1-fdbd-4e4d-8690-e6ac99b5e3f5",
     "showTitle": false,
     "tableResultSettingsMap": {},
     "title": ""
    }
   },
   "outputs": [
    {
     "output_type": "display_data",
     "data": {
      "text/plain": [
       "\u001B[0;31m---------------------------------------------------------------------------\u001B[0m\n",
       "\u001B[0;31mTypeError\u001B[0m                                 Traceback (most recent call last)\n",
       "File \u001B[0;32m<command-1042775268348516>:2\u001B[0m\n",
       "\u001B[1;32m      1\u001B[0m playre_grpd_df\u001B[38;5;241m=\u001B[39m(\n",
       "\u001B[0;32m----> 2\u001B[0m     player_df1\u001B[38;5;241m.\u001B[39mgroupBy(\u001B[38;5;124m'\u001B[39m\u001B[38;5;124mrnow\u001B[39m\u001B[38;5;124m'\u001B[39m)\u001B[38;5;241m.\u001B[39mpivot(\u001B[38;5;124m'\u001B[39m\u001B[38;5;124mcity\u001B[39m\u001B[38;5;124m'\u001B[39m)\u001B[38;5;241m.\u001B[39mcount(\u001B[38;5;124m'\u001B[39m\u001B[38;5;124mrnow\u001B[39m\u001B[38;5;124m'\u001B[39m)\n",
       "\u001B[1;32m      3\u001B[0m )\n",
       "\u001B[1;32m      4\u001B[0m playre_grpd_df\u001B[38;5;241m.\u001B[39mshow()\n",
       "\n",
       "File \u001B[0;32m/databricks/spark/python/pyspark/instrumentation_utils.py:48\u001B[0m, in \u001B[0;36m_wrap_function.<locals>.wrapper\u001B[0;34m(*args, **kwargs)\u001B[0m\n",
       "\u001B[1;32m     46\u001B[0m start \u001B[38;5;241m=\u001B[39m time\u001B[38;5;241m.\u001B[39mperf_counter()\n",
       "\u001B[1;32m     47\u001B[0m \u001B[38;5;28;01mtry\u001B[39;00m:\n",
       "\u001B[0;32m---> 48\u001B[0m     res \u001B[38;5;241m=\u001B[39m \u001B[43mfunc\u001B[49m\u001B[43m(\u001B[49m\u001B[38;5;241;43m*\u001B[39;49m\u001B[43margs\u001B[49m\u001B[43m,\u001B[49m\u001B[43m \u001B[49m\u001B[38;5;241;43m*\u001B[39;49m\u001B[38;5;241;43m*\u001B[39;49m\u001B[43mkwargs\u001B[49m\u001B[43m)\u001B[49m\n",
       "\u001B[1;32m     49\u001B[0m     logger\u001B[38;5;241m.\u001B[39mlog_success(\n",
       "\u001B[1;32m     50\u001B[0m         module_name, class_name, function_name, time\u001B[38;5;241m.\u001B[39mperf_counter() \u001B[38;5;241m-\u001B[39m start, signature\n",
       "\u001B[1;32m     51\u001B[0m     )\n",
       "\u001B[1;32m     52\u001B[0m     \u001B[38;5;28;01mreturn\u001B[39;00m res\n",
       "\n",
       "\u001B[0;31mTypeError\u001B[0m: _api() takes 1 positional argument but 2 were given"
      ]
     },
     "metadata": {
      "application/vnd.databricks.v1+output": {
       "arguments": {},
       "data": "\u001B[0;31m---------------------------------------------------------------------------\u001B[0m\n\u001B[0;31mTypeError\u001B[0m                                 Traceback (most recent call last)\nFile \u001B[0;32m<command-1042775268348516>:2\u001B[0m\n\u001B[1;32m      1\u001B[0m playre_grpd_df\u001B[38;5;241m=\u001B[39m(\n\u001B[0;32m----> 2\u001B[0m     player_df1\u001B[38;5;241m.\u001B[39mgroupBy(\u001B[38;5;124m'\u001B[39m\u001B[38;5;124mrnow\u001B[39m\u001B[38;5;124m'\u001B[39m)\u001B[38;5;241m.\u001B[39mpivot(\u001B[38;5;124m'\u001B[39m\u001B[38;5;124mcity\u001B[39m\u001B[38;5;124m'\u001B[39m)\u001B[38;5;241m.\u001B[39mcount(\u001B[38;5;124m'\u001B[39m\u001B[38;5;124mrnow\u001B[39m\u001B[38;5;124m'\u001B[39m)\n\u001B[1;32m      3\u001B[0m )\n\u001B[1;32m      4\u001B[0m playre_grpd_df\u001B[38;5;241m.\u001B[39mshow()\n\nFile \u001B[0;32m/databricks/spark/python/pyspark/instrumentation_utils.py:48\u001B[0m, in \u001B[0;36m_wrap_function.<locals>.wrapper\u001B[0;34m(*args, **kwargs)\u001B[0m\n\u001B[1;32m     46\u001B[0m start \u001B[38;5;241m=\u001B[39m time\u001B[38;5;241m.\u001B[39mperf_counter()\n\u001B[1;32m     47\u001B[0m \u001B[38;5;28;01mtry\u001B[39;00m:\n\u001B[0;32m---> 48\u001B[0m     res \u001B[38;5;241m=\u001B[39m \u001B[43mfunc\u001B[49m\u001B[43m(\u001B[49m\u001B[38;5;241;43m*\u001B[39;49m\u001B[43margs\u001B[49m\u001B[43m,\u001B[49m\u001B[43m \u001B[49m\u001B[38;5;241;43m*\u001B[39;49m\u001B[38;5;241;43m*\u001B[39;49m\u001B[43mkwargs\u001B[49m\u001B[43m)\u001B[49m\n\u001B[1;32m     49\u001B[0m     logger\u001B[38;5;241m.\u001B[39mlog_success(\n\u001B[1;32m     50\u001B[0m         module_name, class_name, function_name, time\u001B[38;5;241m.\u001B[39mperf_counter() \u001B[38;5;241m-\u001B[39m start, signature\n\u001B[1;32m     51\u001B[0m     )\n\u001B[1;32m     52\u001B[0m     \u001B[38;5;28;01mreturn\u001B[39;00m res\n\n\u001B[0;31mTypeError\u001B[0m: _api() takes 1 positional argument but 2 were given",
       "errorSummary": "<span class='ansi-red-fg'>TypeError</span>: _api() takes 1 positional argument but 2 were given",
       "errorTraceType": "ansi",
       "metadata": {},
       "type": "ipynbError"
      }
     },
     "output_type": "display_data"
    }
   ],
   "source": [
    "playre_grpd_df=(\n",
    "    player_df1.groupBy('rnow').pivot('city').count('rnow')\n",
    ")\n",
    "playre_grpd_df.show()"
   ]
  },
  {
   "cell_type": "code",
   "execution_count": 0,
   "metadata": {
    "application/vnd.databricks.v1+cell": {
     "cellMetadata": {
      "byteLimit": 2048000,
      "rowLimit": 10000
     },
     "inputWidgets": {},
     "nuid": "843e7857-b585-49be-aaff-2e97f84ade71",
     "showTitle": false,
     "tableResultSettingsMap": {},
     "title": ""
    }
   },
   "outputs": [],
   "source": []
  }
 ],
 "metadata": {
  "application/vnd.databricks.v1+notebook": {
   "computePreferences": null,
   "dashboards": [],
   "environmentMetadata": {
    "base_environment": "",
    "environment_version": "1"
   },
   "inputWidgetPreferences": null,
   "language": "python",
   "notebookMetadata": {
    "mostRecentlyExecutedCommandWithImplicitDF": {
     "commandId": 1042775268348521,
     "dataframes": [
      "_sqldf"
     ]
    },
    "pythonIndentUnit": 4
   },
   "notebookName": "Pyspak_Questions_10_06_2025",
   "widgets": {}
  }
 },
 "nbformat": 4,
 "nbformat_minor": 0
}