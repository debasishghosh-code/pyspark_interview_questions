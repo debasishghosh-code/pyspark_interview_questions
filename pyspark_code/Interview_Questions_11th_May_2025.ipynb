{
 "cells": [
  {
   "cell_type": "markdown",
   "metadata": {
    "application/vnd.databricks.v1+cell": {
     "cellMetadata": {},
     "inputWidgets": {},
     "nuid": "c7856089-d409-4125-b5f3-f827b955f0e6",
     "showTitle": false,
     "tableResultSettingsMap": {},
     "title": ""
    }
   },
   "source": [
    "**1. First name middle name last name**"
   ]
  },
  {
   "cell_type": "code",
   "execution_count": 0,
   "metadata": {
    "application/vnd.databricks.v1+cell": {
     "cellMetadata": {
      "byteLimit": 2048000,
      "rowLimit": 10000
     },
     "inputWidgets": {},
     "nuid": "b4654534-133b-43fd-b978-9adca6dd9715",
     "showTitle": false,
     "tableResultSettingsMap": {},
     "title": ""
    }
   },
   "outputs": [],
   "source": [
    "import pyspark.sql.functions as F"
   ]
  },
  {
   "cell_type": "code",
   "execution_count": 0,
   "metadata": {
    "application/vnd.databricks.v1+cell": {
     "cellMetadata": {
      "byteLimit": 2048000,
      "rowLimit": 10000
     },
     "inputWidgets": {},
     "nuid": "76067a10-a757-482e-966d-7a214f9750ee",
     "showTitle": false,
     "tableResultSettingsMap": {},
     "title": ""
    }
   },
   "outputs": [
    {
     "output_type": "display_data",
     "data": {
      "text/html": [
       "<style scoped>\n",
       "  .table-result-container {\n",
       "    max-height: 300px;\n",
       "    overflow: auto;\n",
       "  }\n",
       "  table, th, td {\n",
       "    border: 1px solid black;\n",
       "    border-collapse: collapse;\n",
       "  }\n",
       "  th, td {\n",
       "    padding: 5px;\n",
       "  }\n",
       "  th {\n",
       "    text-align: left;\n",
       "  }\n",
       "</style><div class='table-result-container'><table class='table-result'><thead style='background-color: white'><tr><th>celebrity_name</th></tr></thead><tbody><tr><td>Virat Kohli</td></tr><tr><td>Narendra Damodardas Modi</td></tr><tr><td>Salman</td></tr></tbody></table></div>"
      ]
     },
     "metadata": {
      "application/vnd.databricks.v1+output": {
       "addedWidgets": {},
       "aggData": [],
       "aggError": "",
       "aggOverflow": false,
       "aggSchema": [],
       "aggSeriesLimitReached": false,
       "aggType": "",
       "arguments": {},
       "columnCustomDisplayInfos": {},
       "data": [
        [
         "Virat Kohli"
        ],
        [
         "Narendra Damodardas Modi"
        ],
        [
         "Salman"
        ]
       ],
       "datasetInfos": [],
       "dbfsResultPath": null,
       "isJsonSchema": true,
       "metadata": {},
       "overflow": false,
       "plotOptions": {
        "customPlotOptions": {},
        "displayType": "table",
        "pivotAggregation": null,
        "pivotColumns": null,
        "xColumns": null,
        "yColumns": null
       },
       "removedWidgets": [],
       "schema": [
        {
         "metadata": "{}",
         "name": "celebrity_name",
         "type": "\"string\""
        }
       ],
       "type": "table"
      }
     },
     "output_type": "display_data"
    }
   ],
   "source": [
    "data = [\n",
    "    ('Virat Kohli',),\n",
    "    ('Narendra Damodardas Modi',),\n",
    "    ('Salman',)\n",
    "]\n",
    "\n",
    "schema = \"celebrity_name string\"\n",
    "\n",
    "df = spark.createDataFrame(data = data , schema = schema)\n",
    "df.display()"
   ]
  },
  {
   "cell_type": "code",
   "execution_count": 0,
   "metadata": {
    "application/vnd.databricks.v1+cell": {
     "cellMetadata": {
      "byteLimit": 2048000,
      "rowLimit": 10000
     },
     "inputWidgets": {},
     "nuid": "c79a334e-07b1-4a9b-9b81-9ca54cb118b0",
     "showTitle": false,
     "tableResultSettingsMap": {},
     "title": ""
    }
   },
   "outputs": [
    {
     "output_type": "stream",
     "name": "stdout",
     "output_type": "stream",
     "text": [
      "+------------------------+---------+----------+--------+\n|celebrity_name          |Firstname|Middlename|Lastname|\n+------------------------+---------+----------+--------+\n|Virat Kohli             |Virat    |Kohli     |null    |\n|Narendra Damodardas Modi|Narendra |Damodardas|Modi    |\n|Salman                  |Salman   |null      |null    |\n+------------------------+---------+----------+--------+\n\n"
     ]
    }
   ],
   "source": [
    "df_final=(\n",
    "    df.withColumn('Firstname',F.split(F.col('celebrity_name'),\" \")[0])\n",
    "       .withColumn('Middlename',F.split(F.col('celebrity_name'),\" \")[1])\n",
    "       .withColumn('Lastname',F.split(F.col('celebrity_name'),\" \")[2]) \n",
    ")\n",
    "df_final.show(truncate=False)"
   ]
  },
  {
   "cell_type": "markdown",
   "metadata": {
    "application/vnd.databricks.v1+cell": {
     "cellMetadata": {},
     "inputWidgets": {},
     "nuid": "c4a6dcb2-fd62-46c5-8e33-3d94c99c1d2b",
     "showTitle": false,
     "tableResultSettingsMap": {},
     "title": ""
    }
   },
   "source": [
    "**2. Lift capacity**"
   ]
  },
  {
   "cell_type": "code",
   "execution_count": 0,
   "metadata": {
    "application/vnd.databricks.v1+cell": {
     "cellMetadata": {
      "byteLimit": 2048000,
      "rowLimit": 10000
     },
     "inputWidgets": {},
     "nuid": "af7c0e40-7fc4-4e1d-8f2d-664de21dfcc3",
     "showTitle": false,
     "tableResultSettingsMap": {},
     "title": ""
    }
   },
   "outputs": [],
   "source": [
    "lift_data = [\n",
    "    (1,300),\n",
    "    (2,350)\n",
    "]\n",
    "\n",
    "lift_schema = \"id int , capacity_kg int\"\n",
    "\n",
    "lift_df = spark.createDataFrame(data = lift_data , schema = lift_schema)"
   ]
  },
  {
   "cell_type": "code",
   "execution_count": 0,
   "metadata": {
    "application/vnd.databricks.v1+cell": {
     "cellMetadata": {
      "byteLimit": 2048000,
      "rowLimit": 10000
     },
     "inputWidgets": {},
     "nuid": "f5818258-5415-424a-88fe-2f0f8bdcca89",
     "showTitle": false,
     "tableResultSettingsMap": {},
     "title": ""
    }
   },
   "outputs": [],
   "source": [
    "lift_passengers_data = [\n",
    "    ('Rahul',85,1),\n",
    "    ('Adarsh',73,1),\n",
    "    ('Riti',95,1),\n",
    "    ('Viraj',80,1),\n",
    "    ('Vimal',83,2),\n",
    "    ('Neha',77,2),\n",
    "    ('Priti',73,2),\n",
    "    ('Himanshi',85,2)\n",
    "]\n",
    "\n",
    "lift_passengers_schema = \"passenger_name string , weight_kg int, lift_id int\"\n",
    "\n",
    "lift_passengers_df = spark.createDataFrame(data = lift_passengers_data , schema = lift_passengers_schema)"
   ]
  },
  {
   "cell_type": "code",
   "execution_count": 0,
   "metadata": {
    "application/vnd.databricks.v1+cell": {
     "cellMetadata": {
      "byteLimit": 2048000,
      "rowLimit": 10000
     },
     "inputWidgets": {},
     "nuid": "6c822509-9e8e-48b1-a6b6-ecced9a20e5f",
     "showTitle": false,
     "tableResultSettingsMap": {},
     "title": ""
    }
   },
   "outputs": [
    {
     "output_type": "display_data",
     "data": {
      "text/html": [
       "<style scoped>\n",
       "  .table-result-container {\n",
       "    max-height: 300px;\n",
       "    overflow: auto;\n",
       "  }\n",
       "  table, th, td {\n",
       "    border: 1px solid black;\n",
       "    border-collapse: collapse;\n",
       "  }\n",
       "  th, td {\n",
       "    padding: 5px;\n",
       "  }\n",
       "  th {\n",
       "    text-align: left;\n",
       "  }\n",
       "</style><div class='table-result-container'><table class='table-result'><thead style='background-color: white'><tr><th>id</th><th>capacity_kg</th></tr></thead><tbody><tr><td>1</td><td>300</td></tr><tr><td>2</td><td>350</td></tr></tbody></table></div>"
      ]
     },
     "metadata": {
      "application/vnd.databricks.v1+output": {
       "addedWidgets": {},
       "aggData": [],
       "aggError": "",
       "aggOverflow": false,
       "aggSchema": [],
       "aggSeriesLimitReached": false,
       "aggType": "",
       "arguments": {},
       "columnCustomDisplayInfos": {},
       "data": [
        [
         1,
         300
        ],
        [
         2,
         350
        ]
       ],
       "datasetInfos": [],
       "dbfsResultPath": null,
       "isJsonSchema": true,
       "metadata": {},
       "overflow": false,
       "plotOptions": {
        "customPlotOptions": {},
        "displayType": "table",
        "pivotAggregation": null,
        "pivotColumns": null,
        "xColumns": null,
        "yColumns": null
       },
       "removedWidgets": [],
       "schema": [
        {
         "metadata": "{}",
         "name": "id",
         "type": "\"integer\""
        },
        {
         "metadata": "{}",
         "name": "capacity_kg",
         "type": "\"integer\""
        }
       ],
       "type": "table"
      }
     },
     "output_type": "display_data"
    },
    {
     "output_type": "display_data",
     "data": {
      "text/html": [
       "<style scoped>\n",
       "  .table-result-container {\n",
       "    max-height: 300px;\n",
       "    overflow: auto;\n",
       "  }\n",
       "  table, th, td {\n",
       "    border: 1px solid black;\n",
       "    border-collapse: collapse;\n",
       "  }\n",
       "  th, td {\n",
       "    padding: 5px;\n",
       "  }\n",
       "  th {\n",
       "    text-align: left;\n",
       "  }\n",
       "</style><div class='table-result-container'><table class='table-result'><thead style='background-color: white'><tr><th>passenger_name</th><th>weight_kg</th><th>lift_id</th></tr></thead><tbody><tr><td>Rahul</td><td>85</td><td>1</td></tr><tr><td>Adarsh</td><td>73</td><td>1</td></tr><tr><td>Riti</td><td>95</td><td>1</td></tr><tr><td>Viraj</td><td>80</td><td>1</td></tr><tr><td>Vimal</td><td>83</td><td>2</td></tr><tr><td>Neha</td><td>77</td><td>2</td></tr><tr><td>Priti</td><td>73</td><td>2</td></tr><tr><td>Himanshi</td><td>85</td><td>2</td></tr></tbody></table></div>"
      ]
     },
     "metadata": {
      "application/vnd.databricks.v1+output": {
       "addedWidgets": {},
       "aggData": [],
       "aggError": "",
       "aggOverflow": false,
       "aggSchema": [],
       "aggSeriesLimitReached": false,
       "aggType": "",
       "arguments": {},
       "columnCustomDisplayInfos": {},
       "data": [
        [
         "Rahul",
         85,
         1
        ],
        [
         "Adarsh",
         73,
         1
        ],
        [
         "Riti",
         95,
         1
        ],
        [
         "Viraj",
         80,
         1
        ],
        [
         "Vimal",
         83,
         2
        ],
        [
         "Neha",
         77,
         2
        ],
        [
         "Priti",
         73,
         2
        ],
        [
         "Himanshi",
         85,
         2
        ]
       ],
       "datasetInfos": [],
       "dbfsResultPath": null,
       "isJsonSchema": true,
       "metadata": {},
       "overflow": false,
       "plotOptions": {
        "customPlotOptions": {},
        "displayType": "table",
        "pivotAggregation": null,
        "pivotColumns": null,
        "xColumns": null,
        "yColumns": null
       },
       "removedWidgets": [],
       "schema": [
        {
         "metadata": "{}",
         "name": "passenger_name",
         "type": "\"string\""
        },
        {
         "metadata": "{}",
         "name": "weight_kg",
         "type": "\"integer\""
        },
        {
         "metadata": "{}",
         "name": "lift_id",
         "type": "\"integer\""
        }
       ],
       "type": "table"
      }
     },
     "output_type": "display_data"
    }
   ],
   "source": [
    "lift_df.display()\n",
    "lift_passengers_df.display()"
   ]
  },
  {
   "cell_type": "code",
   "execution_count": 0,
   "metadata": {
    "application/vnd.databricks.v1+cell": {
     "cellMetadata": {
      "byteLimit": 2048000,
      "rowLimit": 10000
     },
     "inputWidgets": {},
     "nuid": "c435ddc0-452b-4d6f-b56d-40442378ed8d",
     "showTitle": false,
     "tableResultSettingsMap": {},
     "title": ""
    }
   },
   "outputs": [
    {
     "output_type": "stream",
     "name": "stdout",
     "output_type": "stream",
     "text": [
      "+--------------+---------+-------+-----------+\n|passenger_name|weight_kg|lift_id|capacity_kg|\n+--------------+---------+-------+-----------+\n|         Rahul|       85|      1|        300|\n|        Adarsh|       73|      1|        300|\n|          Riti|       95|      1|        300|\n|         Viraj|       80|      1|        300|\n|         Vimal|       83|      2|        350|\n|          Neha|       77|      2|        350|\n|         Priti|       73|      2|        350|\n|      Himanshi|       85|      2|        350|\n+--------------+---------+-------+-----------+\n\n"
     ]
    }
   ],
   "source": [
    "lift_capacity_passenger_df=(\n",
    "   lift_passengers_df.alias('p')\n",
    "   .join(lift_df.alias('l'),F.col('p.lift_id')==F.col('l.id') , 'inner') \n",
    "   .drop('id')\n",
    ")\n",
    "lift_capacity_passenger_df.show()"
   ]
  },
  {
   "cell_type": "code",
   "execution_count": 0,
   "metadata": {
    "application/vnd.databricks.v1+cell": {
     "cellMetadata": {
      "byteLimit": 2048000,
      "rowLimit": 10000
     },
     "inputWidgets": {},
     "nuid": "a0d0e1a0-bc16-48f6-9e8e-62ac3858acb7",
     "showTitle": false,
     "tableResultSettingsMap": {},
     "title": ""
    }
   },
   "outputs": [
    {
     "output_type": "stream",
     "name": "stdout",
     "output_type": "stream",
     "text": [
      "root\n |-- passenger_name: string (nullable = true)\n |-- weight_kg: integer (nullable = true)\n |-- lift_id: integer (nullable = true)\n |-- capacity_kg: integer (nullable = true)\n\n"
     ]
    }
   ],
   "source": [
    "lift_capacity_passenger_df.printSchema()"
   ]
  },
  {
   "cell_type": "code",
   "execution_count": 0,
   "metadata": {
    "application/vnd.databricks.v1+cell": {
     "cellMetadata": {
      "byteLimit": 2048000,
      "rowLimit": 10000
     },
     "inputWidgets": {},
     "nuid": "b01f9b9e-5da2-4e33-90fe-b7f207736c7d",
     "showTitle": false,
     "tableResultSettingsMap": {},
     "title": ""
    }
   },
   "outputs": [],
   "source": [
    "lift_capacity_passenger_df.createOrReplaceTempView('lift_capacity_passenger')"
   ]
  },
  {
   "cell_type": "code",
   "execution_count": 0,
   "metadata": {
    "application/vnd.databricks.v1+cell": {
     "cellMetadata": {
      "byteLimit": 2048000,
      "implicitDf": true,
      "rowLimit": 10000
     },
     "inputWidgets": {},
     "nuid": "7f867478-7167-4328-94a6-685efd6ebe53",
     "showTitle": false,
     "tableResultSettingsMap": {},
     "title": ""
    }
   },
   "outputs": [
    {
     "output_type": "display_data",
     "data": {
      "text/html": [
       "<style scoped>\n",
       "  .table-result-container {\n",
       "    max-height: 300px;\n",
       "    overflow: auto;\n",
       "  }\n",
       "  table, th, td {\n",
       "    border: 1px solid black;\n",
       "    border-collapse: collapse;\n",
       "  }\n",
       "  th, td {\n",
       "    padding: 5px;\n",
       "  }\n",
       "  th {\n",
       "    text-align: left;\n",
       "  }\n",
       "</style><div class='table-result-container'><table class='table-result'><thead style='background-color: white'><tr><th>lift_id</th><th>passenger_list</th></tr></thead><tbody><tr><td>1</td><td>List(Adarsh, Viraj, Rahul)</td></tr><tr><td>2</td><td>List(Priti, Neha, Vimal, Himanshi)</td></tr></tbody></table></div>"
      ]
     },
     "metadata": {
      "application/vnd.databricks.v1+output": {
       "addedWidgets": {},
       "aggData": [],
       "aggError": "",
       "aggOverflow": false,
       "aggSchema": [],
       "aggSeriesLimitReached": false,
       "aggType": "",
       "arguments": {},
       "columnCustomDisplayInfos": {},
       "data": [
        [
         1,
         [
          "Adarsh",
          "Viraj",
          "Rahul"
         ]
        ],
        [
         2,
         [
          "Priti",
          "Neha",
          "Vimal",
          "Himanshi"
         ]
        ]
       ],
       "datasetInfos": [],
       "dbfsResultPath": null,
       "isJsonSchema": true,
       "metadata": {},
       "overflow": false,
       "plotOptions": {
        "customPlotOptions": {},
        "displayType": "table",
        "pivotAggregation": null,
        "pivotColumns": null,
        "xColumns": null,
        "yColumns": null
       },
       "removedWidgets": [],
       "schema": [
        {
         "metadata": "{}",
         "name": "lift_id",
         "type": "\"integer\""
        },
        {
         "metadata": "{}",
         "name": "passenger_list",
         "type": "{\"type\":\"array\",\"elementType\":\"string\",\"containsNull\":false}"
        }
       ],
       "type": "table"
      }
     },
     "output_type": "display_data"
    }
   ],
   "source": [
    "%sql\n",
    "WITH DATASET AS (\n",
    "SELECT *\n",
    ",sum(weight_kg) over(PARTITION BY lift_id ORDER BY weight_kg) AS running_wt\n",
    " FROM lift_capacity_passenger\n",
    ")\n",
    "SELECT lift_id,\n",
    "collect_list(passenger_name) AS passenger_list\n",
    "--(passenger_name ,',') WITHIN GROUP (order by weight_kg) as passenger_list\n",
    " FROM DATASET\n",
    " WHERE running_wt<=capacity_kg\n",
    " GROUP BY lift_id"
   ]
  },
  {
   "cell_type": "markdown",
   "metadata": {
    "application/vnd.databricks.v1+cell": {
     "cellMetadata": {},
     "inputWidgets": {},
     "nuid": "e5865cd3-4b0d-4bd0-9745-1e6db0cfb160",
     "showTitle": false,
     "tableResultSettingsMap": {},
     "title": ""
    }
   },
   "source": [
    "**3. Popularity percentage of user** "
   ]
  },
  {
   "cell_type": "code",
   "execution_count": 0,
   "metadata": {
    "application/vnd.databricks.v1+cell": {
     "cellMetadata": {
      "byteLimit": 2048000,
      "rowLimit": 10000
     },
     "inputWidgets": {},
     "nuid": "f9d4d365-191a-4f8f-9d20-97c6fb3350fa",
     "showTitle": false,
     "tableResultSettingsMap": {},
     "title": ""
    }
   },
   "outputs": [
    {
     "output_type": "stream",
     "name": "stdout",
     "output_type": "stream",
     "text": [
      "+-----+-----+\n|user1|user2|\n+-----+-----+\n|    1|    5|\n|    1|    3|\n|    1|    6|\n|    2|    1|\n|    2|    6|\n|    3|    9|\n|    4|    1|\n|    7|    2|\n|    8|    3|\n+-----+-----+\n\n"
     ]
    }
   ],
   "source": [
    "data = [\n",
    "    (1,5),\n",
    "    (1,3),\n",
    "    (1,6),\n",
    "    (2,1),\n",
    "    (2,6),\n",
    "    (3,9),\n",
    "    (4,1),\n",
    "    (7,2),\n",
    "    (8,3)\n",
    "]\n",
    "schema =\"user1 int, user2 int\"\n",
    "\n",
    "df = spark.createDataFrame(data = data , schema = schema)\n",
    "df.show()"
   ]
  },
  {
   "cell_type": "code",
   "execution_count": 0,
   "metadata": {
    "application/vnd.databricks.v1+cell": {
     "cellMetadata": {
      "byteLimit": 2048000,
      "rowLimit": 10000
     },
     "inputWidgets": {},
     "nuid": "f7ae5beb-0c51-4634-9ae3-a20da4f6e3fb",
     "showTitle": false,
     "tableResultSettingsMap": {},
     "title": ""
    }
   },
   "outputs": [
    {
     "output_type": "stream",
     "name": "stdout",
     "output_type": "stream",
     "text": [
      "+-----+-------------+\n|user1|frnd_per_user|\n+-----+-------------+\n|    1|            3|\n|    3|            1|\n|    4|            1|\n|    8|            1|\n|    7|            1|\n|    2|            2|\n+-----+-------------+\n\n"
     ]
    }
   ],
   "source": [
    "df_friend=(\n",
    "    #df.groupBy('user1').agg((F.countDistinct('user2')*100/F.countDistinct('user1')).alias('popularity_percentage'))\n",
    "    df.groupBy('user1').agg((F.countDistinct('user2')).alias('frnd_per_user'))\n",
    ")\n",
    "df_friend.show()"
   ]
  },
  {
   "cell_type": "code",
   "execution_count": 0,
   "metadata": {
    "application/vnd.databricks.v1+cell": {
     "cellMetadata": {
      "byteLimit": 2048000,
      "rowLimit": 10000
     },
     "inputWidgets": {},
     "nuid": "c168191d-e4a9-4c99-bb9d-8fd44fb0583e",
     "showTitle": false,
     "tableResultSettingsMap": {},
     "title": ""
    }
   },
   "outputs": [
    {
     "output_type": "stream",
     "name": "stdout",
     "output_type": "stream",
     "text": [
      "+-----+-----+-------------+\n|user2|user1|frnd_per_user|\n+-----+-----+-------------+\n|    5|    1|            3|\n|    3|    1|            3|\n|    6|    1|            3|\n|    1|    2|            2|\n|    6|    2|            2|\n|    9|    3|            1|\n|    1|    4|            1|\n|    3|    8|            1|\n|    2|    7|            1|\n+-----+-----+-------------+\n\n"
     ]
    }
   ],
   "source": [
    "df_frnd_cnt=(\n",
    "    df.join(df_friend,df.user1==df_friend.user1)\n",
    "    .drop(df_friend.user1)\n",
    ")\n",
    "df_frnd_cnt.show()"
   ]
  },
  {
   "cell_type": "code",
   "execution_count": 0,
   "metadata": {
    "application/vnd.databricks.v1+cell": {
     "cellMetadata": {},
     "inputWidgets": {},
     "nuid": "326d9ab6-13e7-4e6d-b8b6-05cc64ded419",
     "showTitle": false,
     "tableResultSettingsMap": {},
     "title": ""
    }
   },
   "outputs": [],
   "source": [
    "df_pop=(\n",
    "    df_frnd_cnt.groupBy('user1').agg((max('frnd_per_user')/))\n",
    ")"
   ]
  },
  {
   "cell_type": "code",
   "execution_count": 0,
   "metadata": {
    "application/vnd.databricks.v1+cell": {
     "cellMetadata": {},
     "inputWidgets": {},
     "nuid": "5bb3f9ce-fd3d-405c-a99e-989c22a69ec9",
     "showTitle": false,
     "tableResultSettingsMap": {},
     "title": ""
    }
   },
   "outputs": [],
   "source": []
  },
  {
   "cell_type": "code",
   "execution_count": 0,
   "metadata": {
    "application/vnd.databricks.v1+cell": {
     "cellMetadata": {},
     "inputWidgets": {},
     "nuid": "9dcc532e-2270-4012-8709-c620ab046ada",
     "showTitle": false,
     "tableResultSettingsMap": {},
     "title": ""
    }
   },
   "outputs": [],
   "source": []
  }
 ],
 "metadata": {
  "application/vnd.databricks.v1+notebook": {
   "computePreferences": null,
   "dashboards": [],
   "environmentMetadata": {
    "base_environment": "",
    "environment_version": "1"
   },
   "inputWidgetPreferences": null,
   "language": "python",
   "notebookMetadata": {
    "mostRecentlyExecutedCommandWithImplicitDF": {
     "commandId": 2595864725514032,
     "dataframes": [
      "_sqldf"
     ]
    },
    "pythonIndentUnit": 4
   },
   "notebookName": "Interview_Questions_11th_May_2025",
   "widgets": {}
  }
 },
 "nbformat": 4,
 "nbformat_minor": 0
}