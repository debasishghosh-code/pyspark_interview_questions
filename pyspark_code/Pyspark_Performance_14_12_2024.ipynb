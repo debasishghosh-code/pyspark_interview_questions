{
 "cells": [
  {
   "cell_type": "code",
   "execution_count": 0,
   "metadata": {
    "application/vnd.databricks.v1+cell": {
     "cellMetadata": {
      "byteLimit": 2048000,
      "rowLimit": 10000
     },
     "inputWidgets": {},
     "nuid": "d740461a-54ae-4231-a6aa-25e9272875bc",
     "showTitle": false,
     "tableResultSettingsMap": {},
     "title": ""
    }
   },
   "outputs": [],
   "source": [
    "import warnings\n",
    "warnings.filterwarnings(\"ignore\")"
   ]
  },
  {
   "cell_type": "code",
   "execution_count": 0,
   "metadata": {
    "application/vnd.databricks.v1+cell": {
     "cellMetadata": {
      "byteLimit": 2048000,
      "rowLimit": 10000
     },
     "inputWidgets": {},
     "nuid": "d6cab3f7-075f-4438-a9b2-1b74514986f1",
     "showTitle": false,
     "tableResultSettingsMap": {},
     "title": ""
    }
   },
   "outputs": [],
   "source": [
    "from IPython.core.interactiveshell import InteractiveShell\n",
    "InteractiveShell.ast_node_interactivity = 'all'"
   ]
  },
  {
   "cell_type": "code",
   "execution_count": 0,
   "metadata": {
    "application/vnd.databricks.v1+cell": {
     "cellMetadata": {
      "byteLimit": 2048000,
      "rowLimit": 10000
     },
     "inputWidgets": {},
     "nuid": "74ce49f7-70fd-4469-afcb-d8b36f44d2ce",
     "showTitle": false,
     "tableResultSettingsMap": {},
     "title": ""
    }
   },
   "outputs": [],
   "source": [
    "dbutils.library.restartPython()"
   ]
  },
  {
   "cell_type": "code",
   "execution_count": 0,
   "metadata": {
    "application/vnd.databricks.v1+cell": {
     "cellMetadata": {
      "byteLimit": 2048000,
      "rowLimit": 10000
     },
     "inputWidgets": {},
     "nuid": "b12f2041-9084-44f3-8abf-3ae1304c0129",
     "showTitle": false,
     "tableResultSettingsMap": {},
     "title": ""
    }
   },
   "outputs": [],
   "source": [
    "from pyspark.sql.types import *\n",
    "import pyspark.sql.functions as F\n",
    "from pyspark.sql import SparkSession"
   ]
  },
  {
   "cell_type": "code",
   "execution_count": 0,
   "metadata": {
    "application/vnd.databricks.v1+cell": {
     "cellMetadata": {
      "byteLimit": 2048000,
      "rowLimit": 10000
     },
     "inputWidgets": {},
     "nuid": "39fb5f3a-cc5e-4b75-a53a-c46f08691135",
     "showTitle": false,
     "tableResultSettingsMap": {},
     "title": ""
    }
   },
   "outputs": [
    {
     "output_type": "stream",
     "name": "stdout",
     "output_type": "stream",
     "text": [
      "+----------+----------+----------+---------------+----------+----+-----+---+-------------+------+-----------+\n|   cust_id|start_date|  end_date|         txn_id|      date|year|month|day| expense_type|   amt|       city|\n+----------+----------+----------+---------------+----------+----+-----+---+-------------+------+-----------+\n|C0YDPQWPBJ|2010-07-01|2018-12-01|TZ5SMKZY9S03OQJ|2018-10-07|2018|   10|  7|Entertainment| 10.42|     boston|\n|C0YDPQWPBJ|2010-07-01|2018-12-01|TYIAPPNU066CJ5R|2016-03-27|2016|    3| 27| Motor/Travel| 44.34|   portland|\n|C0YDPQWPBJ|2010-07-01|2018-12-01|TETSXIK4BLXHJ6W|2011-04-11|2011|    4| 11|Entertainment|  3.18|    chicago|\n|C0YDPQWPBJ|2010-07-01|2018-12-01|TQKL1QFJY3EM8LO|2018-02-22|2018|    2| 22|    Groceries|268.97|los_angeles|\n|C0YDPQWPBJ|2010-07-01|2018-12-01|TYL6DFP09PPXMVB|2010-10-16|2010|   10| 16|Entertainment|  2.66|    chicago|\n+----------+----------+----------+---------------+----------+----+-----+---+-------------+------+-----------+\nonly showing top 5 rows\n\n"
     ]
    }
   ],
   "source": [
    "transactions_file = \"dbfs:/FileStore/transaction\"\n",
    "df_transactions = spark.read.parquet(transactions_file)\n",
    "df_transactions.show(5)"
   ]
  },
  {
   "cell_type": "code",
   "execution_count": 0,
   "metadata": {
    "application/vnd.databricks.v1+cell": {
     "cellMetadata": {
      "byteLimit": 2048000,
      "rowLimit": 10000
     },
     "inputWidgets": {},
     "nuid": "b8694f87-5bb5-4390-8778-895eacbf560c",
     "showTitle": false,
     "tableResultSettingsMap": {},
     "title": ""
    }
   },
   "outputs": [
    {
     "output_type": "stream",
     "name": "stdout",
     "output_type": "stream",
     "text": [
      "+----------+-------------+---+------+----------+-----+-----------+\n|   cust_id|         name|age|gender|  birthday|  zip|       city|\n+----------+-------------+---+------+----------+-----+-----------+\n|C007YEYTX9| Aaron Abbott| 34|Female| 7/13/1991|97823|     boston|\n|C00B971T1J| Aaron Austin| 37|Female|12/16/2004|30332|    chicago|\n|C00WRSJF1Q| Aaron Barnes| 29|Female| 3/11/1977|23451|     denver|\n|C01AZWQMF3|Aaron Barrett| 31|  Male|  7/9/1998|46613|los_angeles|\n|C01BKUFRHA| Aaron Becker| 54|  Male|11/24/1979|40284|  san_diego|\n+----------+-------------+---+------+----------+-----+-----------+\nonly showing top 5 rows\n\n"
     ]
    }
   ],
   "source": [
    "customers_file = \"dbfs:/FileStore/customer\"\n",
    "df_customers = spark.read.parquet(customers_file)\n",
    "df_customers.show(5)"
   ]
  },
  {
   "cell_type": "markdown",
   "metadata": {
    "application/vnd.databricks.v1+cell": {
     "cellMetadata": {
      "byteLimit": 2048000,
      "rowLimit": 10000
     },
     "inputWidgets": {},
     "nuid": "80caf8c8-cb65-43b0-b20f-a352aed00996",
     "showTitle": false,
     "tableResultSettingsMap": {},
     "title": ""
    }
   },
   "source": [
    "## **Narrow-Transformation**\n"
   ]
  },
  {
   "cell_type": "code",
   "execution_count": 0,
   "metadata": {
    "application/vnd.databricks.v1+cell": {
     "cellMetadata": {
      "byteLimit": 2048000,
      "rowLimit": 10000
     },
     "inputWidgets": {},
     "nuid": "3d7e5145-8c71-4522-81c6-99d769ae7003",
     "showTitle": false,
     "tableResultSettingsMap": {},
     "title": ""
    }
   },
   "outputs": [
    {
     "output_type": "stream",
     "name": "stdout",
     "output_type": "stream",
     "text": [
      "+----------+----------+---------+----+------+---------+\n|cust_id   |first_name|last_name|age |gender|birthday |\n+----------+----------+---------+----+------+---------+\n|C007YEYTX9|Aaron     |Abbott   |39.0|Female|7/13/1991|\n|C08XAQUY73|Aaron     |Lambert  |59.0|Female|11/5/1966|\n|C094P1VXF9|Aaron     |Lindsey  |29.0|Male  |9/21/1990|\n|C097SHE1EF|Aaron     |Lopez    |27.0|Female|4/18/2001|\n|C0DTC6436T|Aaron     |Schwartz |57.0|Female|7/9/1962 |\n+----------+----------+---------+----+------+---------+\nonly showing top 5 rows\n\n== Parsed Logical Plan ==\n'Project ['cust_id, 'first_name, 'last_name, 'age, 'gender, 'birthday]\n+- Project [cust_id#1037, name#1038, (cast(age#1039 as double) + cast(5 as double)) AS age#1114, gender#1040, birthday#1041, zip#1042, city#1043, first_name#1095, last_name#1104]\n   +- Project [cust_id#1037, name#1038, age#1039, gender#1040, birthday#1041, zip#1042, city#1043, first_name#1095, split(name#1038,  , -1)[1] AS last_name#1104]\n      +- Project [cust_id#1037, name#1038, age#1039, gender#1040, birthday#1041, zip#1042, city#1043, split(name#1038,  , -1)[0] AS first_name#1095]\n         +- Filter (city#1043 = boston)\n            +- Relation [cust_id#1037,name#1038,age#1039,gender#1040,birthday#1041,zip#1042,city#1043] parquet\n\n== Analyzed Logical Plan ==\ncust_id: string, first_name: string, last_name: string, age: double, gender: string, birthday: string\nProject [cust_id#1037, first_name#1095, last_name#1104, age#1114, gender#1040, birthday#1041]\n+- Project [cust_id#1037, name#1038, (cast(age#1039 as double) + cast(5 as double)) AS age#1114, gender#1040, birthday#1041, zip#1042, city#1043, first_name#1095, last_name#1104]\n   +- Project [cust_id#1037, name#1038, age#1039, gender#1040, birthday#1041, zip#1042, city#1043, first_name#1095, split(name#1038,  , -1)[1] AS last_name#1104]\n      +- Project [cust_id#1037, name#1038, age#1039, gender#1040, birthday#1041, zip#1042, city#1043, split(name#1038,  , -1)[0] AS first_name#1095]\n         +- Filter (city#1043 = boston)\n            +- Relation [cust_id#1037,name#1038,age#1039,gender#1040,birthday#1041,zip#1042,city#1043] parquet\n\n== Optimized Logical Plan ==\nProject [cust_id#1037, split(name#1038,  , 2)[0] AS first_name#1095, split(name#1038,  , 3)[1] AS last_name#1104, (cast(age#1039 as double) + 5.0) AS age#1114, gender#1040, birthday#1041]\n+- Filter (isnotnull(city#1043) AND (city#1043 = boston))\n   +- Relation [cust_id#1037,name#1038,age#1039,gender#1040,birthday#1041,zip#1042,city#1043] parquet\n\n== Physical Plan ==\n*(1) Project [cust_id#1037, split(name#1038,  , 2)[0] AS first_name#1095, split(name#1038,  , 3)[1] AS last_name#1104, (cast(age#1039 as double) + 5.0) AS age#1114, gender#1040, birthday#1041]\n+- *(1) Filter (isnotnull(city#1043) AND (city#1043 = boston))\n   +- *(1) ColumnarToRow\n      +- FileScan parquet [cust_id#1037,name#1038,age#1039,gender#1040,birthday#1041,city#1043] Batched: true, DataFilters: [isnotnull(city#1043), (city#1043 = boston)], Format: Parquet, Location: InMemoryFileIndex(1 paths)[dbfs:/FileStore/customer], PartitionFilters: [], PushedFilters: [IsNotNull(city), EqualTo(city,boston)], ReadSchema: struct<cust_id:string,name:string,age:string,gender:string,birthday:string,city:string>\n\n"
     ]
    }
   ],
   "source": [
    "#Narrow transformation\n",
    "\n",
    "df_narrow_transform = (\n",
    "    df_customers\n",
    "    .filter(F.col(\"city\") == \"boston\")\n",
    "    .withColumn(\"first_name\", F.split(\"name\", \" \").getItem(0))\n",
    "    .withColumn(\"last_name\", F.split(\"name\", \" \").getItem(1))\n",
    "    .withColumn(\"age\", F.col(\"age\") + F.lit(5))\n",
    "    .select(\"cust_id\", \"first_name\", \"last_name\", \"age\", \"gender\", \"birthday\")\n",
    ")\n",
    "\n",
    "df_narrow_transform.show(5, False)\n",
    "df_narrow_transform.explain(True)"
   ]
  },
  {
   "cell_type": "code",
   "execution_count": 0,
   "metadata": {
    "application/vnd.databricks.v1+cell": {
     "cellMetadata": {
      "byteLimit": 2048000,
      "rowLimit": 10000
     },
     "inputWidgets": {},
     "nuid": "5948e203-3b32-45d7-a5c7-3c532eb366f6",
     "showTitle": false,
     "tableResultSettingsMap": {},
     "title": ""
    }
   },
   "outputs": [],
   "source": [
    "df_narrow_transform.write.format('noop').mode('overwrite').save('dbfs:/FileStore/dummy')"
   ]
  },
  {
   "cell_type": "code",
   "execution_count": 0,
   "metadata": {
    "application/vnd.databricks.v1+cell": {
     "cellMetadata": {
      "byteLimit": 2048000,
      "rowLimit": 10000
     },
     "inputWidgets": {},
     "nuid": "7896bf28-3452-43fd-a688-2fdb8ad51b6b",
     "showTitle": false,
     "tableResultSettingsMap": {},
     "title": ""
    }
   },
   "outputs": [],
   "source": [
    "df_narrow_transform.show(5, False)"
   ]
  },
  {
   "cell_type": "markdown",
   "metadata": {
    "application/vnd.databricks.v1+cell": {
     "cellMetadata": {
      "byteLimit": 2048000,
      "rowLimit": 10000
     },
     "inputWidgets": {},
     "nuid": "15892814-3b76-4ceb-8fbf-01bee08740cc",
     "showTitle": false,
     "tableResultSettingsMap": {},
     "title": ""
    }
   },
   "source": [
    "## **Wide-Transformation**"
   ]
  },
  {
   "cell_type": "markdown",
   "metadata": {
    "application/vnd.databricks.v1+cell": {
     "cellMetadata": {
      "byteLimit": 2048000,
      "rowLimit": 10000
     },
     "inputWidgets": {},
     "nuid": "394c68dd-73d5-45b0-ab5a-5a64ca91aa23",
     "showTitle": false,
     "tableResultSettingsMap": {},
     "title": ""
    }
   },
   "source": [
    "### Repartition"
   ]
  },
  {
   "cell_type": "code",
   "execution_count": 0,
   "metadata": {
    "application/vnd.databricks.v1+cell": {
     "cellMetadata": {
      "byteLimit": 2048000,
      "rowLimit": 10000
     },
     "inputWidgets": {},
     "nuid": "bf8521a7-eb93-47b4-ab8b-c91b4cb578cd",
     "showTitle": false,
     "tableResultSettingsMap": {},
     "title": ""
    }
   },
   "outputs": [
    {
     "output_type": "stream",
     "name": "stdout",
     "output_type": "stream",
     "text": [
      "Out[8]: 12"
     ]
    }
   ],
   "source": [
    "df_transactions.rdd.getNumPartitions()"
   ]
  },
  {
   "cell_type": "code",
   "execution_count": 0,
   "metadata": {
    "application/vnd.databricks.v1+cell": {
     "cellMetadata": {
      "byteLimit": 2048000,
      "rowLimit": 10000
     },
     "inputWidgets": {},
     "nuid": "4ac2e1e3-0d77-4119-beb6-c6a897bfdcf2",
     "showTitle": false,
     "tableResultSettingsMap": {},
     "title": ""
    }
   },
   "outputs": [],
   "source": [
    "df_transactions.show(4)"
   ]
  },
  {
   "cell_type": "code",
   "execution_count": 0,
   "metadata": {
    "application/vnd.databricks.v1+cell": {
     "cellMetadata": {
      "byteLimit": 2048000,
      "rowLimit": 10000
     },
     "inputWidgets": {},
     "nuid": "9bca9193-53c4-4c2d-a1a3-e29ff57c732e",
     "showTitle": false,
     "tableResultSettingsMap": {},
     "title": ""
    }
   },
   "outputs": [
    {
     "output_type": "stream",
     "name": "stdout",
     "output_type": "stream",
     "text": [
      "Out[9]: 1"
     ]
    }
   ],
   "source": [
    "df_customers.rdd.getNumPartitions()"
   ]
  },
  {
   "cell_type": "code",
   "execution_count": 0,
   "metadata": {
    "application/vnd.databricks.v1+cell": {
     "cellMetadata": {
      "byteLimit": 2048000,
      "rowLimit": 10000
     },
     "inputWidgets": {},
     "nuid": "1177c9e3-4f8b-4574-9941-44b98b324cf3",
     "showTitle": false,
     "tableResultSettingsMap": {},
     "title": ""
    }
   },
   "outputs": [],
   "source": [
    "#display(df_transactions.withColumn('partitionId',F.spark_partition_id()).groupBy('partitionId').count())"
   ]
  },
  {
   "cell_type": "code",
   "execution_count": 0,
   "metadata": {
    "application/vnd.databricks.v1+cell": {
     "cellMetadata": {},
     "inputWidgets": {},
     "nuid": "099f2f20-e5ee-483b-91ae-3abffd2fba29",
     "showTitle": false,
     "tableResultSettingsMap": {},
     "title": ""
    }
   },
   "outputs": [],
   "source": [
    "df_transactions.write.format('noop').mode('overwrite').save('dbfs:/FileStore/dummy')"
   ]
  },
  {
   "cell_type": "code",
   "execution_count": 0,
   "metadata": {
    "application/vnd.databricks.v1+cell": {
     "cellMetadata": {
      "byteLimit": 2048000,
      "rowLimit": 10000
     },
     "inputWidgets": {},
     "nuid": "c8545005-8f48-4272-9377-00886412be27",
     "showTitle": false,
     "tableResultSettingsMap": {},
     "title": ""
    }
   },
   "outputs": [],
   "source": [
    "df_transactions.repartition(8).explain(True)"
   ]
  },
  {
   "cell_type": "markdown",
   "metadata": {
    "application/vnd.databricks.v1+cell": {
     "cellMetadata": {
      "byteLimit": 2048000,
      "rowLimit": 10000
     },
     "inputWidgets": {},
     "nuid": "d384816e-836c-4a04-80f5-9851a481fd10",
     "showTitle": false,
     "tableResultSettingsMap": {},
     "title": ""
    }
   },
   "source": [
    "### Coalesce"
   ]
  },
  {
   "cell_type": "code",
   "execution_count": 0,
   "metadata": {
    "application/vnd.databricks.v1+cell": {
     "cellMetadata": {
      "byteLimit": 2048000,
      "rowLimit": 10000
     },
     "inputWidgets": {},
     "nuid": "832c8edb-2218-493a-93b9-40c09c798259",
     "showTitle": false,
     "tableResultSettingsMap": {},
     "title": ""
    }
   },
   "outputs": [],
   "source": [
    "df_transactions.coalesce(2).explain(True)"
   ]
  },
  {
   "cell_type": "markdown",
   "metadata": {
    "application/vnd.databricks.v1+cell": {
     "cellMetadata": {
      "byteLimit": 2048000,
      "rowLimit": 10000
     },
     "inputWidgets": {},
     "nuid": "4afe37d5-a5b5-4179-8130-a3510ceca008",
     "showTitle": false,
     "tableResultSettingsMap": {},
     "title": ""
    }
   },
   "source": [
    "### Joins"
   ]
  },
  {
   "cell_type": "code",
   "execution_count": 0,
   "metadata": {
    "application/vnd.databricks.v1+cell": {
     "cellMetadata": {
      "byteLimit": 2048000,
      "rowLimit": 10000
     },
     "inputWidgets": {},
     "nuid": "c89635e3-ffd6-4582-83fb-1abeca843e91",
     "showTitle": false,
     "tableResultSettingsMap": {},
     "title": ""
    }
   },
   "outputs": [],
   "source": [
    "spark.conf.set(\"spark.sql.autoBroadcastJoinThreshold\",-1)"
   ]
  },
  {
   "cell_type": "code",
   "execution_count": 0,
   "metadata": {
    "application/vnd.databricks.v1+cell": {
     "cellMetadata": {
      "byteLimit": 2048000,
      "rowLimit": 10000
     },
     "inputWidgets": {},
     "nuid": "6e6b2491-bd09-4c69-a24d-a9b8dd541eb3",
     "showTitle": false,
     "tableResultSettingsMap": {},
     "title": ""
    }
   },
   "outputs": [],
   "source": [
    "spark.conf.set(\"spark.sql.adaptive.enabled\", \"false\")"
   ]
  },
  {
   "cell_type": "code",
   "execution_count": 0,
   "metadata": {
    "application/vnd.databricks.v1+cell": {
     "cellMetadata": {
      "byteLimit": 2048000,
      "rowLimit": 10000
     },
     "inputWidgets": {},
     "nuid": "40f78580-d4df-47a7-9c7d-3d3882256bd4",
     "showTitle": false,
     "tableResultSettingsMap": {},
     "title": ""
    },
    "jupyter": {
     "outputs_hidden": true
    }
   },
   "outputs": [
    {
     "output_type": "stream",
     "name": "stdout",
     "output_type": "stream",
     "text": [
      "== Parsed Logical Plan ==\n'Join UsingJoin(Inner,Buffer(cust_id))\n:- Relation [cust_id#1467,start_date#1468,end_date#1469,txn_id#1470,date#1471,year#1472,month#1473,day#1474,expense_type#1475,amt#1476,city#1477] parquet\n+- Relation [cust_id#1037,name#1038,age#1039,gender#1040,birthday#1041,zip#1042,city#1043] parquet\n\n== Analyzed Logical Plan ==\ncust_id: string, start_date: string, end_date: string, txn_id: string, date: string, year: string, month: string, day: string, expense_type: string, amt: string, city: string, name: string, age: string, gender: string, birthday: string, zip: string, city: string\nProject [cust_id#1467, start_date#1468, end_date#1469, txn_id#1470, date#1471, year#1472, month#1473, day#1474, expense_type#1475, amt#1476, city#1477, name#1038, age#1039, gender#1040, birthday#1041, zip#1042, city#1043]\n+- Join Inner, (cust_id#1467 = cust_id#1037)\n   :- Relation [cust_id#1467,start_date#1468,end_date#1469,txn_id#1470,date#1471,year#1472,month#1473,day#1474,expense_type#1475,amt#1476,city#1477] parquet\n   +- Relation [cust_id#1037,name#1038,age#1039,gender#1040,birthday#1041,zip#1042,city#1043] parquet\n\n== Optimized Logical Plan ==\nProject [cust_id#1467, start_date#1468, end_date#1469, txn_id#1470, date#1471, year#1472, month#1473, day#1474, expense_type#1475, amt#1476, city#1477, name#1038, age#1039, gender#1040, birthday#1041, zip#1042, city#1043]\n+- Join Inner, (cust_id#1467 = cust_id#1037)\n   :- Filter isnotnull(cust_id#1467)\n   :  +- Relation [cust_id#1467,start_date#1468,end_date#1469,txn_id#1470,date#1471,year#1472,month#1473,day#1474,expense_type#1475,amt#1476,city#1477] parquet\n   +- Filter isnotnull(cust_id#1037)\n      +- Relation [cust_id#1037,name#1038,age#1039,gender#1040,birthday#1041,zip#1042,city#1043] parquet\n\n== Physical Plan ==\n*(3) Project [cust_id#1467, start_date#1468, end_date#1469, txn_id#1470, date#1471, year#1472, month#1473, day#1474, expense_type#1475, amt#1476, city#1477, name#1038, age#1039, gender#1040, birthday#1041, zip#1042, city#1043]\n+- *(3) SortMergeJoin [cust_id#1467], [cust_id#1037], Inner\n   :- Sort [cust_id#1467 ASC NULLS FIRST], false, 0\n   :  +- Exchange hashpartitioning(cust_id#1467, 200), ENSURE_REQUIREMENTS, [plan_id=1563]\n   :     +- *(1) Filter isnotnull(cust_id#1467)\n   :        +- *(1) ColumnarToRow\n   :           +- FileScan parquet [cust_id#1467,start_date#1468,end_date#1469,txn_id#1470,date#1471,year#1472,month#1473,day#1474,expense_type#1475,amt#1476,city#1477] Batched: true, DataFilters: [isnotnull(cust_id#1467)], Format: Parquet, Location: InMemoryFileIndex(1 paths)[dbfs:/FileStore/transaction], PartitionFilters: [], PushedFilters: [IsNotNull(cust_id)], ReadSchema: struct<cust_id:string,start_date:string,end_date:string,txn_id:string,date:string,year:string,mon...\n   +- Sort [cust_id#1037 ASC NULLS FIRST], false, 0\n      +- Exchange hashpartitioning(cust_id#1037, 200), ENSURE_REQUIREMENTS, [plan_id=1570]\n         +- *(2) Filter isnotnull(cust_id#1037)\n            +- *(2) ColumnarToRow\n               +- FileScan parquet [cust_id#1037,name#1038,age#1039,gender#1040,birthday#1041,zip#1042,city#1043] Batched: true, DataFilters: [isnotnull(cust_id#1037)], Format: Parquet, Location: InMemoryFileIndex(1 paths)[dbfs:/FileStore/customer], PartitionFilters: [], PushedFilters: [IsNotNull(cust_id)], ReadSchema: struct<cust_id:string,name:string,age:string,gender:string,birthday:string,zip:string,city:string>\n\n"
     ]
    }
   ],
   "source": [
    "df_joined = (\n",
    "    df_transactions.join(\n",
    "        df_customers,\n",
    "        how=\"inner\",\n",
    "        on=\"cust_id\"\n",
    "    )\n",
    ")\n",
    "\n",
    "df_joined.explain(True)"
   ]
  },
  {
   "cell_type": "code",
   "execution_count": 0,
   "metadata": {
    "application/vnd.databricks.v1+cell": {
     "cellMetadata": {
      "byteLimit": 2048000,
      "rowLimit": 10000
     },
     "inputWidgets": {},
     "nuid": "de80358c-fe22-4d72-a057-2807756e4a40",
     "showTitle": false,
     "tableResultSettingsMap": {},
     "title": ""
    }
   },
   "outputs": [],
   "source": [
    "df_joined.write.format('noop').mode('overwrite').save('dbfs:/FileStore')"
   ]
  },
  {
   "cell_type": "markdown",
   "metadata": {
    "application/vnd.databricks.v1+cell": {
     "cellMetadata": {
      "byteLimit": 2048000,
      "rowLimit": 10000
     },
     "inputWidgets": {},
     "nuid": "cf9ec77e-9778-4c3c-ae23-dee8e4ca27e4",
     "showTitle": false,
     "tableResultSettingsMap": {},
     "title": ""
    }
   },
   "source": [
    "### Group by"
   ]
  },
  {
   "cell_type": "code",
   "execution_count": 0,
   "metadata": {
    "application/vnd.databricks.v1+cell": {
     "cellMetadata": {
      "byteLimit": 2048000,
      "rowLimit": 10000
     },
     "inputWidgets": {},
     "nuid": "430abc1a-c5f0-4634-8894-f2b4d5ca718b",
     "showTitle": false,
     "tableResultSettingsMap": {},
     "title": ""
    }
   },
   "outputs": [],
   "source": [
    "\n",
    "    df_city_counts = (\n",
    "    df_transactions\n",
    "    .groupBy(\"city\")\n",
    "    .count()\n",
    ")\n",
    "\n",
    "\n",
    "df_city_counts.explain(True)"
   ]
  },
  {
   "cell_type": "code",
   "execution_count": 0,
   "metadata": {
    "application/vnd.databricks.v1+cell": {
     "cellMetadata": {
      "byteLimit": 2048000,
      "rowLimit": 10000
     },
     "inputWidgets": {},
     "nuid": "becdf7e6-2510-4817-b03e-4bfc7276a0ee",
     "showTitle": false,
     "tableResultSettingsMap": {},
     "title": ""
    }
   },
   "outputs": [],
   "source": []
  }
 ],
 "metadata": {
  "application/vnd.databricks.v1+notebook": {
   "computePreferences": null,
   "dashboards": [],
   "environmentMetadata": {
    "base_environment": "",
    "environment_version": "1"
   },
   "inputWidgetPreferences": null,
   "language": "python",
   "notebookMetadata": {
    "pythonIndentUnit": 4
   },
   "notebookName": "Pyspark_Performance_14_12_2024",
   "widgets": {}
  }
 },
 "nbformat": 4,
 "nbformat_minor": 0
}