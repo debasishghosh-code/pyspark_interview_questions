{
 "cells": [
  {
   "cell_type": "code",
   "execution_count": 0,
   "metadata": {
    "application/vnd.databricks.v1+cell": {
     "cellMetadata": {
      "byteLimit": 2048000,
      "rowLimit": 10000
     },
     "inputWidgets": {},
     "nuid": "c894366c-2a89-4cab-be10-bcdbae106afe",
     "showTitle": false,
     "tableResultSettingsMap": {},
     "title": ""
    }
   },
   "outputs": [
    {
     "output_type": "stream",
     "name": "stdout",
     "output_type": "stream",
     "text": [
      "Out[321]: [FileInfo(path='dbfs:/FileStore/tables/nested_json.txt', name='nested_json.txt', size=610, modificationTime=1733578814000)]"
     ]
    }
   ],
   "source": [
    "dbutils.fs.ls('dbfs:/FileStore/tables/nested_json.txt')"
   ]
  },
  {
   "cell_type": "code",
   "execution_count": 0,
   "metadata": {
    "application/vnd.databricks.v1+cell": {
     "cellMetadata": {
      "byteLimit": 2048000,
      "rowLimit": 10000
     },
     "inputWidgets": {},
     "nuid": "93704e08-9ab5-43bc-be6f-b356c0ba868a",
     "showTitle": false,
     "tableResultSettingsMap": {},
     "title": ""
    }
   },
   "outputs": [],
   "source": [
    "from pyspark.sql.functions import *\n",
    "from pyspark.sql.types import MapType,StructType,StructField,StringType,IntegerType,ArrayType,DecimalType,BooleanType"
   ]
  },
  {
   "cell_type": "code",
   "execution_count": 0,
   "metadata": {
    "application/vnd.databricks.v1+cell": {
     "cellMetadata": {
      "byteLimit": 2048000,
      "rowLimit": 10000
     },
     "inputWidgets": {},
     "nuid": "ede580df-563c-4132-be3f-a50fff345575",
     "showTitle": false,
     "tableResultSettingsMap": {},
     "title": ""
    }
   },
   "outputs": [],
   "source": [
    "json_schema=StructType([\n",
    "    StructField('id',IntegerType(),True),\n",
    "    StructField('name',StringType(),True),\n",
    "    StructField('address',StructType([\n",
    "        StructField('city',StringType(),True),\n",
    "        StructField('state',StringType(),True)\n",
    "    ])),\n",
    "    StructField('phone_numbers',ArrayType(\n",
    "       StructType([\n",
    "        StructField('type',StringType(),True),\n",
    "        StructField('number',StringType(),True)\n",
    " ] )\n",
    "    ))\n",
    "])"
   ]
  },
  {
   "cell_type": "code",
   "execution_count": 0,
   "metadata": {
    "application/vnd.databricks.v1+cell": {
     "cellMetadata": {
      "byteLimit": 2048000,
      "rowLimit": 10000
     },
     "inputWidgets": {},
     "nuid": "0a63dedb-0366-4724-9975-63f10a3fb677",
     "showTitle": false,
     "tableResultSettingsMap": {},
     "title": ""
    }
   },
   "outputs": [],
   "source": [
    "df_json=(spark.read.format('json').\n",
    "         option('multiline',True).\n",
    "         option('header',True).\n",
    "         option('schema',json_schema).\n",
    "         load('dbfs:/FileStore/tables/nested_json.txt')\n",
    ")"
   ]
  },
  {
   "cell_type": "code",
   "execution_count": 0,
   "metadata": {
    "application/vnd.databricks.v1+cell": {
     "cellMetadata": {
      "byteLimit": 2048000,
      "rowLimit": 10000
     },
     "inputWidgets": {},
     "nuid": "e777c4cb-84b6-478c-b050-2e44b3905a1e",
     "showTitle": false,
     "tableResultSettingsMap": {},
     "title": ""
    }
   },
   "outputs": [
    {
     "output_type": "stream",
     "name": "stdout",
     "output_type": "stream",
     "text": [
      "+-------------------+---+----+--------------------------------------------+\n|address            |id |name|phone_numbers                               |\n+-------------------+---+----+--------------------------------------------+\n|{New York, NY}     |1  |John|[{123-456-7890, home}, {987-654-3210, work}]|\n|{San Francisco, CA}|2  |Jane|[{555-1234, mobile}, {777-4321, work}]      |\n+-------------------+---+----+--------------------------------------------+\n\n"
     ]
    }
   ],
   "source": [
    "df_json.show(truncate=False)"
   ]
  },
  {
   "cell_type": "code",
   "execution_count": 0,
   "metadata": {
    "application/vnd.databricks.v1+cell": {
     "cellMetadata": {
      "byteLimit": 2048000,
      "rowLimit": 10000
     },
     "inputWidgets": {},
     "nuid": "3a0674c9-9d8e-448a-90bc-0ead2c85c3e5",
     "showTitle": false,
     "tableResultSettingsMap": {},
     "title": ""
    }
   },
   "outputs": [
    {
     "output_type": "stream",
     "name": "stdout",
     "output_type": "stream",
     "text": [
      "root\n |-- address: struct (nullable = true)\n |    |-- city: string (nullable = true)\n |    |-- state: string (nullable = true)\n |-- id: long (nullable = true)\n |-- name: string (nullable = true)\n |-- phone_numbers: array (nullable = true)\n |    |-- element: struct (containsNull = true)\n |    |    |-- number: string (nullable = true)\n |    |    |-- type: string (nullable = true)\n\n"
     ]
    }
   ],
   "source": [
    "df_json.printSchema()"
   ]
  },
  {
   "cell_type": "code",
   "execution_count": 0,
   "metadata": {
    "application/vnd.databricks.v1+cell": {
     "cellMetadata": {
      "byteLimit": 2048000,
      "rowLimit": 10000
     },
     "inputWidgets": {},
     "nuid": "de93e4ff-84a3-4b86-91d5-2ca23450c7c4",
     "showTitle": false,
     "tableResultSettingsMap": {},
     "title": ""
    }
   },
   "outputs": [
    {
     "output_type": "stream",
     "name": "stdout",
     "output_type": "stream",
     "text": [
      "+---+----+-------------+-----+--------------------+\n|id |name|city         |state|ph_num              |\n+---+----+-------------+-----+--------------------+\n|1  |John|New York     |NY   |{123-456-7890, home}|\n|1  |John|New York     |NY   |{987-654-3210, work}|\n|2  |Jane|San Francisco|CA   |{555-1234, mobile}  |\n|2  |Jane|San Francisco|CA   |{777-4321, work}    |\n+---+----+-------------+-----+--------------------+\n\n"
     ]
    }
   ],
   "source": [
    "##explode the dataframe\n",
    "df_json=(df_json.withColumn('city',col('address').city)\n",
    "                .withColumn('state',col('address').state)\n",
    "                .withColumn('ph_num',explode(col('phone_numbers')))\n",
    "                .drop('address')\n",
    "                .drop('phone_numbers')\n",
    "            )   \n",
    "\n",
    "df_json.show(truncate=False)                    "
   ]
  },
  {
   "cell_type": "markdown",
   "metadata": {
    "application/vnd.databricks.v1+cell": {
     "cellMetadata": {
      "byteLimit": 2048000,
      "rowLimit": 10000
     },
     "inputWidgets": {},
     "nuid": "1410b162-3866-4f76-ab3e-d1dc470cf2bd",
     "showTitle": false,
     "tableResultSettingsMap": {},
     "title": ""
    }
   },
   "source": [
    "**RDD Map function**\n"
   ]
  },
  {
   "cell_type": "code",
   "execution_count": 0,
   "metadata": {
    "application/vnd.databricks.v1+cell": {
     "cellMetadata": {
      "byteLimit": 2048000,
      "rowLimit": 10000
     },
     "inputWidgets": {},
     "nuid": "aa653ff6-7de4-4268-a45a-e2a24bb85a51",
     "showTitle": false,
     "tableResultSettingsMap": {},
     "title": ""
    }
   },
   "outputs": [
    {
     "output_type": "display_data",
     "data": {
      "text/html": [
       "<style scoped>\n",
       "  .table-result-container {\n",
       "    max-height: 300px;\n",
       "    overflow: auto;\n",
       "  }\n",
       "  table, th, td {\n",
       "    border: 1px solid black;\n",
       "    border-collapse: collapse;\n",
       "  }\n",
       "  th, td {\n",
       "    padding: 5px;\n",
       "  }\n",
       "  th {\n",
       "    text-align: left;\n",
       "  }\n",
       "</style><div class='table-result-container'><table class='table-result'><thead style='background-color: white'><tr><th>EmpId</th><th>EmpName</th><th>Salary</th><th>DeptName</th></tr></thead><tbody><tr><td>1</td><td>Amir Khan</td><td>1000</td><td>IT</td></tr><tr><td>2</td><td>Habul Basar</td><td>1500</td><td>IT</td></tr><tr><td>3</td><td>Climont Flairy</td><td>2500</td><td>IT</td></tr><tr><td>4</td><td>Debasish Ghosh</td><td>3000</td><td>HR</td></tr><tr><td>5</td><td>Emanule Berrera</td><td>2000</td><td>HR</td></tr></tbody></table></div>"
      ]
     },
     "metadata": {
      "application/vnd.databricks.v1+output": {
       "addedWidgets": {},
       "aggData": [],
       "aggError": "",
       "aggOverflow": false,
       "aggSchema": [],
       "aggSeriesLimitReached": false,
       "aggType": "",
       "arguments": {},
       "columnCustomDisplayInfos": {},
       "data": [
        [
         1,
         "Amir Khan",
         1000,
         "IT"
        ],
        [
         2,
         "Habul Basar",
         1500,
         "IT"
        ],
        [
         3,
         "Climont Flairy",
         2500,
         "IT"
        ],
        [
         4,
         "Debasish Ghosh",
         3000,
         "HR"
        ],
        [
         5,
         "Emanule Berrera",
         2000,
         "HR"
        ]
       ],
       "datasetInfos": [],
       "dbfsResultPath": null,
       "isJsonSchema": true,
       "metadata": {},
       "overflow": false,
       "plotOptions": {
        "customPlotOptions": {},
        "displayType": "table",
        "pivotAggregation": null,
        "pivotColumns": null,
        "xColumns": null,
        "yColumns": null
       },
       "removedWidgets": [],
       "schema": [
        {
         "metadata": "{}",
         "name": "EmpId",
         "type": "\"long\""
        },
        {
         "metadata": "{}",
         "name": "EmpName",
         "type": "\"string\""
        },
        {
         "metadata": "{}",
         "name": "Salary",
         "type": "\"long\""
        },
        {
         "metadata": "{}",
         "name": "DeptName",
         "type": "\"string\""
        }
       ],
       "type": "table"
      }
     },
     "output_type": "display_data"
    }
   ],
   "source": [
    "data1=[(1,\"Amir Khan\",1000,\"IT\"),(2,\"Habul Basar\",1500,\"IT\"),(3,\"Climont Flairy\",2500,\"IT\"),(4,\"Debasish Ghosh\",3000,\"HR\"),(5,\"Emanule Berrera\",2000,\"HR\")]\n",
    "schema1=[\"EmpId\",\"EmpName\",\"Salary\",\"DeptName\"]\n",
    "df=spark.createDataFrame(data1,schema1)\n",
    "display(df)"
   ]
  },
  {
   "cell_type": "code",
   "execution_count": 0,
   "metadata": {
    "application/vnd.databricks.v1+cell": {
     "cellMetadata": {
      "byteLimit": 2048000,
      "rowLimit": 10000
     },
     "inputWidgets": {},
     "nuid": "8b2d4949-20ff-498c-8cd7-039ea7d7de90",
     "showTitle": false,
     "tableResultSettingsMap": {},
     "title": ""
    }
   },
   "outputs": [
    {
     "output_type": "stream",
     "name": "stdout",
     "output_type": "stream",
     "text": [
      "Out[329]: [Row(EmpId=1, EmpName='Amir Khan', Salary=1000, DeptName='IT'),\n Row(EmpId=2, EmpName='Habul Basar', Salary=1500, DeptName='IT'),\n Row(EmpId=3, EmpName='Climont Flairy', Salary=2500, DeptName='IT'),\n Row(EmpId=4, EmpName='Debasish Ghosh', Salary=3000, DeptName='HR'),\n Row(EmpId=5, EmpName='Emanule Berrera', Salary=2000, DeptName='HR')]"
     ]
    }
   ],
   "source": [
    "df.rdd.collect()"
   ]
  },
  {
   "cell_type": "code",
   "execution_count": 0,
   "metadata": {
    "application/vnd.databricks.v1+cell": {
     "cellMetadata": {
      "byteLimit": 2048000,
      "rowLimit": 10000
     },
     "inputWidgets": {},
     "nuid": "ea459f7c-4a7c-4656-b347-46f660917b46",
     "showTitle": false,
     "tableResultSettingsMap": {},
     "title": ""
    }
   },
   "outputs": [],
   "source": [
    "# Refering columns by index.\n",
    "rdd_new=(\n",
    "    df.rdd.map(lambda row:(row['EmpId'],row['Salary']*100,row['EmpName'],row['DeptName']))\n",
    ")"
   ]
  },
  {
   "cell_type": "code",
   "execution_count": 0,
   "metadata": {
    "application/vnd.databricks.v1+cell": {
     "cellMetadata": {
      "byteLimit": 2048000,
      "rowLimit": 10000
     },
     "inputWidgets": {},
     "nuid": "301b5739-7600-49b0-b181-a02142f47f88",
     "showTitle": false,
     "tableResultSettingsMap": {},
     "title": ""
    }
   },
   "outputs": [
    {
     "output_type": "stream",
     "name": "stdout",
     "output_type": "stream",
     "text": [
      "Out[331]: [(1, 100000, 'Amir Khan', 'IT'),\n (2, 150000, 'Habul Basar', 'IT'),\n (3, 250000, 'Climont Flairy', 'IT'),\n (4, 300000, 'Debasish Ghosh', 'HR'),\n (5, 200000, 'Emanule Berrera', 'HR')]"
     ]
    }
   ],
   "source": [
    "rdd_new.collect()"
   ]
  },
  {
   "cell_type": "code",
   "execution_count": 0,
   "metadata": {
    "application/vnd.databricks.v1+cell": {
     "cellMetadata": {
      "byteLimit": 2048000,
      "rowLimit": 10000
     },
     "inputWidgets": {},
     "nuid": "c74986ae-bc36-4942-9418-5341e89c5e19",
     "showTitle": false,
     "tableResultSettingsMap": {},
     "title": ""
    }
   },
   "outputs": [
    {
     "output_type": "stream",
     "name": "stdout",
     "output_type": "stream",
     "text": [
      "+-----+------+---------------+--------+\n|EmpId|Salary|           Name|DeptName|\n+-----+------+---------------+--------+\n|    1|100000|      Amir Khan|      IT|\n|    2|150000|    Habul Basar|      IT|\n|    3|250000| Climont Flairy|      IT|\n|    4|300000| Debasish Ghosh|      HR|\n|    5|200000|Emanule Berrera|      HR|\n+-----+------+---------------+--------+\n\n"
     ]
    }
   ],
   "source": [
    "rdd_new.toDF(['EmpId','Salary','Name','DeptName']).show()"
   ]
  },
  {
   "cell_type": "markdown",
   "metadata": {
    "application/vnd.databricks.v1+cell": {
     "cellMetadata": {
      "byteLimit": 2048000,
      "rowLimit": 10000
     },
     "inputWidgets": {},
     "nuid": "f058daa8-bb85-4aa8-9b60-41e8f7c60797",
     "showTitle": false,
     "tableResultSettingsMap": {},
     "title": ""
    }
   },
   "source": [
    "**Window function**"
   ]
  },
  {
   "cell_type": "code",
   "execution_count": 0,
   "metadata": {
    "application/vnd.databricks.v1+cell": {
     "cellMetadata": {
      "byteLimit": 2048000,
      "rowLimit": 10000
     },
     "inputWidgets": {},
     "nuid": "8655814c-6424-401b-ab1b-fb4ed3d68918",
     "showTitle": false,
     "tableResultSettingsMap": {},
     "title": ""
    }
   },
   "outputs": [
    {
     "output_type": "display_data",
     "data": {
      "text/html": [
       "<style scoped>\n",
       "  .table-result-container {\n",
       "    max-height: 300px;\n",
       "    overflow: auto;\n",
       "  }\n",
       "  table, th, td {\n",
       "    border: 1px solid black;\n",
       "    border-collapse: collapse;\n",
       "  }\n",
       "  th, td {\n",
       "    padding: 5px;\n",
       "  }\n",
       "  th {\n",
       "    text-align: left;\n",
       "  }\n",
       "</style><div class='table-result-container'><table class='table-result'><thead style='background-color: white'><tr><th>student_id</th><th>student_name</th><th>dob</th><th>gender</th><th>salary</th><th>course_id</th></tr></thead><tbody><tr><td>10</td><td>Raj</td><td>2001</td><td>M</td><td>30000</td><td>1</td></tr><tr><td>12</td><td>Raja</td><td>2004</td><td>M</td><td>23456</td><td>2</td></tr><tr><td>20</td><td>Ram</td><td>2005</td><td>M</td><td>38000</td><td>null</td></tr><tr><td>10</td><td>Modi</td><td>2015</td><td>M</td><td>30000</td><td>1</td></tr><tr><td>17</td><td>Premi</td><td>1999</td><td>F</td><td>37000</td><td>2</td></tr><tr><td>22</td><td>Jiyush</td><td>2005</td><td>M</td><td>37000</td><td>2</td></tr><tr><td>24</td><td>Deba</td><td>2008</td><td>M</td><td>78000</td><td>3</td></tr><tr><td>34</td><td>Barnali</td><td>2012</td><td>F</td><td>22000</td><td>4</td></tr><tr><td>38</td><td>Kyle</td><td>2115</td><td>M</td><td>2000</td><td>2</td></tr><tr><td>30</td><td>Minakshi</td><td>20012</td><td>F</td><td>7800</td><td>null</td></tr><tr><td>40</td><td>Deb</td><td>2011</td><td>M</td><td>50000</td><td>1</td></tr><tr><td>50</td><td>Sultan</td><td>2018</td><td>M</td><td>10000</td><td>7</td></tr><tr><td>60</td><td>Kumar</td><td>2012</td><td>M</td><td>20000</td><td>null</td></tr><tr><td>23</td><td>Jack</td><td>2010</td><td>M</td><td>100000</td><td>3</td></tr><tr><td>55</td><td>Sayari</td><td>2006</td><td>F</td><td>16000</td><td>4</td></tr></tbody></table></div>"
      ]
     },
     "metadata": {
      "application/vnd.databricks.v1+output": {
       "addedWidgets": {},
       "aggData": [],
       "aggError": "",
       "aggOverflow": false,
       "aggSchema": [],
       "aggSeriesLimitReached": false,
       "aggType": "",
       "arguments": {},
       "columnCustomDisplayInfos": {},
       "data": [
        [
         10,
         "Raj",
         2001,
         "M",
         30000,
         "1"
        ],
        [
         12,
         "Raja",
         2004,
         "M",
         23456,
         "2"
        ],
        [
         20,
         "Ram",
         2005,
         "M",
         38000,
         null
        ],
        [
         10,
         "Modi",
         2015,
         "M",
         30000,
         "1"
        ],
        [
         17,
         "Premi",
         1999,
         "F",
         37000,
         "2"
        ],
        [
         22,
         "Jiyush",
         2005,
         "M",
         37000,
         "2"
        ],
        [
         24,
         "Deba",
         2008,
         "M",
         78000,
         "3"
        ],
        [
         34,
         "Barnali",
         2012,
         "F",
         22000,
         "4"
        ],
        [
         38,
         "Kyle",
         2115,
         "M",
         2000,
         "2"
        ],
        [
         30,
         "Minakshi",
         20012,
         "F",
         7800,
         null
        ],
        [
         40,
         "Deb",
         2011,
         "M",
         50000,
         "1"
        ],
        [
         50,
         "Sultan",
         2018,
         "M",
         10000,
         "7"
        ],
        [
         60,
         "Kumar",
         2012,
         "M",
         20000,
         null
        ],
        [
         23,
         "Jack",
         2010,
         "M",
         100000,
         "3"
        ],
        [
         55,
         "Sayari",
         2006,
         "F",
         16000,
         "4"
        ]
       ],
       "datasetInfos": [],
       "dbfsResultPath": null,
       "isJsonSchema": true,
       "metadata": {},
       "overflow": false,
       "plotOptions": {
        "customPlotOptions": {},
        "displayType": "table",
        "pivotAggregation": null,
        "pivotColumns": null,
        "xColumns": null,
        "yColumns": null
       },
       "removedWidgets": [],
       "schema": [
        {
         "metadata": "{}",
         "name": "student_id",
         "type": "\"integer\""
        },
        {
         "metadata": "{}",
         "name": "student_name",
         "type": "\"string\""
        },
        {
         "metadata": "{}",
         "name": "dob",
         "type": "\"integer\""
        },
        {
         "metadata": "{}",
         "name": "gender",
         "type": "\"string\""
        },
        {
         "metadata": "{}",
         "name": "salary",
         "type": "\"integer\""
        },
        {
         "metadata": "{}",
         "name": "course_id",
         "type": "\"string\""
        }
       ],
       "type": "table"
      }
     },
     "output_type": "display_data"
    }
   ],
   "source": [
    "student_data=[(10,\"Raj\",2001,\"M\",30000,\"1\"),\n",
    "              (12,\"Raja\",2004,\"M\",23456,\"2\"),\n",
    "              (20,\"Ram\",2005,\"M\",38000,None),\n",
    "                (10,\"Modi\",2015,\"M\",30000,\"1\"),\n",
    "                (17,\"Premi\",1999,\"F\",37000,\"2\"),\n",
    "                (22,\"Jiyush\",2005,\"M\",37000,\"2\"),\n",
    "                (24,\"Deba\",2008,\"M\",78000,\"3\"),\n",
    "                (34,\"Barnali\",2012,\"F\",22000,\"4\"),\n",
    "                (38,\"Kyle\",2115,\"M\",2000,\"2\"),\n",
    "                (30,\"Minakshi\",20012,\"F\",7800,None),\n",
    "                (40,\"Deb\",2011,\"M\",50000,\"1\"),\n",
    "                (50,\"Sultan\",2018,\"M\",10000,\"7\"),\n",
    "                (60,\"Kumar\",2012,\"M\",20000,None),\n",
    "                (23,\"Jack\",2010,\"M\",100000,\"3\"),\n",
    "                (55,\"Sayari\",2006,\"F\",16000,\"4\")  \n",
    "]\n",
    "\n",
    "student_schema=StructType(fields=[StructField(\"student_id\",IntegerType(),False),\n",
    "                                  StructField(\"student_name\",StringType(),False),\n",
    "                                  StructField(\"dob\",IntegerType(),False),\n",
    "                                  StructField(\"gender\",StringType(),False),\n",
    "                                  StructField(\"salary\",IntegerType(),False),\n",
    "                                  StructField(\"course_id\",StringType(),True)\n",
    "\n",
    "])\n",
    "\n",
    "stud_df=spark.createDataFrame(data=student_data,schema=student_schema)\n",
    "display(stud_df)"
   ]
  },
  {
   "cell_type": "code",
   "execution_count": 0,
   "metadata": {
    "application/vnd.databricks.v1+cell": {
     "cellMetadata": {
      "byteLimit": 2048000,
      "rowLimit": 10000
     },
     "inputWidgets": {},
     "nuid": "97271561-b66c-4590-8bcd-5dbe626987dc",
     "showTitle": false,
     "tableResultSettingsMap": {},
     "title": ""
    }
   },
   "outputs": [
    {
     "output_type": "stream",
     "name": "stdout",
     "output_type": "stream",
     "text": [
      "Out[334]: 8"
     ]
    }
   ],
   "source": [
    "stud_df.rdd.getNumPartitions()"
   ]
  },
  {
   "cell_type": "code",
   "execution_count": 0,
   "metadata": {
    "application/vnd.databricks.v1+cell": {
     "cellMetadata": {
      "byteLimit": 2048000,
      "rowLimit": 10000
     },
     "inputWidgets": {},
     "nuid": "dfd23a43-0a1d-48c8-bd24-ec13ad187b6d",
     "showTitle": false,
     "tableResultSettingsMap": {},
     "title": ""
    }
   },
   "outputs": [
    {
     "output_type": "display_data",
     "data": {
      "text/html": [
       "<style scoped>\n",
       "  .table-result-container {\n",
       "    max-height: 300px;\n",
       "    overflow: auto;\n",
       "  }\n",
       "  table, th, td {\n",
       "    border: 1px solid black;\n",
       "    border-collapse: collapse;\n",
       "  }\n",
       "  th, td {\n",
       "    padding: 5px;\n",
       "  }\n",
       "  th {\n",
       "    text-align: left;\n",
       "  }\n",
       "</style><div class='table-result-container'><table class='table-result'><thead style='background-color: white'><tr><th>partition_id</th><th>count</th></tr></thead><tbody><tr><td>0</td><td>1</td></tr><tr><td>1</td><td>2</td></tr><tr><td>2</td><td>2</td></tr><tr><td>3</td><td>2</td></tr><tr><td>4</td><td>2</td></tr><tr><td>5</td><td>2</td></tr><tr><td>6</td><td>2</td></tr><tr><td>7</td><td>2</td></tr></tbody></table></div>"
      ]
     },
     "metadata": {
      "application/vnd.databricks.v1+output": {
       "addedWidgets": {},
       "aggData": [],
       "aggError": "",
       "aggOverflow": false,
       "aggSchema": [],
       "aggSeriesLimitReached": false,
       "aggType": "",
       "arguments": {},
       "columnCustomDisplayInfos": {},
       "data": [
        [
         0,
         1
        ],
        [
         1,
         2
        ],
        [
         2,
         2
        ],
        [
         3,
         2
        ],
        [
         4,
         2
        ],
        [
         5,
         2
        ],
        [
         6,
         2
        ],
        [
         7,
         2
        ]
       ],
       "datasetInfos": [],
       "dbfsResultPath": null,
       "isJsonSchema": true,
       "metadata": {},
       "overflow": false,
       "plotOptions": {
        "customPlotOptions": {},
        "displayType": "table",
        "pivotAggregation": null,
        "pivotColumns": null,
        "xColumns": null,
        "yColumns": null
       },
       "removedWidgets": [],
       "schema": [
        {
         "metadata": "{}",
         "name": "partition_id",
         "type": "\"integer\""
        },
        {
         "metadata": "{}",
         "name": "count",
         "type": "\"long\""
        }
       ],
       "type": "table"
      }
     },
     "output_type": "display_data"
    }
   ],
   "source": [
    "from pyspark.sql.functions import spark_partition_id\n",
    "\n",
    "display(stud_df.withColumn('partition_id',spark_partition_id()).groupBy('partition_id').count())"
   ]
  },
  {
   "cell_type": "code",
   "execution_count": 0,
   "metadata": {
    "application/vnd.databricks.v1+cell": {
     "cellMetadata": {
      "byteLimit": 2048000,
      "rowLimit": 10000
     },
     "inputWidgets": {},
     "nuid": "ca063712-d4f2-4b26-b237-d42917f9a6a5",
     "showTitle": false,
     "tableResultSettingsMap": {},
     "title": ""
    }
   },
   "outputs": [],
   "source": [
    "stud_df=stud_df.repartition(3)"
   ]
  },
  {
   "cell_type": "code",
   "execution_count": 0,
   "metadata": {
    "application/vnd.databricks.v1+cell": {
     "cellMetadata": {
      "byteLimit": 2048000,
      "rowLimit": 10000
     },
     "inputWidgets": {},
     "nuid": "0d4fb905-4c4e-4536-92d0-c5f592af39fa",
     "showTitle": false,
     "tableResultSettingsMap": {},
     "title": ""
    }
   },
   "outputs": [
    {
     "output_type": "stream",
     "name": "stdout",
     "output_type": "stream",
     "text": [
      "Out[337]: 3"
     ]
    }
   ],
   "source": [
    "stud_df.rdd.getNumPartitions()"
   ]
  },
  {
   "cell_type": "code",
   "execution_count": 0,
   "metadata": {
    "application/vnd.databricks.v1+cell": {
     "cellMetadata": {
      "byteLimit": 2048000,
      "rowLimit": 10000
     },
     "inputWidgets": {},
     "nuid": "9c05fba3-5338-4dea-8f11-4ee49397baba",
     "showTitle": false,
     "tableResultSettingsMap": {},
     "title": ""
    }
   },
   "outputs": [
    {
     "output_type": "display_data",
     "data": {
      "text/html": [
       "<style scoped>\n",
       "  .table-result-container {\n",
       "    max-height: 300px;\n",
       "    overflow: auto;\n",
       "  }\n",
       "  table, th, td {\n",
       "    border: 1px solid black;\n",
       "    border-collapse: collapse;\n",
       "  }\n",
       "  th, td {\n",
       "    padding: 5px;\n",
       "  }\n",
       "  th {\n",
       "    text-align: left;\n",
       "  }\n",
       "</style><div class='table-result-container'><table class='table-result'><thead style='background-color: white'><tr><th>partition_id</th><th>count</th></tr></thead><tbody><tr><td>0</td><td>7</td></tr><tr><td>1</td><td>3</td></tr><tr><td>2</td><td>5</td></tr></tbody></table></div>"
      ]
     },
     "metadata": {
      "application/vnd.databricks.v1+output": {
       "addedWidgets": {},
       "aggData": [],
       "aggError": "",
       "aggOverflow": false,
       "aggSchema": [],
       "aggSeriesLimitReached": false,
       "aggType": "",
       "arguments": {},
       "columnCustomDisplayInfos": {},
       "data": [
        [
         0,
         7
        ],
        [
         1,
         3
        ],
        [
         2,
         5
        ]
       ],
       "datasetInfos": [],
       "dbfsResultPath": null,
       "isJsonSchema": true,
       "metadata": {},
       "overflow": false,
       "plotOptions": {
        "customPlotOptions": {},
        "displayType": "table",
        "pivotAggregation": null,
        "pivotColumns": null,
        "xColumns": null,
        "yColumns": null
       },
       "removedWidgets": [],
       "schema": [
        {
         "metadata": "{}",
         "name": "partition_id",
         "type": "\"integer\""
        },
        {
         "metadata": "{}",
         "name": "count",
         "type": "\"long\""
        }
       ],
       "type": "table"
      }
     },
     "output_type": "display_data"
    }
   ],
   "source": [
    "display(stud_df.withColumn('partition_id',spark_partition_id()).groupBy('partition_id').count())"
   ]
  },
  {
   "cell_type": "code",
   "execution_count": 0,
   "metadata": {
    "application/vnd.databricks.v1+cell": {
     "cellMetadata": {
      "byteLimit": 2048000,
      "rowLimit": 10000
     },
     "inputWidgets": {},
     "nuid": "56fd22f9-2a9d-4c12-bd51-09b9358b7b7f",
     "showTitle": false,
     "tableResultSettingsMap": {},
     "title": ""
    }
   },
   "outputs": [
    {
     "output_type": "display_data",
     "data": {
      "text/html": [
       "<style scoped>\n",
       "  .table-result-container {\n",
       "    max-height: 300px;\n",
       "    overflow: auto;\n",
       "  }\n",
       "  table, th, td {\n",
       "    border: 1px solid black;\n",
       "    border-collapse: collapse;\n",
       "  }\n",
       "  th, td {\n",
       "    padding: 5px;\n",
       "  }\n",
       "  th {\n",
       "    text-align: left;\n",
       "  }\n",
       "</style><div class='table-result-container'><table class='table-result'><thead style='background-color: white'><tr><th>student_id</th><th>student_name</th><th>dob</th><th>gender</th><th>salary</th><th>course_id</th><th>rank</th><th>drank</th></tr></thead><tbody><tr><td>30</td><td>Minakshi</td><td>20012</td><td>F</td><td>7800</td><td>null</td><td>1</td><td>1</td></tr><tr><td>55</td><td>Sayari</td><td>2006</td><td>F</td><td>16000</td><td>4</td><td>2</td><td>2</td></tr><tr><td>34</td><td>Barnali</td><td>2012</td><td>F</td><td>22000</td><td>4</td><td>3</td><td>3</td></tr><tr><td>17</td><td>Premi</td><td>1999</td><td>F</td><td>37000</td><td>2</td><td>4</td><td>4</td></tr><tr><td>38</td><td>Kyle</td><td>2115</td><td>M</td><td>2000</td><td>2</td><td>1</td><td>1</td></tr><tr><td>50</td><td>Sultan</td><td>2018</td><td>M</td><td>10000</td><td>7</td><td>2</td><td>2</td></tr><tr><td>60</td><td>Kumar</td><td>2012</td><td>M</td><td>20000</td><td>null</td><td>3</td><td>3</td></tr><tr><td>12</td><td>Raja</td><td>2004</td><td>M</td><td>23456</td><td>2</td><td>4</td><td>4</td></tr><tr><td>10</td><td>Raj</td><td>2001</td><td>M</td><td>30000</td><td>1</td><td>5</td><td>5</td></tr><tr><td>10</td><td>Modi</td><td>2015</td><td>M</td><td>30000</td><td>1</td><td>5</td><td>5</td></tr><tr><td>22</td><td>Jiyush</td><td>2005</td><td>M</td><td>37000</td><td>2</td><td>7</td><td>6</td></tr><tr><td>20</td><td>Ram</td><td>2005</td><td>M</td><td>38000</td><td>null</td><td>8</td><td>7</td></tr><tr><td>40</td><td>Deb</td><td>2011</td><td>M</td><td>50000</td><td>1</td><td>9</td><td>8</td></tr><tr><td>24</td><td>Deba</td><td>2008</td><td>M</td><td>78000</td><td>3</td><td>10</td><td>9</td></tr><tr><td>23</td><td>Jack</td><td>2010</td><td>M</td><td>100000</td><td>3</td><td>11</td><td>10</td></tr></tbody></table></div>"
      ]
     },
     "metadata": {
      "application/vnd.databricks.v1+output": {
       "addedWidgets": {},
       "aggData": [],
       "aggError": "",
       "aggOverflow": false,
       "aggSchema": [],
       "aggSeriesLimitReached": false,
       "aggType": "",
       "arguments": {},
       "columnCustomDisplayInfos": {},
       "data": [
        [
         30,
         "Minakshi",
         20012,
         "F",
         7800,
         null,
         1,
         1
        ],
        [
         55,
         "Sayari",
         2006,
         "F",
         16000,
         "4",
         2,
         2
        ],
        [
         34,
         "Barnali",
         2012,
         "F",
         22000,
         "4",
         3,
         3
        ],
        [
         17,
         "Premi",
         1999,
         "F",
         37000,
         "2",
         4,
         4
        ],
        [
         38,
         "Kyle",
         2115,
         "M",
         2000,
         "2",
         1,
         1
        ],
        [
         50,
         "Sultan",
         2018,
         "M",
         10000,
         "7",
         2,
         2
        ],
        [
         60,
         "Kumar",
         2012,
         "M",
         20000,
         null,
         3,
         3
        ],
        [
         12,
         "Raja",
         2004,
         "M",
         23456,
         "2",
         4,
         4
        ],
        [
         10,
         "Raj",
         2001,
         "M",
         30000,
         "1",
         5,
         5
        ],
        [
         10,
         "Modi",
         2015,
         "M",
         30000,
         "1",
         5,
         5
        ],
        [
         22,
         "Jiyush",
         2005,
         "M",
         37000,
         "2",
         7,
         6
        ],
        [
         20,
         "Ram",
         2005,
         "M",
         38000,
         null,
         8,
         7
        ],
        [
         40,
         "Deb",
         2011,
         "M",
         50000,
         "1",
         9,
         8
        ],
        [
         24,
         "Deba",
         2008,
         "M",
         78000,
         "3",
         10,
         9
        ],
        [
         23,
         "Jack",
         2010,
         "M",
         100000,
         "3",
         11,
         10
        ]
       ],
       "datasetInfos": [],
       "dbfsResultPath": null,
       "isJsonSchema": true,
       "metadata": {},
       "overflow": false,
       "plotOptions": {
        "customPlotOptions": {},
        "displayType": "table",
        "pivotAggregation": null,
        "pivotColumns": null,
        "xColumns": null,
        "yColumns": null
       },
       "removedWidgets": [],
       "schema": [
        {
         "metadata": "{}",
         "name": "student_id",
         "type": "\"integer\""
        },
        {
         "metadata": "{}",
         "name": "student_name",
         "type": "\"string\""
        },
        {
         "metadata": "{}",
         "name": "dob",
         "type": "\"integer\""
        },
        {
         "metadata": "{}",
         "name": "gender",
         "type": "\"string\""
        },
        {
         "metadata": "{}",
         "name": "salary",
         "type": "\"integer\""
        },
        {
         "metadata": "{}",
         "name": "course_id",
         "type": "\"string\""
        },
        {
         "metadata": "{}",
         "name": "rank",
         "type": "\"integer\""
        },
        {
         "metadata": "{}",
         "name": "drank",
         "type": "\"integer\""
        }
       ],
       "type": "table"
      }
     },
     "output_type": "display_data"
    }
   ],
   "source": [
    "from pyspark.sql.window import Window\n",
    "from pyspark.sql.functions import rank,dense_rank,lead,lag\n",
    "\n",
    "window_spec=Window.partitionBy('gender').orderBy('salary')\n",
    "display(stud_df.withColumn('rank',rank().over(window_spec)).withColumn('drank',dense_rank().over(window_spec)))"
   ]
  },
  {
   "cell_type": "code",
   "execution_count": 0,
   "metadata": {
    "application/vnd.databricks.v1+cell": {
     "cellMetadata": {
      "byteLimit": 2048000,
      "rowLimit": 10000
     },
     "inputWidgets": {},
     "nuid": "5d0badda-bf2b-4d61-b74f-9997558948cb",
     "showTitle": false,
     "tableResultSettingsMap": {},
     "title": ""
    }
   },
   "outputs": [],
   "source": [
    "from decimal import Decimal\n",
    "\n",
    "df_schema = StructType([\n",
    "    StructField('sno', IntegerType(), False),\n",
    "    StructField('name', StringType(), False),\n",
    "    StructField('deptid', IntegerType(), False),\n",
    "    StructField('year', IntegerType(), False),\n",
    "    StructField('salary', DecimalType(), False),\n",
    "])\n",
    "\n",
    "df_data = [\n",
    "    (1, 'Patrick', 10, 2015, Decimal(1000.00)),(1, 'Patrick', 10, 2016, Decimal(2000.30)),(1, 'Patrick', 10, 2017, Decimal(2500.00)),(1, 'Patrick', 10, 2018, Decimal(5000.00)),    (2, 'Lisbon', 20, 2015, Decimal(500.00)),(2, 'Lisbon', 20, 2016, Decimal(1000.44)),(2, 'Lisbon', 20, 2017, Decimal(1700.99)),(2, 'Lisbon', 20, 2018, Decimal(5000.00)),    (3, 'Grace', 30, 2015, Decimal(1000.00)),(3, 'Grace', 30, 2016, Decimal(1000.00)),(3, 'Grace', 30, 2017, Decimal(2000.00)),(3, 'Grace', 30, 2018, Decimal(3000.56)),\n",
    "    (4, 'Rigsby', 40, 2015, Decimal(1000.00)),(4, 'Rigsby', 40, 2016, Decimal(1500.00)),(4, 'Rigsby', 40, 2017, Decimal(2000.00)),(4, 'Rigsby', 40, 2018, Decimal(2000.00)),    (5, 'Cho', 10, 2015, Decimal(1000.00)),(5, 'Cho', 10, 2016, Decimal(1500.00)),(5, 'Cho', 10, 2017, Decimal(3000.00)),(5, 'Cho', 10, 2018, Decimal(3100.88))\n",
    "]"
   ]
  },
  {
   "cell_type": "code",
   "execution_count": 0,
   "metadata": {
    "application/vnd.databricks.v1+cell": {
     "cellMetadata": {
      "byteLimit": 2048000,
      "rowLimit": 10000
     },
     "inputWidgets": {},
     "nuid": "65b77a79-88ef-479d-9717-c2e81d6798d7",
     "showTitle": false,
     "tableResultSettingsMap": {},
     "title": ""
    }
   },
   "outputs": [
    {
     "output_type": "stream",
     "name": "stdout",
     "output_type": "stream",
     "text": [
      "+---+-------+------+----+------+\n|sno|name   |deptid|year|salary|\n+---+-------+------+----+------+\n|1  |Patrick|10    |2015|1000  |\n|1  |Patrick|10    |2016|2000  |\n|1  |Patrick|10    |2017|2500  |\n|1  |Patrick|10    |2018|5000  |\n|2  |Lisbon |20    |2015|500   |\n|2  |Lisbon |20    |2016|1000  |\n|2  |Lisbon |20    |2017|1701  |\n|2  |Lisbon |20    |2018|5000  |\n|3  |Grace  |30    |2015|1000  |\n|3  |Grace  |30    |2016|1000  |\n|3  |Grace  |30    |2017|2000  |\n|3  |Grace  |30    |2018|3001  |\n|4  |Rigsby |40    |2015|1000  |\n|4  |Rigsby |40    |2016|1500  |\n|4  |Rigsby |40    |2017|2000  |\n|4  |Rigsby |40    |2018|2000  |\n|5  |Cho    |10    |2015|1000  |\n|5  |Cho    |10    |2016|1500  |\n|5  |Cho    |10    |2017|3000  |\n|5  |Cho    |10    |2018|3101  |\n+---+-------+------+----+------+\n\n"
     ]
    }
   ],
   "source": [
    "spark_df = spark.createDataFrame(data = df_data, schema = df_schema)\n",
    "#show the dataframe\n",
    "spark_df.show(truncate=False)"
   ]
  },
  {
   "cell_type": "code",
   "execution_count": 0,
   "metadata": {
    "application/vnd.databricks.v1+cell": {
     "cellMetadata": {
      "byteLimit": 2048000,
      "rowLimit": 10000
     },
     "inputWidgets": {},
     "nuid": "0bece670-00fb-4bfa-8d09-be2068e14a06",
     "showTitle": false,
     "tableResultSettingsMap": {},
     "title": ""
    }
   },
   "outputs": [
    {
     "output_type": "display_data",
     "data": {
      "text/html": [
       "<style scoped>\n",
       "  .table-result-container {\n",
       "    max-height: 300px;\n",
       "    overflow: auto;\n",
       "  }\n",
       "  table, th, td {\n",
       "    border: 1px solid black;\n",
       "    border-collapse: collapse;\n",
       "  }\n",
       "  th, td {\n",
       "    padding: 5px;\n",
       "  }\n",
       "  th {\n",
       "    text-align: left;\n",
       "  }\n",
       "</style><div class='table-result-container'><table class='table-result'><thead style='background-color: white'><tr><th>sno</th><th>name</th><th>deptid</th><th>year</th><th>salary</th><th>prev_yr_sal</th><th>increment</th></tr></thead><tbody><tr><td>1</td><td>Patrick</td><td>10</td><td>2015</td><td>1000</td><td>0</td><td>1000</td></tr><tr><td>1</td><td>Patrick</td><td>10</td><td>2016</td><td>2000</td><td>1000</td><td>1000</td></tr><tr><td>1</td><td>Patrick</td><td>10</td><td>2017</td><td>2500</td><td>2000</td><td>500</td></tr><tr><td>1</td><td>Patrick</td><td>10</td><td>2018</td><td>5000</td><td>2500</td><td>2500</td></tr><tr><td>2</td><td>Lisbon</td><td>20</td><td>2015</td><td>500</td><td>0</td><td>500</td></tr><tr><td>2</td><td>Lisbon</td><td>20</td><td>2016</td><td>1000</td><td>500</td><td>500</td></tr><tr><td>2</td><td>Lisbon</td><td>20</td><td>2017</td><td>1701</td><td>1000</td><td>701</td></tr><tr><td>2</td><td>Lisbon</td><td>20</td><td>2018</td><td>5000</td><td>1701</td><td>3299</td></tr><tr><td>3</td><td>Grace</td><td>30</td><td>2015</td><td>1000</td><td>0</td><td>1000</td></tr><tr><td>3</td><td>Grace</td><td>30</td><td>2016</td><td>1000</td><td>1000</td><td>0</td></tr><tr><td>3</td><td>Grace</td><td>30</td><td>2017</td><td>2000</td><td>1000</td><td>1000</td></tr><tr><td>3</td><td>Grace</td><td>30</td><td>2018</td><td>3001</td><td>2000</td><td>1001</td></tr><tr><td>4</td><td>Rigsby</td><td>40</td><td>2015</td><td>1000</td><td>0</td><td>1000</td></tr><tr><td>4</td><td>Rigsby</td><td>40</td><td>2016</td><td>1500</td><td>1000</td><td>500</td></tr><tr><td>4</td><td>Rigsby</td><td>40</td><td>2017</td><td>2000</td><td>1500</td><td>500</td></tr><tr><td>4</td><td>Rigsby</td><td>40</td><td>2018</td><td>2000</td><td>2000</td><td>0</td></tr><tr><td>5</td><td>Cho</td><td>10</td><td>2015</td><td>1000</td><td>0</td><td>1000</td></tr><tr><td>5</td><td>Cho</td><td>10</td><td>2016</td><td>1500</td><td>1000</td><td>500</td></tr><tr><td>5</td><td>Cho</td><td>10</td><td>2017</td><td>3000</td><td>1500</td><td>1500</td></tr><tr><td>5</td><td>Cho</td><td>10</td><td>2018</td><td>3101</td><td>3000</td><td>101</td></tr></tbody></table></div>"
      ]
     },
     "metadata": {
      "application/vnd.databricks.v1+output": {
       "addedWidgets": {},
       "aggData": [],
       "aggError": "",
       "aggOverflow": false,
       "aggSchema": [],
       "aggSeriesLimitReached": false,
       "aggType": "",
       "arguments": {},
       "columnCustomDisplayInfos": {},
       "data": [
        [
         1,
         "Patrick",
         10,
         2015,
         "1000",
         "0",
         "1000"
        ],
        [
         1,
         "Patrick",
         10,
         2016,
         "2000",
         "1000",
         "1000"
        ],
        [
         1,
         "Patrick",
         10,
         2017,
         "2500",
         "2000",
         "500"
        ],
        [
         1,
         "Patrick",
         10,
         2018,
         "5000",
         "2500",
         "2500"
        ],
        [
         2,
         "Lisbon",
         20,
         2015,
         "500",
         "0",
         "500"
        ],
        [
         2,
         "Lisbon",
         20,
         2016,
         "1000",
         "500",
         "500"
        ],
        [
         2,
         "Lisbon",
         20,
         2017,
         "1701",
         "1000",
         "701"
        ],
        [
         2,
         "Lisbon",
         20,
         2018,
         "5000",
         "1701",
         "3299"
        ],
        [
         3,
         "Grace",
         30,
         2015,
         "1000",
         "0",
         "1000"
        ],
        [
         3,
         "Grace",
         30,
         2016,
         "1000",
         "1000",
         "0"
        ],
        [
         3,
         "Grace",
         30,
         2017,
         "2000",
         "1000",
         "1000"
        ],
        [
         3,
         "Grace",
         30,
         2018,
         "3001",
         "2000",
         "1001"
        ],
        [
         4,
         "Rigsby",
         40,
         2015,
         "1000",
         "0",
         "1000"
        ],
        [
         4,
         "Rigsby",
         40,
         2016,
         "1500",
         "1000",
         "500"
        ],
        [
         4,
         "Rigsby",
         40,
         2017,
         "2000",
         "1500",
         "500"
        ],
        [
         4,
         "Rigsby",
         40,
         2018,
         "2000",
         "2000",
         "0"
        ],
        [
         5,
         "Cho",
         10,
         2015,
         "1000",
         "0",
         "1000"
        ],
        [
         5,
         "Cho",
         10,
         2016,
         "1500",
         "1000",
         "500"
        ],
        [
         5,
         "Cho",
         10,
         2017,
         "3000",
         "1500",
         "1500"
        ],
        [
         5,
         "Cho",
         10,
         2018,
         "3101",
         "3000",
         "101"
        ]
       ],
       "datasetInfos": [],
       "dbfsResultPath": null,
       "isJsonSchema": true,
       "metadata": {},
       "overflow": false,
       "plotOptions": {
        "customPlotOptions": {},
        "displayType": "table",
        "pivotAggregation": null,
        "pivotColumns": null,
        "xColumns": null,
        "yColumns": null
       },
       "removedWidgets": [],
       "schema": [
        {
         "metadata": "{}",
         "name": "sno",
         "type": "\"integer\""
        },
        {
         "metadata": "{}",
         "name": "name",
         "type": "\"string\""
        },
        {
         "metadata": "{}",
         "name": "deptid",
         "type": "\"integer\""
        },
        {
         "metadata": "{}",
         "name": "year",
         "type": "\"integer\""
        },
        {
         "metadata": "{}",
         "name": "salary",
         "type": "\"decimal(10,0)\""
        },
        {
         "metadata": "{}",
         "name": "prev_yr_sal",
         "type": "\"decimal(10,0)\""
        },
        {
         "metadata": "{}",
         "name": "increment",
         "type": "\"decimal(11,0)\""
        }
       ],
       "type": "table"
      }
     },
     "output_type": "display_data"
    }
   ],
   "source": [
    "##create dataframe with previous year salary and salary imcrement\n",
    "\n",
    "wsp=Window.partitionBy('sno','name','deptid').orderBy('year')\n",
    "display(spark_df.withColumn('prev_yr_sal',lag('salary',1,0).over(wsp)).\\\n",
    "    withColumn('increment',(col('salary')-col('prev_yr_sal')))\n",
    ")"
   ]
  },
  {
   "cell_type": "code",
   "execution_count": 0,
   "metadata": {
    "application/vnd.databricks.v1+cell": {
     "cellMetadata": {
      "byteLimit": 2048000,
      "rowLimit": 10000
     },
     "inputWidgets": {},
     "nuid": "9fbfa609-8054-473f-9425-aca1aba5a73d",
     "showTitle": false,
     "tableResultSettingsMap": {},
     "title": ""
    }
   },
   "outputs": [
    {
     "output_type": "stream",
     "name": "stdout",
     "output_type": "stream",
     "text": [
      "+---+-------+------+----+------+\n|sno|   name|deptid|year|salary|\n+---+-------+------+----+------+\n|  1|Patrick|    10|2015|  1000|\n|  1|Patrick|    10|2016|  2000|\n|  1|Patrick|    10|2017|  2500|\n+---+-------+------+----+------+\nonly showing top 3 rows\n\n"
     ]
    }
   ],
   "source": [
    "spark_df.show(3)"
   ]
  },
  {
   "cell_type": "code",
   "execution_count": 0,
   "metadata": {
    "application/vnd.databricks.v1+cell": {
     "cellMetadata": {
      "byteLimit": 2048000,
      "rowLimit": 10000
     },
     "inputWidgets": {},
     "nuid": "2a8d502a-3d0a-44b9-b7ef-b216273d6ebc",
     "showTitle": false,
     "tableResultSettingsMap": {},
     "title": ""
    }
   },
   "outputs": [],
   "source": [
    "## sql lead/lag window function\n",
    "tempview=spark_df.createOrReplaceTempView('empviewtable')\n",
    "#spark.sql('select * from empviewtable')"
   ]
  },
  {
   "cell_type": "code",
   "execution_count": 0,
   "metadata": {
    "application/vnd.databricks.v1+cell": {
     "cellMetadata": {
      "byteLimit": 2048000,
      "implicitDf": true,
      "rowLimit": 10000
     },
     "inputWidgets": {},
     "nuid": "0ac2b184-1eda-453e-9e5c-b977bcc718cc",
     "showTitle": false,
     "tableResultSettingsMap": {},
     "title": ""
    }
   },
   "outputs": [
    {
     "output_type": "display_data",
     "data": {
      "text/html": [
       "<style scoped>\n",
       "  .table-result-container {\n",
       "    max-height: 300px;\n",
       "    overflow: auto;\n",
       "  }\n",
       "  table, th, td {\n",
       "    border: 1px solid black;\n",
       "    border-collapse: collapse;\n",
       "  }\n",
       "  th, td {\n",
       "    padding: 5px;\n",
       "  }\n",
       "  th {\n",
       "    text-align: left;\n",
       "  }\n",
       "</style><div class='table-result-container'><table class='table-result'><thead style='background-color: white'><tr><th>sno</th><th>name</th><th>deptid</th><th>year</th><th>salary</th><th>nextyrsal</th></tr></thead><tbody><tr><td>1</td><td>Patrick</td><td>10</td><td>2015</td><td>1000</td><td>2000</td></tr><tr><td>1</td><td>Patrick</td><td>10</td><td>2016</td><td>2000</td><td>2500</td></tr><tr><td>1</td><td>Patrick</td><td>10</td><td>2017</td><td>2500</td><td>5000</td></tr><tr><td>1</td><td>Patrick</td><td>10</td><td>2018</td><td>5000</td><td>0</td></tr><tr><td>2</td><td>Lisbon</td><td>20</td><td>2015</td><td>500</td><td>1000</td></tr><tr><td>2</td><td>Lisbon</td><td>20</td><td>2016</td><td>1000</td><td>1701</td></tr><tr><td>2</td><td>Lisbon</td><td>20</td><td>2017</td><td>1701</td><td>5000</td></tr><tr><td>2</td><td>Lisbon</td><td>20</td><td>2018</td><td>5000</td><td>0</td></tr><tr><td>3</td><td>Grace</td><td>30</td><td>2015</td><td>1000</td><td>1000</td></tr><tr><td>3</td><td>Grace</td><td>30</td><td>2016</td><td>1000</td><td>2000</td></tr><tr><td>3</td><td>Grace</td><td>30</td><td>2017</td><td>2000</td><td>3001</td></tr><tr><td>3</td><td>Grace</td><td>30</td><td>2018</td><td>3001</td><td>0</td></tr><tr><td>4</td><td>Rigsby</td><td>40</td><td>2015</td><td>1000</td><td>1500</td></tr><tr><td>4</td><td>Rigsby</td><td>40</td><td>2016</td><td>1500</td><td>2000</td></tr><tr><td>4</td><td>Rigsby</td><td>40</td><td>2017</td><td>2000</td><td>2000</td></tr><tr><td>4</td><td>Rigsby</td><td>40</td><td>2018</td><td>2000</td><td>0</td></tr><tr><td>5</td><td>Cho</td><td>10</td><td>2015</td><td>1000</td><td>1500</td></tr><tr><td>5</td><td>Cho</td><td>10</td><td>2016</td><td>1500</td><td>3000</td></tr><tr><td>5</td><td>Cho</td><td>10</td><td>2017</td><td>3000</td><td>3101</td></tr><tr><td>5</td><td>Cho</td><td>10</td><td>2018</td><td>3101</td><td>0</td></tr></tbody></table></div>"
      ]
     },
     "metadata": {
      "application/vnd.databricks.v1+output": {
       "addedWidgets": {},
       "aggData": [],
       "aggError": "",
       "aggOverflow": false,
       "aggSchema": [],
       "aggSeriesLimitReached": false,
       "aggType": "",
       "arguments": {},
       "columnCustomDisplayInfos": {},
       "data": [
        [
         1,
         "Patrick",
         10,
         2015,
         "1000",
         "2000"
        ],
        [
         1,
         "Patrick",
         10,
         2016,
         "2000",
         "2500"
        ],
        [
         1,
         "Patrick",
         10,
         2017,
         "2500",
         "5000"
        ],
        [
         1,
         "Patrick",
         10,
         2018,
         "5000",
         "0"
        ],
        [
         2,
         "Lisbon",
         20,
         2015,
         "500",
         "1000"
        ],
        [
         2,
         "Lisbon",
         20,
         2016,
         "1000",
         "1701"
        ],
        [
         2,
         "Lisbon",
         20,
         2017,
         "1701",
         "5000"
        ],
        [
         2,
         "Lisbon",
         20,
         2018,
         "5000",
         "0"
        ],
        [
         3,
         "Grace",
         30,
         2015,
         "1000",
         "1000"
        ],
        [
         3,
         "Grace",
         30,
         2016,
         "1000",
         "2000"
        ],
        [
         3,
         "Grace",
         30,
         2017,
         "2000",
         "3001"
        ],
        [
         3,
         "Grace",
         30,
         2018,
         "3001",
         "0"
        ],
        [
         4,
         "Rigsby",
         40,
         2015,
         "1000",
         "1500"
        ],
        [
         4,
         "Rigsby",
         40,
         2016,
         "1500",
         "2000"
        ],
        [
         4,
         "Rigsby",
         40,
         2017,
         "2000",
         "2000"
        ],
        [
         4,
         "Rigsby",
         40,
         2018,
         "2000",
         "0"
        ],
        [
         5,
         "Cho",
         10,
         2015,
         "1000",
         "1500"
        ],
        [
         5,
         "Cho",
         10,
         2016,
         "1500",
         "3000"
        ],
        [
         5,
         "Cho",
         10,
         2017,
         "3000",
         "3101"
        ],
        [
         5,
         "Cho",
         10,
         2018,
         "3101",
         "0"
        ]
       ],
       "datasetInfos": [],
       "dbfsResultPath": null,
       "isJsonSchema": true,
       "metadata": {},
       "overflow": false,
       "plotOptions": {
        "customPlotOptions": {},
        "displayType": "table",
        "pivotAggregation": null,
        "pivotColumns": null,
        "xColumns": null,
        "yColumns": null
       },
       "removedWidgets": [],
       "schema": [
        {
         "metadata": "{}",
         "name": "sno",
         "type": "\"integer\""
        },
        {
         "metadata": "{}",
         "name": "name",
         "type": "\"string\""
        },
        {
         "metadata": "{}",
         "name": "deptid",
         "type": "\"integer\""
        },
        {
         "metadata": "{}",
         "name": "year",
         "type": "\"integer\""
        },
        {
         "metadata": "{}",
         "name": "salary",
         "type": "\"decimal(10,0)\""
        },
        {
         "metadata": "{}",
         "name": "nextyrsal",
         "type": "\"decimal(10,0)\""
        }
       ],
       "type": "table"
      }
     },
     "output_type": "display_data"
    }
   ],
   "source": [
    "%sql\n",
    "\n",
    "select *,\n",
    "  lead(salary,1,0) over(partition by sno,name,deptid order by year asc) as nextyrsal\n",
    " from empviewtable"
   ]
  },
  {
   "cell_type": "code",
   "execution_count": 0,
   "metadata": {
    "application/vnd.databricks.v1+cell": {
     "cellMetadata": {
      "byteLimit": 2048000,
      "rowLimit": 10000
     },
     "inputWidgets": {},
     "nuid": "c15622bc-bf57-4df6-9394-15ddea70cbfe",
     "showTitle": false,
     "tableResultSettingsMap": {},
     "title": ""
    }
   },
   "outputs": [],
   "source": [
    "#sql rank and dense_rank\n"
   ]
  },
  {
   "cell_type": "code",
   "execution_count": 0,
   "metadata": {
    "application/vnd.databricks.v1+cell": {
     "cellMetadata": {
      "byteLimit": 2048000,
      "implicitDf": true,
      "rowLimit": 10000
     },
     "inputWidgets": {},
     "nuid": "c6f27c1a-2d02-46db-9f8f-bb9e579bcfc2",
     "showTitle": false,
     "tableResultSettingsMap": {},
     "title": ""
    }
   },
   "outputs": [
    {
     "output_type": "display_data",
     "data": {
      "text/html": [
       "<style scoped>\n",
       "  .table-result-container {\n",
       "    max-height: 300px;\n",
       "    overflow: auto;\n",
       "  }\n",
       "  table, th, td {\n",
       "    border: 1px solid black;\n",
       "    border-collapse: collapse;\n",
       "  }\n",
       "  th, td {\n",
       "    padding: 5px;\n",
       "  }\n",
       "  th {\n",
       "    text-align: left;\n",
       "  }\n",
       "</style><div class='table-result-container'><table class='table-result'><thead style='background-color: white'><tr><th>sno</th><th>name</th><th>deptid</th><th>year</th><th>salary</th><th>sal_rank</th><th>sal_dens_rank</th></tr></thead><tbody><tr><td>1</td><td>Patrick</td><td>10</td><td>2015</td><td>1000</td><td>1</td><td>1</td></tr><tr><td>1</td><td>Patrick</td><td>10</td><td>2016</td><td>2000</td><td>2</td><td>2</td></tr><tr><td>1</td><td>Patrick</td><td>10</td><td>2017</td><td>2500</td><td>3</td><td>3</td></tr><tr><td>1</td><td>Patrick</td><td>10</td><td>2018</td><td>5000</td><td>4</td><td>4</td></tr><tr><td>2</td><td>Lisbon</td><td>20</td><td>2015</td><td>500</td><td>1</td><td>1</td></tr><tr><td>2</td><td>Lisbon</td><td>20</td><td>2016</td><td>1000</td><td>2</td><td>2</td></tr><tr><td>2</td><td>Lisbon</td><td>20</td><td>2017</td><td>1701</td><td>3</td><td>3</td></tr><tr><td>2</td><td>Lisbon</td><td>20</td><td>2018</td><td>5000</td><td>4</td><td>4</td></tr><tr><td>3</td><td>Grace</td><td>30</td><td>2015</td><td>1000</td><td>1</td><td>1</td></tr><tr><td>3</td><td>Grace</td><td>30</td><td>2016</td><td>1000</td><td>2</td><td>2</td></tr><tr><td>3</td><td>Grace</td><td>30</td><td>2017</td><td>2000</td><td>3</td><td>3</td></tr><tr><td>3</td><td>Grace</td><td>30</td><td>2018</td><td>3001</td><td>4</td><td>4</td></tr><tr><td>4</td><td>Rigsby</td><td>40</td><td>2015</td><td>1000</td><td>1</td><td>1</td></tr><tr><td>4</td><td>Rigsby</td><td>40</td><td>2016</td><td>1500</td><td>2</td><td>2</td></tr><tr><td>4</td><td>Rigsby</td><td>40</td><td>2017</td><td>2000</td><td>3</td><td>3</td></tr><tr><td>4</td><td>Rigsby</td><td>40</td><td>2018</td><td>2000</td><td>4</td><td>4</td></tr><tr><td>5</td><td>Cho</td><td>10</td><td>2015</td><td>1000</td><td>1</td><td>1</td></tr><tr><td>5</td><td>Cho</td><td>10</td><td>2016</td><td>1500</td><td>2</td><td>2</td></tr><tr><td>5</td><td>Cho</td><td>10</td><td>2017</td><td>3000</td><td>3</td><td>3</td></tr><tr><td>5</td><td>Cho</td><td>10</td><td>2018</td><td>3101</td><td>4</td><td>4</td></tr></tbody></table></div>"
      ]
     },
     "metadata": {
      "application/vnd.databricks.v1+output": {
       "addedWidgets": {},
       "aggData": [],
       "aggError": "",
       "aggOverflow": false,
       "aggSchema": [],
       "aggSeriesLimitReached": false,
       "aggType": "",
       "arguments": {},
       "columnCustomDisplayInfos": {},
       "data": [
        [
         1,
         "Patrick",
         10,
         2015,
         "1000",
         1,
         1
        ],
        [
         1,
         "Patrick",
         10,
         2016,
         "2000",
         2,
         2
        ],
        [
         1,
         "Patrick",
         10,
         2017,
         "2500",
         3,
         3
        ],
        [
         1,
         "Patrick",
         10,
         2018,
         "5000",
         4,
         4
        ],
        [
         2,
         "Lisbon",
         20,
         2015,
         "500",
         1,
         1
        ],
        [
         2,
         "Lisbon",
         20,
         2016,
         "1000",
         2,
         2
        ],
        [
         2,
         "Lisbon",
         20,
         2017,
         "1701",
         3,
         3
        ],
        [
         2,
         "Lisbon",
         20,
         2018,
         "5000",
         4,
         4
        ],
        [
         3,
         "Grace",
         30,
         2015,
         "1000",
         1,
         1
        ],
        [
         3,
         "Grace",
         30,
         2016,
         "1000",
         2,
         2
        ],
        [
         3,
         "Grace",
         30,
         2017,
         "2000",
         3,
         3
        ],
        [
         3,
         "Grace",
         30,
         2018,
         "3001",
         4,
         4
        ],
        [
         4,
         "Rigsby",
         40,
         2015,
         "1000",
         1,
         1
        ],
        [
         4,
         "Rigsby",
         40,
         2016,
         "1500",
         2,
         2
        ],
        [
         4,
         "Rigsby",
         40,
         2017,
         "2000",
         3,
         3
        ],
        [
         4,
         "Rigsby",
         40,
         2018,
         "2000",
         4,
         4
        ],
        [
         5,
         "Cho",
         10,
         2015,
         "1000",
         1,
         1
        ],
        [
         5,
         "Cho",
         10,
         2016,
         "1500",
         2,
         2
        ],
        [
         5,
         "Cho",
         10,
         2017,
         "3000",
         3,
         3
        ],
        [
         5,
         "Cho",
         10,
         2018,
         "3101",
         4,
         4
        ]
       ],
       "datasetInfos": [],
       "dbfsResultPath": null,
       "isJsonSchema": true,
       "metadata": {},
       "overflow": false,
       "plotOptions": {
        "customPlotOptions": {},
        "displayType": "table",
        "pivotAggregation": null,
        "pivotColumns": null,
        "xColumns": null,
        "yColumns": null
       },
       "removedWidgets": [],
       "schema": [
        {
         "metadata": "{}",
         "name": "sno",
         "type": "\"integer\""
        },
        {
         "metadata": "{}",
         "name": "name",
         "type": "\"string\""
        },
        {
         "metadata": "{}",
         "name": "deptid",
         "type": "\"integer\""
        },
        {
         "metadata": "{}",
         "name": "year",
         "type": "\"integer\""
        },
        {
         "metadata": "{}",
         "name": "salary",
         "type": "\"decimal(10,0)\""
        },
        {
         "metadata": "{}",
         "name": "sal_rank",
         "type": "\"integer\""
        },
        {
         "metadata": "{}",
         "name": "sal_dens_rank",
         "type": "\"integer\""
        }
       ],
       "type": "table"
      }
     },
     "output_type": "display_data"
    }
   ],
   "source": [
    "%sql\n",
    "select *,\n",
    "      rank(salary) over(partition by sno,name,deptid order by year asc) as sal_rank ,\n",
    "      dense_rank(salary) over(partition by sno,name,deptid order by year asc) as sal_dens_rank\n",
    " from empviewtable"
   ]
  },
  {
   "cell_type": "code",
   "execution_count": 0,
   "metadata": {
    "application/vnd.databricks.v1+cell": {
     "cellMetadata": {
      "byteLimit": 2048000,
      "rowLimit": 10000
     },
     "inputWidgets": {},
     "nuid": "aed713cd-7264-4419-ae1b-ef8c3de774a3",
     "showTitle": false,
     "tableResultSettingsMap": {},
     "title": ""
    }
   },
   "outputs": [],
   "source": [
    "#rolling average"
   ]
  },
  {
   "cell_type": "code",
   "execution_count": 0,
   "metadata": {
    "application/vnd.databricks.v1+cell": {
     "cellMetadata": {
      "byteLimit": 2048000,
      "implicitDf": true,
      "rowLimit": 10000
     },
     "inputWidgets": {},
     "nuid": "80f8bb0f-965f-4355-ae7e-351f15122f94",
     "showTitle": false,
     "tableResultSettingsMap": {},
     "title": ""
    }
   },
   "outputs": [
    {
     "output_type": "display_data",
     "data": {
      "text/html": [
       "<style scoped>\n",
       "  .table-result-container {\n",
       "    max-height: 300px;\n",
       "    overflow: auto;\n",
       "  }\n",
       "  table, th, td {\n",
       "    border: 1px solid black;\n",
       "    border-collapse: collapse;\n",
       "  }\n",
       "  th, td {\n",
       "    padding: 5px;\n",
       "  }\n",
       "  th {\n",
       "    text-align: left;\n",
       "  }\n",
       "</style><div class='table-result-container'><table class='table-result'><thead style='background-color: white'><tr><th>sno</th><th>name</th><th>deptid</th><th>year</th><th>salary</th><th>roling_avg</th></tr></thead><tbody><tr><td>1</td><td>Patrick</td><td>10</td><td>2015</td><td>1000</td><td>1000.0000</td></tr><tr><td>1</td><td>Patrick</td><td>10</td><td>2016</td><td>2000</td><td>1500.0000</td></tr><tr><td>1</td><td>Patrick</td><td>10</td><td>2017</td><td>2500</td><td>1833.3333</td></tr><tr><td>1</td><td>Patrick</td><td>10</td><td>2018</td><td>5000</td><td>3166.6667</td></tr><tr><td>2</td><td>Lisbon</td><td>20</td><td>2015</td><td>500</td><td>500.0000</td></tr><tr><td>2</td><td>Lisbon</td><td>20</td><td>2016</td><td>1000</td><td>750.0000</td></tr><tr><td>2</td><td>Lisbon</td><td>20</td><td>2017</td><td>1701</td><td>1067.0000</td></tr><tr><td>2</td><td>Lisbon</td><td>20</td><td>2018</td><td>5000</td><td>2567.0000</td></tr><tr><td>3</td><td>Grace</td><td>30</td><td>2015</td><td>1000</td><td>1000.0000</td></tr><tr><td>3</td><td>Grace</td><td>30</td><td>2016</td><td>1000</td><td>1000.0000</td></tr><tr><td>3</td><td>Grace</td><td>30</td><td>2017</td><td>2000</td><td>1333.3333</td></tr><tr><td>3</td><td>Grace</td><td>30</td><td>2018</td><td>3001</td><td>2000.3333</td></tr><tr><td>4</td><td>Rigsby</td><td>40</td><td>2015</td><td>1000</td><td>1000.0000</td></tr><tr><td>4</td><td>Rigsby</td><td>40</td><td>2016</td><td>1500</td><td>1250.0000</td></tr><tr><td>4</td><td>Rigsby</td><td>40</td><td>2017</td><td>2000</td><td>1500.0000</td></tr><tr><td>4</td><td>Rigsby</td><td>40</td><td>2018</td><td>2000</td><td>1833.3333</td></tr><tr><td>5</td><td>Cho</td><td>10</td><td>2015</td><td>1000</td><td>1000.0000</td></tr><tr><td>5</td><td>Cho</td><td>10</td><td>2016</td><td>1500</td><td>1250.0000</td></tr><tr><td>5</td><td>Cho</td><td>10</td><td>2017</td><td>3000</td><td>1833.3333</td></tr><tr><td>5</td><td>Cho</td><td>10</td><td>2018</td><td>3101</td><td>2533.6667</td></tr></tbody></table></div>"
      ]
     },
     "metadata": {
      "application/vnd.databricks.v1+output": {
       "addedWidgets": {},
       "aggData": [],
       "aggError": "",
       "aggOverflow": false,
       "aggSchema": [],
       "aggSeriesLimitReached": false,
       "aggType": "",
       "arguments": {},
       "columnCustomDisplayInfos": {},
       "data": [
        [
         1,
         "Patrick",
         10,
         2015,
         "1000",
         "1000.0000"
        ],
        [
         1,
         "Patrick",
         10,
         2016,
         "2000",
         "1500.0000"
        ],
        [
         1,
         "Patrick",
         10,
         2017,
         "2500",
         "1833.3333"
        ],
        [
         1,
         "Patrick",
         10,
         2018,
         "5000",
         "3166.6667"
        ],
        [
         2,
         "Lisbon",
         20,
         2015,
         "500",
         "500.0000"
        ],
        [
         2,
         "Lisbon",
         20,
         2016,
         "1000",
         "750.0000"
        ],
        [
         2,
         "Lisbon",
         20,
         2017,
         "1701",
         "1067.0000"
        ],
        [
         2,
         "Lisbon",
         20,
         2018,
         "5000",
         "2567.0000"
        ],
        [
         3,
         "Grace",
         30,
         2015,
         "1000",
         "1000.0000"
        ],
        [
         3,
         "Grace",
         30,
         2016,
         "1000",
         "1000.0000"
        ],
        [
         3,
         "Grace",
         30,
         2017,
         "2000",
         "1333.3333"
        ],
        [
         3,
         "Grace",
         30,
         2018,
         "3001",
         "2000.3333"
        ],
        [
         4,
         "Rigsby",
         40,
         2015,
         "1000",
         "1000.0000"
        ],
        [
         4,
         "Rigsby",
         40,
         2016,
         "1500",
         "1250.0000"
        ],
        [
         4,
         "Rigsby",
         40,
         2017,
         "2000",
         "1500.0000"
        ],
        [
         4,
         "Rigsby",
         40,
         2018,
         "2000",
         "1833.3333"
        ],
        [
         5,
         "Cho",
         10,
         2015,
         "1000",
         "1000.0000"
        ],
        [
         5,
         "Cho",
         10,
         2016,
         "1500",
         "1250.0000"
        ],
        [
         5,
         "Cho",
         10,
         2017,
         "3000",
         "1833.3333"
        ],
        [
         5,
         "Cho",
         10,
         2018,
         "3101",
         "2533.6667"
        ]
       ],
       "datasetInfos": [],
       "dbfsResultPath": null,
       "isJsonSchema": true,
       "metadata": {},
       "overflow": false,
       "plotOptions": {
        "customPlotOptions": {},
        "displayType": "table",
        "pivotAggregation": null,
        "pivotColumns": null,
        "xColumns": null,
        "yColumns": null
       },
       "removedWidgets": [],
       "schema": [
        {
         "metadata": "{}",
         "name": "sno",
         "type": "\"integer\""
        },
        {
         "metadata": "{}",
         "name": "name",
         "type": "\"string\""
        },
        {
         "metadata": "{}",
         "name": "deptid",
         "type": "\"integer\""
        },
        {
         "metadata": "{}",
         "name": "year",
         "type": "\"integer\""
        },
        {
         "metadata": "{}",
         "name": "salary",
         "type": "\"decimal(10,0)\""
        },
        {
         "metadata": "{}",
         "name": "roling_avg",
         "type": "\"decimal(14,4)\""
        }
       ],
       "type": "table"
      }
     },
     "output_type": "display_data"
    }
   ],
   "source": [
    "%sql\n",
    "\n",
    "select *,\n",
    "      avg(salary) over(partition by sno,name,deptid order by year asc rows between 2 preceding and current row) as roling_avg \n",
    "      \n",
    " from empviewtable"
   ]
  },
  {
   "cell_type": "markdown",
   "metadata": {
    "application/vnd.databricks.v1+cell": {
     "cellMetadata": {
      "byteLimit": 2048000,
      "rowLimit": 10000
     },
     "inputWidgets": {},
     "nuid": "8c7b394e-5297-4e71-82fa-a0f31073b08c",
     "showTitle": false,
     "tableResultSettingsMap": {},
     "title": ""
    }
   },
   "source": [
    "**_Pepsico interview questions_**"
   ]
  },
  {
   "cell_type": "markdown",
   "metadata": {
    "application/vnd.databricks.v1+cell": {
     "cellMetadata": {
      "byteLimit": 2048000,
      "rowLimit": 10000
     },
     "inputWidgets": {},
     "nuid": "2a2abf41-3c6b-4602-abdf-2689eca9665f",
     "showTitle": false,
     "tableResultSettingsMap": {},
     "title": ""
    }
   },
   "source": [
    "**_Question 1_**"
   ]
  },
  {
   "cell_type": "code",
   "execution_count": 0,
   "metadata": {
    "application/vnd.databricks.v1+cell": {
     "cellMetadata": {
      "byteLimit": 2048000,
      "rowLimit": 10000
     },
     "inputWidgets": {},
     "nuid": "005de311-13df-4fd4-b092-17c71af94add",
     "showTitle": false,
     "tableResultSettingsMap": {},
     "title": ""
    }
   },
   "outputs": [
    {
     "output_type": "display_data",
     "data": {
      "text/html": [
       "<style scoped>\n",
       "  .table-result-container {\n",
       "    max-height: 300px;\n",
       "    overflow: auto;\n",
       "  }\n",
       "  table, th, td {\n",
       "    border: 1px solid black;\n",
       "    border-collapse: collapse;\n",
       "  }\n",
       "  th, td {\n",
       "    padding: 5px;\n",
       "  }\n",
       "  th {\n",
       "    text-align: left;\n",
       "  }\n",
       "</style><div class='table-result-container'><table class='table-result'><thead style='background-color: white'><tr><th>SOId</th><th>SODate</th><th>ItemId</th><th>ItemQty</th><th>ItemValue</th></tr></thead><tbody><tr><td>1</td><td>2024-01-01</td><td>I1</td><td>10</td><td>1000</td></tr><tr><td>2</td><td>2024-01-15</td><td>I2</td><td>20</td><td>2000</td></tr><tr><td>3</td><td>2024-02-01</td><td>I3</td><td>10</td><td>1500</td></tr><tr><td>4</td><td>2024-02-15</td><td>I4</td><td>20</td><td>2500</td></tr><tr><td>5</td><td>2024-03-01</td><td>I5</td><td>30</td><td>3000</td></tr><tr><td>6</td><td>2024-03-10</td><td>I6</td><td>40</td><td>3500</td></tr><tr><td>7</td><td>2024-03-20</td><td>I7</td><td>20</td><td>2500</td></tr><tr><td>8</td><td>2024-03-30</td><td>I8</td><td>10</td><td>1000</td></tr></tbody></table></div>"
      ]
     },
     "metadata": {
      "application/vnd.databricks.v1+output": {
       "addedWidgets": {},
       "aggData": [],
       "aggError": "",
       "aggOverflow": false,
       "aggSchema": [],
       "aggSeriesLimitReached": false,
       "aggType": "",
       "arguments": {},
       "columnCustomDisplayInfos": {},
       "data": [
        [
         1,
         "2024-01-01",
         "I1",
         10,
         1000
        ],
        [
         2,
         "2024-01-15",
         "I2",
         20,
         2000
        ],
        [
         3,
         "2024-02-01",
         "I3",
         10,
         1500
        ],
        [
         4,
         "2024-02-15",
         "I4",
         20,
         2500
        ],
        [
         5,
         "2024-03-01",
         "I5",
         30,
         3000
        ],
        [
         6,
         "2024-03-10",
         "I6",
         40,
         3500
        ],
        [
         7,
         "2024-03-20",
         "I7",
         20,
         2500
        ],
        [
         8,
         "2024-03-30",
         "I8",
         10,
         1000
        ]
       ],
       "datasetInfos": [],
       "dbfsResultPath": null,
       "isJsonSchema": true,
       "metadata": {},
       "overflow": false,
       "plotOptions": {
        "customPlotOptions": {},
        "displayType": "table",
        "pivotAggregation": null,
        "pivotColumns": null,
        "xColumns": null,
        "yColumns": null
       },
       "removedWidgets": [],
       "schema": [
        {
         "metadata": "{}",
         "name": "SOId",
         "type": "\"long\""
        },
        {
         "metadata": "{}",
         "name": "SODate",
         "type": "\"string\""
        },
        {
         "metadata": "{}",
         "name": "ItemId",
         "type": "\"string\""
        },
        {
         "metadata": "{}",
         "name": "ItemQty",
         "type": "\"long\""
        },
        {
         "metadata": "{}",
         "name": "ItemValue",
         "type": "\"long\""
        }
       ],
       "type": "table"
      }
     },
     "output_type": "display_data"
    }
   ],
   "source": [
    "data=[(1,'2024-01-01',\"I1\",10,1000),(2,\"2024-01-15\",\"I2\",20,2000),(3,\"2024-02-01\",\"I3\",10,1500),(4,\"2024-02-15\",\"I4\",20,2500),(5,\"2024-03-01\",\"I5\",30,3000),(6,\"2024-03-10\",\"I6\",40,3500),(7,\"2024-03-20\",\"I7\",20,2500),(8,\"2024-03-30\",\"I8\",10,1000)]\n",
    "schema=[\"SOId\",\"SODate\",\"ItemId\",\"ItemQty\",\"ItemValue\"]\n",
    "df1=spark.createDataFrame(data,schema)\n",
    "display(df1)"
   ]
  },
  {
   "cell_type": "code",
   "execution_count": 0,
   "metadata": {
    "application/vnd.databricks.v1+cell": {
     "cellMetadata": {
      "byteLimit": 2048000,
      "rowLimit": 10000
     },
     "inputWidgets": {},
     "nuid": "b4fa7996-fa55-4ebb-b490-e48ef85deba9",
     "showTitle": false,
     "tableResultSettingsMap": {},
     "title": ""
    }
   },
   "outputs": [
    {
     "output_type": "stream",
     "name": "stdout",
     "output_type": "stream",
     "text": [
      "root\n |-- SOId: long (nullable = true)\n |-- SODate: string (nullable = true)\n |-- ItemId: string (nullable = true)\n |-- ItemQty: long (nullable = true)\n |-- ItemValue: long (nullable = true)\n\n"
     ]
    }
   ],
   "source": [
    "df1.printSchema()"
   ]
  },
  {
   "cell_type": "code",
   "execution_count": 0,
   "metadata": {
    "application/vnd.databricks.v1+cell": {
     "cellMetadata": {
      "byteLimit": 2048000,
      "rowLimit": 10000
     },
     "inputWidgets": {},
     "nuid": "a09696ec-e8f8-4da2-84b3-adaad426041a",
     "showTitle": false,
     "tableResultSettingsMap": {},
     "title": ""
    }
   },
   "outputs": [
    {
     "output_type": "stream",
     "name": "stdout",
     "output_type": "stream",
     "text": [
      "+----+----------+------+-------+---------+\n|SOId|    SODate|ItemId|ItemQty|ItemValue|\n+----+----------+------+-------+---------+\n|   1|2024-01-01|    I1|     10|     1000|\n|   2|2024-01-15|    I2|     20|     2000|\n|   3|2024-02-01|    I3|     10|     1500|\n|   4|2024-02-15|    I4|     20|     2500|\n|   5|2024-03-01|    I5|     30|     3000|\n|   6|2024-03-10|    I6|     40|     3500|\n|   7|2024-03-20|    I7|     20|     2500|\n|   8|2024-03-30|    I8|     10|     1000|\n+----+----------+------+-------+---------+\n\n"
     ]
    }
   ],
   "source": [
    "df1=df1.withColumn('SODate',to_date(col('SODate'),'yyyy-MM-dd'))\n",
    "df1.show()"
   ]
  },
  {
   "cell_type": "code",
   "execution_count": 0,
   "metadata": {
    "application/vnd.databricks.v1+cell": {
     "cellMetadata": {
      "byteLimit": 2048000,
      "rowLimit": 10000
     },
     "inputWidgets": {},
     "nuid": "a9e02b75-4ca5-4bec-a388-7ab6bd77cbbd",
     "showTitle": false,
     "tableResultSettingsMap": {},
     "title": ""
    }
   },
   "outputs": [
    {
     "output_type": "stream",
     "name": "stdout",
     "output_type": "stream",
     "text": [
      "root\n |-- SOId: long (nullable = true)\n |-- SODate: date (nullable = true)\n |-- ItemId: string (nullable = true)\n |-- ItemQty: long (nullable = true)\n |-- ItemValue: long (nullable = true)\n\n"
     ]
    }
   ],
   "source": [
    "df1.printSchema()"
   ]
  },
  {
   "cell_type": "code",
   "execution_count": 0,
   "metadata": {
    "application/vnd.databricks.v1+cell": {
     "cellMetadata": {
      "byteLimit": 2048000,
      "rowLimit": 10000
     },
     "inputWidgets": {},
     "nuid": "02718548-d15c-4401-adf5-6d35bd7f699c",
     "showTitle": false,
     "tableResultSettingsMap": {},
     "title": ""
    }
   },
   "outputs": [
    {
     "output_type": "stream",
     "name": "stdout",
     "output_type": "stream",
     "text": [
      "+----+----------+------+-------+---------+----+-----+----------+\n|SOId|    SODate|ItemId|ItemQty|ItemValue|year|month|year_month|\n+----+----------+------+-------+---------+----+-----+----------+\n|   1|2024-01-01|    I1|     10|     1000|2024|    1|    2024_1|\n|   2|2024-01-15|    I2|     20|     2000|2024|    1|    2024_1|\n|   3|2024-02-01|    I3|     10|     1500|2024|    2|    2024_2|\n|   4|2024-02-15|    I4|     20|     2500|2024|    2|    2024_2|\n|   5|2024-03-01|    I5|     30|     3000|2024|    3|    2024_3|\n|   6|2024-03-10|    I6|     40|     3500|2024|    3|    2024_3|\n|   7|2024-03-20|    I7|     20|     2500|2024|    3|    2024_3|\n|   8|2024-03-30|    I8|     10|     1000|2024|    3|    2024_3|\n+----+----------+------+-------+---------+----+-----+----------+\n\n"
     ]
    }
   ],
   "source": [
    "df1=df1.withColumn('year',year(col('SODate'))).\\\n",
    "    withColumn('month',month('SODate')).\\\n",
    "        withColumn('year_month',concat(col('year'),lit('_'),col('month')))\n",
    "\n",
    "df1.show()        \n"
   ]
  },
  {
   "cell_type": "code",
   "execution_count": 0,
   "metadata": {
    "application/vnd.databricks.v1+cell": {
     "cellMetadata": {
      "byteLimit": 2048000,
      "rowLimit": 10000
     },
     "inputWidgets": {},
     "nuid": "6b1b7287-475c-4578-9d86-8dfb91f41671",
     "showTitle": false,
     "tableResultSettingsMap": {},
     "title": ""
    }
   },
   "outputs": [
    {
     "output_type": "stream",
     "name": "stdout",
     "output_type": "stream",
     "text": [
      "+----------+---------+\n|year_month|Totalsale|\n+----------+---------+\n|    2024_1|     3000|\n|    2024_2|     4000|\n|    2024_3|    10000|\n+----------+---------+\n\n"
     ]
    }
   ],
   "source": [
    "df1_mid=df1.groupBy(col('year_month')).agg(sum(col('ItemValue')).alias('Totalsale'))\n",
    "df1_mid.show()"
   ]
  },
  {
   "cell_type": "code",
   "execution_count": 0,
   "metadata": {
    "application/vnd.databricks.v1+cell": {
     "cellMetadata": {
      "byteLimit": 2048000,
      "rowLimit": 10000
     },
     "inputWidgets": {},
     "nuid": "5d5bc3ae-fc94-46ff-944c-f388044eed27",
     "showTitle": false,
     "tableResultSettingsMap": {},
     "title": ""
    }
   },
   "outputs": [],
   "source": [
    "df1_final=(\n",
    "    df1_mid.withColumn('percent_diff_prev_month',lag(col('Totalsale'),1,0).over(Window.orderBy(col('year_month'))))\n",
    ")"
   ]
  },
  {
   "cell_type": "code",
   "execution_count": 0,
   "metadata": {
    "application/vnd.databricks.v1+cell": {
     "cellMetadata": {
      "byteLimit": 2048000,
      "rowLimit": 10000
     },
     "inputWidgets": {},
     "nuid": "c37f7809-a3ff-4adc-a923-f7fd6339ff8e",
     "showTitle": false,
     "tableResultSettingsMap": {},
     "title": ""
    }
   },
   "outputs": [],
   "source": [
    "df1_final=df1_final.withColumn('prev_month_sal_gap',(col('Totalsale')-col('percent_diff_prev_month')) * 100/col('Totalsale'))"
   ]
  },
  {
   "cell_type": "code",
   "execution_count": 0,
   "metadata": {
    "application/vnd.databricks.v1+cell": {
     "cellMetadata": {
      "byteLimit": 2048000,
      "rowLimit": 10000
     },
     "inputWidgets": {},
     "nuid": "0088c60e-ccc4-4fd1-9bfa-4bfa895386c3",
     "showTitle": false,
     "tableResultSettingsMap": {},
     "title": ""
    }
   },
   "outputs": [
    {
     "output_type": "stream",
     "name": "stdout",
     "output_type": "stream",
     "text": [
      "+----------+---------+-----------------------+------------------+\n|year_month|Totalsale|percent_diff_prev_month|prev_month_sal_gap|\n+----------+---------+-----------------------+------------------+\n|    2024_1|     3000|                      0|             100.0|\n|    2024_2|     4000|                   3000|              25.0|\n|    2024_3|    10000|                   4000|              60.0|\n+----------+---------+-----------------------+------------------+\n\n"
     ]
    }
   ],
   "source": [
    "df1_final.show()"
   ]
  },
  {
   "cell_type": "markdown",
   "metadata": {
    "application/vnd.databricks.v1+cell": {
     "cellMetadata": {
      "byteLimit": 2048000,
      "rowLimit": 10000
     },
     "inputWidgets": {},
     "nuid": "5c779648-b1f4-4c79-b32a-f718652a08e9",
     "showTitle": false,
     "tableResultSettingsMap": {},
     "title": ""
    }
   },
   "source": [
    "**_Question 2_**"
   ]
  },
  {
   "cell_type": "code",
   "execution_count": 0,
   "metadata": {
    "application/vnd.databricks.v1+cell": {
     "cellMetadata": {
      "byteLimit": 2048000,
      "rowLimit": 10000
     },
     "inputWidgets": {},
     "nuid": "5efe3940-59a9-4b49-b343-f0dd1badd519",
     "showTitle": false,
     "tableResultSettingsMap": {},
     "title": ""
    }
   },
   "outputs": [
    {
     "output_type": "display_data",
     "data": {
      "text/html": [
       "<style scoped>\n",
       "  .table-result-container {\n",
       "    max-height: 300px;\n",
       "    overflow: auto;\n",
       "  }\n",
       "  table, th, td {\n",
       "    border: 1px solid black;\n",
       "    border-collapse: collapse;\n",
       "  }\n",
       "  th, td {\n",
       "    padding: 5px;\n",
       "  }\n",
       "  th {\n",
       "    text-align: left;\n",
       "  }\n",
       "</style><div class='table-result-container'><table class='table-result'><thead style='background-color: white'><tr><th>EmpId</th><th>EmpName</th><th>Skill</th></tr></thead><tbody><tr><td>1</td><td>John</td><td>ADF</td></tr><tr><td>1</td><td>John</td><td>ADB</td></tr><tr><td>1</td><td>John</td><td>PowerBI</td></tr><tr><td>2</td><td>Joanne</td><td>ADF</td></tr><tr><td>2</td><td>Joanne</td><td>SQL</td></tr><tr><td>2</td><td>Joanne</td><td>Crystal Report</td></tr><tr><td>3</td><td>Vikas</td><td>ADF</td></tr><tr><td>3</td><td>Vikas</td><td>SQL</td></tr><tr><td>3</td><td>Vikas</td><td>SSIS</td></tr><tr><td>4</td><td>Monu</td><td>SQL</td></tr><tr><td>4</td><td>Monu</td><td>SSIS</td></tr><tr><td>4</td><td>Monu</td><td>SSAS</td></tr><tr><td>4</td><td>Monu</td><td>ADF</td></tr></tbody></table></div>"
      ]
     },
     "metadata": {
      "application/vnd.databricks.v1+output": {
       "addedWidgets": {},
       "aggData": [],
       "aggError": "",
       "aggOverflow": false,
       "aggSchema": [],
       "aggSeriesLimitReached": false,
       "aggType": "",
       "arguments": {},
       "columnCustomDisplayInfos": {},
       "data": [
        [
         1,
         "John",
         "ADF"
        ],
        [
         1,
         "John",
         "ADB"
        ],
        [
         1,
         "John",
         "PowerBI"
        ],
        [
         2,
         "Joanne",
         "ADF"
        ],
        [
         2,
         "Joanne",
         "SQL"
        ],
        [
         2,
         "Joanne",
         "Crystal Report"
        ],
        [
         3,
         "Vikas",
         "ADF"
        ],
        [
         3,
         "Vikas",
         "SQL"
        ],
        [
         3,
         "Vikas",
         "SSIS"
        ],
        [
         4,
         "Monu",
         "SQL"
        ],
        [
         4,
         "Monu",
         "SSIS"
        ],
        [
         4,
         "Monu",
         "SSAS"
        ],
        [
         4,
         "Monu",
         "ADF"
        ]
       ],
       "datasetInfos": [],
       "dbfsResultPath": null,
       "isJsonSchema": true,
       "metadata": {},
       "overflow": false,
       "plotOptions": {
        "customPlotOptions": {},
        "displayType": "table",
        "pivotAggregation": null,
        "pivotColumns": null,
        "xColumns": null,
        "yColumns": null
       },
       "removedWidgets": [],
       "schema": [
        {
         "metadata": "{}",
         "name": "EmpId",
         "type": "\"long\""
        },
        {
         "metadata": "{}",
         "name": "EmpName",
         "type": "\"string\""
        },
        {
         "metadata": "{}",
         "name": "Skill",
         "type": "\"string\""
        }
       ],
       "type": "table"
      }
     },
     "output_type": "display_data"
    }
   ],
   "source": [
    "data=[(1,'John','ADF'),(1,'John','ADB'),(1,'John','PowerBI'),(2,'Joanne','ADF'),(2,'Joanne','SQL'),(2,'Joanne','Crystal Report'),(3,'Vikas','ADF'),(3,'Vikas','SQL'),(3,'Vikas','SSIS'),(4,'Monu','SQL'),(4,'Monu','SSIS'),(4,'Monu','SSAS'),(4,'Monu','ADF')]\n",
    "schema=[\"EmpId\",\"EmpName\",\"Skill\"]\n",
    "df1=spark.createDataFrame(data,schema)\n",
    "display(df1)"
   ]
  },
  {
   "cell_type": "code",
   "execution_count": 0,
   "metadata": {
    "application/vnd.databricks.v1+cell": {
     "cellMetadata": {
      "byteLimit": 2048000,
      "rowLimit": 10000
     },
     "inputWidgets": {},
     "nuid": "6c3c7164-0629-4f98-9cd5-94f2aa285452",
     "showTitle": false,
     "tableResultSettingsMap": {},
     "title": ""
    }
   },
   "outputs": [
    {
     "output_type": "stream",
     "name": "stdout",
     "output_type": "stream",
     "text": [
      "+-------+--------------------------+\n|EmpName|Skills                    |\n+-------+--------------------------+\n|John   |[ADF, ADB, PowerBI]       |\n|Joanne |[ADF, SQL, Crystal Report]|\n|Vikas  |[ADF, SQL, SSIS]          |\n|Monu   |[SQL, SSIS, SSAS, ADF]    |\n+-------+--------------------------+\n\n"
     ]
    }
   ],
   "source": [
    "df_new=df1.groupBy('EmpName').agg(collect_list(col('Skill')).alias('Skills'))\n",
    "df_new.show(truncate=False)"
   ]
  },
  {
   "cell_type": "code",
   "execution_count": 0,
   "metadata": {
    "application/vnd.databricks.v1+cell": {
     "cellMetadata": {
      "byteLimit": 2048000,
      "rowLimit": 10000
     },
     "inputWidgets": {},
     "nuid": "88fd4deb-c949-476a-8ebd-74c741f4f208",
     "showTitle": false,
     "tableResultSettingsMap": {},
     "title": ""
    }
   },
   "outputs": [
    {
     "output_type": "stream",
     "name": "stdout",
     "output_type": "stream",
     "text": [
      "+-------+----------------------+\n|EmpName|skills                |\n+-------+----------------------+\n|John   |ADF,ADB,PowerBI       |\n|Joanne |ADF,SQL,Crystal Report|\n|Vikas  |ADF,SQL,SSIS          |\n|Monu   |SQL,SSIS,SSAS,ADF     |\n+-------+----------------------+\n\n"
     ]
    }
   ],
   "source": [
    "from pyspark.sql.functions import collect_list,concat_ws\n",
    "\n",
    "df_new=df_new.select(df_new.EmpName,concat_ws(',',df_new.Skills).alias('skills'))\n",
    "df_new.show(truncate=False)"
   ]
  },
  {
   "cell_type": "markdown",
   "metadata": {
    "application/vnd.databricks.v1+cell": {
     "cellMetadata": {
      "byteLimit": 2048000,
      "rowLimit": 10000
     },
     "inputWidgets": {},
     "nuid": "0528b088-2e5c-45dc-828e-6f6ec30f9c9b",
     "showTitle": false,
     "tableResultSettingsMap": {},
     "title": ""
    }
   },
   "source": [
    "**_Question 3_**"
   ]
  },
  {
   "cell_type": "code",
   "execution_count": 0,
   "metadata": {
    "application/vnd.databricks.v1+cell": {
     "cellMetadata": {
      "byteLimit": 2048000,
      "rowLimit": 10000
     },
     "inputWidgets": {},
     "nuid": "bbbfaf49-a56a-40b9-9f7c-72ac0e2fa973",
     "showTitle": false,
     "tableResultSettingsMap": {},
     "title": ""
    }
   },
   "outputs": [
    {
     "output_type": "display_data",
     "data": {
      "text/html": [
       "<style scoped>\n",
       "  .table-result-container {\n",
       "    max-height: 300px;\n",
       "    overflow: auto;\n",
       "  }\n",
       "  table, th, td {\n",
       "    border: 1px solid black;\n",
       "    border-collapse: collapse;\n",
       "  }\n",
       "  th, td {\n",
       "    padding: 5px;\n",
       "  }\n",
       "  th {\n",
       "    text-align: left;\n",
       "  }\n",
       "</style><div class='table-result-container'><table class='table-result'><thead style='background-color: white'><tr><th>EmpId</th><th>EmpName</th><th>Mgrid</th><th>deptid</th><th>salarydt</th><th>salary</th></tr></thead><tbody><tr><td>100</td><td>Raj</td><td>null</td><td>1</td><td>01-04-23</td><td>50000</td></tr><tr><td>200</td><td>Joanne</td><td>100</td><td>1</td><td>01-04-23</td><td>4000</td></tr><tr><td>200</td><td>Joanne</td><td>100</td><td>1</td><td>13-04-23</td><td>4500</td></tr><tr><td>200</td><td>Joanne</td><td>100</td><td>1</td><td>14-04-23</td><td>4020</td></tr></tbody></table></div>"
      ]
     },
     "metadata": {
      "application/vnd.databricks.v1+output": {
       "addedWidgets": {},
       "aggData": [],
       "aggError": "",
       "aggOverflow": false,
       "aggSchema": [],
       "aggSeriesLimitReached": false,
       "aggType": "",
       "arguments": {},
       "columnCustomDisplayInfos": {},
       "data": [
        [
         100,
         "Raj",
         null,
         1,
         "01-04-23",
         50000
        ],
        [
         200,
         "Joanne",
         100,
         1,
         "01-04-23",
         4000
        ],
        [
         200,
         "Joanne",
         100,
         1,
         "13-04-23",
         4500
        ],
        [
         200,
         "Joanne",
         100,
         1,
         "14-04-23",
         4020
        ]
       ],
       "datasetInfos": [],
       "dbfsResultPath": null,
       "isJsonSchema": true,
       "metadata": {},
       "overflow": false,
       "plotOptions": {
        "customPlotOptions": {},
        "displayType": "table",
        "pivotAggregation": null,
        "pivotColumns": null,
        "xColumns": null,
        "yColumns": null
       },
       "removedWidgets": [],
       "schema": [
        {
         "metadata": "{}",
         "name": "EmpId",
         "type": "\"long\""
        },
        {
         "metadata": "{}",
         "name": "EmpName",
         "type": "\"string\""
        },
        {
         "metadata": "{}",
         "name": "Mgrid",
         "type": "\"long\""
        },
        {
         "metadata": "{}",
         "name": "deptid",
         "type": "\"long\""
        },
        {
         "metadata": "{}",
         "name": "salarydt",
         "type": "\"string\""
        },
        {
         "metadata": "{}",
         "name": "salary",
         "type": "\"long\""
        }
       ],
       "type": "table"
      }
     },
     "output_type": "display_data"
    },
    {
     "output_type": "display_data",
     "data": {
      "text/html": [
       "<style scoped>\n",
       "  .table-result-container {\n",
       "    max-height: 300px;\n",
       "    overflow: auto;\n",
       "  }\n",
       "  table, th, td {\n",
       "    border: 1px solid black;\n",
       "    border-collapse: collapse;\n",
       "  }\n",
       "  th, td {\n",
       "    padding: 5px;\n",
       "  }\n",
       "  th {\n",
       "    text-align: left;\n",
       "  }\n",
       "</style><div class='table-result-container'><table class='table-result'><thead style='background-color: white'><tr><th>deptid</th><th>deptname</th></tr></thead><tbody><tr><td>1</td><td>IT</td></tr><tr><td>2</td><td>HR</td></tr></tbody></table></div>"
      ]
     },
     "metadata": {
      "application/vnd.databricks.v1+output": {
       "addedWidgets": {},
       "aggData": [],
       "aggError": "",
       "aggOverflow": false,
       "aggSchema": [],
       "aggSeriesLimitReached": false,
       "aggType": "",
       "arguments": {},
       "columnCustomDisplayInfos": {},
       "data": [
        [
         1,
         "IT"
        ],
        [
         2,
         "HR"
        ]
       ],
       "datasetInfos": [],
       "dbfsResultPath": null,
       "isJsonSchema": true,
       "metadata": {},
       "overflow": false,
       "plotOptions": {
        "customPlotOptions": {},
        "displayType": "table",
        "pivotAggregation": null,
        "pivotColumns": null,
        "xColumns": null,
        "yColumns": null
       },
       "removedWidgets": [],
       "schema": [
        {
         "metadata": "{}",
         "name": "deptid",
         "type": "\"long\""
        },
        {
         "metadata": "{}",
         "name": "deptname",
         "type": "\"string\""
        }
       ],
       "type": "table"
      }
     },
     "output_type": "display_data"
    }
   ],
   "source": [
    "#Employees Salary info\n",
    "data1=[(100,\"Raj\",None,1,\"01-04-23\",50000),\n",
    "       (200,\"Joanne\",100,1,\"01-04-23\",4000),(200,\"Joanne\",100,1,\"13-04-23\",4500),(200,\"Joanne\",100,1,\"14-04-23\",4020)]\n",
    "schema1=[\"EmpId\",\"EmpName\",\"Mgrid\",\"deptid\",\"salarydt\",\"salary\"]\n",
    "df_salary=spark.createDataFrame(data1,schema1)\n",
    "display(df_salary)\n",
    "#department dataframe\n",
    "data2=[(1,\"IT\"),\n",
    "       (2,\"HR\")]\n",
    "schema2=[\"deptid\",\"deptname\"]\n",
    "df_dept=spark.createDataFrame(data2,schema2)\n",
    "display(df_dept)"
   ]
  },
  {
   "cell_type": "code",
   "execution_count": 0,
   "metadata": {
    "application/vnd.databricks.v1+cell": {
     "cellMetadata": {
      "byteLimit": 2048000,
      "rowLimit": 10000
     },
     "inputWidgets": {},
     "nuid": "f64e7fdf-7b52-4c0f-91eb-e8c63f6f1429",
     "showTitle": false,
     "tableResultSettingsMap": {},
     "title": ""
    }
   },
   "outputs": [
    {
     "output_type": "display_data",
     "data": {
      "text/html": [
       "<style scoped>\n",
       "  .table-result-container {\n",
       "    max-height: 300px;\n",
       "    overflow: auto;\n",
       "  }\n",
       "  table, th, td {\n",
       "    border: 1px solid black;\n",
       "    border-collapse: collapse;\n",
       "  }\n",
       "  th, td {\n",
       "    padding: 5px;\n",
       "  }\n",
       "  th {\n",
       "    text-align: left;\n",
       "  }\n",
       "</style><div class='table-result-container'><table class='table-result'><thead style='background-color: white'><tr><th>EmpId</th><th>EmpName</th><th>Mgrid</th><th>salary</th><th>deptname</th><th>sal_year</th><th>sal_month</th></tr></thead><tbody><tr><td>100</td><td>Raj</td><td>null</td><td>50000</td><td>IT</td><td>2023</td><td>4</td></tr><tr><td>200</td><td>Joanne</td><td>100</td><td>4000</td><td>IT</td><td>2023</td><td>4</td></tr><tr><td>200</td><td>Joanne</td><td>100</td><td>4500</td><td>IT</td><td>2023</td><td>4</td></tr><tr><td>200</td><td>Joanne</td><td>100</td><td>4020</td><td>IT</td><td>2023</td><td>4</td></tr></tbody></table></div>"
      ]
     },
     "metadata": {
      "application/vnd.databricks.v1+output": {
       "addedWidgets": {},
       "aggData": [],
       "aggError": "",
       "aggOverflow": false,
       "aggSchema": [],
       "aggSeriesLimitReached": false,
       "aggType": "",
       "arguments": {},
       "columnCustomDisplayInfos": {},
       "data": [
        [
         100,
         "Raj",
         null,
         50000,
         "IT",
         2023,
         4
        ],
        [
         200,
         "Joanne",
         100,
         4000,
         "IT",
         2023,
         4
        ],
        [
         200,
         "Joanne",
         100,
         4500,
         "IT",
         2023,
         4
        ],
        [
         200,
         "Joanne",
         100,
         4020,
         "IT",
         2023,
         4
        ]
       ],
       "datasetInfos": [],
       "dbfsResultPath": null,
       "isJsonSchema": true,
       "metadata": {},
       "overflow": false,
       "plotOptions": {
        "customPlotOptions": {},
        "displayType": "table",
        "pivotAggregation": null,
        "pivotColumns": null,
        "xColumns": null,
        "yColumns": null
       },
       "removedWidgets": [],
       "schema": [
        {
         "metadata": "{}",
         "name": "EmpId",
         "type": "\"long\""
        },
        {
         "metadata": "{}",
         "name": "EmpName",
         "type": "\"string\""
        },
        {
         "metadata": "{}",
         "name": "Mgrid",
         "type": "\"long\""
        },
        {
         "metadata": "{}",
         "name": "salary",
         "type": "\"long\""
        },
        {
         "metadata": "{}",
         "name": "deptname",
         "type": "\"string\""
        },
        {
         "metadata": "{}",
         "name": "sal_year",
         "type": "\"integer\""
        },
        {
         "metadata": "{}",
         "name": "sal_month",
         "type": "\"integer\""
        }
       ],
       "type": "table"
      }
     },
     "output_type": "display_data"
    }
   ],
   "source": [
    "emp_df=(\n",
    "    df_salary.alias('s').join(df_dept.alias('d'), col('s.deptid')==col('d.deptid'),how='left_outer')    \n",
    "    .withColumn('salarydt',to_date(col('salarydt'),'dd-MM-yy'))\n",
    "    .withColumn('sal_year',year(col('salarydt')))\n",
    "    .withColumn('sal_month',month(col('salarydt')))\n",
    "    .drop(col('s.deptid'),col('d.deptid'),col('salarydt'))\n",
    ")\n",
    "display(emp_df)"
   ]
  },
  {
   "cell_type": "code",
   "execution_count": 0,
   "metadata": {
    "application/vnd.databricks.v1+cell": {
     "cellMetadata": {
      "byteLimit": 2048000,
      "rowLimit": 10000
     },
     "inputWidgets": {},
     "nuid": "7ce6db86-01bc-4ade-9f14-b2a349f8e84f",
     "showTitle": false,
     "tableResultSettingsMap": {},
     "title": ""
    }
   },
   "outputs": [
    {
     "output_type": "display_data",
     "data": {
      "text/html": [
       "<style scoped>\n",
       "  .table-result-container {\n",
       "    max-height: 300px;\n",
       "    overflow: auto;\n",
       "  }\n",
       "  table, th, td {\n",
       "    border: 1px solid black;\n",
       "    border-collapse: collapse;\n",
       "  }\n",
       "  th, td {\n",
       "    padding: 5px;\n",
       "  }\n",
       "  th {\n",
       "    text-align: left;\n",
       "  }\n",
       "</style><div class='table-result-container'><table class='table-result'><thead style='background-color: white'><tr><th>deptname</th><th>ManagerName</th><th>EmpName</th><th>sal_year</th><th>sal_month</th><th>salary</th></tr></thead><tbody><tr><td>IT</td><td>null</td><td>Raj</td><td>2023</td><td>4</td><td>50000</td></tr><tr><td>IT</td><td>Raj</td><td>Joanne</td><td>2023</td><td>4</td><td>4000</td></tr><tr><td>IT</td><td>Raj</td><td>Joanne</td><td>2023</td><td>4</td><td>4500</td></tr><tr><td>IT</td><td>Raj</td><td>Joanne</td><td>2023</td><td>4</td><td>4020</td></tr></tbody></table></div>"
      ]
     },
     "metadata": {
      "application/vnd.databricks.v1+output": {
       "addedWidgets": {},
       "aggData": [],
       "aggError": "",
       "aggOverflow": false,
       "aggSchema": [],
       "aggSeriesLimitReached": false,
       "aggType": "",
       "arguments": {},
       "columnCustomDisplayInfos": {},
       "data": [
        [
         "IT",
         null,
         "Raj",
         2023,
         4,
         50000
        ],
        [
         "IT",
         "Raj",
         "Joanne",
         2023,
         4,
         4000
        ],
        [
         "IT",
         "Raj",
         "Joanne",
         2023,
         4,
         4500
        ],
        [
         "IT",
         "Raj",
         "Joanne",
         2023,
         4,
         4020
        ]
       ],
       "datasetInfos": [],
       "dbfsResultPath": null,
       "isJsonSchema": true,
       "metadata": {},
       "overflow": false,
       "plotOptions": {
        "customPlotOptions": {},
        "displayType": "table",
        "pivotAggregation": null,
        "pivotColumns": null,
        "xColumns": null,
        "yColumns": null
       },
       "removedWidgets": [],
       "schema": [
        {
         "metadata": "{}",
         "name": "deptname",
         "type": "\"string\""
        },
        {
         "metadata": "{}",
         "name": "ManagerName",
         "type": "\"string\""
        },
        {
         "metadata": "{}",
         "name": "EmpName",
         "type": "\"string\""
        },
        {
         "metadata": "{}",
         "name": "sal_year",
         "type": "\"integer\""
        },
        {
         "metadata": "{}",
         "name": "sal_month",
         "type": "\"integer\""
        },
        {
         "metadata": "{}",
         "name": "salary",
         "type": "\"long\""
        }
       ],
       "type": "table"
      }
     },
     "output_type": "display_data"
    }
   ],
   "source": [
    "emp_df_mngr=(\n",
    "    emp_df.alias('main').join(emp_df.alias('mngr'),col('main.Mgrid')==col('mngr.EmpId'), how='left_outer')\n",
    " .select(   col('main.deptname'),\n",
    "    col('mngr.EmpName').alias('ManagerName'),\n",
    "    col('main.EmpName'),\n",
    "    col('main.sal_year'),\n",
    "    col('main.sal_month'),\n",
    "    col('main.salary'))\n",
    ")\n",
    "display(emp_df_mngr)"
   ]
  },
  {
   "cell_type": "markdown",
   "metadata": {
    "application/vnd.databricks.v1+cell": {
     "cellMetadata": {
      "byteLimit": 2048000,
      "rowLimit": 10000
     },
     "inputWidgets": {},
     "nuid": "e811eaba-9cc8-49c5-8e49-377f95762028",
     "showTitle": false,
     "tableResultSettingsMap": {},
     "title": ""
    }
   },
   "source": [
    "**_Question 4_**"
   ]
  },
  {
   "cell_type": "code",
   "execution_count": 0,
   "metadata": {
    "application/vnd.databricks.v1+cell": {
     "cellMetadata": {
      "byteLimit": 2048000,
      "rowLimit": 10000
     },
     "inputWidgets": {},
     "nuid": "4e374d33-c6fe-47d5-beb4-f1d72f12605d",
     "showTitle": false,
     "tableResultSettingsMap": {},
     "title": ""
    }
   },
   "outputs": [],
   "source": [
    "## Tiger Analytics\n",
    "\n",
    "#Mentioning the dataframe details here\n",
    "data = [(\"John,Smith\", \"Canada\"), (\"Mike,David\", \"USA\")]\n",
    "df = spark.createDataFrame(data,[\"Names\",\"Country\"])"
   ]
  },
  {
   "cell_type": "code",
   "execution_count": 0,
   "metadata": {
    "application/vnd.databricks.v1+cell": {
     "cellMetadata": {
      "byteLimit": 2048000,
      "rowLimit": 10000
     },
     "inputWidgets": {},
     "nuid": "80e34012-d429-4c12-ab1e-de19c5088dbc",
     "showTitle": false,
     "tableResultSettingsMap": {},
     "title": ""
    }
   },
   "outputs": [
    {
     "output_type": "stream",
     "name": "stdout",
     "output_type": "stream",
     "text": [
      "+----------+-------+\n|     Names|Country|\n+----------+-------+\n|John,Smith| Canada|\n|Mike,David|    USA|\n+----------+-------+\n\n"
     ]
    }
   ],
   "source": [
    "df.show()"
   ]
  },
  {
   "cell_type": "code",
   "execution_count": 0,
   "metadata": {
    "application/vnd.databricks.v1+cell": {
     "cellMetadata": {
      "byteLimit": 2048000,
      "rowLimit": 10000
     },
     "inputWidgets": {},
     "nuid": "71725786-78b2-41f9-a19b-e82399d08582",
     "showTitle": false,
     "tableResultSettingsMap": {},
     "title": ""
    }
   },
   "outputs": [
    {
     "output_type": "stream",
     "name": "stdout",
     "output_type": "stream",
     "text": [
      "root\n |-- Names: string (nullable = true)\n |-- Country: string (nullable = true)\n\n"
     ]
    }
   ],
   "source": [
    "df.printSchema()"
   ]
  },
  {
   "cell_type": "code",
   "execution_count": 0,
   "metadata": {
    "application/vnd.databricks.v1+cell": {
     "cellMetadata": {
      "byteLimit": 2048000,
      "rowLimit": 10000
     },
     "inputWidgets": {},
     "nuid": "39615fd5-f178-4b5d-a8fc-bf852e6b07b8",
     "showTitle": false,
     "tableResultSettingsMap": {},
     "title": ""
    }
   },
   "outputs": [
    {
     "output_type": "stream",
     "name": "stdout",
     "output_type": "stream",
     "text": [
      "+-------+-------------+\n|Country|   Namesarray|\n+-------+-------------+\n| Canada|[John, Smith]|\n|    USA|[Mike, David]|\n+-------+-------------+\n\n"
     ]
    }
   ],
   "source": [
    "df1=df.withColumn('Namesarray',split(col('Names'),',')).drop('Names')\n",
    "df1.show()"
   ]
  },
  {
   "cell_type": "code",
   "execution_count": 0,
   "metadata": {
    "application/vnd.databricks.v1+cell": {
     "cellMetadata": {
      "byteLimit": 2048000,
      "rowLimit": 10000
     },
     "inputWidgets": {},
     "nuid": "712cb990-d85a-4b10-9bbf-c34df17cb5b8",
     "showTitle": false,
     "tableResultSettingsMap": {},
     "title": ""
    }
   },
   "outputs": [
    {
     "output_type": "stream",
     "name": "stdout",
     "output_type": "stream",
     "text": [
      "+-------+-----+\n|Country|Names|\n+-------+-----+\n| Canada| John|\n| Canada|Smith|\n|    USA| Mike|\n|    USA|David|\n+-------+-----+\n\n"
     ]
    }
   ],
   "source": [
    "df1=df1.withColumn('Names',explode(col('Namesarray'))).drop('Namesarray')\n",
    "df1.show()"
   ]
  },
  {
   "cell_type": "markdown",
   "metadata": {
    "application/vnd.databricks.v1+cell": {
     "cellMetadata": {
      "byteLimit": 2048000,
      "rowLimit": 10000
     },
     "inputWidgets": {},
     "nuid": "0c519b0b-adf6-4acb-afcb-b27817f84aae",
     "showTitle": false,
     "tableResultSettingsMap": {},
     "title": ""
    }
   },
   "source": [
    "**_Question 5--ITC Infotech_**"
   ]
  },
  {
   "cell_type": "code",
   "execution_count": 0,
   "metadata": {
    "application/vnd.databricks.v1+cell": {
     "cellMetadata": {
      "byteLimit": 2048000,
      "rowLimit": 10000
     },
     "inputWidgets": {},
     "nuid": "755bbf6a-e794-48e7-b076-7068d55b425e",
     "showTitle": false,
     "tableResultSettingsMap": {},
     "title": ""
    }
   },
   "outputs": [],
   "source": [
    "schema = StructType([\n",
    "    StructField(\"player\", StringType(), True),\n",
    "    StructField(\"runs\", IntegerType(), True),\n",
    "    StructField(\"50s/100s\", StringType(), True)\n",
    "])\n",
    "\n",
    "#Create a DataFrame with the defined schema\n",
    "data = [(\"Sachin-IND\", 18694, \"93/49\"), (\"Ricky-AUS\", 11274, \"66/31\"),(\"Lara-WI\", 10222, \"45/21\"),(\"Rahul-IND\", 10355, \"95/11\"),(\"Jhonty-SA\", 7051, \"43/5\"),(\"Hayden-AUS\", 8722, \"67/19\")]\n",
    "players_df = spark.createDataFrame(data, schema)\n",
    "\n",
    "data1 = [(\"IND\", \"India\"), (\"AUS\", \"Australia\"), (\"WI\", \"WestIndies\"), (\"SA\", \"SouthAfrica\")]\n",
    "countries_df = spark.createDataFrame(data1,[\"SRT\",\"country\"])"
   ]
  },
  {
   "cell_type": "code",
   "execution_count": 0,
   "metadata": {
    "application/vnd.databricks.v1+cell": {
     "cellMetadata": {
      "byteLimit": 2048000,
      "rowLimit": 10000
     },
     "inputWidgets": {},
     "nuid": "5eb3be9c-0ef9-4c5f-9e05-9db396cfd395",
     "showTitle": false,
     "tableResultSettingsMap": {},
     "title": ""
    }
   },
   "outputs": [
    {
     "output_type": "stream",
     "name": "stdout",
     "output_type": "stream",
     "text": [
      "+----------+-----+--------+\n|    player| runs|50s/100s|\n+----------+-----+--------+\n|Sachin-IND|18694|   93/49|\n| Ricky-AUS|11274|   66/31|\n|   Lara-WI|10222|   45/21|\n| Rahul-IND|10355|   95/11|\n| Jhonty-SA| 7051|    43/5|\n|Hayden-AUS| 8722|   67/19|\n+----------+-----+--------+\n\nroot\n |-- player: string (nullable = true)\n |-- runs: integer (nullable = true)\n |-- 50s/100s: string (nullable = true)\n\n"
     ]
    }
   ],
   "source": [
    "players_df.show()\n",
    "players_df.printSchema()"
   ]
  },
  {
   "cell_type": "code",
   "execution_count": 0,
   "metadata": {
    "application/vnd.databricks.v1+cell": {
     "cellMetadata": {
      "byteLimit": 2048000,
      "rowLimit": 10000
     },
     "inputWidgets": {},
     "nuid": "ddc9105c-60c2-4ea6-8cff-c101a27989fc",
     "showTitle": false,
     "tableResultSettingsMap": {},
     "title": ""
    }
   },
   "outputs": [
    {
     "output_type": "stream",
     "name": "stdout",
     "output_type": "stream",
     "text": [
      "+---+-----------+\n|SRT|    country|\n+---+-----------+\n|IND|      India|\n|AUS|  Australia|\n| WI| WestIndies|\n| SA|SouthAfrica|\n+---+-----------+\n\nroot\n |-- SRT: string (nullable = true)\n |-- country: string (nullable = true)\n\n"
     ]
    }
   ],
   "source": [
    "countries_df.show()\n",
    "countries_df.printSchema()"
   ]
  },
  {
   "cell_type": "code",
   "execution_count": 0,
   "metadata": {
    "application/vnd.databricks.v1+cell": {
     "cellMetadata": {
      "byteLimit": 2048000,
      "rowLimit": 10000
     },
     "inputWidgets": {},
     "nuid": "6a07ebf7-faef-4907-b64f-1a9fc36d8c53",
     "showTitle": false,
     "tableResultSettingsMap": {},
     "title": ""
    }
   },
   "outputs": [
    {
     "output_type": "stream",
     "name": "stdout",
     "output_type": "stream",
     "text": [
      "+-----+--------+--------+-------+\n| runs|50s/100s|playernm|country|\n+-----+--------+--------+-------+\n|18694|   93/49|  Sachin|    IND|\n|11274|   66/31|   Ricky|    AUS|\n|10222|   45/21|    Lara|     WI|\n|10355|   95/11|   Rahul|    IND|\n| 7051|    43/5|  Jhonty|     SA|\n| 8722|   67/19|  Hayden|    AUS|\n+-----+--------+--------+-------+\n\n"
     ]
    }
   ],
   "source": [
    "players_df=(\n",
    "                    players_df.withColumn('playernm',split(col('player'),'-').getItem(0))\n",
    "                      .withColumn('country',split(col('player'),'-').getItem(1))\n",
    "                      .drop('player')\n",
    ")\n",
    "players_df.show()"
   ]
  },
  {
   "cell_type": "code",
   "execution_count": 0,
   "metadata": {
    "application/vnd.databricks.v1+cell": {
     "cellMetadata": {
      "byteLimit": 2048000,
      "rowLimit": 10000
     },
     "inputWidgets": {},
     "nuid": "653a6f3d-8e59-4789-9e57-a60d189c5a1a",
     "showTitle": false,
     "tableResultSettingsMap": {},
     "title": ""
    }
   },
   "outputs": [
    {
     "output_type": "stream",
     "name": "stdout",
     "output_type": "stream",
     "text": [
      "+-----+--------+-------+----+\n| runs|playernm|country|sums|\n+-----+--------+-------+----+\n|18694|  Sachin|    IND| 142|\n|11274|   Ricky|    AUS|  97|\n|10355|   Rahul|    IND| 106|\n+-----+--------+-------+----+\n\n"
     ]
    }
   ],
   "source": [
    "players_df=(\n",
    "                    players_df.withColumn('50s',split(col('50s/100s'),'/').getItem(0))\n",
    "                      .withColumn('100s',split(col('50s/100s'),'/').getItem(1))\n",
    "                      .withColumn('sums',(col('50s').cast('int')+col('100s').cast('int')))\n",
    "                      .filter(col('sums') > 90)\n",
    "                      .drop('50s/100s','50s','100s')\n",
    ")\n",
    "players_df.show()"
   ]
  },
  {
   "cell_type": "markdown",
   "metadata": {
    "application/vnd.databricks.v1+cell": {
     "cellMetadata": {
      "byteLimit": 2048000,
      "rowLimit": 10000
     },
     "inputWidgets": {},
     "nuid": "871103d3-03d2-4380-8397-b741a2d7f592",
     "showTitle": false,
     "tableResultSettingsMap": {},
     "title": ""
    }
   },
   "source": [
    "**Question-6: Tiger Analytics**"
   ]
  },
  {
   "cell_type": "code",
   "execution_count": 0,
   "metadata": {
    "application/vnd.databricks.v1+cell": {
     "cellMetadata": {
      "byteLimit": 2048000,
      "rowLimit": 10000
     },
     "inputWidgets": {},
     "nuid": "5b3d7b86-e47d-4efc-bca3-cc9e8706e7e9",
     "showTitle": false,
     "tableResultSettingsMap": {},
     "title": ""
    }
   },
   "outputs": [
    {
     "output_type": "stream",
     "name": "stdout",
     "output_type": "stream",
     "text": [
      "+-----+----+-----+\n| Name| Sub|Marks|\n+-----+----+-----+\n|Rudra|math|   79|\n|Rudra| eng|   60|\n|Shivu|math|   68|\n|Shivu| eng|   59|\n|  Anu|math|   65|\n|  Anu| eng|   80|\n+-----+----+-----+\n\n"
     ]
    }
   ],
   "source": [
    "data=[\n",
    "('Rudra','math',79),\n",
    "('Rudra','eng',60),\n",
    "('Shivu','math', 68),\n",
    "('Shivu','eng', 59),\n",
    "('Anu','math', 65),\n",
    "('Anu','eng',80)\n",
    "]\n",
    "schema=\"Name string,Sub string,Marks int\"\n",
    "df=spark.createDataFrame(data,schema)\n",
    "df.show()"
   ]
  },
  {
   "cell_type": "code",
   "execution_count": 0,
   "metadata": {
    "application/vnd.databricks.v1+cell": {
     "cellMetadata": {
      "byteLimit": 2048000,
      "rowLimit": 10000
     },
     "inputWidgets": {},
     "nuid": "4976d46f-2620-4a03-b1a0-dd777d98ac48",
     "showTitle": false,
     "tableResultSettingsMap": {},
     "title": ""
    }
   },
   "outputs": [
    {
     "output_type": "stream",
     "name": "stdout",
     "output_type": "stream",
     "text": [
      "+-----+----------+\n| Name|Marks_list|\n+-----+----------+\n|Rudra|  [79, 60]|\n|Shivu|  [68, 59]|\n|  Anu|  [65, 80]|\n+-----+----------+\n\n"
     ]
    }
   ],
   "source": [
    "df1=df.groupBy(col('Name')).agg(collect_list(col('Marks')).alias('Marks_list'))\n",
    "df1.show()"
   ]
  },
  {
   "cell_type": "code",
   "execution_count": 0,
   "metadata": {
    "application/vnd.databricks.v1+cell": {
     "cellMetadata": {
      "byteLimit": 2048000,
      "rowLimit": 10000
     },
     "inputWidgets": {},
     "nuid": "f4670d3b-5b01-4f2b-a64f-c7004069504c",
     "showTitle": false,
     "tableResultSettingsMap": {},
     "title": ""
    }
   },
   "outputs": [
    {
     "output_type": "stream",
     "name": "stdout",
     "output_type": "stream",
     "text": [
      "+-----+----+---+\n| Name|Math|eng|\n+-----+----+---+\n|Rudra|  79| 60|\n|Shivu|  68| 59|\n|  Anu|  65| 80|\n+-----+----+---+\n\n"
     ]
    }
   ],
   "source": [
    "df2=df1.select(col('Name'), col('Marks_list')[0].alias('Math'), col('Marks_list')[1].alias('eng'))\n",
    "df2.show()"
   ]
  },
  {
   "cell_type": "code",
   "execution_count": 0,
   "metadata": {
    "application/vnd.databricks.v1+cell": {
     "cellMetadata": {
      "byteLimit": 2048000,
      "rowLimit": 10000
     },
     "inputWidgets": {},
     "nuid": "b26d13d3-4823-434c-af2a-4c3efd4fd6ce",
     "showTitle": false,
     "tableResultSettingsMap": {},
     "title": ""
    }
   },
   "outputs": [
    {
     "output_type": "stream",
     "name": "stdout",
     "output_type": "stream",
     "text": [
      "+-----+---+----+\n| Name|eng|math|\n+-----+---+----+\n|Shivu| 59|  68|\n|Rudra| 60|  79|\n|  Anu| 80|  65|\n+-----+---+----+\n\n"
     ]
    }
   ],
   "source": [
    "pivoted_df = df.groupBy(\"Name\").pivot(\"Sub\").agg({\"Marks\": \"first\"}).show()"
   ]
  },
  {
   "cell_type": "markdown",
   "metadata": {
    "application/vnd.databricks.v1+cell": {
     "cellMetadata": {
      "byteLimit": 2048000,
      "rowLimit": 10000
     },
     "inputWidgets": {},
     "nuid": "88757f79-8a83-4c9a-8112-1ac88e1ccc29",
     "showTitle": false,
     "tableResultSettingsMap": {},
     "title": ""
    }
   },
   "source": [
    "**Question-7: Walmart**"
   ]
  },
  {
   "cell_type": "code",
   "execution_count": 0,
   "metadata": {
    "application/vnd.databricks.v1+cell": {
     "cellMetadata": {
      "byteLimit": 2048000,
      "rowLimit": 10000
     },
     "inputWidgets": {},
     "nuid": "cc07cf13-3a7f-4321-af54-1410b46994f9",
     "showTitle": false,
     "tableResultSettingsMap": {},
     "title": ""
    }
   },
   "outputs": [
    {
     "output_type": "stream",
     "name": "stdout",
     "output_type": "stream",
     "text": [
      "+-----------+----------------+------------------+\n|customer_id|transaction_type|transaction_amount|\n+-----------+----------------+------------------+\n|          1|          credit|              30.0|\n|          1|           debit|              90.0|\n|          2|          credit|              50.0|\n|          3|           debit|              57.0|\n|          2|           debit|              90.0|\n+-----------+----------------+------------------+\n\n"
     ]
    }
   ],
   "source": [
    "#Define the schema for transactions\n",
    "from pyspark.sql.types import FloatType\n",
    "transaction_schema = StructType([\n",
    "    StructField(\"customer_id\", IntegerType(), True),\n",
    "    StructField(\"transaction_type\", StringType(), True),\n",
    "    StructField(\"transaction_amount\", FloatType(), True)\n",
    "])\n",
    "\n",
    "transactions_data = [\n",
    "    (1, \"credit\", 30.0),\n",
    "    (1, \"debit\", 90.0),\n",
    "    (2, \"credit\", 50.0),\n",
    "    (3, \"debit\", 57.0),\n",
    "    (2, \"debit\", 90.0)\n",
    "]\n",
    "\n",
    "transactions_df = spark.createDataFrame(transactions_data, schema=transaction_schema)\n",
    "transactions_df.show()"
   ]
  },
  {
   "cell_type": "code",
   "execution_count": 0,
   "metadata": {
    "application/vnd.databricks.v1+cell": {
     "cellMetadata": {
      "byteLimit": 2048000,
      "rowLimit": 10000
     },
     "inputWidgets": {},
     "nuid": "e1e3dbb3-87bc-4059-8d81-e744537f7a23",
     "showTitle": false,
     "tableResultSettingsMap": {},
     "title": ""
    }
   },
   "outputs": [
    {
     "output_type": "stream",
     "name": "stdout",
     "output_type": "stream",
     "text": [
      "+-----------+------+-----+\n|customer_id|credit|debit|\n+-----------+------+-----+\n|          1|  30.0| 90.0|\n|          3|  null| 57.0|\n|          2|  50.0| 90.0|\n+-----------+------+-----+\n\n"
     ]
    }
   ],
   "source": [
    "from pyspark.sql import functions as F\n",
    "\n",
    "df_trans=transactions_df.groupBy('customer_id').pivot('transaction_type').agg({'transaction_amount':'sum'})\n",
    "df_trans.show()"
   ]
  },
  {
   "cell_type": "code",
   "execution_count": 0,
   "metadata": {
    "application/vnd.databricks.v1+cell": {
     "cellMetadata": {
      "byteLimit": 2048000,
      "rowLimit": 10000
     },
     "inputWidgets": {},
     "nuid": "5a34b67a-e5b0-434a-abfe-fb064c9c6fd3",
     "showTitle": false,
     "tableResultSettingsMap": {},
     "title": ""
    }
   },
   "outputs": [
    {
     "output_type": "stream",
     "name": "stdout",
     "output_type": "stream",
     "text": [
      "+-----------+--------------+\n|customer_id|current_amount|\n+-----------+--------------+\n|          1|        1000.0|\n|          2|        2000.0|\n|          3|        3000.0|\n|          4|        4000.0|\n+-----------+--------------+\n\n"
     ]
    }
   ],
   "source": [
    "amount_schema = StructType([\n",
    "    StructField(\"customer_id\", IntegerType(), True),\n",
    "    StructField(\"current_amount\", FloatType(), True)\n",
    "])\n",
    "\n",
    "amounts_data = [\n",
    "    (1, 1000.0),\n",
    "    (2, 2000.0),\n",
    "    (3, 3000.0),\n",
    "    (4, 4000.0)\n",
    "]\n",
    "\n",
    "amounts_df = spark.createDataFrame(amounts_data, schema=amount_schema)\n",
    "\n",
    "##Show the amounts DataFrame\n",
    "amounts_df.show()"
   ]
  },
  {
   "cell_type": "code",
   "execution_count": 0,
   "metadata": {
    "application/vnd.databricks.v1+cell": {
     "cellMetadata": {
      "byteLimit": 2048000,
      "rowLimit": 10000
     },
     "inputWidgets": {},
     "nuid": "72f00445-a1d7-45f9-9bc4-d7575bdfed71",
     "showTitle": false,
     "tableResultSettingsMap": {},
     "title": ""
    }
   },
   "outputs": [
    {
     "output_type": "stream",
     "name": "stdout",
     "output_type": "stream",
     "text": [
      "+-----------+------+-----+--------------+\n|customer_id|credit|debit|current_amount|\n+-----------+------+-----+--------------+\n|          1|  30.0| 90.0|        1000.0|\n|          3|  null| 57.0|        3000.0|\n|          2|  50.0| 90.0|        2000.0|\n+-----------+------+-----+--------------+\n\n"
     ]
    }
   ],
   "source": [
    "cust_join=df_trans.join(amounts_df,df_trans.customer_id==amounts_df.customer_id,'left').drop(amounts_df.customer_id)\n",
    "cust_join.show()"
   ]
  },
  {
   "cell_type": "code",
   "execution_count": 0,
   "metadata": {
    "application/vnd.databricks.v1+cell": {
     "cellMetadata": {
      "byteLimit": 2048000,
      "rowLimit": 10000
     },
     "inputWidgets": {},
     "nuid": "175bd92f-d507-4fe4-81b6-7a75f8482bc7",
     "showTitle": false,
     "tableResultSettingsMap": {},
     "title": ""
    }
   },
   "outputs": [
    {
     "output_type": "stream",
     "name": "stdout",
     "output_type": "stream",
     "text": [
      "+-----------+------+-----+--------------+----+\n|customer_id|credit|debit|current_amount| net|\n+-----------+------+-----+--------------+----+\n|          1|  30.0| 90.0|        1000.0|60.0|\n|          3|  null| 57.0|        3000.0|null|\n|          2|  50.0| 90.0|        2000.0|40.0|\n+-----------+------+-----+--------------+----+\n\n"
     ]
    }
   ],
   "source": [
    "cust_join1=cust_join.withColumn('net',F.abs(col('credit') - col('debit')))\n",
    "cust_join1.show()\n"
   ]
  },
  {
   "cell_type": "code",
   "execution_count": 0,
   "metadata": {
    "application/vnd.databricks.v1+cell": {
     "cellMetadata": {
      "byteLimit": 2048000,
      "rowLimit": 10000
     },
     "inputWidgets": {},
     "nuid": "9473bea0-b2b7-40d1-a37a-370f667fefa4",
     "showTitle": false,
     "tableResultSettingsMap": {},
     "title": ""
    }
   },
   "outputs": [
    {
     "output_type": "stream",
     "name": "stdout",
     "output_type": "stream",
     "text": [
      "+-----------+--------------+\n|customer_id|current_amount|\n+-----------+--------------+\n|          1|         940.0|\n|          3|        3000.0|\n|          2|        1960.0|\n+-----------+--------------+\n\n"
     ]
    }
   ],
   "source": [
    "cust_join1=cust_join1.fillna({'net': 0}).drop('credit','debit')\n",
    "cust_join1=cust_join1.withColumn('current_amount',(col('current_amount') - col('net'))).drop('net')\n",
    "cust_join1.show()"
   ]
  },
  {
   "cell_type": "markdown",
   "metadata": {
    "application/vnd.databricks.v1+cell": {
     "cellMetadata": {
      "byteLimit": 2048000,
      "rowLimit": 10000
     },
     "inputWidgets": {},
     "nuid": "22a15ffa-31ea-4edd-9249-c43b2d1ac5b9",
     "showTitle": false,
     "tableResultSettingsMap": {},
     "title": ""
    }
   },
   "source": [
    "8. For a given dataframe find out that if its column - \"department\" has palidrome values or not:**"
   ]
  },
  {
   "cell_type": "code",
   "execution_count": 0,
   "metadata": {
    "application/vnd.databricks.v1+cell": {
     "cellMetadata": {
      "byteLimit": 2048000,
      "rowLimit": 10000
     },
     "inputWidgets": {},
     "nuid": "f1f7b4b2-a8da-4f5a-b85f-f444f71fe550",
     "showTitle": false,
     "tableResultSettingsMap": {},
     "title": ""
    }
   },
   "outputs": [
    {
     "output_type": "display_data",
     "data": {
      "text/html": [
       "<style scoped>\n",
       "  .table-result-container {\n",
       "    max-height: 300px;\n",
       "    overflow: auto;\n",
       "  }\n",
       "  table, th, td {\n",
       "    border: 1px solid black;\n",
       "    border-collapse: collapse;\n",
       "  }\n",
       "  th, td {\n",
       "    padding: 5px;\n",
       "  }\n",
       "  th {\n",
       "    text-align: left;\n",
       "  }\n",
       "</style><div class='table-result-container'><table class='table-result'><thead style='background-color: white'><tr><th>name</th><th>department</th><th>salary</th></tr></thead><tbody><tr><td>Harry</td><td>HR</td><td>12000</td></tr><tr><td>George</td><td>ADA</td><td>23000</td></tr><tr><td>Fred</td><td>TQT</td><td>21000</td></tr><tr><td>Sally</td><td>IT</td><td>25000</td></tr><tr><td>Neel</td><td>SOS</td><td>23000</td></tr><tr><td>Ashish</td><td>IT</td><td>27000</td></tr></tbody></table></div>"
      ]
     },
     "metadata": {
      "application/vnd.databricks.v1+output": {
       "addedWidgets": {},
       "aggData": [],
       "aggError": "",
       "aggOverflow": false,
       "aggSchema": [],
       "aggSeriesLimitReached": false,
       "aggType": "",
       "arguments": {},
       "columnCustomDisplayInfos": {},
       "data": [
        [
         "Harry",
         "HR",
         12000
        ],
        [
         "George",
         "ADA",
         23000
        ],
        [
         "Fred",
         "TQT",
         21000
        ],
        [
         "Sally",
         "IT",
         25000
        ],
        [
         "Neel",
         "SOS",
         23000
        ],
        [
         "Ashish",
         "IT",
         27000
        ]
       ],
       "datasetInfos": [],
       "dbfsResultPath": null,
       "isJsonSchema": true,
       "metadata": {},
       "overflow": false,
       "plotOptions": {
        "customPlotOptions": {},
        "displayType": "table",
        "pivotAggregation": null,
        "pivotColumns": null,
        "xColumns": null,
        "yColumns": null
       },
       "removedWidgets": [],
       "schema": [
        {
         "metadata": "{}",
         "name": "name",
         "type": "\"string\""
        },
        {
         "metadata": "{}",
         "name": "department",
         "type": "\"string\""
        },
        {
         "metadata": "{}",
         "name": "salary",
         "type": "\"long\""
        }
       ],
       "type": "table"
      }
     },
     "output_type": "display_data"
    }
   ],
   "source": [
    "columns = [\"name\",\"department\", \"salary\"]\n",
    "data = [(\"Harry\", \"HR\", 12000),\n",
    "    (\"George\", \"ADA\", 23000),\n",
    "    (\"Fred\", \"TQT\", 21000),\n",
    "    (\"Sally\", \"IT\", 25000),\n",
    "    (\"Neel\", \"SOS\", 23000),\n",
    "    (\"Ashish\", \"IT\", 27000)]\n",
    "\n",
    "df_src = spark.createDataFrame(data=data,schema=columns)\n",
    "df_src.display()"
   ]
  },
  {
   "cell_type": "code",
   "execution_count": 0,
   "metadata": {
    "application/vnd.databricks.v1+cell": {
     "cellMetadata": {
      "byteLimit": 2048000,
      "rowLimit": 10000
     },
     "inputWidgets": {},
     "nuid": "2c5fc608-0828-42ff-9b1b-9cbaeffbd752",
     "showTitle": false,
     "tableResultSettingsMap": {},
     "title": ""
    }
   },
   "outputs": [],
   "source": [
    "def check_palindrome(col):\n",
    "    return col == col[::-1]"
   ]
  },
  {
   "cell_type": "code",
   "execution_count": 0,
   "metadata": {
    "application/vnd.databricks.v1+cell": {
     "cellMetadata": {
      "byteLimit": 2048000,
      "rowLimit": 10000
     },
     "inputWidgets": {},
     "nuid": "0086bf72-d86a-473f-bda2-0cc72a5cdd3f",
     "showTitle": false,
     "tableResultSettingsMap": {},
     "title": ""
    }
   },
   "outputs": [],
   "source": [
    "# Registering UDF\n",
    "upper_udf = udf(lambda x: check_palindrome(x), BooleanType()) "
   ]
  },
  {
   "cell_type": "code",
   "execution_count": 0,
   "metadata": {
    "application/vnd.databricks.v1+cell": {
     "cellMetadata": {
      "byteLimit": 2048000,
      "rowLimit": 10000
     },
     "inputWidgets": {},
     "nuid": "4994c9c2-17da-4e9c-ad63-de7f93fb6a0c",
     "showTitle": false,
     "tableResultSettingsMap": {},
     "title": ""
    }
   },
   "outputs": [
    {
     "output_type": "display_data",
     "data": {
      "text/html": [
       "<style scoped>\n",
       "  .table-result-container {\n",
       "    max-height: 300px;\n",
       "    overflow: auto;\n",
       "  }\n",
       "  table, th, td {\n",
       "    border: 1px solid black;\n",
       "    border-collapse: collapse;\n",
       "  }\n",
       "  th, td {\n",
       "    padding: 5px;\n",
       "  }\n",
       "  th {\n",
       "    text-align: left;\n",
       "  }\n",
       "</style><div class='table-result-container'><table class='table-result'><thead style='background-color: white'><tr><th>name</th><th>department</th><th>salary</th><th>is_palindrome</th></tr></thead><tbody><tr><td>Harry</td><td>HR</td><td>12000</td><td>false</td></tr><tr><td>George</td><td>ADA</td><td>23000</td><td>true</td></tr><tr><td>Fred</td><td>TQT</td><td>21000</td><td>true</td></tr><tr><td>Sally</td><td>IT</td><td>25000</td><td>false</td></tr><tr><td>Neel</td><td>SOS</td><td>23000</td><td>true</td></tr><tr><td>Ashish</td><td>IT</td><td>27000</td><td>false</td></tr></tbody></table></div>"
      ]
     },
     "metadata": {
      "application/vnd.databricks.v1+output": {
       "addedWidgets": {},
       "aggData": [],
       "aggError": "",
       "aggOverflow": false,
       "aggSchema": [],
       "aggSeriesLimitReached": false,
       "aggType": "",
       "arguments": {},
       "columnCustomDisplayInfos": {},
       "data": [
        [
         "Harry",
         "HR",
         12000,
         false
        ],
        [
         "George",
         "ADA",
         23000,
         true
        ],
        [
         "Fred",
         "TQT",
         21000,
         true
        ],
        [
         "Sally",
         "IT",
         25000,
         false
        ],
        [
         "Neel",
         "SOS",
         23000,
         true
        ],
        [
         "Ashish",
         "IT",
         27000,
         false
        ]
       ],
       "datasetInfos": [],
       "dbfsResultPath": null,
       "isJsonSchema": true,
       "metadata": {},
       "overflow": false,
       "plotOptions": {
        "customPlotOptions": {},
        "displayType": "table",
        "pivotAggregation": null,
        "pivotColumns": null,
        "xColumns": null,
        "yColumns": null
       },
       "removedWidgets": [],
       "schema": [
        {
         "metadata": "{}",
         "name": "name",
         "type": "\"string\""
        },
        {
         "metadata": "{}",
         "name": "department",
         "type": "\"string\""
        },
        {
         "metadata": "{}",
         "name": "salary",
         "type": "\"long\""
        },
        {
         "metadata": "{}",
         "name": "is_palindrome",
         "type": "\"boolean\""
        }
       ],
       "type": "table"
      }
     },
     "output_type": "display_data"
    }
   ],
   "source": [
    "display(df_src.withColumn('is_palindrome',upper_udf(col('department'))))"
   ]
  },
  {
   "cell_type": "markdown",
   "metadata": {
    "application/vnd.databricks.v1+cell": {
     "cellMetadata": {
      "byteLimit": 2048000,
      "rowLimit": 10000
     },
     "inputWidgets": {},
     "nuid": "2efe80b5-0d1d-4225-9cd9-ee946da31011",
     "showTitle": false,
     "tableResultSettingsMap": {},
     "title": ""
    }
   },
   "source": [
    "9. In the below DF there is a column containing name with some special characters and numbers. Remove these special characters and numbers from name**"
   ]
  },
  {
   "cell_type": "code",
   "execution_count": 0,
   "metadata": {
    "application/vnd.databricks.v1+cell": {
     "cellMetadata": {
      "byteLimit": 2048000,
      "rowLimit": 10000
     },
     "inputWidgets": {},
     "nuid": "159c1db8-e8bb-4f1c-852b-4f069b3d2464",
     "showTitle": false,
     "tableResultSettingsMap": {},
     "title": ""
    }
   },
   "outputs": [
    {
     "output_type": "display_data",
     "data": {
      "text/html": [
       "<style scoped>\n",
       "  .table-result-container {\n",
       "    max-height: 300px;\n",
       "    overflow: auto;\n",
       "  }\n",
       "  table, th, td {\n",
       "    border: 1px solid black;\n",
       "    border-collapse: collapse;\n",
       "  }\n",
       "  th, td {\n",
       "    padding: 5px;\n",
       "  }\n",
       "  th {\n",
       "    text-align: left;\n",
       "  }\n",
       "</style><div class='table-result-container'><table class='table-result'><thead style='background-color: white'><tr><th>no</th><th>Name</th></tr></thead><tbody><tr><td>1</td><td>sa$m sm**ith</td></tr><tr><td>2</td><td>tr@#ce!y s^mith</td></tr><tr><td>3</td><td>amy%^ & sand(*ers</td></tr><tr><td>4</td><td>da3@@%^ & sand(*123</td></tr></tbody></table></div>"
      ]
     },
     "metadata": {
      "application/vnd.databricks.v1+output": {
       "addedWidgets": {},
       "aggData": [],
       "aggError": "",
       "aggOverflow": false,
       "aggSchema": [],
       "aggSeriesLimitReached": false,
       "aggType": "",
       "arguments": {},
       "columnCustomDisplayInfos": {},
       "data": [
        [
         "1",
         "sa$m sm**ith"
        ],
        [
         "2",
         "tr@#ce!y s^mith"
        ],
        [
         "3",
         "amy%^ & sand(*ers"
        ],
        [
         "4",
         "da3@@%^ & sand(*123"
        ]
       ],
       "datasetInfos": [],
       "dbfsResultPath": null,
       "isJsonSchema": true,
       "metadata": {},
       "overflow": false,
       "plotOptions": {
        "customPlotOptions": {},
        "displayType": "table",
        "pivotAggregation": null,
        "pivotColumns": null,
        "xColumns": null,
        "yColumns": null
       },
       "removedWidgets": [],
       "schema": [
        {
         "metadata": "{}",
         "name": "no",
         "type": "\"string\""
        },
        {
         "metadata": "{}",
         "name": "Name",
         "type": "\"string\""
        }
       ],
       "type": "table"
      }
     },
     "output_type": "display_data"
    }
   ],
   "source": [
    "columns = [\"no\",\"Name\"]\n",
    "data = [(\"1\", \"sa$m sm**ith\"),\n",
    "    (\"2\", \"tr@#ce!y s^mith\"),\n",
    "    (\"3\", \"amy%^ & sand(*ers\"),\n",
    "    (\"4\", \"da3@@%^ & sand(*123\")]\n",
    "\n",
    "df_src = spark.createDataFrame(data=data,schema=columns)\n",
    "df_src.display()"
   ]
  },
  {
   "cell_type": "code",
   "execution_count": 0,
   "metadata": {
    "application/vnd.databricks.v1+cell": {
     "cellMetadata": {
      "byteLimit": 2048000,
      "rowLimit": 10000
     },
     "inputWidgets": {},
     "nuid": "d706f760-31d0-47c0-80b7-a5664645cede",
     "showTitle": false,
     "tableResultSettingsMap": {},
     "title": ""
    }
   },
   "outputs": [],
   "source": [
    "import re\n",
    "\n",
    "def remove_special_char(x):\n",
    "    # Remove anything that is not a letter, digit, or space\n",
    "    x = re.sub(r'[^A-Za-z0-9 ]', '', x)\n",
    "    return x\n"
   ]
  },
  {
   "cell_type": "code",
   "execution_count": 0,
   "metadata": {
    "application/vnd.databricks.v1+cell": {
     "cellMetadata": {
      "byteLimit": 2048000,
      "rowLimit": 10000
     },
     "inputWidgets": {},
     "nuid": "8599471b-b231-43be-9a96-282f7040659e",
     "showTitle": false,
     "tableResultSettingsMap": {},
     "title": ""
    }
   },
   "outputs": [],
   "source": [
    "regular_exp_udf=udf(lambda x:remove_special_char(x), StringType())"
   ]
  },
  {
   "cell_type": "code",
   "execution_count": 0,
   "metadata": {
    "application/vnd.databricks.v1+cell": {
     "cellMetadata": {
      "byteLimit": 2048000,
      "rowLimit": 10000
     },
     "inputWidgets": {},
     "nuid": "9c6d4be7-6f0e-42b5-844d-706795b4befe",
     "showTitle": false,
     "tableResultSettingsMap": {},
     "title": ""
    }
   },
   "outputs": [
    {
     "output_type": "stream",
     "name": "stdout",
     "output_type": "stream",
     "text": [
      "+---+-------------------+------------+\n|no |Name               |Newname     |\n+---+-------------------+------------+\n|1  |sa$m sm**ith       |sam smith   |\n|2  |tr@#ce!y s^mith    |trcey smith |\n|3  |amy%^ & sand(*ers  |amy  sanders|\n|4  |da3@@%^ & sand(*123|da3  sand123|\n+---+-------------------+------------+\n\n"
     ]
    }
   ],
   "source": [
    "df_src=df_src.withColumn('Newname',regular_exp_udf(col('Name')))\n",
    "df_src.show(truncate=False)"
   ]
  },
  {
   "cell_type": "code",
   "execution_count": 0,
   "metadata": {
    "application/vnd.databricks.v1+cell": {
     "cellMetadata": {
      "byteLimit": 2048000,
      "rowLimit": 10000
     },
     "inputWidgets": {},
     "nuid": "19f374b8-1161-42b5-894e-75dfb3646003",
     "showTitle": false,
     "tableResultSettingsMap": {},
     "title": ""
    }
   },
   "outputs": [],
   "source": [
    "# %md\n",
    "# MAGIC Write pyspark code to display following data from below tables\n",
    "# MAGIC -------\n",
    "# MAGIC 1. employeeid\n",
    "# MAGIC 2. default_number,\n",
    "# MAGIC 3. total_entry\n",
    "# MAGIC 4. total_login\n",
    "# MAGIC 5. total_logout\n",
    "# MAGIC 6. first_login\n",
    "# MAGIC 7. first_logout\n",
    "# MAGIC 8. last_login\n",
    "# MAGIC 9. last_logout\n",
    "# MAGIC"
   ]
  },
  {
   "cell_type": "code",
   "execution_count": 0,
   "metadata": {
    "application/vnd.databricks.v1+cell": {
     "cellMetadata": {
      "byteLimit": 2048000,
      "rowLimit": 10000
     },
     "inputWidgets": {},
     "nuid": "82a1633d-b196-4bce-97f3-fbc23bafa1b2",
     "showTitle": false,
     "tableResultSettingsMap": {},
     "title": ""
    }
   },
   "outputs": [
    {
     "output_type": "stream",
     "name": "stdout",
     "output_type": "stream",
     "text": [
      "Out[394]: True"
     ]
    }
   ],
   "source": [
    "dbutils.fs.mkdirs('dbfs:/FileStore/Employeedata')"
   ]
  },
  {
   "cell_type": "code",
   "execution_count": 0,
   "metadata": {
    "application/vnd.databricks.v1+cell": {
     "cellMetadata": {
      "byteLimit": 2048000,
      "rowLimit": 10000
     },
     "inputWidgets": {},
     "nuid": "843b7b59-f2e4-44f9-852a-d2ac4c25a1a9",
     "showTitle": false,
     "tableResultSettingsMap": {},
     "title": ""
    }
   },
   "outputs": [
    {
     "output_type": "stream",
     "name": "stdout",
     "output_type": "stream",
     "text": [
      "+-----------+------------+-------------------+\n|employee_id|entry_detail|   timestamp_detail|\n+-----------+------------+-------------------+\n|       1000|       login|2023-06-16 01:00:34|\n|       1000|      logout|2023-06-17 01:00:34|\n|       1000|       login|2023-06-18 01:00:34|\n|       1000|      logout|2023-06-19 01:00:34|\n|       1001|       login|2023-06-20 01:00:34|\n+-----------+------------+-------------------+\nonly showing top 5 rows\n\n"
     ]
    }
   ],
   "source": [
    "df_emp_logs = spark.read.format(\"csv\").option(\"header\", \"true\").load(\"dbfs:/FileStore/Employeedata/employee_logs.csv\")\n",
    "df_emp_logs.show(5)\n",
    "# COMMAND ----------\n"
   ]
  },
  {
   "cell_type": "code",
   "execution_count": 0,
   "metadata": {
    "application/vnd.databricks.v1+cell": {
     "cellMetadata": {
      "byteLimit": 2048000,
      "rowLimit": 10000
     },
     "inputWidgets": {},
     "nuid": "600739ec-5000-404a-91e1-646dcbb9b11e",
     "showTitle": false,
     "tableResultSettingsMap": {},
     "title": ""
    }
   },
   "outputs": [
    {
     "output_type": "stream",
     "name": "stdout",
     "output_type": "stream",
     "text": [
      "+-----------+------------+-------------------+---------------+----------------+-------------------+-------------------+\n|employee_id|entry_detail|   timestamp_detail|total_login_num|total_logout_num|         login_time|        logout_time|\n+-----------+------------+-------------------+---------------+----------------+-------------------+-------------------+\n|       1000|       login|2023-06-16 01:00:34|              1|               0|2023-06-16 01:00:34|               null|\n|       1000|      logout|2023-06-17 01:00:34|              0|               1|               null|2023-06-17 01:00:34|\n|       1000|       login|2023-06-18 01:00:34|              1|               0|2023-06-18 01:00:34|               null|\n|       1000|      logout|2023-06-19 01:00:34|              0|               1|               null|2023-06-19 01:00:34|\n|       1001|       login|2023-06-20 01:00:34|              1|               0|2023-06-20 01:00:34|               null|\n|       1001|       login|2023-06-21 01:00:34|              1|               0|2023-06-21 01:00:34|               null|\n|       1001|       login|2023-06-22 01:00:34|              1|               0|2023-06-22 01:00:34|               null|\n|       1001|      logout|2023-06-23 01:00:34|              0|               1|               null|2023-06-23 01:00:34|\n|       1002|       login|2023-06-24 01:00:34|              1|               0|2023-06-24 01:00:34|               null|\n|       1002|       login|2023-06-25 01:00:34|              1|               0|2023-06-25 01:00:34|               null|\n|       1002|      logout|2023-06-26 01:00:34|              0|               1|               null|2023-06-26 01:00:34|\n|       1003|       login|2023-06-27 01:00:34|              1|               0|2023-06-27 01:00:34|               null|\n|       1003|       login|2023-06-28 01:00:34|              1|               0|2023-06-28 01:00:34|               null|\n|       1003|      logout|2023-06-29 01:00:34|              0|               1|               null|2023-06-29 01:00:34|\n|       1004|       login|2023-06-30 01:00:34|              1|               0|2023-06-30 01:00:34|               null|\n|       1004|      logout|2023-07-01 01:00:34|              0|               1|               null|2023-07-01 01:00:34|\n+-----------+------------+-------------------+---------------+----------------+-------------------+-------------------+\n\n"
     ]
    }
   ],
   "source": [
    "df_result=(\n",
    "    df_emp_logs.withColumn('total_login_num',when(col('entry_detail')=='login' ,lit(1)).otherwise(lit(0)))\n",
    "            .withColumn('total_logout_num',when(col('entry_detail')=='logout' ,lit(1)).otherwise(lit(0)))\n",
    "            .withColumn('login_time',when(col('entry_detail')=='login' ,col('timestamp_detail')).otherwise(None))\n",
    "            .withColumn('logout_time',when(col('entry_detail')=='logout' ,col('timestamp_detail')).otherwise(None))\n",
    ")\n",
    "\n",
    "df_result.show()"
   ]
  },
  {
   "cell_type": "code",
   "execution_count": 0,
   "metadata": {
    "application/vnd.databricks.v1+cell": {
     "cellMetadata": {
      "byteLimit": 2048000,
      "rowLimit": 10000
     },
     "inputWidgets": {},
     "nuid": "6f524412-733d-460f-ab75-7bd2dd6a99ab",
     "showTitle": false,
     "tableResultSettingsMap": {},
     "title": ""
    }
   },
   "outputs": [
    {
     "output_type": "display_data",
     "data": {
      "text/html": [
       "<style scoped>\n",
       "  .table-result-container {\n",
       "    max-height: 300px;\n",
       "    overflow: auto;\n",
       "  }\n",
       "  table, th, td {\n",
       "    border: 1px solid black;\n",
       "    border-collapse: collapse;\n",
       "  }\n",
       "  th, td {\n",
       "    padding: 5px;\n",
       "  }\n",
       "  th {\n",
       "    text-align: left;\n",
       "  }\n",
       "</style><div class='table-result-container'><table class='table-result'><thead style='background-color: white'><tr><th>employee_id</th><th>total_login</th><th>total_logout</th><th>last_login_time</th><th>last_logout_time</th></tr></thead><tbody><tr><td>1000</td><td>2</td><td>2</td><td>2023-06-18 01:00:34</td><td>2023-06-19 01:00:34</td></tr><tr><td>1001</td><td>3</td><td>1</td><td>2023-06-22 01:00:34</td><td>2023-06-23 01:00:34</td></tr><tr><td>1002</td><td>2</td><td>1</td><td>2023-06-25 01:00:34</td><td>2023-06-26 01:00:34</td></tr><tr><td>1003</td><td>2</td><td>1</td><td>2023-06-28 01:00:34</td><td>2023-06-29 01:00:34</td></tr><tr><td>1004</td><td>1</td><td>1</td><td>2023-06-30 01:00:34</td><td>2023-07-01 01:00:34</td></tr></tbody></table></div>"
      ]
     },
     "metadata": {
      "application/vnd.databricks.v1+output": {
       "addedWidgets": {},
       "aggData": [],
       "aggError": "",
       "aggOverflow": false,
       "aggSchema": [],
       "aggSeriesLimitReached": false,
       "aggType": "",
       "arguments": {},
       "columnCustomDisplayInfos": {},
       "data": [
        [
         "1000",
         2,
         2,
         "2023-06-18 01:00:34",
         "2023-06-19 01:00:34"
        ],
        [
         "1001",
         3,
         1,
         "2023-06-22 01:00:34",
         "2023-06-23 01:00:34"
        ],
        [
         "1002",
         2,
         1,
         "2023-06-25 01:00:34",
         "2023-06-26 01:00:34"
        ],
        [
         "1003",
         2,
         1,
         "2023-06-28 01:00:34",
         "2023-06-29 01:00:34"
        ],
        [
         "1004",
         1,
         1,
         "2023-06-30 01:00:34",
         "2023-07-01 01:00:34"
        ]
       ],
       "datasetInfos": [],
       "dbfsResultPath": null,
       "isJsonSchema": true,
       "metadata": {},
       "overflow": false,
       "plotOptions": {
        "customPlotOptions": {},
        "displayType": "table",
        "pivotAggregation": null,
        "pivotColumns": null,
        "xColumns": null,
        "yColumns": null
       },
       "removedWidgets": [],
       "schema": [
        {
         "metadata": "{}",
         "name": "employee_id",
         "type": "\"string\""
        },
        {
         "metadata": "{}",
         "name": "total_login",
         "type": "\"long\""
        },
        {
         "metadata": "{}",
         "name": "total_logout",
         "type": "\"long\""
        },
        {
         "metadata": "{}",
         "name": "last_login_time",
         "type": "\"string\""
        },
        {
         "metadata": "{}",
         "name": "last_logout_time",
         "type": "\"string\""
        }
       ],
       "type": "table"
      }
     },
     "output_type": "display_data"
    }
   ],
   "source": [
    "display(\n",
    "    df_result.groupBy('employee_id')\n",
    "    .agg(sum('total_login_num').alias('total_login'),\n",
    "        sum('total_logout_num').alias('total_logout'),\n",
    "        max('login_time').alias('last_login_time'),\n",
    "        max('logout_time').alias('last_logout_time'))\n",
    ")"
   ]
  },
  {
   "cell_type": "code",
   "execution_count": 0,
   "metadata": {
    "application/vnd.databricks.v1+cell": {
     "cellMetadata": {
      "byteLimit": 2048000,
      "rowLimit": 10000
     },
     "inputWidgets": {},
     "nuid": "c00c7324-785e-446c-98be-b7ec2f0af426",
     "showTitle": false,
     "tableResultSettingsMap": {},
     "title": ""
    }
   },
   "outputs": [
    {
     "output_type": "display_data",
     "data": {
      "text/html": [
       "<style scoped>\n",
       "  .table-result-container {\n",
       "    max-height: 300px;\n",
       "    overflow: auto;\n",
       "  }\n",
       "  table, th, td {\n",
       "    border: 1px solid black;\n",
       "    border-collapse: collapse;\n",
       "  }\n",
       "  th, td {\n",
       "    padding: 5px;\n",
       "  }\n",
       "  th {\n",
       "    text-align: left;\n",
       "  }\n",
       "</style><div class='table-result-container'><table class='table-result'><thead style='background-color: white'><tr><th>employee_id</th><th>phone</th><th>default</th></tr></thead><tbody><tr><td>1000</td><td>9240008920</td><td>FALSE</td></tr><tr><td>1001</td><td>9550002323</td><td>FALSE</td></tr><tr><td>1001</td><td>8580404777</td><td>TRUE</td></tr><tr><td>1000</td><td>9000232350</td><td>TRUE</td></tr><tr><td>1002</td><td>9240008920</td><td>TRUE</td></tr><tr><td>1003</td><td>9450200459</td><td>FALSE</td></tr><tr><td>1003</td><td>8181002222</td><td>TRUE</td></tr><tr><td>1004</td><td>9000232350</td><td>FALSE</td></tr><tr><td>1004</td><td>9000232351</td><td>TRUE</td></tr></tbody></table></div>"
      ]
     },
     "metadata": {
      "application/vnd.databricks.v1+output": {
       "addedWidgets": {},
       "aggData": [],
       "aggError": "",
       "aggOverflow": false,
       "aggSchema": [],
       "aggSeriesLimitReached": false,
       "aggType": "",
       "arguments": {},
       "columnCustomDisplayInfos": {},
       "data": [
        [
         "1000",
         "9240008920",
         "FALSE"
        ],
        [
         "1001",
         "9550002323",
         "FALSE"
        ],
        [
         "1001",
         "8580404777",
         "TRUE"
        ],
        [
         "1000",
         "9000232350",
         "TRUE"
        ],
        [
         "1002",
         "9240008920",
         "TRUE"
        ],
        [
         "1003",
         "9450200459",
         "FALSE"
        ],
        [
         "1003",
         "8181002222",
         "TRUE"
        ],
        [
         "1004",
         "9000232350",
         "FALSE"
        ],
        [
         "1004",
         "9000232351",
         "TRUE"
        ]
       ],
       "datasetInfos": [],
       "dbfsResultPath": null,
       "isJsonSchema": true,
       "metadata": {},
       "overflow": false,
       "plotOptions": {
        "customPlotOptions": {},
        "displayType": "table",
        "pivotAggregation": null,
        "pivotColumns": null,
        "xColumns": null,
        "yColumns": null
       },
       "removedWidgets": [],
       "schema": [
        {
         "metadata": "{}",
         "name": "employee_id",
         "type": "\"string\""
        },
        {
         "metadata": "{}",
         "name": "phone",
         "type": "\"string\""
        },
        {
         "metadata": "{}",
         "name": "default",
         "type": "\"string\""
        }
       ],
       "type": "table"
      }
     },
     "output_type": "display_data"
    }
   ],
   "source": [
    "df_emp_ph = spark.read.format(\"csv\").option(\"header\", \"true\").load(\"dbfs:/FileStore/Employeedata/employee_phone.csv\")\n",
    "df_emp_ph.display()"
   ]
  },
  {
   "cell_type": "code",
   "execution_count": 0,
   "metadata": {
    "application/vnd.databricks.v1+cell": {
     "cellMetadata": {
      "byteLimit": 2048000,
      "rowLimit": 10000
     },
     "inputWidgets": {},
     "nuid": "b3a05daf-974c-4540-8ef4-aec54b141e3a",
     "showTitle": false,
     "tableResultSettingsMap": {},
     "title": ""
    }
   },
   "outputs": [
    {
     "output_type": "stream",
     "name": "stdout",
     "output_type": "stream",
     "text": [
      "+-----------+------------+-------------------+----------+-------+\n|employee_id|entry_detail|   timestamp_detail|     phone|default|\n+-----------+------------+-------------------+----------+-------+\n|       1000|       login|2023-06-16 01:00:34|9000232350|   TRUE|\n|       1000|       login|2023-06-16 01:00:34|9240008920|  FALSE|\n|       1000|      logout|2023-06-17 01:00:34|9000232350|   TRUE|\n|       1000|      logout|2023-06-17 01:00:34|9240008920|  FALSE|\n|       1000|       login|2023-06-18 01:00:34|9000232350|   TRUE|\n|       1000|       login|2023-06-18 01:00:34|9240008920|  FALSE|\n|       1000|      logout|2023-06-19 01:00:34|9000232350|   TRUE|\n|       1000|      logout|2023-06-19 01:00:34|9240008920|  FALSE|\n+-----------+------------+-------------------+----------+-------+\nonly showing top 8 rows\n\n"
     ]
    }
   ],
   "source": [
    "df_joined=df_emp_logs.join(df_emp_ph,df_emp_logs.employee_id == df_emp_ph.employee_id).drop(df_emp_ph.employee_id)\n",
    "df_joined.show(8)"
   ]
  },
  {
   "cell_type": "code",
   "execution_count": 0,
   "metadata": {
    "application/vnd.databricks.v1+cell": {
     "cellMetadata": {
      "byteLimit": 2048000,
      "rowLimit": 10000
     },
     "inputWidgets": {},
     "nuid": "569f0dd5-d4ae-4193-a4a0-cb7676bac4ef",
     "showTitle": false,
     "tableResultSettingsMap": {},
     "title": ""
    }
   },
   "outputs": [
    {
     "output_type": "display_data",
     "data": {
      "text/plain": [
       "\u001B[0;31m---------------------------------------------------------------------------\u001B[0m\n",
       "\u001B[0;31mTypeError\u001B[0m                                 Traceback (most recent call last)\n",
       "File \u001B[0;32m<command-3838360358105518>:2\u001B[0m\n",
       "\u001B[1;32m      1\u001B[0m display(\n",
       "\u001B[0;32m----> 2\u001B[0m     \u001B[43mdf_joined\u001B[49m\u001B[38;5;241;43m.\u001B[39;49m\u001B[43mwithColumn\u001B[49m\u001B[43m(\u001B[49m\u001B[38;5;124;43m'\u001B[39;49m\u001B[38;5;124;43mfirst_login\u001B[39;49m\u001B[38;5;124;43m'\u001B[39;49m\u001B[43m)\u001B[49m\n",
       "\u001B[1;32m      3\u001B[0m )\n",
       "\n",
       "File \u001B[0;32m/databricks/spark/python/pyspark/instrumentation_utils.py:48\u001B[0m, in \u001B[0;36m_wrap_function.<locals>.wrapper\u001B[0;34m(*args, **kwargs)\u001B[0m\n",
       "\u001B[1;32m     46\u001B[0m start \u001B[38;5;241m=\u001B[39m time\u001B[38;5;241m.\u001B[39mperf_counter()\n",
       "\u001B[1;32m     47\u001B[0m \u001B[38;5;28;01mtry\u001B[39;00m:\n",
       "\u001B[0;32m---> 48\u001B[0m     res \u001B[38;5;241m=\u001B[39m \u001B[43mfunc\u001B[49m\u001B[43m(\u001B[49m\u001B[38;5;241;43m*\u001B[39;49m\u001B[43margs\u001B[49m\u001B[43m,\u001B[49m\u001B[43m \u001B[49m\u001B[38;5;241;43m*\u001B[39;49m\u001B[38;5;241;43m*\u001B[39;49m\u001B[43mkwargs\u001B[49m\u001B[43m)\u001B[49m\n",
       "\u001B[1;32m     49\u001B[0m     logger\u001B[38;5;241m.\u001B[39mlog_success(\n",
       "\u001B[1;32m     50\u001B[0m         module_name, class_name, function_name, time\u001B[38;5;241m.\u001B[39mperf_counter() \u001B[38;5;241m-\u001B[39m start, signature\n",
       "\u001B[1;32m     51\u001B[0m     )\n",
       "\u001B[1;32m     52\u001B[0m     \u001B[38;5;28;01mreturn\u001B[39;00m res\n",
       "\n",
       "\u001B[0;31mTypeError\u001B[0m: withColumn() missing 1 required positional argument: 'col'"
      ]
     },
     "metadata": {
      "application/vnd.databricks.v1+output": {
       "arguments": {},
       "data": "\u001B[0;31m---------------------------------------------------------------------------\u001B[0m\n\u001B[0;31mTypeError\u001B[0m                                 Traceback (most recent call last)\nFile \u001B[0;32m<command-3838360358105518>:2\u001B[0m\n\u001B[1;32m      1\u001B[0m display(\n\u001B[0;32m----> 2\u001B[0m     \u001B[43mdf_joined\u001B[49m\u001B[38;5;241;43m.\u001B[39;49m\u001B[43mwithColumn\u001B[49m\u001B[43m(\u001B[49m\u001B[38;5;124;43m'\u001B[39;49m\u001B[38;5;124;43mfirst_login\u001B[39;49m\u001B[38;5;124;43m'\u001B[39;49m\u001B[43m)\u001B[49m\n\u001B[1;32m      3\u001B[0m )\n\nFile \u001B[0;32m/databricks/spark/python/pyspark/instrumentation_utils.py:48\u001B[0m, in \u001B[0;36m_wrap_function.<locals>.wrapper\u001B[0;34m(*args, **kwargs)\u001B[0m\n\u001B[1;32m     46\u001B[0m start \u001B[38;5;241m=\u001B[39m time\u001B[38;5;241m.\u001B[39mperf_counter()\n\u001B[1;32m     47\u001B[0m \u001B[38;5;28;01mtry\u001B[39;00m:\n\u001B[0;32m---> 48\u001B[0m     res \u001B[38;5;241m=\u001B[39m \u001B[43mfunc\u001B[49m\u001B[43m(\u001B[49m\u001B[38;5;241;43m*\u001B[39;49m\u001B[43margs\u001B[49m\u001B[43m,\u001B[49m\u001B[43m \u001B[49m\u001B[38;5;241;43m*\u001B[39;49m\u001B[38;5;241;43m*\u001B[39;49m\u001B[43mkwargs\u001B[49m\u001B[43m)\u001B[49m\n\u001B[1;32m     49\u001B[0m     logger\u001B[38;5;241m.\u001B[39mlog_success(\n\u001B[1;32m     50\u001B[0m         module_name, class_name, function_name, time\u001B[38;5;241m.\u001B[39mperf_counter() \u001B[38;5;241m-\u001B[39m start, signature\n\u001B[1;32m     51\u001B[0m     )\n\u001B[1;32m     52\u001B[0m     \u001B[38;5;28;01mreturn\u001B[39;00m res\n\n\u001B[0;31mTypeError\u001B[0m: withColumn() missing 1 required positional argument: 'col'",
       "errorSummary": "<span class='ansi-red-fg'>TypeError</span>: withColumn() missing 1 required positional argument: 'col'",
       "errorTraceType": "ansi",
       "metadata": {},
       "type": "ipynbError"
      }
     },
     "output_type": "display_data"
    }
   ],
   "source": [
    "display(\n",
    "    df_joined.withColumn('first_login')\n",
    ")"
   ]
  },
  {
   "cell_type": "markdown",
   "metadata": {
    "application/vnd.databricks.v1+cell": {
     "cellMetadata": {
      "byteLimit": 2048000,
      "rowLimit": 10000
     },
     "inputWidgets": {},
     "nuid": "b4454668-ee2b-4f1d-94a5-bb08dabb1f89",
     "showTitle": false,
     "tableResultSettingsMap": {},
     "title": ""
    }
   },
   "source": [
    "**Event status question**"
   ]
  },
  {
   "cell_type": "code",
   "execution_count": 0,
   "metadata": {
    "application/vnd.databricks.v1+cell": {
     "cellMetadata": {
      "byteLimit": 2048000,
      "rowLimit": 10000
     },
     "inputWidgets": {},
     "nuid": "c974d571-414b-457f-a906-605b0b9b3f9e",
     "showTitle": false,
     "tableResultSettingsMap": {},
     "title": ""
    }
   },
   "outputs": [],
   "source": [
    "event_data=[(1,'alice'),(2,'bob'),(3,'charlie'),(4,'david'),\n",
    "            (5,'eve')]\n",
    "event_schema=['id','student']            "
   ]
  },
  {
   "cell_type": "code",
   "execution_count": 0,
   "metadata": {
    "application/vnd.databricks.v1+cell": {
     "cellMetadata": {
      "byteLimit": 2048000,
      "rowLimit": 10000
     },
     "inputWidgets": {},
     "nuid": "b1afd0e4-9d92-4793-ba4a-6f89f4b3c611",
     "showTitle": false,
     "tableResultSettingsMap": {},
     "title": ""
    }
   },
   "outputs": [
    {
     "output_type": "stream",
     "name": "stdout",
     "output_type": "stream",
     "text": [
      "+---+-------+\n| id|student|\n+---+-------+\n|  1|  alice|\n|  2|    bob|\n|  3|charlie|\n|  4|  david|\n|  5|    eve|\n+---+-------+\n\n"
     ]
    }
   ],
   "source": [
    "evnt_df=spark.createDataFrame(event_data,event_schema)\n",
    "evnt_df.show()"
   ]
  },
  {
   "cell_type": "code",
   "execution_count": 0,
   "metadata": {
    "application/vnd.databricks.v1+cell": {
     "cellMetadata": {
      "byteLimit": 2048000,
      "rowLimit": 10000
     },
     "inputWidgets": {},
     "nuid": "75f3c66b-25eb-4e03-9fb1-2d75a173882b",
     "showTitle": false,
     "tableResultSettingsMap": {},
     "title": ""
    }
   },
   "outputs": [
    {
     "output_type": "stream",
     "name": "stdout",
     "output_type": "stream",
     "text": [
      "root\n |-- event_date: string (nullable = true)\n |-- event_status: string (nullable = true)\n\n"
     ]
    }
   ],
   "source": [
    "evnt_df.printSchema()"
   ]
  },
  {
   "cell_type": "code",
   "execution_count": 0,
   "metadata": {
    "application/vnd.databricks.v1+cell": {
     "cellMetadata": {
      "byteLimit": 2048000,
      "rowLimit": 10000
     },
     "inputWidgets": {},
     "nuid": "d337cfe9-d28a-498c-95fc-8536329f6459",
     "showTitle": false,
     "tableResultSettingsMap": {},
     "title": ""
    }
   },
   "outputs": [
    {
     "output_type": "stream",
     "name": "stdout",
     "output_type": "stream",
     "text": [
      "+---+-------+\n| id|student|\n+---+-------+\n|  1|  alice|\n|  2|    bob|\n|  3|charlie|\n|  4|  david|\n|  5|    eve|\n+---+-------+\n\n"
     ]
    }
   ],
   "source": [
    "evnt_df.show()"
   ]
  },
  {
   "cell_type": "code",
   "execution_count": 0,
   "metadata": {
    "application/vnd.databricks.v1+cell": {
     "cellMetadata": {
      "byteLimit": 2048000,
      "rowLimit": 10000
     },
     "inputWidgets": {},
     "nuid": "fbc04847-5f05-431f-b814-a0aa84654341",
     "showTitle": false,
     "tableResultSettingsMap": {},
     "title": ""
    }
   },
   "outputs": [
    {
     "output_type": "stream",
     "name": "stdout",
     "output_type": "stream",
     "text": [
      "+---+-------+---------+---------+\n| id|student|prev_stud|next_stud|\n+---+-------+---------+---------+\n|  1|  alice|     null|        2|\n|  2|    bob|        1|        3|\n|  3|charlie|        2|        4|\n|  4|  david|        3|        5|\n|  5|    eve|        4|     null|\n+---+-------+---------+---------+\n\n"
     ]
    }
   ],
   "source": [
    "from pyspark.sql.window import Window\n",
    "#wind_spec=Window.partitionBy('event_status').orderBy('event_date')\n",
    "wind_spec=Window.orderBy('id')\n",
    "evnt_df1 =(\n",
    "     evnt_df\n",
    "     .withColumn('prev_stud', lag('id').over(wind_spec))\n",
    "     .withColumn('next_stud', lead('id').over(wind_spec))\n",
    ")\n",
    "evnt_df1.show()"
   ]
  },
  {
   "cell_type": "code",
   "execution_count": 0,
   "metadata": {
    "application/vnd.databricks.v1+cell": {
     "cellMetadata": {
      "byteLimit": 2048000,
      "rowLimit": 10000
     },
     "inputWidgets": {},
     "nuid": "f70f8f42-93d2-4436-b45a-2695d539b069",
     "showTitle": false,
     "tableResultSettingsMap": {},
     "title": ""
    }
   },
   "outputs": [
    {
     "output_type": "display_data",
     "data": {
      "text/html": [
       "<style scoped>\n",
       "  .table-result-container {\n",
       "    max-height: 300px;\n",
       "    overflow: auto;\n",
       "  }\n",
       "  table, th, td {\n",
       "    border: 1px solid black;\n",
       "    border-collapse: collapse;\n",
       "  }\n",
       "  th, td {\n",
       "    padding: 5px;\n",
       "  }\n",
       "  th {\n",
       "    text-align: left;\n",
       "  }\n",
       "</style><div class='table-result-container'><table class='table-result'><thead style='background-color: white'><tr><th>id</th><th>student</th><th>prev_stud</th><th>next_stud</th><th>prev_student_name</th></tr></thead><tbody><tr><td>1</td><td>alice</td><td>null</td><td>2</td><td>null</td></tr><tr><td>2</td><td>bob</td><td>1</td><td>3</td><td>alice</td></tr><tr><td>3</td><td>charlie</td><td>2</td><td>4</td><td>bob</td></tr><tr><td>4</td><td>david</td><td>3</td><td>5</td><td>charlie</td></tr><tr><td>5</td><td>eve</td><td>4</td><td>null</td><td>david</td></tr></tbody></table></div>"
      ]
     },
     "metadata": {
      "application/vnd.databricks.v1+output": {
       "addedWidgets": {},
       "aggData": [],
       "aggError": "",
       "aggOverflow": false,
       "aggSchema": [],
       "aggSeriesLimitReached": false,
       "aggType": "",
       "arguments": {},
       "columnCustomDisplayInfos": {},
       "data": [
        [
         1,
         "alice",
         null,
         2,
         null
        ],
        [
         2,
         "bob",
         1,
         3,
         "alice"
        ],
        [
         3,
         "charlie",
         2,
         4,
         "bob"
        ],
        [
         4,
         "david",
         3,
         5,
         "charlie"
        ],
        [
         5,
         "eve",
         4,
         null,
         "david"
        ]
       ],
       "datasetInfos": [],
       "dbfsResultPath": null,
       "isJsonSchema": true,
       "metadata": {},
       "overflow": false,
       "plotOptions": {
        "customPlotOptions": {},
        "displayType": "table",
        "pivotAggregation": null,
        "pivotColumns": null,
        "xColumns": null,
        "yColumns": null
       },
       "removedWidgets": [],
       "schema": [
        {
         "metadata": "{}",
         "name": "id",
         "type": "\"long\""
        },
        {
         "metadata": "{}",
         "name": "student",
         "type": "\"string\""
        },
        {
         "metadata": "{}",
         "name": "prev_stud",
         "type": "\"long\""
        },
        {
         "metadata": "{}",
         "name": "next_stud",
         "type": "\"long\""
        },
        {
         "metadata": "{}",
         "name": "prev_student_name",
         "type": "\"string\""
        }
       ],
       "type": "table"
      }
     },
     "output_type": "display_data"
    }
   ],
   "source": [
    "from pyspark.sql.functions import col\n",
    "\n",
    "from pyspark.sql.functions import col\n",
    "\n",
    "# Aliases to avoid column ambiguity\n",
    "evnt_df1_alias = evnt_df1.alias(\"a\")\n",
    "evnt_df_alias = evnt_df.alias(\"b\")\n",
    "\n",
    "# Perform the join once, clean and correct\n",
    "stud_joined_df = (\n",
    "    evnt_df1_alias\n",
    "    .join(\n",
    "        evnt_df_alias,\n",
    "        col(\"a.prev_stud\") == col(\"b.id\"),\n",
    "        \"left_outer\"\n",
    "    )\n",
    "    .select(\n",
    "        col(\"a.*\"),\n",
    "        col(\"b.student\").alias(\"prev_student_name\")\n",
    "    )\n",
    ")\n",
    "\n",
    "# Show results\n",
    "display(stud_joined_df)\n"
   ]
  },
  {
   "cell_type": "code",
   "execution_count": 0,
   "metadata": {
    "application/vnd.databricks.v1+cell": {
     "cellMetadata": {
      "byteLimit": 2048000,
      "rowLimit": 10000
     },
     "inputWidgets": {},
     "nuid": "58855e05-72cc-427f-bb84-b9b72ca18c4f",
     "showTitle": false,
     "tableResultSettingsMap": {},
     "title": ""
    }
   },
   "outputs": [],
   "source": [
    "stud_joined_alias = stud_joined_df.alias('a')\n",
    "evnt_df_alias = evnt_df.alias(\"b\")"
   ]
  },
  {
   "cell_type": "code",
   "execution_count": 0,
   "metadata": {
    "application/vnd.databricks.v1+cell": {
     "cellMetadata": {
      "byteLimit": 2048000,
      "rowLimit": 10000
     },
     "inputWidgets": {},
     "nuid": "3df69c7f-1768-43ba-8c08-5b254db91605",
     "showTitle": false,
     "tableResultSettingsMap": {},
     "title": ""
    }
   },
   "outputs": [
    {
     "output_type": "display_data",
     "data": {
      "text/html": [
       "<style scoped>\n",
       "  .table-result-container {\n",
       "    max-height: 300px;\n",
       "    overflow: auto;\n",
       "  }\n",
       "  table, th, td {\n",
       "    border: 1px solid black;\n",
       "    border-collapse: collapse;\n",
       "  }\n",
       "  th, td {\n",
       "    padding: 5px;\n",
       "  }\n",
       "  th {\n",
       "    text-align: left;\n",
       "  }\n",
       "</style><div class='table-result-container'><table class='table-result'><thead style='background-color: white'><tr><th>id</th><th>student</th><th>prev_stud</th><th>next_stud</th><th>prev_student_name</th><th>next_stn_name</th></tr></thead><tbody><tr><td>1</td><td>alice</td><td>null</td><td>2</td><td>null</td><td>bob</td></tr><tr><td>2</td><td>bob</td><td>1</td><td>3</td><td>alice</td><td>charlie</td></tr><tr><td>3</td><td>charlie</td><td>2</td><td>4</td><td>bob</td><td>david</td></tr><tr><td>4</td><td>david</td><td>3</td><td>5</td><td>charlie</td><td>eve</td></tr><tr><td>5</td><td>eve</td><td>4</td><td>null</td><td>david</td><td>null</td></tr></tbody></table></div>"
      ]
     },
     "metadata": {
      "application/vnd.databricks.v1+output": {
       "addedWidgets": {},
       "aggData": [],
       "aggError": "",
       "aggOverflow": false,
       "aggSchema": [],
       "aggSeriesLimitReached": false,
       "aggType": "",
       "arguments": {},
       "columnCustomDisplayInfos": {},
       "data": [
        [
         1,
         "alice",
         null,
         2,
         null,
         "bob"
        ],
        [
         2,
         "bob",
         1,
         3,
         "alice",
         "charlie"
        ],
        [
         3,
         "charlie",
         2,
         4,
         "bob",
         "david"
        ],
        [
         4,
         "david",
         3,
         5,
         "charlie",
         "eve"
        ],
        [
         5,
         "eve",
         4,
         null,
         "david",
         null
        ]
       ],
       "datasetInfos": [],
       "dbfsResultPath": null,
       "isJsonSchema": true,
       "metadata": {},
       "overflow": false,
       "plotOptions": {
        "customPlotOptions": {},
        "displayType": "table",
        "pivotAggregation": null,
        "pivotColumns": null,
        "xColumns": null,
        "yColumns": null
       },
       "removedWidgets": [],
       "schema": [
        {
         "metadata": "{}",
         "name": "id",
         "type": "\"long\""
        },
        {
         "metadata": "{}",
         "name": "student",
         "type": "\"string\""
        },
        {
         "metadata": "{}",
         "name": "prev_stud",
         "type": "\"long\""
        },
        {
         "metadata": "{}",
         "name": "next_stud",
         "type": "\"long\""
        },
        {
         "metadata": "{}",
         "name": "prev_student_name",
         "type": "\"string\""
        },
        {
         "metadata": "{}",
         "name": "next_stn_name",
         "type": "\"string\""
        }
       ],
       "type": "table"
      }
     },
     "output_type": "display_data"
    }
   ],
   "source": [
    "stud_df=(\n",
    "    stud_joined_alias\n",
    "    .join(evnt_df_alias, col('a.next_stud') == col('b.id'),'left_outer')\n",
    "    .select(stud_joined_alias['*'] ,col('b.student').alias('next_stn_name') )\n",
    ")\n",
    "\n",
    "display(stud_df)"
   ]
  },
  {
   "cell_type": "code",
   "execution_count": 0,
   "metadata": {
    "application/vnd.databricks.v1+cell": {
     "cellMetadata": {
      "byteLimit": 2048000,
      "rowLimit": 10000
     },
     "inputWidgets": {},
     "nuid": "317f251c-a4fe-4197-a4c7-b909d53bc33c",
     "showTitle": false,
     "tableResultSettingsMap": {},
     "title": ""
    }
   },
   "outputs": [],
   "source": [
    "  stud_df=  stud_df.withColumn('final_student',\n",
    "                       when(col('id')%2==0,col('prev_student_name'))\n",
    "                       .when(col('id')%2!=0,col('next_stn_name'))\n",
    "                       .otherwise(col('student'))\n",
    "                       )\n"
   ]
  },
  {
   "cell_type": "code",
   "execution_count": 0,
   "metadata": {
    "application/vnd.databricks.v1+cell": {
     "cellMetadata": {
      "byteLimit": 2048000,
      "rowLimit": 10000
     },
     "inputWidgets": {},
     "nuid": "3e293108-7c31-42e2-9b80-6c8a8e1b4008",
     "showTitle": false,
     "tableResultSettingsMap": {},
     "title": ""
    }
   },
   "outputs": [
    {
     "output_type": "display_data",
     "data": {
      "text/html": [
       "<style scoped>\n",
       "  .table-result-container {\n",
       "    max-height: 300px;\n",
       "    overflow: auto;\n",
       "  }\n",
       "  table, th, td {\n",
       "    border: 1px solid black;\n",
       "    border-collapse: collapse;\n",
       "  }\n",
       "  th, td {\n",
       "    padding: 5px;\n",
       "  }\n",
       "  th {\n",
       "    text-align: left;\n",
       "  }\n",
       "</style><div class='table-result-container'><table class='table-result'><thead style='background-color: white'><tr><th>id</th><th>student_name</th></tr></thead><tbody><tr><td>1</td><td>bob</td></tr><tr><td>2</td><td>alice</td></tr><tr><td>3</td><td>david</td></tr><tr><td>4</td><td>charlie</td></tr><tr><td>5</td><td>eve</td></tr></tbody></table></div>"
      ]
     },
     "metadata": {
      "application/vnd.databricks.v1+output": {
       "addedWidgets": {},
       "aggData": [],
       "aggError": "",
       "aggOverflow": false,
       "aggSchema": [],
       "aggSeriesLimitReached": false,
       "aggType": "",
       "arguments": {},
       "columnCustomDisplayInfos": {},
       "data": [
        [
         1,
         "bob"
        ],
        [
         2,
         "alice"
        ],
        [
         3,
         "david"
        ],
        [
         4,
         "charlie"
        ],
        [
         5,
         "eve"
        ]
       ],
       "datasetInfos": [],
       "dbfsResultPath": null,
       "isJsonSchema": true,
       "metadata": {},
       "overflow": false,
       "plotOptions": {
        "customPlotOptions": {},
        "displayType": "table",
        "pivotAggregation": null,
        "pivotColumns": null,
        "xColumns": null,
        "yColumns": null
       },
       "removedWidgets": [],
       "schema": [
        {
         "metadata": "{}",
         "name": "id",
         "type": "\"long\""
        },
        {
         "metadata": "{}",
         "name": "student_name",
         "type": "\"string\""
        }
       ],
       "type": "table"
      }
     },
     "output_type": "display_data"
    }
   ],
   "source": [
    "display(stud_df.selectExpr('id', 'coalesce(final_student, student) as student_name'))\n"
   ]
  },
  {
   "cell_type": "markdown",
   "metadata": {
    "application/vnd.databricks.v1+cell": {
     "cellMetadata": {},
     "inputWidgets": {},
     "nuid": "3b0da372-b8e3-4aa0-959a-598747619eaa",
     "showTitle": false,
     "tableResultSettingsMap": {},
     "title": ""
    }
   },
   "source": [
    "**Call duration question**"
   ]
  },
  {
   "cell_type": "code",
   "execution_count": 0,
   "metadata": {
    "application/vnd.databricks.v1+cell": {
     "cellMetadata": {
      "byteLimit": 2048000,
      "rowLimit": 10000
     },
     "inputWidgets": {},
     "nuid": "3e6f979c-d1da-4230-b7a3-46c07c20c52a",
     "showTitle": false,
     "tableResultSettingsMap": {},
     "title": ""
    }
   },
   "outputs": [],
   "source": [
    "call_data=[(10,20,58),(20,10,12),(10,30,20),(30,40,100), (30,40,200),(30,40,200),(40,30,500)]\n",
    "call_schema=['from_id','to_id','duration']   "
   ]
  },
  {
   "cell_type": "code",
   "execution_count": 0,
   "metadata": {
    "application/vnd.databricks.v1+cell": {
     "cellMetadata": {
      "byteLimit": 2048000,
      "rowLimit": 10000
     },
     "inputWidgets": {},
     "nuid": "1e5a3854-ddee-453d-b4a9-192b3776bbeb",
     "showTitle": false,
     "tableResultSettingsMap": {},
     "title": ""
    }
   },
   "outputs": [
    {
     "output_type": "display_data",
     "data": {
      "text/html": [
       "<style scoped>\n",
       "  .table-result-container {\n",
       "    max-height: 300px;\n",
       "    overflow: auto;\n",
       "  }\n",
       "  table, th, td {\n",
       "    border: 1px solid black;\n",
       "    border-collapse: collapse;\n",
       "  }\n",
       "  th, td {\n",
       "    padding: 5px;\n",
       "  }\n",
       "  th {\n",
       "    text-align: left;\n",
       "  }\n",
       "</style><div class='table-result-container'><table class='table-result'><thead style='background-color: white'><tr><th>from_id</th><th>to_id</th><th>duration</th></tr></thead><tbody><tr><td>10</td><td>20</td><td>58</td></tr><tr><td>20</td><td>10</td><td>12</td></tr><tr><td>10</td><td>30</td><td>20</td></tr><tr><td>30</td><td>40</td><td>100</td></tr><tr><td>30</td><td>40</td><td>200</td></tr><tr><td>30</td><td>40</td><td>200</td></tr><tr><td>40</td><td>30</td><td>500</td></tr></tbody></table></div>"
      ]
     },
     "metadata": {
      "application/vnd.databricks.v1+output": {
       "addedWidgets": {},
       "aggData": [],
       "aggError": "",
       "aggOverflow": false,
       "aggSchema": [],
       "aggSeriesLimitReached": false,
       "aggType": "",
       "arguments": {},
       "columnCustomDisplayInfos": {},
       "data": [
        [
         10,
         20,
         58
        ],
        [
         20,
         10,
         12
        ],
        [
         10,
         30,
         20
        ],
        [
         30,
         40,
         100
        ],
        [
         30,
         40,
         200
        ],
        [
         30,
         40,
         200
        ],
        [
         40,
         30,
         500
        ]
       ],
       "datasetInfos": [],
       "dbfsResultPath": null,
       "isJsonSchema": true,
       "metadata": {},
       "overflow": false,
       "plotOptions": {
        "customPlotOptions": {},
        "displayType": "table",
        "pivotAggregation": null,
        "pivotColumns": null,
        "xColumns": null,
        "yColumns": null
       },
       "removedWidgets": [],
       "schema": [
        {
         "metadata": "{}",
         "name": "from_id",
         "type": "\"long\""
        },
        {
         "metadata": "{}",
         "name": "to_id",
         "type": "\"long\""
        },
        {
         "metadata": "{}",
         "name": "duration",
         "type": "\"long\""
        }
       ],
       "type": "table"
      }
     },
     "output_type": "display_data"
    }
   ],
   "source": [
    "call_df=spark.createDataFrame(call_data,call_schema)\n",
    "display(call_df)"
   ]
  },
  {
   "cell_type": "code",
   "execution_count": 0,
   "metadata": {
    "application/vnd.databricks.v1+cell": {
     "cellMetadata": {
      "byteLimit": 2048000,
      "rowLimit": 10000
     },
     "inputWidgets": {},
     "nuid": "b8a11ae7-75ed-422b-8181-59955a74675e",
     "showTitle": false,
     "tableResultSettingsMap": {},
     "title": ""
    }
   },
   "outputs": [],
   "source": [
    "from pyspark.sql.functions import when, col\n",
    "from pyspark.sql.types import IntegerType\n",
    "\n",
    "call_df1 = (\n",
    "    call_df.withColumn(\n",
    "    'person1',\n",
    "    when(col('from_id').cast(IntegerType()) > col('to_id').cast(IntegerType()), col('to_id'))\n",
    "    .when(col('from_id').cast(IntegerType()) < col('to_id').cast(IntegerType()), col('from_id'))\n",
    "    .otherwise(col('from_id')) \n",
    ").withColumn(\n",
    "    'person2',\n",
    "    when(col('to_id').cast(IntegerType()) > col('from_id').cast(IntegerType()), col('to_id'))\n",
    "    .when(col('to_id').cast(IntegerType()) < col('from_id').cast(IntegerType()), col('from_id'))\n",
    "    .otherwise(col('to_id'))\n",
    "   )\n",
    "    .drop('from_id','to_id')\n",
    ")\n",
    "\n"
   ]
  },
  {
   "cell_type": "code",
   "execution_count": 0,
   "metadata": {
    "application/vnd.databricks.v1+cell": {
     "cellMetadata": {
      "byteLimit": 2048000,
      "rowLimit": 10000
     },
     "inputWidgets": {},
     "nuid": "12fff790-64a4-4d35-9461-4063086062fa",
     "showTitle": false,
     "tableResultSettingsMap": {},
     "title": ""
    }
   },
   "outputs": [
    {
     "output_type": "display_data",
     "data": {
      "text/html": [
       "<style scoped>\n",
       "  .table-result-container {\n",
       "    max-height: 300px;\n",
       "    overflow: auto;\n",
       "  }\n",
       "  table, th, td {\n",
       "    border: 1px solid black;\n",
       "    border-collapse: collapse;\n",
       "  }\n",
       "  th, td {\n",
       "    padding: 5px;\n",
       "  }\n",
       "  th {\n",
       "    text-align: left;\n",
       "  }\n",
       "</style><div class='table-result-container'><table class='table-result'><thead style='background-color: white'><tr><th>duration</th><th>person1</th><th>person2</th></tr></thead><tbody><tr><td>58</td><td>10</td><td>20</td></tr><tr><td>12</td><td>10</td><td>20</td></tr><tr><td>20</td><td>10</td><td>30</td></tr><tr><td>100</td><td>30</td><td>40</td></tr><tr><td>200</td><td>30</td><td>40</td></tr><tr><td>200</td><td>30</td><td>40</td></tr><tr><td>500</td><td>30</td><td>40</td></tr></tbody></table></div>"
      ]
     },
     "metadata": {
      "application/vnd.databricks.v1+output": {
       "addedWidgets": {},
       "aggData": [],
       "aggError": "",
       "aggOverflow": false,
       "aggSchema": [],
       "aggSeriesLimitReached": false,
       "aggType": "",
       "arguments": {},
       "columnCustomDisplayInfos": {},
       "data": [
        [
         58,
         10,
         20
        ],
        [
         12,
         10,
         20
        ],
        [
         20,
         10,
         30
        ],
        [
         100,
         30,
         40
        ],
        [
         200,
         30,
         40
        ],
        [
         200,
         30,
         40
        ],
        [
         500,
         30,
         40
        ]
       ],
       "datasetInfos": [],
       "dbfsResultPath": null,
       "isJsonSchema": true,
       "metadata": {},
       "overflow": false,
       "plotOptions": {
        "customPlotOptions": {},
        "displayType": "table",
        "pivotAggregation": null,
        "pivotColumns": null,
        "xColumns": null,
        "yColumns": null
       },
       "removedWidgets": [],
       "schema": [
        {
         "metadata": "{}",
         "name": "duration",
         "type": "\"long\""
        },
        {
         "metadata": "{}",
         "name": "person1",
         "type": "\"long\""
        },
        {
         "metadata": "{}",
         "name": "person2",
         "type": "\"long\""
        }
       ],
       "type": "table"
      }
     },
     "output_type": "display_data"
    }
   ],
   "source": [
    "display(call_df1)"
   ]
  },
  {
   "cell_type": "code",
   "execution_count": 0,
   "metadata": {
    "application/vnd.databricks.v1+cell": {
     "cellMetadata": {
      "byteLimit": 2048000,
      "rowLimit": 10000
     },
     "inputWidgets": {},
     "nuid": "a481e203-4da5-44d7-88e5-cfbd2fe98365",
     "showTitle": false,
     "tableResultSettingsMap": {},
     "title": ""
    }
   },
   "outputs": [
    {
     "output_type": "display_data",
     "data": {
      "text/html": [
       "<style scoped>\n",
       "  .table-result-container {\n",
       "    max-height: 300px;\n",
       "    overflow: auto;\n",
       "  }\n",
       "  table, th, td {\n",
       "    border: 1px solid black;\n",
       "    border-collapse: collapse;\n",
       "  }\n",
       "  th, td {\n",
       "    padding: 5px;\n",
       "  }\n",
       "  th {\n",
       "    text-align: left;\n",
       "  }\n",
       "</style><div class='table-result-container'><table class='table-result'><thead style='background-color: white'><tr><th>person1</th><th>person2</th><th>total_duration</th><th>toatl_calls</th></tr></thead><tbody><tr><td>10</td><td>20</td><td>70</td><td>2</td></tr><tr><td>10</td><td>30</td><td>20</td><td>1</td></tr><tr><td>30</td><td>40</td><td>1000</td><td>4</td></tr></tbody></table></div>"
      ]
     },
     "metadata": {
      "application/vnd.databricks.v1+output": {
       "addedWidgets": {},
       "aggData": [],
       "aggError": "",
       "aggOverflow": false,
       "aggSchema": [],
       "aggSeriesLimitReached": false,
       "aggType": "",
       "arguments": {},
       "columnCustomDisplayInfos": {},
       "data": [
        [
         10,
         20,
         70,
         2
        ],
        [
         10,
         30,
         20,
         1
        ],
        [
         30,
         40,
         1000,
         4
        ]
       ],
       "datasetInfos": [],
       "dbfsResultPath": null,
       "isJsonSchema": true,
       "metadata": {},
       "overflow": false,
       "plotOptions": {
        "customPlotOptions": {},
        "displayType": "table",
        "pivotAggregation": null,
        "pivotColumns": null,
        "xColumns": null,
        "yColumns": null
       },
       "removedWidgets": [],
       "schema": [
        {
         "metadata": "{}",
         "name": "person1",
         "type": "\"long\""
        },
        {
         "metadata": "{}",
         "name": "person2",
         "type": "\"long\""
        },
        {
         "metadata": "{}",
         "name": "total_duration",
         "type": "\"long\""
        },
        {
         "metadata": "{}",
         "name": "toatl_calls",
         "type": "\"long\""
        }
       ],
       "type": "table"
      }
     },
     "output_type": "display_data"
    }
   ],
   "source": [
    "display(call_df1.groupBy('person1','person2')\n",
    "        .agg(sum(col('duration')).alias('total_duration') , count(col('duration')).alias('toatl_calls'))\n",
    "        )\n"
   ]
  },
  {
   "cell_type": "markdown",
   "metadata": {
    "application/vnd.databricks.v1+cell": {
     "cellMetadata": {},
     "inputWidgets": {},
     "nuid": "16d7d58a-1696-4334-b95a-195412aa237f",
     "showTitle": false,
     "tableResultSettingsMap": {},
     "title": ""
    }
   },
   "source": [
    "**Tennis player grand slam question**"
   ]
  },
  {
   "cell_type": "code",
   "execution_count": 0,
   "metadata": {
    "application/vnd.databricks.v1+cell": {
     "cellMetadata": {
      "byteLimit": 2048000,
      "rowLimit": 10000
     },
     "inputWidgets": {},
     "nuid": "bf2edde1-a3ca-4faa-8ad1-49fee58cf0a2",
     "showTitle": false,
     "tableResultSettingsMap": {},
     "title": ""
    }
   },
   "outputs": [],
   "source": [
    "player_data=[(1,'Nadal'),(2,'Federer'),(3,'Novak')]\n",
    "player_cols=['player_id','player_name'] "
   ]
  },
  {
   "cell_type": "code",
   "execution_count": 0,
   "metadata": {
    "application/vnd.databricks.v1+cell": {
     "cellMetadata": {
      "byteLimit": 2048000,
      "rowLimit": 10000
     },
     "inputWidgets": {},
     "nuid": "3e301caa-7934-4587-8ae0-7766ac8bda6d",
     "showTitle": false,
     "tableResultSettingsMap": {},
     "title": ""
    }
   },
   "outputs": [
    {
     "output_type": "stream",
     "name": "stdout",
     "output_type": "stream",
     "text": [
      "+---------+-----------+\n|player_id|player_name|\n+---------+-----------+\n|        1|      Nadal|\n|        2|    Federer|\n|        3|      Novak|\n+---------+-----------+\n\n"
     ]
    }
   ],
   "source": [
    "player_df=spark.createDataFrame(player_data,player_cols)\n",
    "player_df.show()"
   ]
  },
  {
   "cell_type": "code",
   "execution_count": 0,
   "metadata": {
    "application/vnd.databricks.v1+cell": {
     "cellMetadata": {
      "byteLimit": 2048000,
      "rowLimit": 10000
     },
     "inputWidgets": {},
     "nuid": "30d231f7-d471-4666-8040-f77eeaaa2fa1",
     "showTitle": false,
     "tableResultSettingsMap": {},
     "title": ""
    }
   },
   "outputs": [
    {
     "output_type": "stream",
     "name": "stdout",
     "output_type": "stream",
     "text": [
      "+----+---------+-------+-------+-------+\n|year|wimbledon|fr_open|us_open|au_open|\n+----+---------+-------+-------+-------+\n|2017|        2|      1|      1|      2|\n|2018|        3|      1|      3|      2|\n|2019|        3|      1|      1|      3|\n+----+---------+-------+-------+-------+\n\n"
     ]
    }
   ],
   "source": [
    "year_data=[(2017,2,1,1,2),(2018,3,1,3,2) , (2019,3,1,1,3)]\n",
    "year_cols=['year','wimbledon','fr_open' ,'us_open', 'au_open'] \n",
    "\n",
    "year_df=spark.createDataFrame(year_data,year_cols)\n",
    "year_df.show()"
   ]
  },
  {
   "cell_type": "code",
   "execution_count": 0,
   "metadata": {
    "application/vnd.databricks.v1+cell": {
     "cellMetadata": {
      "byteLimit": 2048000,
      "rowLimit": 10000
     },
     "inputWidgets": {},
     "nuid": "3aaba7de-2c3e-4d32-b678-39fc69ea1b73",
     "showTitle": false,
     "tableResultSettingsMap": {},
     "title": ""
    }
   },
   "outputs": [
    {
     "output_type": "stream",
     "name": "stdout",
     "output_type": "stream",
     "text": [
      "+----+-----+\n|year|match|\n+----+-----+\n|2017|    2|\n|2018|    3|\n|2019|    3|\n+----+-----+\n\n"
     ]
    }
   ],
   "source": [
    "wim_df=year_df.selectExpr('year','wimbledon as match')\n",
    "wim_df.show()"
   ]
  },
  {
   "cell_type": "code",
   "execution_count": 0,
   "metadata": {
    "application/vnd.databricks.v1+cell": {
     "cellMetadata": {
      "byteLimit": 2048000,
      "rowLimit": 10000
     },
     "inputWidgets": {},
     "nuid": "aeefc8a8-b14b-4710-9850-73ffe7615658",
     "showTitle": false,
     "tableResultSettingsMap": {},
     "title": ""
    }
   },
   "outputs": [
    {
     "output_type": "stream",
     "name": "stdout",
     "output_type": "stream",
     "text": [
      "+----+-----+\n|year|match|\n+----+-----+\n|2017|    1|\n|2018|    1|\n|2019|    1|\n+----+-----+\n\n"
     ]
    }
   ],
   "source": [
    "fr_open_df=year_df.selectExpr('year','fr_open as match')\n",
    "fr_open_df.show()"
   ]
  },
  {
   "cell_type": "code",
   "execution_count": 0,
   "metadata": {
    "application/vnd.databricks.v1+cell": {
     "cellMetadata": {
      "byteLimit": 2048000,
      "rowLimit": 10000
     },
     "inputWidgets": {},
     "nuid": "973bf51d-dad9-471e-816d-899ce69793fd",
     "showTitle": false,
     "tableResultSettingsMap": {},
     "title": ""
    }
   },
   "outputs": [
    {
     "output_type": "stream",
     "name": "stdout",
     "output_type": "stream",
     "text": [
      "+----+-----+\n|year|match|\n+----+-----+\n|2017|    1|\n|2018|    3|\n|2019|    1|\n+----+-----+\n\n"
     ]
    }
   ],
   "source": [
    "us_open_df=year_df.selectExpr('year','us_open as match')\n",
    "us_open_df.show()"
   ]
  },
  {
   "cell_type": "code",
   "execution_count": 0,
   "metadata": {
    "application/vnd.databricks.v1+cell": {
     "cellMetadata": {
      "byteLimit": 2048000,
      "rowLimit": 10000
     },
     "inputWidgets": {},
     "nuid": "2a047925-0344-4f36-ad46-39c2936f847a",
     "showTitle": false,
     "tableResultSettingsMap": {},
     "title": ""
    }
   },
   "outputs": [
    {
     "output_type": "stream",
     "name": "stdout",
     "output_type": "stream",
     "text": [
      "+----+-----+\n|year|match|\n+----+-----+\n|2017|    2|\n|2018|    2|\n|2019|    3|\n+----+-----+\n\n"
     ]
    }
   ],
   "source": [
    "au_open_df=year_df.selectExpr('year','au_open as match')\n",
    "au_open_df.show()"
   ]
  },
  {
   "cell_type": "code",
   "execution_count": 0,
   "metadata": {
    "application/vnd.databricks.v1+cell": {
     "cellMetadata": {
      "byteLimit": 2048000,
      "rowLimit": 10000
     },
     "inputWidgets": {},
     "nuid": "6cb1f6cd-933b-4b44-8050-90716c430969",
     "showTitle": false,
     "tableResultSettingsMap": {},
     "title": ""
    }
   },
   "outputs": [
    {
     "output_type": "stream",
     "name": "stdout",
     "output_type": "stream",
     "text": [
      "+----+-----+\n|year|match|\n+----+-----+\n|2017|    2|\n|2018|    3|\n|2019|    3|\n|2017|    1|\n|2018|    1|\n|2019|    1|\n|2017|    1|\n|2018|    3|\n|2019|    1|\n|2017|    2|\n|2018|    2|\n|2019|    3|\n+----+-----+\n\n"
     ]
    }
   ],
   "source": [
    "union_df = wim_df.union(fr_open_df).union(us_open_df).union(au_open_df)\n",
    "union_df.show()"
   ]
  },
  {
   "cell_type": "code",
   "execution_count": 0,
   "metadata": {
    "application/vnd.databricks.v1+cell": {
     "cellMetadata": {
      "byteLimit": 2048000,
      "rowLimit": 10000
     },
     "inputWidgets": {},
     "nuid": "13ad25ea-4cac-45d1-893d-2492b7628ecb",
     "showTitle": false,
     "tableResultSettingsMap": {},
     "title": ""
    }
   },
   "outputs": [
    {
     "output_type": "stream",
     "name": "stdout",
     "output_type": "stream",
     "text": [
      "+----+-----+---------+-----------+\n|year|match|player_id|player_name|\n+----+-----+---------+-----------+\n|2017|    1|        1|      Nadal|\n|2018|    1|        1|      Nadal|\n|2019|    1|        1|      Nadal|\n|2017|    1|        1|      Nadal|\n|2019|    1|        1|      Nadal|\n|2017|    2|        2|    Federer|\n|2017|    2|        2|    Federer|\n|2018|    2|        2|    Federer|\n|2018|    3|        3|      Novak|\n|2019|    3|        3|      Novak|\n|2018|    3|        3|      Novak|\n|2019|    3|        3|      Novak|\n+----+-----+---------+-----------+\n\n"
     ]
    }
   ],
   "source": [
    "palyer_joined_df=    union_df.alias('u').join(player_df.alias('p'),col('u.match')==col('p.player_id'),'inner')\n",
    "\n",
    "palyer_joined_df.show()"
   ]
  },
  {
   "cell_type": "code",
   "execution_count": 0,
   "metadata": {
    "application/vnd.databricks.v1+cell": {
     "cellMetadata": {
      "byteLimit": 2048000,
      "rowLimit": 10000
     },
     "inputWidgets": {},
     "nuid": "2fd68381-ce96-43a6-ac2d-4596c7bae1f1",
     "showTitle": false,
     "tableResultSettingsMap": {},
     "title": ""
    }
   },
   "outputs": [
    {
     "output_type": "display_data",
     "data": {
      "text/html": [
       "<style scoped>\n",
       "  .table-result-container {\n",
       "    max-height: 300px;\n",
       "    overflow: auto;\n",
       "  }\n",
       "  table, th, td {\n",
       "    border: 1px solid black;\n",
       "    border-collapse: collapse;\n",
       "  }\n",
       "  th, td {\n",
       "    padding: 5px;\n",
       "  }\n",
       "  th {\n",
       "    text-align: left;\n",
       "  }\n",
       "</style><div class='table-result-container'><table class='table-result'><thead style='background-color: white'><tr><th>player_id</th><th>player_name</th><th>count(match AS total_grandslams)</th></tr></thead><tbody><tr><td>1</td><td>Nadal</td><td>5</td></tr><tr><td>2</td><td>Federer</td><td>3</td></tr><tr><td>3</td><td>Novak</td><td>4</td></tr></tbody></table></div>"
      ]
     },
     "metadata": {
      "application/vnd.databricks.v1+output": {
       "addedWidgets": {},
       "aggData": [],
       "aggError": "",
       "aggOverflow": false,
       "aggSchema": [],
       "aggSeriesLimitReached": false,
       "aggType": "",
       "arguments": {},
       "columnCustomDisplayInfos": {},
       "data": [
        [
         1,
         "Nadal",
         5
        ],
        [
         2,
         "Federer",
         3
        ],
        [
         3,
         "Novak",
         4
        ]
       ],
       "datasetInfos": [],
       "dbfsResultPath": null,
       "isJsonSchema": true,
       "metadata": {},
       "overflow": false,
       "plotOptions": {
        "customPlotOptions": {},
        "displayType": "table",
        "pivotAggregation": null,
        "pivotColumns": null,
        "xColumns": null,
        "yColumns": null
       },
       "removedWidgets": [],
       "schema": [
        {
         "metadata": "{}",
         "name": "player_id",
         "type": "\"long\""
        },
        {
         "metadata": "{}",
         "name": "player_name",
         "type": "\"string\""
        },
        {
         "metadata": "{}",
         "name": "count(match AS total_grandslams)",
         "type": "\"long\""
        }
       ],
       "type": "table"
      }
     },
     "output_type": "display_data"
    }
   ],
   "source": [
    "display(palyer_joined_df.groupBy('player_id','player_name').agg(count(col('match').alias('total_grandslams'))))"
   ]
  },
  {
   "cell_type": "code",
   "execution_count": 0,
   "metadata": {
    "application/vnd.databricks.v1+cell": {
     "cellMetadata": {},
     "inputWidgets": {},
     "nuid": "004f4231-1807-4d08-9902-02d94f39f99c",
     "showTitle": false,
     "tableResultSettingsMap": {},
     "title": ""
    }
   },
   "outputs": [],
   "source": []
  },
  {
   "cell_type": "code",
   "execution_count": 0,
   "metadata": {
    "application/vnd.databricks.v1+cell": {
     "cellMetadata": {},
     "inputWidgets": {},
     "nuid": "944a5681-c609-4a0c-9b9a-18b3613c1a89",
     "showTitle": false,
     "tableResultSettingsMap": {},
     "title": ""
    }
   },
   "outputs": [],
   "source": []
  },
  {
   "cell_type": "code",
   "execution_count": 0,
   "metadata": {
    "application/vnd.databricks.v1+cell": {
     "cellMetadata": {},
     "inputWidgets": {},
     "nuid": "10cf8430-7218-460d-9091-eeb3f18ffce3",
     "showTitle": false,
     "tableResultSettingsMap": {},
     "title": ""
    }
   },
   "outputs": [],
   "source": []
  },
  {
   "cell_type": "code",
   "execution_count": 0,
   "metadata": {
    "application/vnd.databricks.v1+cell": {
     "cellMetadata": {},
     "inputWidgets": {},
     "nuid": "17fa0d35-e350-4bc3-a4e0-191d5a5dfdfe",
     "showTitle": false,
     "tableResultSettingsMap": {},
     "title": ""
    }
   },
   "outputs": [],
   "source": []
  }
 ],
 "metadata": {
  "application/vnd.databricks.v1+notebook": {
   "computePreferences": null,
   "dashboards": [],
   "environmentMetadata": {
    "base_environment": "",
    "environment_version": "1"
   },
   "inputWidgetPreferences": null,
   "language": "python",
   "notebookMetadata": {
    "mostRecentlyExecutedCommandWithImplicitDF": {
     "commandId": 607755342797577,
     "dataframes": [
      "_sqldf"
     ]
    },
    "pythonIndentUnit": 4
   },
   "notebookName": "Notebook_Pyspark_14_04_2025",
   "widgets": {}
  }
 },
 "nbformat": 4,
 "nbformat_minor": 0
}