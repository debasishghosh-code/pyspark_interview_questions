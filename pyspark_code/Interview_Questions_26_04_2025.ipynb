{
 "cells": [
  {
   "cell_type": "markdown",
   "metadata": {
    "application/vnd.databricks.v1+cell": {
     "cellMetadata": {
      "byteLimit": 2048000,
      "rowLimit": 10000
     },
     "inputWidgets": {},
     "nuid": "dc7bbb35-fa6c-4e38-af8d-a4a7cad8ed0a",
     "showTitle": false,
     "tableResultSettingsMap": {},
     "title": ""
    }
   },
   "source": [
    "##Salting##"
   ]
  },
  {
   "cell_type": "code",
   "execution_count": 0,
   "metadata": {
    "application/vnd.databricks.v1+cell": {
     "cellMetadata": {
      "byteLimit": 2048000,
      "rowLimit": 10000
     },
     "inputWidgets": {},
     "nuid": "d871822a-d737-4b6b-9004-8a7dc7e8989e",
     "showTitle": false,
     "tableResultSettingsMap": {},
     "title": ""
    }
   },
   "outputs": [],
   "source": [
    "import pyspark.sql.functions as F\n",
    "from pyspark.sql.types import *"
   ]
  },
  {
   "cell_type": "code",
   "execution_count": 0,
   "metadata": {
    "application/vnd.databricks.v1+cell": {
     "cellMetadata": {
      "byteLimit": 2048000,
      "rowLimit": 10000
     },
     "inputWidgets": {},
     "nuid": "cff1a59c-5554-429a-b42c-668b4e1019b7",
     "showTitle": false,
     "tableResultSettingsMap": {},
     "title": ""
    }
   },
   "outputs": [
    {
     "output_type": "stream",
     "name": "stdout",
     "output_type": "stream",
     "text": [
      "Out[111]: '4'"
     ]
    }
   ],
   "source": [
    "spark.conf.get('spark.sql.shuffle.partitions')"
   ]
  },
  {
   "cell_type": "code",
   "execution_count": 0,
   "metadata": {
    "application/vnd.databricks.v1+cell": {
     "cellMetadata": {
      "byteLimit": 2048000,
      "rowLimit": 10000
     },
     "inputWidgets": {},
     "nuid": "088d436f-e2f1-412c-80e5-880b9da9aab0",
     "showTitle": false,
     "tableResultSettingsMap": {},
     "title": ""
    }
   },
   "outputs": [
    {
     "output_type": "stream",
     "name": "stdout",
     "output_type": "stream",
     "text": [
      "Out[112]: '4'"
     ]
    }
   ],
   "source": [
    "spark.conf.set('spark.sql.shuffle.partitions',4)\n",
    "spark.conf.set('spark.sql.adaptive.enabled',False)\n",
    "spark.conf.get('spark.sql.shuffle.partitions')"
   ]
  },
  {
   "cell_type": "markdown",
   "metadata": {
    "application/vnd.databricks.v1+cell": {
     "cellMetadata": {
      "byteLimit": 2048000,
      "rowLimit": 10000
     },
     "inputWidgets": {},
     "nuid": "51ff366d-7de2-429f-b0c9-57a547a00487",
     "showTitle": false,
     "tableResultSettingsMap": {},
     "title": ""
    }
   },
   "source": [
    "\n",
    "**##Skewed join**"
   ]
  },
  {
   "cell_type": "code",
   "execution_count": 0,
   "metadata": {
    "application/vnd.databricks.v1+cell": {
     "cellMetadata": {
      "byteLimit": 2048000,
      "rowLimit": 10000
     },
     "inputWidgets": {},
     "nuid": "b8b05699-903c-4072-b240-94fc4517a1ab",
     "showTitle": false,
     "tableResultSettingsMap": {},
     "title": ""
    }
   },
   "outputs": [
    {
     "output_type": "stream",
     "name": "stdout",
     "output_type": "stream",
     "text": [
      "+-----+\n|value|\n+-----+\n|    0|\n|    1|\n|    2|\n|    3|\n|    4|\n|    5|\n|    6|\n|    7|\n+-----+\nonly showing top 8 rows\n\n"
     ]
    }
   ],
   "source": [
    "df_uniform=(spark.createDataFrame([k for k in range(1000000)], IntegerType()))\n",
    "df_uniform.show(8)"
   ]
  },
  {
   "cell_type": "code",
   "execution_count": 0,
   "metadata": {
    "application/vnd.databricks.v1+cell": {
     "cellMetadata": {
      "byteLimit": 2048000,
      "rowLimit": 10000
     },
     "inputWidgets": {},
     "nuid": "49998394-d208-40a4-9b9d-800060118093",
     "showTitle": false,
     "tableResultSettingsMap": {},
     "title": ""
    }
   },
   "outputs": [
    {
     "output_type": "stream",
     "name": "stdout",
     "output_type": "stream",
     "text": [
      "+-------+------+\n|part_id| count|\n+-------+------+\n|      6|124928|\n|      2|124928|\n|      4|124928|\n|      5|124928|\n|      0|124928|\n|      1|124928|\n|      3|124928|\n|      7|125504|\n+-------+------+\n\n"
     ]
    }
   ],
   "source": [
    "(df_uniform\n",
    " .withColumn('part_id',F.spark_partition_id())\n",
    " .groupBy('part_id')\n",
    " .count()\n",
    " .show())"
   ]
  },
  {
   "cell_type": "code",
   "execution_count": 0,
   "metadata": {
    "application/vnd.databricks.v1+cell": {
     "cellMetadata": {
      "byteLimit": 2048000,
      "rowLimit": 10000
     },
     "inputWidgets": {},
     "nuid": "52b8cf89-51a0-444e-8ee8-91f2eb9bb488",
     "showTitle": false,
     "tableResultSettingsMap": {},
     "title": ""
    }
   },
   "outputs": [],
   "source": [
    "df0=spark.createDataFrame([0] * 999990, IntegerType()).repartition(1)\n",
    "df1=spark.createDataFrame([1] * 15, IntegerType()).repartition(1)\n",
    "df2=spark.createDataFrame([2] * 10, IntegerType()).repartition(1)\n",
    "df3=spark.createDataFrame([3] * 5, IntegerType()).repartition(1)\n",
    "\n",
    "df_skew=df0.union(df1).union(df2).union(df3)"
   ]
  },
  {
   "cell_type": "code",
   "execution_count": 0,
   "metadata": {
    "application/vnd.databricks.v1+cell": {
     "cellMetadata": {
      "byteLimit": 2048000,
      "rowLimit": 10000
     },
     "inputWidgets": {},
     "nuid": "8850f692-6e0c-4d56-8855-7a05b412457e",
     "showTitle": false,
     "tableResultSettingsMap": {},
     "title": ""
    }
   },
   "outputs": [
    {
     "output_type": "stream",
     "name": "stdout",
     "output_type": "stream",
     "text": [
      "+-----+\n|value|\n+-----+\n|    0|\n|    0|\n|    0|\n|    0|\n|    0|\n+-----+\nonly showing top 5 rows\n\n"
     ]
    }
   ],
   "source": [
    "df_skew.show(5)"
   ]
  },
  {
   "cell_type": "code",
   "execution_count": 0,
   "metadata": {
    "application/vnd.databricks.v1+cell": {
     "cellMetadata": {
      "byteLimit": 2048000,
      "rowLimit": 10000
     },
     "inputWidgets": {},
     "nuid": "574efb61-78e1-4def-8e4d-17800e2ac530",
     "showTitle": false,
     "tableResultSettingsMap": {},
     "title": ""
    }
   },
   "outputs": [
    {
     "output_type": "stream",
     "name": "stdout",
     "output_type": "stream",
     "text": [
      "+-------+------+\n|part_id| count|\n+-------+------+\n|      2|    10|\n|      0|999990|\n|      1|    15|\n|      3|     5|\n+-------+------+\n\n"
     ]
    }
   ],
   "source": [
    "(df_skew\n",
    " .withColumn('part_id',F.spark_partition_id())\n",
    " .groupBy('part_id')\n",
    " .count()\n",
    " .show())"
   ]
  },
  {
   "cell_type": "code",
   "execution_count": 0,
   "metadata": {
    "application/vnd.databricks.v1+cell": {
     "cellMetadata": {
      "byteLimit": 2048000,
      "rowLimit": 10000
     },
     "inputWidgets": {},
     "nuid": "09a75d97-e9b4-4c0e-931f-e4fa72e747b3",
     "showTitle": false,
     "tableResultSettingsMap": {},
     "title": ""
    }
   },
   "outputs": [],
   "source": [
    "df_joined1=(\n",
    "    df_uniform.join(df_skew,\"value\",'inner')\n",
    ")"
   ]
  },
  {
   "cell_type": "code",
   "execution_count": 0,
   "metadata": {
    "application/vnd.databricks.v1+cell": {
     "cellMetadata": {
      "byteLimit": 2048000,
      "rowLimit": 10000
     },
     "inputWidgets": {},
     "nuid": "36c2677a-1e11-4e8f-8471-13aa2d5526e9",
     "showTitle": false,
     "tableResultSettingsMap": {},
     "title": ""
    }
   },
   "outputs": [
    {
     "output_type": "stream",
     "name": "stdout",
     "output_type": "stream",
     "text": [
      "+-----+\n|value|\n+-----+\n|    2|\n|    2|\n|    2|\n|    2|\n|    2|\n+-----+\nonly showing top 5 rows\n\n"
     ]
    }
   ],
   "source": [
    "df_joined1.show(5)"
   ]
  },
  {
   "cell_type": "code",
   "execution_count": 0,
   "metadata": {
    "application/vnd.databricks.v1+cell": {
     "cellMetadata": {
      "byteLimit": 2048000,
      "rowLimit": 10000
     },
     "inputWidgets": {},
     "nuid": "dffe2512-a35e-406c-a22c-c80d201cc7e2",
     "showTitle": false,
     "tableResultSettingsMap": {},
     "title": ""
    }
   },
   "outputs": [
    {
     "output_type": "stream",
     "name": "stdout",
     "output_type": "stream",
     "text": [
      "+-------+-------+\n|part_id|  count|\n+-------+-------+\n|      2|     10|\n|      3|1000010|\n+-------+-------+\n\n"
     ]
    }
   ],
   "source": [
    "(df_joined1\n",
    " .withColumn('part_id',F.spark_partition_id())\n",
    " .groupBy('part_id')\n",
    " .count()\n",
    " .show())"
   ]
  },
  {
   "cell_type": "code",
   "execution_count": 0,
   "metadata": {
    "application/vnd.databricks.v1+cell": {
     "cellMetadata": {
      "byteLimit": 2048000,
      "rowLimit": 10000
     },
     "inputWidgets": {},
     "nuid": "1ba7eb99-7980-4358-9a29-eac5f5b131e1",
     "showTitle": false,
     "tableResultSettingsMap": {},
     "title": ""
    }
   },
   "outputs": [
    {
     "output_type": "stream",
     "name": "stdout",
     "output_type": "stream",
     "text": [
      "Out[121]: 4"
     ]
    }
   ],
   "source": [
    "##Assign a random number between (0 - saltnumber] to skewd dataset\n",
    "\n",
    "salt_num=int(spark.conf.get('spark.sql.shuffle.partitions'))\n",
    "salt_num"
   ]
  },
  {
   "cell_type": "code",
   "execution_count": 0,
   "metadata": {
    "application/vnd.databricks.v1+cell": {
     "cellMetadata": {
      "byteLimit": 2048000,
      "rowLimit": 10000
     },
     "inputWidgets": {},
     "nuid": "92becf32-8970-4690-8317-4f5176e354a0",
     "showTitle": false,
     "tableResultSettingsMap": {},
     "title": ""
    }
   },
   "outputs": [],
   "source": [
    "df_skew=(\n",
    "    df_skew.withColumn('salt' , (F.rand() * salt_num).cast('int'))\n",
    ")"
   ]
  },
  {
   "cell_type": "code",
   "execution_count": 0,
   "metadata": {
    "application/vnd.databricks.v1+cell": {
     "cellMetadata": {
      "byteLimit": 2048000,
      "rowLimit": 10000
     },
     "inputWidgets": {},
     "nuid": "198e963d-38ce-4aea-aed8-05ba6f487a9b",
     "showTitle": false,
     "tableResultSettingsMap": {},
     "title": ""
    }
   },
   "outputs": [
    {
     "output_type": "stream",
     "name": "stdout",
     "output_type": "stream",
     "text": [
      "+-----+----+\n|value|salt|\n+-----+----+\n|    0|   1|\n|    0|   0|\n|    0|   0|\n|    0|   3|\n|    0|   0|\n|    0|   2|\n|    0|   1|\n|    0|   0|\n+-----+----+\nonly showing top 8 rows\n\n"
     ]
    }
   ],
   "source": [
    "df_skew.show(8)"
   ]
  },
  {
   "cell_type": "code",
   "execution_count": 0,
   "metadata": {
    "application/vnd.databricks.v1+cell": {
     "cellMetadata": {
      "byteLimit": 2048000,
      "rowLimit": 10000
     },
     "inputWidgets": {},
     "nuid": "5a47a153-e3d2-4834-9d40-b5f5b7886008",
     "showTitle": false,
     "tableResultSettingsMap": {},
     "title": ""
    }
   },
   "outputs": [],
   "source": [
    "## Assign an array of 0- saltnum to uniform dataset and explode\n",
    "\n",
    "df_uniform = (\n",
    "    df_uniform\n",
    "    .withColumn('saltarray', F.array([F.lit(i) for i in range(salt_num)]))\n",
    "    .withColumn('salt', F.explode(F.col('saltarray')))\n",
    ")\n"
   ]
  },
  {
   "cell_type": "code",
   "execution_count": 0,
   "metadata": {
    "application/vnd.databricks.v1+cell": {
     "cellMetadata": {
      "byteLimit": 2048000,
      "rowLimit": 10000
     },
     "inputWidgets": {},
     "nuid": "b7aab24a-3ba2-4301-80c7-031325456100",
     "showTitle": false,
     "tableResultSettingsMap": {},
     "title": ""
    }
   },
   "outputs": [
    {
     "output_type": "stream",
     "name": "stdout",
     "output_type": "stream",
     "text": [
      "+-----+------------+----+\n|value|   saltarray|salt|\n+-----+------------+----+\n|    0|[0, 1, 2, 3]|   0|\n|    0|[0, 1, 2, 3]|   1|\n|    0|[0, 1, 2, 3]|   2|\n|    0|[0, 1, 2, 3]|   3|\n|    1|[0, 1, 2, 3]|   0|\n+-----+------------+----+\nonly showing top 5 rows\n\n"
     ]
    }
   ],
   "source": [
    "df_uniform.show(5)"
   ]
  },
  {
   "cell_type": "code",
   "execution_count": 0,
   "metadata": {
    "application/vnd.databricks.v1+cell": {
     "cellMetadata": {
      "byteLimit": 2048000,
      "rowLimit": 10000
     },
     "inputWidgets": {},
     "nuid": "c492ae6a-56c4-4eb2-a6d2-113b6f4a7c25",
     "showTitle": false,
     "tableResultSettingsMap": {},
     "title": ""
    }
   },
   "outputs": [],
   "source": [
    "df_joined2=(\n",
    "    df_uniform.join(df_skew,[\"value\" , \"salt\"],'inner')\n",
    ")"
   ]
  },
  {
   "cell_type": "code",
   "execution_count": 0,
   "metadata": {
    "application/vnd.databricks.v1+cell": {
     "cellMetadata": {
      "byteLimit": 2048000,
      "rowLimit": 10000
     },
     "inputWidgets": {},
     "nuid": "5d69695b-2c85-4794-8706-ad6a70c5a7da",
     "showTitle": false,
     "tableResultSettingsMap": {},
     "title": ""
    }
   },
   "outputs": [
    {
     "output_type": "stream",
     "name": "stdout",
     "output_type": "stream",
     "text": [
      "+-------+------+\n|part_id| count|\n+-------+------+\n|      2|500391|\n|      0|     3|\n|      1|499620|\n|      3|     6|\n+-------+------+\n\n"
     ]
    }
   ],
   "source": [
    "(df_joined2\n",
    " .withColumn('part_id',F.spark_partition_id())\n",
    " .groupBy('part_id')\n",
    " .count()\n",
    " .show())"
   ]
  },
  {
   "cell_type": "code",
   "execution_count": 0,
   "metadata": {
    "application/vnd.databricks.v1+cell": {
     "cellMetadata": {
      "byteLimit": 2048000,
      "rowLimit": 10000
     },
     "inputWidgets": {},
     "nuid": "7a53c5f9-21fe-4476-bbec-cb7a41f72dde",
     "showTitle": false,
     "tableResultSettingsMap": {},
     "title": ""
    }
   },
   "outputs": [],
   "source": []
  },
  {
   "cell_type": "code",
   "execution_count": 0,
   "metadata": {
    "application/vnd.databricks.v1+cell": {
     "cellMetadata": {
      "byteLimit": 2048000,
      "rowLimit": 10000
     },
     "inputWidgets": {},
     "nuid": "4e24bded-b516-477a-8247-bdd474c13caf",
     "showTitle": false,
     "tableResultSettingsMap": {},
     "title": ""
    }
   },
   "outputs": [],
   "source": []
  }
 ],
 "metadata": {
  "application/vnd.databricks.v1+notebook": {
   "computePreferences": null,
   "dashboards": [],
   "environmentMetadata": {
    "base_environment": "",
    "environment_version": "1"
   },
   "inputWidgetPreferences": null,
   "language": "python",
   "notebookMetadata": {
    "pythonIndentUnit": 4
   },
   "notebookName": "Interview_Questions_26_04_2025",
   "widgets": {}
  }
 },
 "nbformat": 4,
 "nbformat_minor": 0
}