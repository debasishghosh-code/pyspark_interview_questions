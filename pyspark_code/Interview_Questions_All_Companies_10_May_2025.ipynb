{
 "cells": [
  {
   "cell_type": "code",
   "execution_count": 0,
   "metadata": {
    "application/vnd.databricks.v1+cell": {
     "cellMetadata": {
      "byteLimit": 2048000,
      "rowLimit": 10000
     },
     "inputWidgets": {},
     "nuid": "435019a3-3e8b-41d0-aa81-71032d39a8d5",
     "showTitle": false,
     "tableResultSettingsMap": {},
     "title": ""
    }
   },
   "outputs": [
    {
     "output_type": "stream",
     "name": "stdout",
     "output_type": "stream",
     "text": [
      "root\n |-- EmpId: long (nullable = true)\n |-- EmpName: string (nullable = true)\n |-- Salary: long (nullable = true)\n |-- DeptName: string (nullable = true)\n\n"
     ]
    },
    {
     "output_type": "display_data",
     "data": {
      "text/html": [
       "<style scoped>\n",
       "  .table-result-container {\n",
       "    max-height: 300px;\n",
       "    overflow: auto;\n",
       "  }\n",
       "  table, th, td {\n",
       "    border: 1px solid black;\n",
       "    border-collapse: collapse;\n",
       "  }\n",
       "  th, td {\n",
       "    padding: 5px;\n",
       "  }\n",
       "  th {\n",
       "    text-align: left;\n",
       "  }\n",
       "</style><div class='table-result-container'><table class='table-result'><thead style='background-color: white'><tr><th>EmpId</th><th>EmpName</th><th>Salary</th><th>DeptName</th></tr></thead><tbody><tr><td>1</td><td>A</td><td>1000</td><td>IT</td></tr><tr><td>2</td><td>B</td><td>1500</td><td>IT</td></tr><tr><td>3</td><td>C</td><td>2500</td><td>IT</td></tr><tr><td>4</td><td>D</td><td>3000</td><td>HR</td></tr><tr><td>5</td><td>E</td><td>2000</td><td>HR</td></tr><tr><td>6</td><td>F</td><td>1000</td><td>HR</td></tr><tr><td>7</td><td>G</td><td>40000</td><td>Sales</td></tr><tr><td>8</td><td>H</td><td>4000</td><td>Sales</td></tr><tr><td>9</td><td>I</td><td>1000</td><td>Sales</td></tr><tr><td>10</td><td>J</td><td>2000</td><td>Sales</td></tr></tbody></table></div>"
      ]
     },
     "metadata": {
      "application/vnd.databricks.v1+output": {
       "addedWidgets": {},
       "aggData": [],
       "aggError": "",
       "aggOverflow": false,
       "aggSchema": [],
       "aggSeriesLimitReached": false,
       "aggType": "",
       "arguments": {},
       "columnCustomDisplayInfos": {},
       "data": [
        [
         1,
         "A",
         1000,
         "IT"
        ],
        [
         2,
         "B",
         1500,
         "IT"
        ],
        [
         3,
         "C",
         2500,
         "IT"
        ],
        [
         4,
         "D",
         3000,
         "HR"
        ],
        [
         5,
         "E",
         2000,
         "HR"
        ],
        [
         6,
         "F",
         1000,
         "HR"
        ],
        [
         7,
         "G",
         40000,
         "Sales"
        ],
        [
         8,
         "H",
         4000,
         "Sales"
        ],
        [
         9,
         "I",
         1000,
         "Sales"
        ],
        [
         10,
         "J",
         2000,
         "Sales"
        ]
       ],
       "datasetInfos": [],
       "dbfsResultPath": null,
       "isJsonSchema": true,
       "metadata": {},
       "overflow": false,
       "plotOptions": {
        "customPlotOptions": {},
        "displayType": "table",
        "pivotAggregation": null,
        "pivotColumns": null,
        "xColumns": null,
        "yColumns": null
       },
       "removedWidgets": [],
       "schema": [
        {
         "metadata": "{}",
         "name": "EmpId",
         "type": "\"long\""
        },
        {
         "metadata": "{}",
         "name": "EmpName",
         "type": "\"string\""
        },
        {
         "metadata": "{}",
         "name": "Salary",
         "type": "\"long\""
        },
        {
         "metadata": "{}",
         "name": "DeptName",
         "type": "\"string\""
        }
       ],
       "type": "table"
      }
     },
     "output_type": "display_data"
    }
   ],
   "source": [
    "data1=[(1,\"A\",1000,\"IT\"),(2,\"B\",1500,\"IT\"),(3,\"C\",2500,\"IT\"),(4,\"D\",3000,\"HR\"),(5,\"E\",2000,\"HR\"),(6,\"F\",1000,\"HR\")\n",
    "       ,(7,\"G\",40000,\"Sales\"),(8,\"H\",4000,\"Sales\"),(9,\"I\",1000,\"Sales\"),(10,\"J\",2000,\"Sales\")]\n",
    "schema1=[\"EmpId\",\"EmpName\",\"Salary\",\"DeptName\"]\n",
    "df=spark.createDataFrame(data1,schema1)\n",
    "\n",
    "df.printSchema()\n",
    "display(df)"
   ]
  },
  {
   "cell_type": "code",
   "execution_count": 0,
   "metadata": {
    "application/vnd.databricks.v1+cell": {
     "cellMetadata": {
      "byteLimit": 2048000,
      "rowLimit": 10000
     },
     "inputWidgets": {},
     "nuid": "2b295a19-9c7d-49c8-a0e2-aadb6dd80e58",
     "showTitle": false,
     "tableResultSettingsMap": {},
     "title": ""
    }
   },
   "outputs": [
    {
     "output_type": "display_data",
     "data": {
      "text/html": [
       "<style scoped>\n",
       "  .table-result-container {\n",
       "    max-height: 300px;\n",
       "    overflow: auto;\n",
       "  }\n",
       "  table, th, td {\n",
       "    border: 1px solid black;\n",
       "    border-collapse: collapse;\n",
       "  }\n",
       "  th, td {\n",
       "    padding: 5px;\n",
       "  }\n",
       "  th {\n",
       "    text-align: left;\n",
       "  }\n",
       "</style><div class='table-result-container'><table class='table-result'><thead style='background-color: white'><tr><th>EmpId</th><th>EmpName</th><th>Salary</th><th>DeptName</th><th>score</th></tr></thead><tbody><tr><td>4</td><td>D</td><td>3000</td><td>HR</td><td>1</td></tr><tr><td>3</td><td>C</td><td>2500</td><td>IT</td><td>1</td></tr><tr><td>7</td><td>G</td><td>40000</td><td>Sales</td><td>1</td></tr></tbody></table></div>"
      ]
     },
     "metadata": {
      "application/vnd.databricks.v1+output": {
       "addedWidgets": {},
       "aggData": [],
       "aggError": "",
       "aggOverflow": false,
       "aggSchema": [],
       "aggSeriesLimitReached": false,
       "aggType": "",
       "arguments": {},
       "columnCustomDisplayInfos": {},
       "data": [
        [
         4,
         "D",
         3000,
         "HR",
         1
        ],
        [
         3,
         "C",
         2500,
         "IT",
         1
        ],
        [
         7,
         "G",
         40000,
         "Sales",
         1
        ]
       ],
       "datasetInfos": [],
       "dbfsResultPath": null,
       "isJsonSchema": true,
       "metadata": {},
       "overflow": false,
       "plotOptions": {
        "customPlotOptions": {},
        "displayType": "table",
        "pivotAggregation": null,
        "pivotColumns": null,
        "xColumns": null,
        "yColumns": null
       },
       "removedWidgets": [],
       "schema": [
        {
         "metadata": "{}",
         "name": "EmpId",
         "type": "\"long\""
        },
        {
         "metadata": "{}",
         "name": "EmpName",
         "type": "\"string\""
        },
        {
         "metadata": "{}",
         "name": "Salary",
         "type": "\"long\""
        },
        {
         "metadata": "{}",
         "name": "DeptName",
         "type": "\"string\""
        },
        {
         "metadata": "{}",
         "name": "score",
         "type": "\"integer\""
        }
       ],
       "type": "table"
      }
     },
     "output_type": "display_data"
    }
   ],
   "source": [
    "#Find out highset emp_salary Department wise\n",
    "from pyspark.sql import Window\n",
    "from pyspark.sql.functions import col,max,min,rank\n",
    "\n",
    "window_spec=Window.partitionBy('DeptName').orderBy(col('Salary').desc())\n",
    "\n",
    "df_mod=df.withColumn('score',rank().over(window_spec))\n",
    "display(df_mod.filter(col('score')==1))"
   ]
  },
  {
   "cell_type": "code",
   "execution_count": 0,
   "metadata": {
    "application/vnd.databricks.v1+cell": {
     "cellMetadata": {
      "byteLimit": 2048000,
      "rowLimit": 10000
     },
     "inputWidgets": {},
     "nuid": "ceea59d4-2784-423f-b495-b8b5146f4281",
     "showTitle": false,
     "tableResultSettingsMap": {},
     "title": ""
    }
   },
   "outputs": [
    {
     "output_type": "display_data",
     "data": {
      "text/html": [
       "<style scoped>\n",
       "  .table-result-container {\n",
       "    max-height: 300px;\n",
       "    overflow: auto;\n",
       "  }\n",
       "  table, th, td {\n",
       "    border: 1px solid black;\n",
       "    border-collapse: collapse;\n",
       "  }\n",
       "  th, td {\n",
       "    padding: 5px;\n",
       "  }\n",
       "  th {\n",
       "    text-align: left;\n",
       "  }\n",
       "</style><div class='table-result-container'><table class='table-result'><thead style='background-color: white'><tr><th>EmpId</th><th>EmpName</th><th>Mgrid</th><th>deptid</th><th>salarydt</th><th>salary</th></tr></thead><tbody><tr><td>100</td><td>Raj</td><td>null</td><td>1</td><td>01-04-23</td><td>50000</td></tr><tr><td>200</td><td>Joanne</td><td>100</td><td>1</td><td>01-04-23</td><td>4000</td></tr><tr><td>200</td><td>Joanne</td><td>100</td><td>1</td><td>13-04-23</td><td>4500</td></tr><tr><td>200</td><td>Joanne</td><td>100</td><td>1</td><td>14-04-23</td><td>4020</td></tr></tbody></table></div>"
      ]
     },
     "metadata": {
      "application/vnd.databricks.v1+output": {
       "addedWidgets": {},
       "aggData": [],
       "aggError": "",
       "aggOverflow": false,
       "aggSchema": [],
       "aggSeriesLimitReached": false,
       "aggType": "",
       "arguments": {},
       "columnCustomDisplayInfos": {},
       "data": [
        [
         100,
         "Raj",
         null,
         1,
         "01-04-23",
         50000
        ],
        [
         200,
         "Joanne",
         100,
         1,
         "01-04-23",
         4000
        ],
        [
         200,
         "Joanne",
         100,
         1,
         "13-04-23",
         4500
        ],
        [
         200,
         "Joanne",
         100,
         1,
         "14-04-23",
         4020
        ]
       ],
       "datasetInfos": [],
       "dbfsResultPath": null,
       "isJsonSchema": true,
       "metadata": {},
       "overflow": false,
       "plotOptions": {
        "customPlotOptions": {},
        "displayType": "table",
        "pivotAggregation": null,
        "pivotColumns": null,
        "xColumns": null,
        "yColumns": null
       },
       "removedWidgets": [],
       "schema": [
        {
         "metadata": "{}",
         "name": "EmpId",
         "type": "\"long\""
        },
        {
         "metadata": "{}",
         "name": "EmpName",
         "type": "\"string\""
        },
        {
         "metadata": "{}",
         "name": "Mgrid",
         "type": "\"long\""
        },
        {
         "metadata": "{}",
         "name": "deptid",
         "type": "\"long\""
        },
        {
         "metadata": "{}",
         "name": "salarydt",
         "type": "\"string\""
        },
        {
         "metadata": "{}",
         "name": "salary",
         "type": "\"long\""
        }
       ],
       "type": "table"
      }
     },
     "output_type": "display_data"
    },
    {
     "output_type": "display_data",
     "data": {
      "text/html": [
       "<style scoped>\n",
       "  .table-result-container {\n",
       "    max-height: 300px;\n",
       "    overflow: auto;\n",
       "  }\n",
       "  table, th, td {\n",
       "    border: 1px solid black;\n",
       "    border-collapse: collapse;\n",
       "  }\n",
       "  th, td {\n",
       "    padding: 5px;\n",
       "  }\n",
       "  th {\n",
       "    text-align: left;\n",
       "  }\n",
       "</style><div class='table-result-container'><table class='table-result'><thead style='background-color: white'><tr><th>deptid</th><th>deptname</th></tr></thead><tbody><tr><td>1</td><td>IT</td></tr><tr><td>2</td><td>HR</td></tr></tbody></table></div>"
      ]
     },
     "metadata": {
      "application/vnd.databricks.v1+output": {
       "addedWidgets": {},
       "aggData": [],
       "aggError": "",
       "aggOverflow": false,
       "aggSchema": [],
       "aggSeriesLimitReached": false,
       "aggType": "",
       "arguments": {},
       "columnCustomDisplayInfos": {},
       "data": [
        [
         1,
         "IT"
        ],
        [
         2,
         "HR"
        ]
       ],
       "datasetInfos": [],
       "dbfsResultPath": null,
       "isJsonSchema": true,
       "metadata": {},
       "overflow": false,
       "plotOptions": {
        "customPlotOptions": {},
        "displayType": "table",
        "pivotAggregation": null,
        "pivotColumns": null,
        "xColumns": null,
        "yColumns": null
       },
       "removedWidgets": [],
       "schema": [
        {
         "metadata": "{}",
         "name": "deptid",
         "type": "\"long\""
        },
        {
         "metadata": "{}",
         "name": "deptname",
         "type": "\"string\""
        }
       ],
       "type": "table"
      }
     },
     "output_type": "display_data"
    }
   ],
   "source": [
    "#Employees Salary info\n",
    "data1=[(100,\"Raj\",None,1,\"01-04-23\",50000),\n",
    "       (200,\"Joanne\",100,1,\"01-04-23\",4000),(200,\"Joanne\",100,1,\"13-04-23\",4500),(200,\"Joanne\",100,1,\"14-04-23\",4020)]\n",
    "schema1=[\"EmpId\",\"EmpName\",\"Mgrid\",\"deptid\",\"salarydt\",\"salary\"]\n",
    "df_salary=spark.createDataFrame(data1,schema1)\n",
    "display(df_salary)\n",
    "#department dataframe\n",
    "data2=[(1,\"IT\"), (2,\"HR\")]\n",
    "schema2=[\"deptid\",\"deptname\"]\n",
    "df_dept=spark.createDataFrame(data2,schema2)\n",
    "display(df_dept)"
   ]
  },
  {
   "cell_type": "code",
   "execution_count": 0,
   "metadata": {
    "application/vnd.databricks.v1+cell": {
     "cellMetadata": {
      "byteLimit": 2048000,
      "rowLimit": 10000
     },
     "inputWidgets": {},
     "nuid": "7afc396f-6eb8-4990-9b49-a41cf4115d7e",
     "showTitle": false,
     "tableResultSettingsMap": {},
     "title": ""
    }
   },
   "outputs": [
    {
     "output_type": "stream",
     "name": "stdout",
     "output_type": "stream",
     "text": [
      "+-----+-------+-----+------+--------+------+----------+\n|EmpId|EmpName|Mgrid|deptid|salarydt|salary|  Newsaldt|\n+-----+-------+-----+------+--------+------+----------+\n|  100|    Raj| NULL|     1|01-04-23| 50000|2023-04-01|\n|  200| Joanne|  100|     1|01-04-23|  4000|2023-04-01|\n|  200| Joanne|  100|     1|13-04-23|  4500|2023-04-13|\n|  200| Joanne|  100|     1|14-04-23|  4020|2023-04-14|\n+-----+-------+-----+------+--------+------+----------+\n\n"
     ]
    }
   ],
   "source": [
    "from pyspark.sql.functions import *\n",
    "df=df_salary.withColumn('Newsaldt',to_date('salarydt','dd-MM-yy'))\n",
    "df.show()"
   ]
  },
  {
   "cell_type": "code",
   "execution_count": 0,
   "metadata": {
    "application/vnd.databricks.v1+cell": {
     "cellMetadata": {
      "byteLimit": 2048000,
      "rowLimit": 10000
     },
     "inputWidgets": {},
     "nuid": "287f5b2a-c72d-4194-b55c-c68439db6faf",
     "showTitle": false,
     "tableResultSettingsMap": {},
     "title": ""
    }
   },
   "outputs": [
    {
     "output_type": "stream",
     "name": "stdout",
     "output_type": "stream",
     "text": [
      "+------+-----+-------+-----+--------+------+----------+--------+\n|deptid|EmpId|EmpName|Mgrid|salarydt|salary|  Newsaldt|deptname|\n+------+-----+-------+-----+--------+------+----------+--------+\n|     1|  100|    Raj| NULL|01-04-23| 50000|2023-04-01|      IT|\n|     1|  200| Joanne|  100|01-04-23|  4000|2023-04-01|      IT|\n|     1|  200| Joanne|  100|13-04-23|  4500|2023-04-13|      IT|\n|     1|  200| Joanne|  100|14-04-23|  4020|2023-04-14|      IT|\n+------+-----+-------+-----+--------+------+----------+--------+\n\n"
     ]
    }
   ],
   "source": [
    "df1=df.join(df_dept,['deptid'])\n",
    "df1.show()"
   ]
  },
  {
   "cell_type": "code",
   "execution_count": 0,
   "metadata": {
    "application/vnd.databricks.v1+cell": {
     "cellMetadata": {
      "byteLimit": 2048000,
      "rowLimit": 10000
     },
     "inputWidgets": {},
     "nuid": "f2d9c76b-e1ad-487a-bb06-1e335344743b",
     "showTitle": false,
     "tableResultSettingsMap": {},
     "title": ""
    }
   },
   "outputs": [],
   "source": [
    "from pyspark.sql.functions import year,month\n",
    "df2=df1.alias('a').join(df1.alias('b'),col('a.Mgrid')==col('b.EmpId'),how='left')\\\n",
    "    .select( col('a.deptname'), col('b.EmpName').alias('ManagerName'),col('a.EmpName'),\\\n",
    "    col('a.Newsaldt'),col('a.salary'))\n"
   ]
  },
  {
   "cell_type": "code",
   "execution_count": 0,
   "metadata": {
    "application/vnd.databricks.v1+cell": {
     "cellMetadata": {
      "byteLimit": 2048000,
      "rowLimit": 10000
     },
     "inputWidgets": {},
     "nuid": "2e501c84-1018-40b0-8fb5-38383a658acc",
     "showTitle": false,
     "tableResultSettingsMap": {},
     "title": ""
    }
   },
   "outputs": [
    {
     "output_type": "display_data",
     "data": {
      "text/html": [
       "<style scoped>\n",
       "  .table-result-container {\n",
       "    max-height: 300px;\n",
       "    overflow: auto;\n",
       "  }\n",
       "  table, th, td {\n",
       "    border: 1px solid black;\n",
       "    border-collapse: collapse;\n",
       "  }\n",
       "  th, td {\n",
       "    padding: 5px;\n",
       "  }\n",
       "  th {\n",
       "    text-align: left;\n",
       "  }\n",
       "</style><div class='table-result-container'><table class='table-result'><thead style='background-color: white'><tr><th>deptname</th><th>ManagerName</th><th>EmpName</th><th>Newsaldt</th><th>salary</th></tr></thead><tbody><tr><td>IT</td><td>null</td><td>Raj</td><td>2023-04-01</td><td>50000</td></tr><tr><td>IT</td><td>Raj</td><td>Joanne</td><td>2023-04-01</td><td>4000</td></tr><tr><td>IT</td><td>Raj</td><td>Joanne</td><td>2023-04-13</td><td>4500</td></tr><tr><td>IT</td><td>Raj</td><td>Joanne</td><td>2023-04-14</td><td>4020</td></tr></tbody></table></div>"
      ]
     },
     "metadata": {
      "application/vnd.databricks.v1+output": {
       "addedWidgets": {},
       "aggData": [],
       "aggError": "",
       "aggOverflow": false,
       "aggSchema": [],
       "aggSeriesLimitReached": false,
       "aggType": "",
       "arguments": {},
       "columnCustomDisplayInfos": {},
       "data": [
        [
         "IT",
         null,
         "Raj",
         "2023-04-01",
         50000
        ],
        [
         "IT",
         "Raj",
         "Joanne",
         "2023-04-01",
         4000
        ],
        [
         "IT",
         "Raj",
         "Joanne",
         "2023-04-13",
         4500
        ],
        [
         "IT",
         "Raj",
         "Joanne",
         "2023-04-14",
         4020
        ]
       ],
       "datasetInfos": [],
       "dbfsResultPath": null,
       "isJsonSchema": true,
       "metadata": {},
       "overflow": false,
       "plotOptions": {
        "customPlotOptions": {},
        "displayType": "table",
        "pivotAggregation": null,
        "pivotColumns": null,
        "xColumns": null,
        "yColumns": null
       },
       "removedWidgets": [],
       "schema": [
        {
         "metadata": "{}",
         "name": "deptname",
         "type": "\"string\""
        },
        {
         "metadata": "{}",
         "name": "ManagerName",
         "type": "\"string\""
        },
        {
         "metadata": "{}",
         "name": "EmpName",
         "type": "\"string\""
        },
        {
         "metadata": "{}",
         "name": "Newsaldt",
         "type": "\"date\""
        },
        {
         "metadata": "{}",
         "name": "salary",
         "type": "\"long\""
        }
       ],
       "type": "table"
      }
     },
     "output_type": "display_data"
    }
   ],
   "source": [
    "display(df2)"
   ]
  },
  {
   "cell_type": "code",
   "execution_count": 0,
   "metadata": {
    "application/vnd.databricks.v1+cell": {
     "cellMetadata": {
      "byteLimit": 2048000,
      "rowLimit": 10000
     },
     "inputWidgets": {},
     "nuid": "4aac447f-a9ad-4a05-b1e5-873f2b2d735b",
     "showTitle": false,
     "tableResultSettingsMap": {},
     "title": ""
    }
   },
   "outputs": [],
   "source": [
    "df3=df2.withColumn('year',year(col('Newsaldt')))\\\n",
    "     .withColumn('month',month(col('Newsaldt')))\n",
    "                 \n"
   ]
  },
  {
   "cell_type": "code",
   "execution_count": 0,
   "metadata": {
    "application/vnd.databricks.v1+cell": {
     "cellMetadata": {
      "byteLimit": 2048000,
      "rowLimit": 10000
     },
     "inputWidgets": {},
     "nuid": "d6509079-b818-482e-9d85-309bc5dae3bf",
     "showTitle": false,
     "tableResultSettingsMap": {},
     "title": ""
    }
   },
   "outputs": [
    {
     "output_type": "display_data",
     "data": {
      "text/html": [
       "<style scoped>\n",
       "  .table-result-container {\n",
       "    max-height: 300px;\n",
       "    overflow: auto;\n",
       "  }\n",
       "  table, th, td {\n",
       "    border: 1px solid black;\n",
       "    border-collapse: collapse;\n",
       "  }\n",
       "  th, td {\n",
       "    padding: 5px;\n",
       "  }\n",
       "  th {\n",
       "    text-align: left;\n",
       "  }\n",
       "</style><div class='table-result-container'><table class='table-result'><thead style='background-color: white'><tr><th>deptname</th><th>ManagerName</th><th>EmpName</th><th>Newsaldt</th><th>salary</th><th>year</th><th>month</th></tr></thead><tbody><tr><td>IT</td><td>null</td><td>Raj</td><td>2023-04-01</td><td>50000</td><td>2023</td><td>4</td></tr><tr><td>IT</td><td>Raj</td><td>Joanne</td><td>2023-04-01</td><td>4000</td><td>2023</td><td>4</td></tr><tr><td>IT</td><td>Raj</td><td>Joanne</td><td>2023-04-13</td><td>4500</td><td>2023</td><td>4</td></tr><tr><td>IT</td><td>Raj</td><td>Joanne</td><td>2023-04-14</td><td>4020</td><td>2023</td><td>4</td></tr></tbody></table></div>"
      ]
     },
     "metadata": {
      "application/vnd.databricks.v1+output": {
       "addedWidgets": {},
       "aggData": [],
       "aggError": "",
       "aggOverflow": false,
       "aggSchema": [],
       "aggSeriesLimitReached": false,
       "aggType": "",
       "arguments": {},
       "columnCustomDisplayInfos": {},
       "data": [
        [
         "IT",
         null,
         "Raj",
         "2023-04-01",
         50000,
         2023,
         4
        ],
        [
         "IT",
         "Raj",
         "Joanne",
         "2023-04-01",
         4000,
         2023,
         4
        ],
        [
         "IT",
         "Raj",
         "Joanne",
         "2023-04-13",
         4500,
         2023,
         4
        ],
        [
         "IT",
         "Raj",
         "Joanne",
         "2023-04-14",
         4020,
         2023,
         4
        ]
       ],
       "datasetInfos": [],
       "dbfsResultPath": null,
       "isJsonSchema": true,
       "metadata": {},
       "overflow": false,
       "plotOptions": {
        "customPlotOptions": {},
        "displayType": "table",
        "pivotAggregation": null,
        "pivotColumns": null,
        "xColumns": null,
        "yColumns": null
       },
       "removedWidgets": [],
       "schema": [
        {
         "metadata": "{}",
         "name": "deptname",
         "type": "\"string\""
        },
        {
         "metadata": "{}",
         "name": "ManagerName",
         "type": "\"string\""
        },
        {
         "metadata": "{}",
         "name": "EmpName",
         "type": "\"string\""
        },
        {
         "metadata": "{}",
         "name": "Newsaldt",
         "type": "\"date\""
        },
        {
         "metadata": "{}",
         "name": "salary",
         "type": "\"long\""
        },
        {
         "metadata": "{}",
         "name": "year",
         "type": "\"integer\""
        },
        {
         "metadata": "{}",
         "name": "month",
         "type": "\"integer\""
        }
       ],
       "type": "table"
      }
     },
     "output_type": "display_data"
    }
   ],
   "source": [
    "display(df3)"
   ]
  },
  {
   "cell_type": "markdown",
   "metadata": {
    "application/vnd.databricks.v1+cell": {
     "cellMetadata": {
      "byteLimit": 2048000,
      "rowLimit": 10000
     },
     "inputWidgets": {},
     "nuid": "63a54481-5305-40c8-9439-4bff3aca2f66",
     "showTitle": false,
     "tableResultSettingsMap": {},
     "title": ""
    }
   },
   "source": [
    "**explode functions**"
   ]
  },
  {
   "cell_type": "code",
   "execution_count": 0,
   "metadata": {
    "application/vnd.databricks.v1+cell": {
     "cellMetadata": {
      "byteLimit": 2048000,
      "rowLimit": 10000
     },
     "inputWidgets": {},
     "nuid": "a632a14e-caf4-46d0-8105-c62983c6f9a2",
     "showTitle": false,
     "tableResultSettingsMap": {},
     "title": ""
    }
   },
   "outputs": [
    {
     "output_type": "display_data",
     "data": {
      "text/html": [
       "<style scoped>\n",
       "  .table-result-container {\n",
       "    max-height: 300px;\n",
       "    overflow: auto;\n",
       "  }\n",
       "  table, th, td {\n",
       "    border: 1px solid black;\n",
       "    border-collapse: collapse;\n",
       "  }\n",
       "  th, td {\n",
       "    padding: 5px;\n",
       "  }\n",
       "  th {\n",
       "    text-align: left;\n",
       "  }\n",
       "</style><div class='table-result-container'><table class='table-result'><thead style='background-color: white'><tr><th>id</th><th>name</th><th>marks</th></tr></thead><tbody><tr><td>1</td><td>Julie</td><td>23||87||54</td></tr><tr><td>6</td><td>Mr.T</td><td>93||67||24</td></tr><tr><td>5</td><td>Mark</td><td>50||20||84</td></tr></tbody></table></div>"
      ]
     },
     "metadata": {
      "application/vnd.databricks.v1+output": {
       "addedWidgets": {},
       "aggData": [],
       "aggError": "",
       "aggOverflow": false,
       "aggSchema": [],
       "aggSeriesLimitReached": false,
       "aggType": "",
       "arguments": {},
       "columnCustomDisplayInfos": {},
       "data": [
        [
         1,
         "Julie",
         "23||87||54"
        ],
        [
         6,
         "Mr.T",
         "93||67||24"
        ],
        [
         5,
         "Mark",
         "50||20||84"
        ]
       ],
       "datasetInfos": [],
       "dbfsResultPath": null,
       "isJsonSchema": true,
       "metadata": {},
       "overflow": false,
       "plotOptions": {
        "customPlotOptions": {},
        "displayType": "table",
        "pivotAggregation": null,
        "pivotColumns": null,
        "xColumns": null,
        "yColumns": null
       },
       "removedWidgets": [],
       "schema": [
        {
         "metadata": "{}",
         "name": "id",
         "type": "\"long\""
        },
        {
         "metadata": "{}",
         "name": "name",
         "type": "\"string\""
        },
        {
         "metadata": "{}",
         "name": "marks",
         "type": "\"string\""
        }
       ],
       "type": "table"
      }
     },
     "output_type": "display_data"
    }
   ],
   "source": [
    "studentdata=[(1,\"Julie\",\"23||87||54\"),(6,\"Mr.T\",\"93||67||24\"),(5,\"Mark\",\"50||20||84\")]\n",
    "stuschema=[\"id\",\"name\",\"marks\"]\n",
    "\n",
    "df_st=spark.createDataFrame(studentdata,stuschema)\n",
    "display(df_st)"
   ]
  },
  {
   "cell_type": "code",
   "execution_count": 0,
   "metadata": {
    "application/vnd.databricks.v1+cell": {
     "cellMetadata": {
      "byteLimit": 2048000,
      "rowLimit": 10000
     },
     "inputWidgets": {},
     "nuid": "db95d7fa-d0f1-4e65-8ba5-9e329c6b86b5",
     "showTitle": false,
     "tableResultSettingsMap": {},
     "title": ""
    }
   },
   "outputs": [
    {
     "output_type": "display_data",
     "data": {
      "text/html": [
       "<style scoped>\n",
       "  .table-result-container {\n",
       "    max-height: 300px;\n",
       "    overflow: auto;\n",
       "  }\n",
       "  table, th, td {\n",
       "    border: 1px solid black;\n",
       "    border-collapse: collapse;\n",
       "  }\n",
       "  th, td {\n",
       "    padding: 5px;\n",
       "  }\n",
       "  th {\n",
       "    text-align: left;\n",
       "  }\n",
       "</style><div class='table-result-container'><table class='table-result'><thead style='background-color: white'><tr><th>id</th><th>name</th><th>marks</th><th>Maths</th><th>English</th><th>Geography</th></tr></thead><tbody><tr><td>1</td><td>Julie</td><td>23||87||54</td><td>2</td><td>3</td><td>|</td></tr><tr><td>6</td><td>Mr.T</td><td>93||67||24</td><td>9</td><td>3</td><td>|</td></tr><tr><td>5</td><td>Mark</td><td>50||20||84</td><td>5</td><td>0</td><td>|</td></tr></tbody></table></div>"
      ]
     },
     "metadata": {
      "application/vnd.databricks.v1+output": {
       "addedWidgets": {},
       "aggData": [],
       "aggError": "",
       "aggOverflow": false,
       "aggSchema": [],
       "aggSeriesLimitReached": false,
       "aggType": "",
       "arguments": {},
       "columnCustomDisplayInfos": {},
       "data": [
        [
         1,
         "Julie",
         "23||87||54",
         "2",
         "3",
         "|"
        ],
        [
         6,
         "Mr.T",
         "93||67||24",
         "9",
         "3",
         "|"
        ],
        [
         5,
         "Mark",
         "50||20||84",
         "5",
         "0",
         "|"
        ]
       ],
       "datasetInfos": [],
       "dbfsResultPath": null,
       "isJsonSchema": true,
       "metadata": {},
       "overflow": false,
       "plotOptions": {
        "customPlotOptions": {},
        "displayType": "table",
        "pivotAggregation": null,
        "pivotColumns": null,
        "xColumns": null,
        "yColumns": null
       },
       "removedWidgets": [],
       "schema": [
        {
         "metadata": "{}",
         "name": "id",
         "type": "\"long\""
        },
        {
         "metadata": "{}",
         "name": "name",
         "type": "\"string\""
        },
        {
         "metadata": "{}",
         "name": "marks",
         "type": "\"string\""
        },
        {
         "metadata": "{}",
         "name": "Maths",
         "type": "\"string\""
        },
        {
         "metadata": "{}",
         "name": "English",
         "type": "\"string\""
        },
        {
         "metadata": "{}",
         "name": "Geography",
         "type": "\"string\""
        }
       ],
       "type": "table"
      }
     },
     "output_type": "display_data"
    }
   ],
   "source": [
    "from pyspark.sql.functions import split\n",
    "df_st=df_st.withColumn('Maths',split(col('marks'),\"||\")[0])\\\n",
    "        .withColumn('English',split(col('marks'),'||')[1])\\\n",
    "        .withColumn('Geography',split(col('marks'),'||')[2])\n",
    "\n",
    "display(df_st)        "
   ]
  },
  {
   "cell_type": "code",
   "execution_count": 0,
   "metadata": {
    "application/vnd.databricks.v1+cell": {
     "cellMetadata": {
      "byteLimit": 2048000,
      "rowLimit": 10000
     },
     "inputWidgets": {},
     "nuid": "0195c86c-3807-4e63-9c30-5c001c7bdcb9",
     "showTitle": false,
     "tableResultSettingsMap": {},
     "title": ""
    }
   },
   "outputs": [],
   "source": [
    "### find no. of nulls in each columns\n",
    "\n",
    "dt=[(1,\"Julie\",None),(None,\"Mr.T\",\"93||67||24\"),(5,None,\"50||20||84\"),(None,\"Mark\",None)]\n",
    "dtchema=[\"id\",\"name\",\"marks\"]"
   ]
  },
  {
   "cell_type": "code",
   "execution_count": 0,
   "metadata": {
    "application/vnd.databricks.v1+cell": {
     "cellMetadata": {
      "byteLimit": 2048000,
      "rowLimit": 10000
     },
     "inputWidgets": {},
     "nuid": "13e325ab-e3e1-49a0-b853-9c2d7e2a1d2a",
     "showTitle": false,
     "tableResultSettingsMap": {},
     "title": ""
    }
   },
   "outputs": [
    {
     "output_type": "display_data",
     "data": {
      "text/html": [
       "<style scoped>\n",
       "  .table-result-container {\n",
       "    max-height: 300px;\n",
       "    overflow: auto;\n",
       "  }\n",
       "  table, th, td {\n",
       "    border: 1px solid black;\n",
       "    border-collapse: collapse;\n",
       "  }\n",
       "  th, td {\n",
       "    padding: 5px;\n",
       "  }\n",
       "  th {\n",
       "    text-align: left;\n",
       "  }\n",
       "</style><div class='table-result-container'><table class='table-result'><thead style='background-color: white'><tr><th>id</th><th>name</th><th>marks</th></tr></thead><tbody><tr><td>1</td><td>Julie</td><td>null</td></tr><tr><td>null</td><td>Mr.T</td><td>93||67||24</td></tr><tr><td>5</td><td>null</td><td>50||20||84</td></tr><tr><td>null</td><td>Mark</td><td>null</td></tr></tbody></table></div>"
      ]
     },
     "metadata": {
      "application/vnd.databricks.v1+output": {
       "addedWidgets": {},
       "aggData": [],
       "aggError": "",
       "aggOverflow": false,
       "aggSchema": [],
       "aggSeriesLimitReached": false,
       "aggType": "",
       "arguments": {},
       "columnCustomDisplayInfos": {},
       "data": [
        [
         1,
         "Julie",
         null
        ],
        [
         null,
         "Mr.T",
         "93||67||24"
        ],
        [
         5,
         null,
         "50||20||84"
        ],
        [
         null,
         "Mark",
         null
        ]
       ],
       "datasetInfos": [],
       "dbfsResultPath": null,
       "isJsonSchema": true,
       "metadata": {},
       "overflow": false,
       "plotOptions": {
        "customPlotOptions": {},
        "displayType": "table",
        "pivotAggregation": null,
        "pivotColumns": null,
        "xColumns": null,
        "yColumns": null
       },
       "removedWidgets": [],
       "schema": [
        {
         "metadata": "{}",
         "name": "id",
         "type": "\"long\""
        },
        {
         "metadata": "{}",
         "name": "name",
         "type": "\"string\""
        },
        {
         "metadata": "{}",
         "name": "marks",
         "type": "\"string\""
        }
       ],
       "type": "table"
      }
     },
     "output_type": "display_data"
    }
   ],
   "source": [
    "dt_df=spark.createDataFrame(dt,dtchema)\n",
    "display(dt_df)"
   ]
  },
  {
   "cell_type": "code",
   "execution_count": 0,
   "metadata": {
    "application/vnd.databricks.v1+cell": {
     "cellMetadata": {
      "byteLimit": 2048000,
      "rowLimit": 10000
     },
     "inputWidgets": {},
     "nuid": "cddb7d18-87c2-4faf-9c1f-4ed9ec18ba25",
     "showTitle": false,
     "tableResultSettingsMap": {},
     "title": ""
    }
   },
   "outputs": [
    {
     "output_type": "stream",
     "name": "stdout",
     "output_type": "stream",
     "text": [
      "+---+----+-----+\n| id|name|marks|\n+---+----+-----+\n|  2|   1|    2|\n+---+----+-----+\n\n"
     ]
    }
   ],
   "source": [
    "from pyspark.sql.functions import *\n",
    "#display(dt_df.select([count(i) for i in dt_df.columns]))\n",
    "\n",
    "#display(dt_df.select([when(col(i).isNull(),i ) for i in dt_df.columns]))\n",
    "dt_df.select([count(when(isnull(c), c)).alias(c) for c in dt_df.columns]).show()"
   ]
  },
  {
   "cell_type": "code",
   "execution_count": 0,
   "metadata": {
    "application/vnd.databricks.v1+cell": {
     "cellMetadata": {
      "byteLimit": 2048000,
      "rowLimit": 10000
     },
     "inputWidgets": {},
     "nuid": "babe9d44-e490-4d35-bcf5-7c4587082cf5",
     "showTitle": false,
     "tableResultSettingsMap": {},
     "title": ""
    }
   },
   "outputs": [
    {
     "output_type": "execute_result",
     "data": {
      "text/plain": [
       "{'id': 'bigint', 'name': 'string', 'marks': 'string'}"
      ]
     },
     "execution_count": 15,
     "metadata": {},
     "output_type": "execute_result"
    }
   ],
   "source": [
    "dict(dt_df.dtypes)"
   ]
  },
  {
   "cell_type": "code",
   "execution_count": 0,
   "metadata": {
    "application/vnd.databricks.v1+cell": {
     "cellMetadata": {
      "byteLimit": 2048000,
      "rowLimit": 10000
     },
     "inputWidgets": {},
     "nuid": "936e927d-1a91-4c25-ad86-496bffe2310c",
     "showTitle": false,
     "tableResultSettingsMap": {},
     "title": ""
    }
   },
   "outputs": [
    {
     "output_type": "stream",
     "name": "stdout",
     "output_type": "stream",
     "text": [
      "Column name is id and datatype is bigint\nColumn name is name and datatype is string\nColumn name is marks and datatype is string\n"
     ]
    }
   ],
   "source": [
    "for col in dt_df.columns:\n",
    "    print(f\"Column name is {col} and datatype is {dict(dt_df.dtypes)[col]}\")"
   ]
  },
  {
   "cell_type": "code",
   "execution_count": 0,
   "metadata": {
    "application/vnd.databricks.v1+cell": {
     "cellMetadata": {
      "byteLimit": 2048000,
      "rowLimit": 10000
     },
     "inputWidgets": {},
     "nuid": "bd8c8a25-47ac-45a6-a154-1248cf093355",
     "showTitle": false,
     "tableResultSettingsMap": {},
     "title": ""
    }
   },
   "outputs": [],
   "source": [
    "## collect_list and aggregation\n",
    "\n",
    "data = [\n",
    "    (\"john\", \"tomato\", 2),\n",
    "    (\"𝚋𝚒𝚕𝚕\", \"𝚊𝚙𝚙𝚕𝚎\", 2),\n",
    "    (\"john\", \"𝚋𝚊𝚗𝚊𝚗𝚊\", 2),\n",
    "    (\"john\", \"tomato\", 3),\n",
    "    (\"𝚋𝚒𝚕𝚕\", \"𝚝𝚊𝚌𝚘\", 2),\n",
    "    (\"𝚋𝚒𝚕𝚕\", \"𝚊𝚙𝚙𝚕𝚎\", 2),\n",
    "]\n",
    "schema = \"name string,item string,weight int\"\n",
    "df = spark.createDataFrame(data, schema)"
   ]
  },
  {
   "cell_type": "code",
   "execution_count": 0,
   "metadata": {
    "application/vnd.databricks.v1+cell": {
     "cellMetadata": {
      "byteLimit": 2048000,
      "rowLimit": 10000
     },
     "inputWidgets": {},
     "nuid": "88510e11-9ac9-4014-8351-311c63bd91fd",
     "showTitle": false,
     "tableResultSettingsMap": {},
     "title": ""
    }
   },
   "outputs": [
    {
     "output_type": "display_data",
     "data": {
      "text/html": [
       "<style scoped>\n",
       "  .table-result-container {\n",
       "    max-height: 300px;\n",
       "    overflow: auto;\n",
       "  }\n",
       "  table, th, td {\n",
       "    border: 1px solid black;\n",
       "    border-collapse: collapse;\n",
       "  }\n",
       "  th, td {\n",
       "    padding: 5px;\n",
       "  }\n",
       "  th {\n",
       "    text-align: left;\n",
       "  }\n",
       "</style><div class='table-result-container'><table class='table-result'><thead style='background-color: white'><tr><th>name</th><th>item</th><th>weight</th></tr></thead><tbody><tr><td>john</td><td>tomato</td><td>2</td></tr><tr><td>𝚋𝚒𝚕𝚕</td><td>𝚊𝚙𝚙𝚕𝚎</td><td>2</td></tr><tr><td>john</td><td>𝚋𝚊𝚗𝚊𝚗𝚊</td><td>2</td></tr><tr><td>john</td><td>tomato</td><td>3</td></tr><tr><td>𝚋𝚒𝚕𝚕</td><td>𝚝𝚊𝚌𝚘</td><td>2</td></tr><tr><td>𝚋𝚒𝚕𝚕</td><td>𝚊𝚙𝚙𝚕𝚎</td><td>2</td></tr></tbody></table></div>"
      ]
     },
     "metadata": {
      "application/vnd.databricks.v1+output": {
       "addedWidgets": {},
       "aggData": [],
       "aggError": "",
       "aggOverflow": false,
       "aggSchema": [],
       "aggSeriesLimitReached": false,
       "aggType": "",
       "arguments": {},
       "columnCustomDisplayInfos": {},
       "data": [
        [
         "john",
         "tomato",
         2
        ],
        [
         "𝚋𝚒𝚕𝚕",
         "𝚊𝚙𝚙𝚕𝚎",
         2
        ],
        [
         "john",
         "𝚋𝚊𝚗𝚊𝚗𝚊",
         2
        ],
        [
         "john",
         "tomato",
         3
        ],
        [
         "𝚋𝚒𝚕𝚕",
         "𝚝𝚊𝚌𝚘",
         2
        ],
        [
         "𝚋𝚒𝚕𝚕",
         "𝚊𝚙𝚙𝚕𝚎",
         2
        ]
       ],
       "datasetInfos": [],
       "dbfsResultPath": null,
       "isJsonSchema": true,
       "metadata": {},
       "overflow": false,
       "plotOptions": {
        "customPlotOptions": {},
        "displayType": "table",
        "pivotAggregation": null,
        "pivotColumns": null,
        "xColumns": null,
        "yColumns": null
       },
       "removedWidgets": [],
       "schema": [
        {
         "metadata": "{}",
         "name": "name",
         "type": "\"string\""
        },
        {
         "metadata": "{}",
         "name": "item",
         "type": "\"string\""
        },
        {
         "metadata": "{}",
         "name": "weight",
         "type": "\"integer\""
        }
       ],
       "type": "table"
      }
     },
     "output_type": "display_data"
    }
   ],
   "source": [
    "display(df)"
   ]
  },
  {
   "cell_type": "code",
   "execution_count": 0,
   "metadata": {
    "application/vnd.databricks.v1+cell": {
     "cellMetadata": {
      "byteLimit": 2048000,
      "rowLimit": 10000
     },
     "inputWidgets": {},
     "nuid": "07f58d3c-b452-4bc2-b7a3-91f4f80cdbfe",
     "showTitle": false,
     "tableResultSettingsMap": {},
     "title": ""
    }
   },
   "outputs": [
    {
     "output_type": "display_data",
     "data": {
      "text/html": [
       "<style scoped>\n",
       "  .table-result-container {\n",
       "    max-height: 300px;\n",
       "    overflow: auto;\n",
       "  }\n",
       "  table, th, td {\n",
       "    border: 1px solid black;\n",
       "    border-collapse: collapse;\n",
       "  }\n",
       "  th, td {\n",
       "    padding: 5px;\n",
       "  }\n",
       "  th {\n",
       "    text-align: left;\n",
       "  }\n",
       "</style><div class='table-result-container'><table class='table-result'><thead style='background-color: white'><tr><th>name</th><th>collect_list(item)</th></tr></thead><tbody><tr><td>john</td><td>List(tomato, 𝚋𝚊𝚗𝚊𝚗𝚊, tomato)</td></tr><tr><td>𝚋𝚒𝚕𝚕</td><td>List(𝚊𝚙𝚙𝚕𝚎, 𝚝𝚊𝚌𝚘, 𝚊𝚙𝚙𝚕𝚎)</td></tr></tbody></table></div>"
      ]
     },
     "metadata": {
      "application/vnd.databricks.v1+output": {
       "addedWidgets": {},
       "aggData": [],
       "aggError": "",
       "aggOverflow": false,
       "aggSchema": [],
       "aggSeriesLimitReached": false,
       "aggType": "",
       "arguments": {},
       "columnCustomDisplayInfos": {},
       "data": [
        [
         "john",
         [
          "tomato",
          "𝚋𝚊𝚗𝚊𝚗𝚊",
          "tomato"
         ]
        ],
        [
         "𝚋𝚒𝚕𝚕",
         [
          "𝚊𝚙𝚙𝚕𝚎",
          "𝚝𝚊𝚌𝚘",
          "𝚊𝚙𝚙𝚕𝚎"
         ]
        ]
       ],
       "datasetInfos": [],
       "dbfsResultPath": null,
       "isJsonSchema": true,
       "metadata": {},
       "overflow": false,
       "plotOptions": {
        "customPlotOptions": {},
        "displayType": "table",
        "pivotAggregation": null,
        "pivotColumns": null,
        "xColumns": null,
        "yColumns": null
       },
       "removedWidgets": [],
       "schema": [
        {
         "metadata": "{}",
         "name": "name",
         "type": "\"string\""
        },
        {
         "metadata": "{}",
         "name": "collect_list(item)",
         "type": "{\"type\":\"array\",\"elementType\":\"string\",\"containsNull\":false}"
        }
       ],
       "type": "table"
      }
     },
     "output_type": "display_data"
    }
   ],
   "source": [
    "df_final=df.groupBy(\"name\").agg(collect_list(\"item\"))\n",
    "display(df_final)"
   ]
  },
  {
   "cell_type": "code",
   "execution_count": 0,
   "metadata": {
    "application/vnd.databricks.v1+cell": {
     "cellMetadata": {
      "byteLimit": 2048000,
      "rowLimit": 10000
     },
     "inputWidgets": {},
     "nuid": "5c2f8f1b-b369-4647-8c6d-80ecb608a169",
     "showTitle": false,
     "tableResultSettingsMap": {},
     "title": ""
    }
   },
   "outputs": [
    {
     "output_type": "display_data",
     "data": {
      "text/html": [
       "<style scoped>\n",
       "  .table-result-container {\n",
       "    max-height: 300px;\n",
       "    overflow: auto;\n",
       "  }\n",
       "  table, th, td {\n",
       "    border: 1px solid black;\n",
       "    border-collapse: collapse;\n",
       "  }\n",
       "  th, td {\n",
       "    padding: 5px;\n",
       "  }\n",
       "  th {\n",
       "    text-align: left;\n",
       "  }\n",
       "</style><div class='table-result-container'><table class='table-result'><thead style='background-color: white'><tr><th>name</th><th>items</th></tr></thead><tbody><tr><td>john</td><td>List(List(tomato, 2), List(𝚋𝚊𝚗𝚊𝚗𝚊, 2), List(tomato, 3))</td></tr><tr><td>𝚋𝚒𝚕𝚕</td><td>List(List(𝚊𝚙𝚙𝚕𝚎, 2), List(𝚝𝚊𝚌𝚘, 2), List(𝚊𝚙𝚙𝚕𝚎, 2))</td></tr></tbody></table></div>"
      ]
     },
     "metadata": {
      "application/vnd.databricks.v1+output": {
       "addedWidgets": {},
       "aggData": [],
       "aggError": "",
       "aggOverflow": false,
       "aggSchema": [],
       "aggSeriesLimitReached": false,
       "aggType": "",
       "arguments": {},
       "columnCustomDisplayInfos": {},
       "data": [
        [
         "john",
         [
          [
           "tomato",
           2
          ],
          [
           "𝚋𝚊𝚗𝚊𝚗𝚊",
           2
          ],
          [
           "tomato",
           3
          ]
         ]
        ],
        [
         "𝚋𝚒𝚕𝚕",
         [
          [
           "𝚊𝚙𝚙𝚕𝚎",
           2
          ],
          [
           "𝚝𝚊𝚌𝚘",
           2
          ],
          [
           "𝚊𝚙𝚙𝚕𝚎",
           2
          ]
         ]
        ]
       ],
       "datasetInfos": [],
       "dbfsResultPath": null,
       "isJsonSchema": true,
       "metadata": {},
       "overflow": false,
       "plotOptions": {
        "customPlotOptions": {},
        "displayType": "table",
        "pivotAggregation": null,
        "pivotColumns": null,
        "xColumns": null,
        "yColumns": null
       },
       "removedWidgets": [],
       "schema": [
        {
         "metadata": "{}",
         "name": "name",
         "type": "\"string\""
        },
        {
         "metadata": "{}",
         "name": "items",
         "type": "{\"type\":\"array\",\"elementType\":{\"type\":\"struct\",\"fields\":[{\"name\":\"item\",\"type\":\"string\",\"nullable\":true,\"metadata\":{}},{\"name\":\"weight\",\"type\":\"integer\",\"nullable\":true,\"metadata\":{}}]},\"containsNull\":false}"
        }
       ],
       "type": "table"
      }
     },
     "output_type": "display_data"
    }
   ],
   "source": [
    "df_final=df.groupBy(\"name\").agg(collect_list(struct(\"item\",\"weight\")).alias(\"items\"))\n",
    "display(df_final)"
   ]
  },
  {
   "cell_type": "code",
   "execution_count": 0,
   "metadata": {
    "application/vnd.databricks.v1+cell": {
     "cellMetadata": {
      "byteLimit": 2048000,
      "rowLimit": 10000
     },
     "inputWidgets": {},
     "nuid": "9c717441-2ebb-4778-adfa-4fa193f64243",
     "showTitle": false,
     "tableResultSettingsMap": {},
     "title": ""
    }
   },
   "outputs": [
    {
     "output_type": "stream",
     "name": "stdout",
     "output_type": "stream",
     "text": [
      "root\n |-- name: string (nullable = true)\n |-- items: array (nullable = false)\n |    |-- element: struct (containsNull = false)\n |    |    |-- item: string (nullable = true)\n |    |    |-- weight: integer (nullable = true)\n\n"
     ]
    }
   ],
   "source": [
    "df_final.printSchema()"
   ]
  },
  {
   "cell_type": "code",
   "execution_count": 0,
   "metadata": {
    "application/vnd.databricks.v1+cell": {
     "cellMetadata": {
      "byteLimit": 2048000,
      "rowLimit": 10000
     },
     "inputWidgets": {},
     "nuid": "76f40a3d-5353-4a48-97ca-f3fa81ab4c9c",
     "showTitle": false,
     "tableResultSettingsMap": {},
     "title": ""
    }
   },
   "outputs": [
    {
     "output_type": "display_data",
     "data": {
      "text/plain": [
       "\u001B[0;31m---------------------------------------------------------------------------\u001B[0m\n",
       "\u001B[0;31mTypeError\u001B[0m                                 Traceback (most recent call last)\n",
       "File \u001B[0;32m<command-2026787703974019>, line 1\u001B[0m\n",
       "\u001B[0;32m----> 1\u001B[0m df_final1\u001B[38;5;241m=\u001B[39mdf_final\u001B[38;5;241m.\u001B[39mwithColumn(\u001B[38;5;124m'\u001B[39m\u001B[38;5;124mnewitem\u001B[39m\u001B[38;5;124m'\u001B[39m,explode(col(\u001B[38;5;124m'\u001B[39m\u001B[38;5;124mitems\u001B[39m\u001B[38;5;124m'\u001B[39m)))\u001B[38;5;241m.\u001B[39mdrop(\u001B[38;5;124m\"\u001B[39m\u001B[38;5;124mitems\u001B[39m\u001B[38;5;124m\"\u001B[39m)\n",
       "\u001B[1;32m      2\u001B[0m display(df_final1)\n",
       "\n",
       "\u001B[0;31mTypeError\u001B[0m: 'str' object is not callable"
      ]
     },
     "metadata": {
      "application/vnd.databricks.v1+output": {
       "arguments": {},
       "data": "\u001B[0;31m---------------------------------------------------------------------------\u001B[0m\n\u001B[0;31mTypeError\u001B[0m                                 Traceback (most recent call last)\nFile \u001B[0;32m<command-2026787703974019>, line 1\u001B[0m\n\u001B[0;32m----> 1\u001B[0m df_final1\u001B[38;5;241m=\u001B[39mdf_final\u001B[38;5;241m.\u001B[39mwithColumn(\u001B[38;5;124m'\u001B[39m\u001B[38;5;124mnewitem\u001B[39m\u001B[38;5;124m'\u001B[39m,explode(col(\u001B[38;5;124m'\u001B[39m\u001B[38;5;124mitems\u001B[39m\u001B[38;5;124m'\u001B[39m)))\u001B[38;5;241m.\u001B[39mdrop(\u001B[38;5;124m\"\u001B[39m\u001B[38;5;124mitems\u001B[39m\u001B[38;5;124m\"\u001B[39m)\n\u001B[1;32m      2\u001B[0m display(df_final1)\n\n\u001B[0;31mTypeError\u001B[0m: 'str' object is not callable",
       "errorSummary": "<span class='ansi-red-fg'>TypeError</span>: 'str' object is not callable",
       "errorTraceType": "ansi",
       "metadata": {},
       "type": "ipynbError"
      }
     },
     "output_type": "display_data"
    }
   ],
   "source": [
    "df_final1=df_final.withColumn('newitem',explode(col('items'))).drop(\"items\")\n",
    "display(df_final1)\n"
   ]
  },
  {
   "cell_type": "code",
   "execution_count": 0,
   "metadata": {
    "application/vnd.databricks.v1+cell": {
     "cellMetadata": {
      "byteLimit": 2048000,
      "rowLimit": 10000
     },
     "inputWidgets": {},
     "nuid": "5f20be3a-a76f-4317-b636-4898734f129b",
     "showTitle": false,
     "tableResultSettingsMap": {},
     "title": ""
    }
   },
   "outputs": [
    {
     "output_type": "display_data",
     "data": {
      "text/plain": [
       ""
      ]
     },
     "metadata": {
      "application/vnd.databricks.v1+output": {
       "arguments": {},
       "data": "",
       "errorSummary": "Command skipped",
       "errorTraceType": "ansi",
       "metadata": {},
       "type": "ipynbError"
      }
     },
     "output_type": "display_data"
    }
   ],
   "source": [
    "df_final1.printSchema()"
   ]
  },
  {
   "cell_type": "code",
   "execution_count": 0,
   "metadata": {
    "application/vnd.databricks.v1+cell": {
     "cellMetadata": {
      "byteLimit": 2048000,
      "rowLimit": 10000
     },
     "inputWidgets": {},
     "nuid": "d3973333-a44d-451f-b6a1-88d77d9f41b3",
     "showTitle": false,
     "tableResultSettingsMap": {},
     "title": ""
    }
   },
   "outputs": [
    {
     "output_type": "display_data",
     "data": {
      "text/plain": [
       ""
      ]
     },
     "metadata": {
      "application/vnd.databricks.v1+output": {
       "arguments": {},
       "data": "",
       "errorSummary": "Command skipped",
       "errorTraceType": "ansi",
       "metadata": {},
       "type": "ipynbError"
      }
     },
     "output_type": "display_data"
    }
   ],
   "source": [
    "## Check data types and multiply if doubletype\n",
    "\n",
    "data_df = [\n",
    "    (\"john\", \"tomato\", 2.00),\n",
    "    (\"𝚋𝚒𝚕𝚕\", \"𝚊𝚙𝚙𝚕𝚎\", 2.99),\n",
    "    (\"john\", \"𝚋𝚊𝚗𝚊𝚗𝚊\", 23.79),\n",
    "    (\"john\", \"tomato\", 33.33),\n",
    "    (\"𝚋𝚒𝚕𝚕\", \"𝚝𝚊𝚌𝚘\", 19.86),\n",
    "    (\"𝚋𝚒𝚕𝚕\", \"𝚊𝚙𝚙𝚕𝚎\", 65.86),\n",
    "]"
   ]
  },
  {
   "cell_type": "code",
   "execution_count": 0,
   "metadata": {
    "application/vnd.databricks.v1+cell": {
     "cellMetadata": {
      "byteLimit": 2048000,
      "rowLimit": 10000
     },
     "inputWidgets": {},
     "nuid": "4b78256e-fe9d-4200-a196-dec49c76391b",
     "showTitle": false,
     "tableResultSettingsMap": {},
     "title": ""
    }
   },
   "outputs": [
    {
     "output_type": "display_data",
     "data": {
      "text/plain": [
       ""
      ]
     },
     "metadata": {
      "application/vnd.databricks.v1+output": {
       "arguments": {},
       "data": "",
       "errorSummary": "Command skipped",
       "errorTraceType": "ansi",
       "metadata": {},
       "type": "ipynbError"
      }
     },
     "output_type": "display_data"
    }
   ],
   "source": [
    "from pyspark.sql.types import StructType,StringType,IntegerType,DoubleType,StructField\n",
    "\n",
    "schema_1=StructType([StructField(\"name\",StringType()),\n",
    "                     StructField(\"fruit\",StringType()),\n",
    "                     StructField(\"price\",DoubleType())])"
   ]
  },
  {
   "cell_type": "code",
   "execution_count": 0,
   "metadata": {
    "application/vnd.databricks.v1+cell": {
     "cellMetadata": {
      "byteLimit": 2048000,
      "rowLimit": 10000
     },
     "inputWidgets": {},
     "nuid": "bc2f6767-bb6e-4bd0-898a-b62b6d7441cb",
     "showTitle": false,
     "tableResultSettingsMap": {},
     "title": ""
    }
   },
   "outputs": [
    {
     "output_type": "display_data",
     "data": {
      "text/plain": [
       ""
      ]
     },
     "metadata": {
      "application/vnd.databricks.v1+output": {
       "arguments": {},
       "data": "",
       "errorSummary": "Command skipped",
       "errorTraceType": "ansi",
       "metadata": {},
       "type": "ipynbError"
      }
     },
     "output_type": "display_data"
    }
   ],
   "source": [
    "df_ch=spark.createDataFrame(data_df,schema_1)\n",
    "display(df_ch)"
   ]
  },
  {
   "cell_type": "code",
   "execution_count": 0,
   "metadata": {
    "application/vnd.databricks.v1+cell": {
     "cellMetadata": {
      "byteLimit": 2048000,
      "rowLimit": 10000
     },
     "inputWidgets": {},
     "nuid": "eb0269a4-8d57-439b-b30c-eff1bb038615",
     "showTitle": false,
     "tableResultSettingsMap": {},
     "title": ""
    }
   },
   "outputs": [
    {
     "output_type": "display_data",
     "data": {
      "text/plain": [
       ""
      ]
     },
     "metadata": {
      "application/vnd.databricks.v1+output": {
       "arguments": {},
       "data": "",
       "errorSummary": "Command skipped",
       "errorTraceType": "ansi",
       "metadata": {},
       "type": "ipynbError"
      }
     },
     "output_type": "display_data"
    }
   ],
   "source": [
    "df_ch.printSchema()"
   ]
  },
  {
   "cell_type": "code",
   "execution_count": 0,
   "metadata": {
    "application/vnd.databricks.v1+cell": {
     "cellMetadata": {
      "byteLimit": 2048000,
      "rowLimit": 10000
     },
     "inputWidgets": {},
     "nuid": "ed504c00-da06-4a4b-9da7-e85ba808f212",
     "showTitle": false,
     "tableResultSettingsMap": {},
     "title": ""
    }
   },
   "outputs": [
    {
     "output_type": "display_data",
     "data": {
      "text/plain": [
       ""
      ]
     },
     "metadata": {
      "application/vnd.databricks.v1+output": {
       "arguments": {},
       "data": "",
       "errorSummary": "Command skipped",
       "errorTraceType": "ansi",
       "metadata": {},
       "type": "ipynbError"
      }
     },
     "output_type": "display_data"
    }
   ],
   "source": [
    "dict(df_ch.dtypes)"
   ]
  },
  {
   "cell_type": "code",
   "execution_count": 0,
   "metadata": {
    "application/vnd.databricks.v1+cell": {
     "cellMetadata": {
      "byteLimit": 2048000,
      "rowLimit": 10000
     },
     "inputWidgets": {},
     "nuid": "49377082-2ce4-4cbb-834e-f935893f7f7c",
     "showTitle": false,
     "tableResultSettingsMap": {},
     "title": ""
    }
   },
   "outputs": [
    {
     "output_type": "display_data",
     "data": {
      "text/plain": [
       ""
      ]
     },
     "metadata": {
      "application/vnd.databricks.v1+output": {
       "arguments": {},
       "data": "",
       "errorSummary": "Command skipped",
       "errorTraceType": "ansi",
       "metadata": {},
       "type": "ipynbError"
      }
     },
     "output_type": "display_data"
    }
   ],
   "source": [
    "for col,coltype in dict(df_ch.dtypes).items():\n",
    "    print(f\"col is {col} and datatype is {coltype})\")"
   ]
  },
  {
   "cell_type": "code",
   "execution_count": 0,
   "metadata": {
    "application/vnd.databricks.v1+cell": {
     "cellMetadata": {
      "byteLimit": 2048000,
      "rowLimit": 10000
     },
     "inputWidgets": {},
     "nuid": "1997af65-f208-4c1d-893d-2eafbdac42b9",
     "showTitle": false,
     "tableResultSettingsMap": {},
     "title": ""
    }
   },
   "outputs": [],
   "source": []
  },
  {
   "cell_type": "code",
   "execution_count": 0,
   "metadata": {
    "application/vnd.databricks.v1+cell": {
     "cellMetadata": {
      "byteLimit": 2048000,
      "rowLimit": 10000
     },
     "inputWidgets": {},
     "nuid": "3398185e-ebe6-49be-825f-aea5a42dc0cc",
     "showTitle": false,
     "tableResultSettingsMap": {},
     "title": ""
    }
   },
   "outputs": [
    {
     "output_type": "display_data",
     "data": {
      "text/plain": [
       ""
      ]
     },
     "metadata": {
      "application/vnd.databricks.v1+output": {
       "arguments": {},
       "data": "",
       "errorSummary": "Command skipped",
       "errorTraceType": "ansi",
       "metadata": {},
       "type": "ipynbError"
      }
     },
     "output_type": "display_data"
    }
   ],
   "source": [
    "#Employees Salary info\n",
    "data1=[(100,\"Raj\",None,1,\"01-04-23\",50000),\n",
    "       (200,\"Joanne\",100,1,\"01-04-23\",4000),(200,\"Joanne\",100,1,\"13-04-23\",4500),(200,\"Joanne\",100,1,\"14-04-23\",4020)]\n",
    "schema1=[\"EmpId\",\"EmpName\",\"Mgrid\",\"deptid\",\"salarydt\",\"salary\"]\n",
    "df_salary=spark.createDataFrame(data1,schema1)\n",
    "display(df_salary)\n",
    "#department dataframe\n",
    "data2=[(1,\"IT\"),\n",
    "       (2,\"HR\")]\n",
    "schema2=[\"deptid\",\"deptname\"]\n",
    "df_dept=spark.createDataFrame(data2,schema2)\n",
    "display(df_dept)"
   ]
  },
  {
   "cell_type": "code",
   "execution_count": 0,
   "metadata": {
    "application/vnd.databricks.v1+cell": {
     "cellMetadata": {
      "byteLimit": 2048000,
      "rowLimit": 10000
     },
     "inputWidgets": {},
     "nuid": "8058212f-edc8-4ca1-94d6-d9b25e904028",
     "showTitle": false,
     "tableResultSettingsMap": {},
     "title": ""
    }
   },
   "outputs": [
    {
     "output_type": "display_data",
     "data": {
      "text/plain": [
       ""
      ]
     },
     "metadata": {
      "application/vnd.databricks.v1+output": {
       "arguments": {},
       "data": "",
       "errorSummary": "Command skipped",
       "errorTraceType": "ansi",
       "metadata": {},
       "type": "ipynbError"
      }
     },
     "output_type": "display_data"
    }
   ],
   "source": [
    "from pyspark.sql.functions import date_format,to_date,col,year,month\n",
    "\n",
    "emp_dept1=df_salary.withColumn('salary_date',to_date(col('salarydt'),'dd-MM-yy'))\n",
    "display(emp_dept1)"
   ]
  },
  {
   "cell_type": "code",
   "execution_count": 0,
   "metadata": {
    "application/vnd.databricks.v1+cell": {
     "cellMetadata": {
      "byteLimit": 2048000,
      "rowLimit": 10000
     },
     "inputWidgets": {},
     "nuid": "4be329b4-e7b8-40aa-96d1-e97cbe3a140b",
     "showTitle": false,
     "tableResultSettingsMap": {},
     "title": ""
    }
   },
   "outputs": [
    {
     "output_type": "display_data",
     "data": {
      "text/plain": [
       ""
      ]
     },
     "metadata": {
      "application/vnd.databricks.v1+output": {
       "arguments": {},
       "data": "",
       "errorSummary": "Command skipped",
       "errorTraceType": "ansi",
       "metadata": {},
       "type": "ipynbError"
      }
     },
     "output_type": "display_data"
    }
   ],
   "source": [
    "emp_dept2=emp_dept1.withColumn('salary_year',year(col('salary_date')))\\\n",
    "                    .withColumn('salary_month',month(col('salary_date')))\\\n",
    "                    .drop('salarydt')\n",
    "emp_dept3=emp_dept2.select(\"Empid\", \"EmpName\",\"deptid\",\"salary_year\",\"salary_month\",\"salary\",\"Mgrid\")\n",
    "display(emp_dept2)    \n",
    "display(emp_dept3)"
   ]
  },
  {
   "cell_type": "code",
   "execution_count": 0,
   "metadata": {
    "application/vnd.databricks.v1+cell": {
     "cellMetadata": {
      "byteLimit": 2048000,
      "rowLimit": 10000
     },
     "inputWidgets": {},
     "nuid": "e822dcb6-947c-4cfe-8b53-b985218b6379",
     "showTitle": false,
     "tableResultSettingsMap": {},
     "title": ""
    }
   },
   "outputs": [
    {
     "output_type": "display_data",
     "data": {
      "text/plain": [
       ""
      ]
     },
     "metadata": {
      "application/vnd.databricks.v1+output": {
       "arguments": {},
       "data": "",
       "errorSummary": "Command skipped",
       "errorTraceType": "ansi",
       "metadata": {},
       "type": "ipynbError"
      }
     },
     "output_type": "display_data"
    }
   ],
   "source": [
    "emp_dept4=emp_dept3.groupBy('salary_month','Empid','EmpName','deptid','Mgrid').sum('salary')\n",
    "emp_dept4.show()"
   ]
  },
  {
   "cell_type": "code",
   "execution_count": 0,
   "metadata": {
    "application/vnd.databricks.v1+cell": {
     "cellMetadata": {
      "byteLimit": 2048000,
      "rowLimit": 10000
     },
     "inputWidgets": {},
     "nuid": "875202a5-5f28-46e3-9029-125b1465ab5a",
     "showTitle": false,
     "tableResultSettingsMap": {},
     "title": ""
    }
   },
   "outputs": [
    {
     "output_type": "display_data",
     "data": {
      "text/plain": [
       ""
      ]
     },
     "metadata": {
      "application/vnd.databricks.v1+output": {
       "arguments": {},
       "data": "",
       "errorSummary": "Command skipped",
       "errorTraceType": "ansi",
       "metadata": {},
       "type": "ipynbError"
      }
     },
     "output_type": "display_data"
    }
   ],
   "source": [
    "emp_dept_rv=emp_dept4.join(df_dept,emp_dept4.deptid==df_dept.deptid,'inner').drop(df_dept.deptid)\n",
    "display(emp_dept_rv)"
   ]
  },
  {
   "cell_type": "code",
   "execution_count": 0,
   "metadata": {
    "application/vnd.databricks.v1+cell": {
     "cellMetadata": {
      "byteLimit": 2048000,
      "rowLimit": 10000
     },
     "inputWidgets": {},
     "nuid": "b72d4d73-bd11-4810-8604-b4542b512a5b",
     "showTitle": false,
     "tableResultSettingsMap": {},
     "title": ""
    }
   },
   "outputs": [
    {
     "output_type": "display_data",
     "data": {
      "text/plain": [
       ""
      ]
     },
     "metadata": {
      "application/vnd.databricks.v1+output": {
       "arguments": {},
       "data": "",
       "errorSummary": "Command skipped",
       "errorTraceType": "ansi",
       "metadata": {},
       "type": "ipynbError"
      }
     },
     "output_type": "display_data"
    }
   ],
   "source": [
    "df_rv=emp_dept_rv.alias('a').join(emp_dept_rv.alias('b'),col('a.Mgrid')==col('b.EmpId'),'left').select(\n",
    "    col('a.deptname'),\n",
    "    col('b.EmpName').alias('ManagerName'),\n",
    "    col('a.EmpName'),\n",
    "    col('a.salary_month'),\n",
    "    col('a.sum(salary)')\n",
    ")\n",
    "display(df_rv)"
   ]
  },
  {
   "cell_type": "code",
   "execution_count": 0,
   "metadata": {
    "application/vnd.databricks.v1+cell": {
     "cellMetadata": {
      "byteLimit": 2048000,
      "rowLimit": 10000
     },
     "inputWidgets": {},
     "nuid": "61b0c667-865a-4c42-91c7-4da967fbb3c7",
     "showTitle": false,
     "tableResultSettingsMap": {},
     "title": ""
    }
   },
   "outputs": [
    {
     "output_type": "display_data",
     "data": {
      "text/plain": [
       ""
      ]
     },
     "metadata": {
      "application/vnd.databricks.v1+output": {
       "arguments": {},
       "data": "",
       "errorSummary": "Command skipped",
       "errorTraceType": "ansi",
       "metadata": {},
       "type": "ipynbError"
      }
     },
     "output_type": "display_data"
    }
   ],
   "source": [
    "## q2\n",
    "dept_data=[('IT','M'),('IT','F'),('IT','M'),('IT','M'),\n",
    "           ('HR','F'),('HR','F'),('HR','F'),('HR','F'),('HR','F'),\n",
    "           ('SALES','M'),('SALES','M'),('SALES','F')]\n",
    "\n",
    "dept_schema=['Deptname','Gender']    \n",
    "\n",
    "dept_df=spark.createDataFrame(dept_data,dept_schema)\n",
    "display(dept_df)"
   ]
  },
  {
   "cell_type": "code",
   "execution_count": 0,
   "metadata": {
    "application/vnd.databricks.v1+cell": {
     "cellMetadata": {
      "byteLimit": 2048000,
      "rowLimit": 10000
     },
     "inputWidgets": {},
     "nuid": "4b01f4be-a5e1-4b5b-8255-8b42264765c8",
     "showTitle": false,
     "tableResultSettingsMap": {},
     "title": ""
    }
   },
   "outputs": [
    {
     "output_type": "display_data",
     "data": {
      "text/plain": [
       ""
      ]
     },
     "metadata": {
      "application/vnd.databricks.v1+output": {
       "arguments": {},
       "data": "",
       "errorSummary": "Command skipped",
       "errorTraceType": "ansi",
       "metadata": {},
       "type": "ipynbError"
      }
     },
     "output_type": "display_data"
    }
   ],
   "source": [
    "from pyspark.sql.functions import when,col\n",
    "\n",
    "dept_df_rv=dept_df.select('Deptname',when(col('Gender')=='M',1).alias('Male'),when(col('Gender')=='F',1).alias('Female'))\n",
    "\n",
    "display(dept_df_rv)"
   ]
  },
  {
   "cell_type": "code",
   "execution_count": 0,
   "metadata": {
    "application/vnd.databricks.v1+cell": {
     "cellMetadata": {
      "byteLimit": 2048000,
      "rowLimit": 10000
     },
     "inputWidgets": {},
     "nuid": "0cef72f7-6dde-42ae-a7ec-7f1871001f58",
     "showTitle": false,
     "tableResultSettingsMap": {},
     "title": ""
    }
   },
   "outputs": [
    {
     "output_type": "display_data",
     "data": {
      "text/plain": [
       ""
      ]
     },
     "metadata": {
      "application/vnd.databricks.v1+output": {
       "arguments": {},
       "data": "",
       "errorSummary": "Command skipped",
       "errorTraceType": "ansi",
       "metadata": {},
       "type": "ipynbError"
      }
     },
     "output_type": "display_data"
    }
   ],
   "source": [
    "from pyspark.sql.functions import count,sum\n",
    "\n",
    "display(\n",
    "        dept_df_rv.groupBy('Deptname').agg(count('Deptname').alias('TotaCount'),\\\n",
    "            sum('Male').alias('Malecount'),sum('Female').alias('Femalecount'))\n",
    "        )"
   ]
  },
  {
   "cell_type": "code",
   "execution_count": 0,
   "metadata": {
    "application/vnd.databricks.v1+cell": {
     "cellMetadata": {
      "byteLimit": 2048000,
      "rowLimit": 10000
     },
     "inputWidgets": {},
     "nuid": "d297dbae-d930-4780-a25b-3c31eda07340",
     "showTitle": false,
     "tableResultSettingsMap": {},
     "title": ""
    }
   },
   "outputs": [
    {
     "output_type": "display_data",
     "data": {
      "text/plain": [
       ""
      ]
     },
     "metadata": {
      "application/vnd.databricks.v1+output": {
       "arguments": {},
       "data": "",
       "errorSummary": "Command skipped",
       "errorTraceType": "ansi",
       "metadata": {},
       "type": "ipynbError"
      }
     },
     "output_type": "display_data"
    }
   ],
   "source": [
    "#q3\n",
    "data=[(1,'John','ADF'),(1,'John','ADB'),(1,'John','PowerBI'),(2,'Joanne','ADF'),(2,'Joanne','SQL'),(2,'Joanne','Crystal Report'),(3,'Vikas','ADF'),(3,'Vikas','SQL'),(3,'Vikas','SSIS'),(4,'Monu','SQL'),(4,'Monu','SSIS'),(4,'Monu','SSAS'),(4,'Monu','ADF')]\n",
    "schema=[\"EmpId\",\"EmpName\",\"Skill\"]\n",
    "df1=spark.createDataFrame(data,schema)\n",
    "display(df1)"
   ]
  },
  {
   "cell_type": "code",
   "execution_count": 0,
   "metadata": {
    "application/vnd.databricks.v1+cell": {
     "cellMetadata": {
      "byteLimit": 2048000,
      "rowLimit": 10000
     },
     "inputWidgets": {},
     "nuid": "d46d78ba-2ccb-4a44-b44f-b90a6b3d47ee",
     "showTitle": false,
     "tableResultSettingsMap": {},
     "title": ""
    }
   },
   "outputs": [
    {
     "output_type": "display_data",
     "data": {
      "text/plain": [
       ""
      ]
     },
     "metadata": {
      "application/vnd.databricks.v1+output": {
       "arguments": {},
       "data": "",
       "errorSummary": "Command skipped",
       "errorTraceType": "ansi",
       "metadata": {},
       "type": "ipynbError"
      }
     },
     "output_type": "display_data"
    }
   ],
   "source": [
    "from pyspark.sql.functions import collect_list,concat_ws\n",
    "\n",
    "df22=df1.groupBy('EmpName').agg(collect_list('Skill').alias('skills'))\n",
    "display(df22)"
   ]
  },
  {
   "cell_type": "code",
   "execution_count": 0,
   "metadata": {
    "application/vnd.databricks.v1+cell": {
     "cellMetadata": {
      "byteLimit": 2048000,
      "rowLimit": 10000
     },
     "inputWidgets": {},
     "nuid": "f4f5302b-fd3e-41c3-9143-945208bd7b4c",
     "showTitle": false,
     "tableResultSettingsMap": {},
     "title": ""
    }
   },
   "outputs": [
    {
     "output_type": "display_data",
     "data": {
      "text/plain": [
       ""
      ]
     },
     "metadata": {
      "application/vnd.databricks.v1+output": {
       "arguments": {},
       "data": "",
       "errorSummary": "Command skipped",
       "errorTraceType": "ansi",
       "metadata": {},
       "type": "ipynbError"
      }
     },
     "output_type": "display_data"
    }
   ],
   "source": [
    "display(df22.select(df22.EmpName,concat_ws(',',df22.skills).alias('skills')))"
   ]
  },
  {
   "cell_type": "markdown",
   "metadata": {
    "application/vnd.databricks.v1+cell": {
     "cellMetadata": {
      "byteLimit": 2048000,
      "rowLimit": 10000
     },
     "inputWidgets": {},
     "nuid": "a0446e3d-ab24-445d-9210-c3b29f41ac37",
     "showTitle": false,
     "tableResultSettingsMap": {},
     "title": ""
    }
   },
   "source": [
    "### Q4-Amazon-Remove all reversed pair"
   ]
  },
  {
   "cell_type": "code",
   "execution_count": 0,
   "metadata": {
    "application/vnd.databricks.v1+cell": {
     "cellMetadata": {
      "byteLimit": 2048000,
      "rowLimit": 10000
     },
     "inputWidgets": {},
     "nuid": "7cf6fdf6-72ab-4a3d-8f33-fcba69105d73",
     "showTitle": false,
     "tableResultSettingsMap": {},
     "title": ""
    }
   },
   "outputs": [
    {
     "output_type": "display_data",
     "data": {
      "text/plain": [
       ""
      ]
     },
     "metadata": {
      "application/vnd.databricks.v1+output": {
       "arguments": {},
       "data": "",
       "errorSummary": "Command skipped",
       "errorTraceType": "ansi",
       "metadata": {},
       "type": "ipynbError"
      }
     },
     "output_type": "display_data"
    }
   ],
   "source": [
    "\n",
    "from pyspark.sql.types import *\n",
    "data=[(1,2),(3,2),(2,4),(2,1),(5,6),(4,2)]\n",
    "schema=['A','B']\n",
    "emp_df=spark.createDataFrame(data,schema)\n",
    "display(emp_df)"
   ]
  },
  {
   "cell_type": "code",
   "execution_count": 0,
   "metadata": {
    "application/vnd.databricks.v1+cell": {
     "cellMetadata": {
      "byteLimit": 2048000,
      "rowLimit": 10000
     },
     "inputWidgets": {},
     "nuid": "ddd617b3-76d9-47a1-bfc2-3e550467181e",
     "showTitle": false,
     "tableResultSettingsMap": {},
     "title": ""
    }
   },
   "outputs": [
    {
     "output_type": "display_data",
     "data": {
      "text/plain": [
       ""
      ]
     },
     "metadata": {
      "application/vnd.databricks.v1+output": {
       "arguments": {},
       "data": "",
       "errorSummary": "Command skipped",
       "errorTraceType": "ansi",
       "metadata": {},
       "type": "ipynbError"
      }
     },
     "output_type": "display_data"
    }
   ],
   "source": [
    "##1st Approach-- By having min max value\n",
    "from pyspark.sql.functions import least, greatest, col\n",
    "\n",
    "emp_df1 = emp_df.withColumn('min_val', least(col('A'), col('B'))) \\\n",
    "                .withColumn('max_val', greatest(col('A'), col('B')))\n",
    "\n",
    "emp_df_unique = emp_df1.select('min_val', 'max_val').dropDuplicates() \\\n",
    "                       .withColumnRenamed('min_val', 'A') \\\n",
    "                       .withColumnRenamed('max_val', 'B')\n",
    "\n",
    "emp_df_unique.show()\n"
   ]
  },
  {
   "cell_type": "code",
   "execution_count": 0,
   "metadata": {
    "application/vnd.databricks.v1+cell": {
     "cellMetadata": {
      "byteLimit": 2048000,
      "rowLimit": 10000
     },
     "inputWidgets": {},
     "nuid": "d60cff86-3281-4ee9-984b-6c56d84a322f",
     "showTitle": false,
     "tableResultSettingsMap": {},
     "title": ""
    }
   },
   "outputs": [
    {
     "output_type": "display_data",
     "data": {
      "text/plain": [
       ""
      ]
     },
     "metadata": {
      "application/vnd.databricks.v1+output": {
       "arguments": {},
       "data": "",
       "errorSummary": "Command skipped",
       "errorTraceType": "ansi",
       "metadata": {},
       "type": "ipynbError"
      }
     },
     "output_type": "display_data"
    }
   ],
   "source": [
    "##2nd Approach- By self join\n",
    "\n",
    "emp_df_joined = (\n",
    "    emp_df.alias('e')\n",
    "    .join(\n",
    "        emp_df.alias('g'),\n",
    "        (col('e.A') == col('g.B')) & (col('e.B') == col('g.A')),\n",
    "        'left_outer'\n",
    "    )\n",
    "    .filter((col('g.A').isNull()) | (col('e.A') < col('e.B')))\n",
    "    .select(col('e.A').alias('A'), col('e.B').alias('B'))\n",
    ")\n",
    "emp_df_joined.show()\n"
   ]
  },
  {
   "cell_type": "markdown",
   "metadata": {
    "application/vnd.databricks.v1+cell": {
     "cellMetadata": {
      "byteLimit": 2048000,
      "rowLimit": 10000
     },
     "inputWidgets": {},
     "nuid": "3389c35e-51a5-48c7-a4f9-219f42e7211a",
     "showTitle": false,
     "tableResultSettingsMap": {},
     "title": ""
    }
   },
   "source": [
    "### Q5-Amazon-Total amount recieved via cash and online merchant"
   ]
  },
  {
   "cell_type": "code",
   "execution_count": 0,
   "metadata": {
    "application/vnd.databricks.v1+cell": {
     "cellMetadata": {
      "byteLimit": 2048000,
      "rowLimit": 10000
     },
     "inputWidgets": {},
     "nuid": "af225ad7-d17b-4499-8e9a-179bfca2a330",
     "showTitle": false,
     "tableResultSettingsMap": {},
     "title": ""
    }
   },
   "outputs": [
    {
     "output_type": "display_data",
     "data": {
      "text/plain": [
       ""
      ]
     },
     "metadata": {
      "application/vnd.databricks.v1+output": {
       "arguments": {},
       "data": "",
       "errorSummary": "Command skipped",
       "errorTraceType": "ansi",
       "metadata": {},
       "type": "ipynbError"
      }
     },
     "output_type": "display_data"
    }
   ],
   "source": [
    "data=[('2022-04-02','merchant_1',150,'cash'),('2022-04-02','merchant_1',500,'online'),('2022-04-03','merchant_2',450,'online'),('2022-04-03','merchant_1',100,'cash'), ('2022-04-03','merchant_3',600,'cash'),('2022-04-05','merchant_5',200,'online'),('2022-04-05','merchant_2',100,'online')]\n",
    "headers=['trx_date', 'merchant', 'amount', 'pay_mode']"
   ]
  },
  {
   "cell_type": "code",
   "execution_count": 0,
   "metadata": {
    "application/vnd.databricks.v1+cell": {
     "cellMetadata": {
      "byteLimit": 2048000,
      "rowLimit": 10000
     },
     "inputWidgets": {},
     "nuid": "e658ebcf-5c3c-4c60-a1ee-d9ab5d930663",
     "showTitle": false,
     "tableResultSettingsMap": {},
     "title": ""
    }
   },
   "outputs": [
    {
     "output_type": "display_data",
     "data": {
      "text/plain": [
       ""
      ]
     },
     "metadata": {
      "application/vnd.databricks.v1+output": {
       "arguments": {},
       "data": "",
       "errorSummary": "Command skipped",
       "errorTraceType": "ansi",
       "metadata": {},
       "type": "ipynbError"
      }
     },
     "output_type": "display_data"
    }
   ],
   "source": [
    "trx_df=spark.createDataFrame(data,headers)\n",
    "trx_df.show()"
   ]
  },
  {
   "cell_type": "code",
   "execution_count": 0,
   "metadata": {
    "application/vnd.databricks.v1+cell": {
     "cellMetadata": {
      "byteLimit": 2048000,
      "rowLimit": 10000
     },
     "inputWidgets": {},
     "nuid": "aa423f50-26e1-4d27-b593-84c6eac665c4",
     "showTitle": false,
     "tableResultSettingsMap": {},
     "title": ""
    }
   },
   "outputs": [
    {
     "output_type": "display_data",
     "data": {
      "text/plain": [
       ""
      ]
     },
     "metadata": {
      "application/vnd.databricks.v1+output": {
       "arguments": {},
       "data": "",
       "errorSummary": "Command skipped",
       "errorTraceType": "ansi",
       "metadata": {},
       "type": "ipynbError"
      }
     },
     "output_type": "display_data"
    }
   ],
   "source": [
    "trx_df1=(\n",
    "   trx_df.groupBy('merchant').pivot('pay_mode').sum('amount') \n",
    ")\n",
    "trx_df1.show()"
   ]
  },
  {
   "cell_type": "markdown",
   "metadata": {
    "application/vnd.databricks.v1+cell": {
     "cellMetadata": {
      "byteLimit": 2048000,
      "rowLimit": 10000
     },
     "inputWidgets": {},
     "nuid": "4b86a662-0048-4537-b53f-4d4ed65e164a",
     "showTitle": false,
     "tableResultSettingsMap": {},
     "title": ""
    }
   },
   "source": [
    "### Q6-Google-Unique user count"
   ]
  },
  {
   "cell_type": "code",
   "execution_count": 0,
   "metadata": {
    "application/vnd.databricks.v1+cell": {
     "cellMetadata": {
      "byteLimit": 2048000,
      "rowLimit": 10000
     },
     "inputWidgets": {},
     "nuid": "c3c8db0f-997d-408c-b905-87a615004f4f",
     "showTitle": false,
     "tableResultSettingsMap": {},
     "title": ""
    }
   },
   "outputs": [
    {
     "output_type": "display_data",
     "data": {
      "text/plain": [
       ""
      ]
     },
     "metadata": {
      "application/vnd.databricks.v1+output": {
       "arguments": {},
       "data": "",
       "errorSummary": "Command skipped",
       "errorTraceType": "ansi",
       "metadata": {},
       "type": "ipynbError"
      }
     },
     "output_type": "display_data"
    }
   ],
   "source": [
    "data=[('2022-02-20',1,\"abc\"),('2022-02-20',2,\"xyz\"),('2022-02-22',1,\"xyz\"),('2022-02-22',3,\"klm\"),('2022-02-24',1,\"abc\"),\n",
    "('2022-02-24',2,\"abc\"),('2022-02-24',3,\"abc\")]\n",
    "schema=['date','user_id','activity']\n",
    "\n",
    "user_df=spark.createDataFrame(data,schema)\n",
    "user_df.show()\n",
    "    "
   ]
  },
  {
   "cell_type": "code",
   "execution_count": 0,
   "metadata": {
    "application/vnd.databricks.v1+cell": {
     "cellMetadata": {
      "byteLimit": 2048000,
      "rowLimit": 10000
     },
     "inputWidgets": {},
     "nuid": "2fa300a5-fad0-4214-897c-fe06bef65451",
     "showTitle": false,
     "tableResultSettingsMap": {},
     "title": ""
    }
   },
   "outputs": [
    {
     "output_type": "display_data",
     "data": {
      "text/plain": [
       ""
      ]
     },
     "metadata": {
      "application/vnd.databricks.v1+output": {
       "arguments": {},
       "data": "",
       "errorSummary": "Command skipped",
       "errorTraceType": "ansi",
       "metadata": {},
       "type": "ipynbError"
      }
     },
     "output_type": "display_data"
    }
   ],
   "source": [
    "from pyspark.sql.window import Window\n",
    "\n",
    "window_spec=Window.partitionBy('user_id').orderBy('date')\n",
    "\n",
    "display(user_df.withColumn('rnum',row_number().over(window_spec)))"
   ]
  },
  {
   "cell_type": "markdown",
   "metadata": {
    "application/vnd.databricks.v1+cell": {
     "cellMetadata": {
      "byteLimit": 2048000,
      "rowLimit": 10000
     },
     "inputWidgets": {},
     "nuid": "dcc9ad54-9dc0-4f2a-8f12-322206c2c2ee",
     "showTitle": false,
     "tableResultSettingsMap": {},
     "title": ""
    }
   },
   "source": [
    "**Q7-Google-Content_word_question**\n",
    "_--count the words which has occurence more that 1 across all files_"
   ]
  },
  {
   "cell_type": "code",
   "execution_count": 0,
   "metadata": {
    "application/vnd.databricks.v1+cell": {
     "cellMetadata": {
      "byteLimit": 2048000,
      "rowLimit": 10000
     },
     "inputWidgets": {},
     "nuid": "1275b992-b0d6-41ef-aa7c-0eb8f0f254e1",
     "showTitle": false,
     "tableResultSettingsMap": {},
     "title": ""
    }
   },
   "outputs": [
    {
     "output_type": "display_data",
     "data": {
      "text/plain": [
       ""
      ]
     },
     "metadata": {
      "application/vnd.databricks.v1+output": {
       "arguments": {},
       "data": "",
       "errorSummary": "Command skipped",
       "errorTraceType": "ansi",
       "metadata": {},
       "type": "ipynbError"
      }
     },
     "output_type": "display_data"
    }
   ],
   "source": [
    "data = [('python bootcamp1.txt','python for data analytics 0 to hero bootcamp starting on Jan 6th')\n",
    ",('python bootcamp2.txt','classes will be held on weekends from 11am to 1 pm for 5-6 weeks')\n",
    ",('python bootcamp3.txt','use code NY2024 to get 33 percent off. You can register from namaste sql website. Link in pinned comment')]\n",
    "\n",
    "schema = [\"filename\" , \"content\"]\n",
    "\n",
    "df = spark.createDataFrame(data = data , schema = schema)\n",
    "\n",
    "df.show(truncate=False)"
   ]
  },
  {
   "cell_type": "code",
   "execution_count": 0,
   "metadata": {
    "application/vnd.databricks.v1+cell": {
     "cellMetadata": {
      "byteLimit": 2048000,
      "rowLimit": 10000
     },
     "inputWidgets": {},
     "nuid": "622f8935-1c4a-4dc6-ba8c-61920423b40d",
     "showTitle": false,
     "tableResultSettingsMap": {},
     "title": ""
    }
   },
   "outputs": [
    {
     "output_type": "display_data",
     "data": {
      "text/plain": [
       ""
      ]
     },
     "metadata": {
      "application/vnd.databricks.v1+output": {
       "arguments": {},
       "data": "",
       "errorSummary": "Command skipped",
       "errorTraceType": "ansi",
       "metadata": {},
       "type": "ipynbError"
      }
     },
     "output_type": "display_data"
    }
   ],
   "source": [
    "import pyspark.sql.functions as F\n",
    "df1=df.withColumn('wordsarray',F.split(df['content'],\" \")).drop('content')\n",
    "df1.show(truncate=False)"
   ]
  },
  {
   "cell_type": "code",
   "execution_count": 0,
   "metadata": {
    "application/vnd.databricks.v1+cell": {
     "cellMetadata": {
      "byteLimit": 2048000,
      "rowLimit": 10000
     },
     "inputWidgets": {},
     "nuid": "01eff86a-96d3-44cf-bb57-09e18af7fb47",
     "showTitle": false,
     "tableResultSettingsMap": {},
     "title": ""
    }
   },
   "outputs": [
    {
     "output_type": "display_data",
     "data": {
      "text/plain": [
       ""
      ]
     },
     "metadata": {
      "application/vnd.databricks.v1+output": {
       "arguments": {},
       "data": "",
       "errorSummary": "Command skipped",
       "errorTraceType": "ansi",
       "metadata": {},
       "type": "ipynbError"
      }
     },
     "output_type": "display_data"
    }
   ],
   "source": [
    "df2=df1.withColumn('words',F.explode(F.col('wordsarray'))).drop('wordsarray')\n",
    "df2.show()"
   ]
  },
  {
   "cell_type": "code",
   "execution_count": 0,
   "metadata": {
    "application/vnd.databricks.v1+cell": {
     "cellMetadata": {
      "byteLimit": 2048000,
      "rowLimit": 10000
     },
     "inputWidgets": {},
     "nuid": "62dc745a-263c-4ce3-b469-3e53342524cb",
     "showTitle": false,
     "tableResultSettingsMap": {},
     "title": ""
    }
   },
   "outputs": [
    {
     "output_type": "display_data",
     "data": {
      "text/plain": [
       ""
      ]
     },
     "metadata": {
      "application/vnd.databricks.v1+output": {
       "arguments": {},
       "data": "",
       "errorSummary": "Command skipped",
       "errorTraceType": "ansi",
       "metadata": {},
       "type": "ipynbError"
      }
     },
     "output_type": "display_data"
    }
   ],
   "source": [
    "df3=(\n",
    "    df2.groupBy('words').agg(F.count('*').alias('number_of_words'))\n",
    ")\n",
    "df3.filter(F.col('number_of_words')> 1).show()"
   ]
  },
  {
   "cell_type": "markdown",
   "metadata": {
    "application/vnd.databricks.v1+cell": {
     "cellMetadata": {
      "byteLimit": 2048000,
      "rowLimit": 10000
     },
     "inputWidgets": {},
     "nuid": "e8169b71-8ea0-4b8e-989b-9dd2277e5b2d",
     "showTitle": false,
     "tableResultSettingsMap": {},
     "title": ""
    }
   },
   "source": [
    "**Q7-TCS-Find the order whose sales increased every year**"
   ]
  },
  {
   "cell_type": "code",
   "execution_count": 0,
   "metadata": {
    "application/vnd.databricks.v1+cell": {
     "cellMetadata": {
      "byteLimit": 2048000,
      "rowLimit": 10000
     },
     "inputWidgets": {},
     "nuid": "1262d323-5e1e-47b3-a152-86bfdc2237e2",
     "showTitle": false,
     "tableResultSettingsMap": {},
     "title": ""
    }
   },
   "outputs": [
    {
     "output_type": "display_data",
     "data": {
      "text/plain": [
       ""
      ]
     },
     "metadata": {
      "application/vnd.databricks.v1+output": {
       "arguments": {},
       "data": "",
       "errorSummary": "Command skipped",
       "errorTraceType": "ansi",
       "metadata": {},
       "type": "ipynbError"
      }
     },
     "output_type": "display_data"
    }
   ],
   "source": [
    "sales_data = [\n",
    " (1, 2019, 1000.00),\n",
    " (1, 2020, 1200.00),\n",
    " (1, 2021, 1100.00),\n",
    " (2, 2019, 500.00),\n",
    " (2, 2020, 600.00),\n",
    " (2, 2021, 900.00),\n",
    " (3, 2019, 300.00),\n",
    " (3, 2020, 450.00),\n",
    " (3, 2021, 400.00)\n",
    " ]\n",
    "\n",
    "sales_schema = ['product_id', 'year', 'total_sales_revenue']\n",
    "\n",
    "sales_df = spark.createDataFrame(data = sales_data , schema = sales_schema)\n",
    "sales_df.show()"
   ]
  },
  {
   "cell_type": "code",
   "execution_count": 0,
   "metadata": {
    "application/vnd.databricks.v1+cell": {
     "cellMetadata": {
      "byteLimit": 2048000,
      "rowLimit": 10000
     },
     "inputWidgets": {},
     "nuid": "417c8b68-26a4-4928-a621-092aeb1ec219",
     "showTitle": false,
     "tableResultSettingsMap": {},
     "title": ""
    }
   },
   "outputs": [
    {
     "output_type": "display_data",
     "data": {
      "text/plain": [
       ""
      ]
     },
     "metadata": {
      "application/vnd.databricks.v1+output": {
       "arguments": {},
       "data": "",
       "errorSummary": "Command skipped",
       "errorTraceType": "ansi",
       "metadata": {},
       "type": "ipynbError"
      }
     },
     "output_type": "display_data"
    }
   ],
   "source": [
    "product_data = [\n",
    " (1, 'Laptops', 'Electronics'),\n",
    " (2, 'Jeans', 'Clothing'),\n",
    " (3, 'Chairs', 'Home Appliances')\n",
    " ]\n",
    "\n",
    "product_schema = ['product_id', 'product_name', 'category']\n",
    "\n",
    "product_df = spark.createDataFrame(data = product_data , schema = product_schema)\n",
    "product_df.show()"
   ]
  },
  {
   "cell_type": "code",
   "execution_count": 0,
   "metadata": {
    "application/vnd.databricks.v1+cell": {
     "cellMetadata": {
      "byteLimit": 2048000,
      "rowLimit": 10000
     },
     "inputWidgets": {},
     "nuid": "94dd02e6-99ce-4adb-ab55-5262e33c966f",
     "showTitle": false,
     "tableResultSettingsMap": {},
     "title": ""
    }
   },
   "outputs": [
    {
     "output_type": "display_data",
     "data": {
      "text/plain": [
       ""
      ]
     },
     "metadata": {
      "application/vnd.databricks.v1+output": {
       "arguments": {},
       "data": "",
       "errorSummary": "Command skipped",
       "errorTraceType": "ansi",
       "metadata": {},
       "type": "ipynbError"
      }
     },
     "output_type": "display_data"
    }
   ],
   "source": [
    "df_prod_joined=(\n",
    "    sales_df.alias('s').join(product_df.alias('p') , F.col('s.product_id')==F.col('p.product_id'),\"inner\")\n",
    "    .drop(F.col('p.product_id'))\n",
    ")\n",
    "df_prod_joined.show()"
   ]
  },
  {
   "cell_type": "code",
   "execution_count": 0,
   "metadata": {
    "application/vnd.databricks.v1+cell": {
     "cellMetadata": {
      "byteLimit": 2048000,
      "rowLimit": 10000
     },
     "inputWidgets": {},
     "nuid": "f729078b-6f9f-41a6-9bd7-379b934bfcf6",
     "showTitle": false,
     "tableResultSettingsMap": {},
     "title": ""
    }
   },
   "outputs": [
    {
     "output_type": "display_data",
     "data": {
      "text/plain": [
       ""
      ]
     },
     "metadata": {
      "application/vnd.databricks.v1+output": {
       "arguments": {},
       "data": "",
       "errorSummary": "Command skipped",
       "errorTraceType": "ansi",
       "metadata": {},
       "type": "ipynbError"
      }
     },
     "output_type": "display_data"
    }
   ],
   "source": [
    "from pyspark.sql.window import Window\n",
    "\n",
    "windspec=Window.partitionBy('product_id').orderBy('year')"
   ]
  },
  {
   "cell_type": "code",
   "execution_count": 0,
   "metadata": {
    "application/vnd.databricks.v1+cell": {
     "cellMetadata": {
      "byteLimit": 2048000,
      "rowLimit": 10000
     },
     "inputWidgets": {},
     "nuid": "d7621f50-0409-46f0-8a0d-0a41e63fc17c",
     "showTitle": false,
     "tableResultSettingsMap": {},
     "title": ""
    }
   },
   "outputs": [
    {
     "output_type": "display_data",
     "data": {
      "text/plain": [
       ""
      ]
     },
     "metadata": {
      "application/vnd.databricks.v1+output": {
       "arguments": {},
       "data": "",
       "errorSummary": "Command skipped",
       "errorTraceType": "ansi",
       "metadata": {},
       "type": "ipynbError"
      }
     },
     "output_type": "display_data"
    }
   ],
   "source": [
    "df_order=(\n",
    "    df_prod_joined\n",
    "    .withColumn('prev_sales',F.lag(F.col('total_sales_revenue'),1,0).over(windspec))\n",
    "    .withColumn('sales_diff',(F.col('total_sales_revenue') - F.col('prev_sales')))\n",
    ")\n",
    "\n",
    "df_order.show()"
   ]
  },
  {
   "cell_type": "code",
   "execution_count": 0,
   "metadata": {
    "application/vnd.databricks.v1+cell": {
     "cellMetadata": {
      "byteLimit": 2048000,
      "rowLimit": 10000
     },
     "inputWidgets": {},
     "nuid": "59e66b5f-07fa-455e-8278-2b29ebc59c29",
     "showTitle": false,
     "tableResultSettingsMap": {},
     "title": ""
    }
   },
   "outputs": [
    {
     "output_type": "display_data",
     "data": {
      "text/plain": [
       ""
      ]
     },
     "metadata": {
      "application/vnd.databricks.v1+output": {
       "arguments": {},
       "data": "",
       "errorSummary": "Command skipped",
       "errorTraceType": "ansi",
       "metadata": {},
       "type": "ipynbError"
      }
     },
     "output_type": "display_data"
    }
   ],
   "source": [
    "order_grouped=(\n",
    "   df_order.groupBy('product_id')\n",
    "   .agg(F.min('sales_diff').alias('min_')) \n",
    ")\n",
    "order_grouped.show()"
   ]
  },
  {
   "cell_type": "code",
   "execution_count": 0,
   "metadata": {
    "application/vnd.databricks.v1+cell": {
     "cellMetadata": {
      "byteLimit": 2048000,
      "rowLimit": 10000
     },
     "inputWidgets": {},
     "nuid": "a45c10b7-4467-4fb5-a407-f1b55e63e10b",
     "showTitle": false,
     "tableResultSettingsMap": {},
     "title": ""
    }
   },
   "outputs": [
    {
     "output_type": "display_data",
     "data": {
      "text/plain": [
       ""
      ]
     },
     "metadata": {
      "application/vnd.databricks.v1+output": {
       "arguments": {},
       "data": "",
       "errorSummary": "Command skipped",
       "errorTraceType": "ansi",
       "metadata": {},
       "type": "ipynbError"
      }
     },
     "output_type": "display_data"
    }
   ],
   "source": [
    "df_order_final=(\n",
    "    order_grouped.join(product_df,order_grouped.product_id== product_df.product_id)\n",
    "    .filter(F.col('min_')>0)\n",
    "    .drop(product_df.product_id,order_grouped.min_)\n",
    "    #.select('product_id','product_name','category')\n",
    ")\n",
    "df_order_final.show()"
   ]
  },
  {
   "cell_type": "markdown",
   "metadata": {
    "application/vnd.databricks.v1+cell": {
     "cellMetadata": {
      "byteLimit": 2048000,
      "rowLimit": 10000
     },
     "inputWidgets": {},
     "nuid": "27104af5-3617-479d-bbd0-e59aa6a5eb18",
     "showTitle": false,
     "tableResultSettingsMap": {},
     "title": ""
    }
   },
   "source": [
    "**Q8-Infosys-flatten json**"
   ]
  },
  {
   "cell_type": "code",
   "execution_count": 0,
   "metadata": {
    "application/vnd.databricks.v1+cell": {
     "cellMetadata": {
      "byteLimit": 2048000,
      "rowLimit": 10000
     },
     "inputWidgets": {},
     "nuid": "ff274d45-182e-4f33-bca5-fc8371612612",
     "showTitle": false,
     "tableResultSettingsMap": {},
     "title": ""
    }
   },
   "outputs": [
    {
     "output_type": "display_data",
     "data": {
      "text/plain": [
       ""
      ]
     },
     "metadata": {
      "application/vnd.databricks.v1+output": {
       "arguments": {},
       "data": "",
       "errorSummary": "Command skipped",
       "errorTraceType": "ansi",
       "metadata": {},
       "type": "ipynbError"
      }
     },
     "output_type": "display_data"
    }
   ],
   "source": [
    "data=\"\"\" \n",
    "{\n",
    " \"Institute_Name\" : \"ABC_Coaching_Center\",\n",
    " \"Course_type\" : \"Best_seller\" ,\n",
    " \"branches\" : [\n",
    "  {\n",
    "   \"State\" : \"Maharashtra\",\n",
    "   \"City\" : \"Mumbai\",\n",
    "   \"address\" : \"XYZ\"\n",
    "  },\n",
    "  {\n",
    "   \"State\" : \"Gujrat\",\n",
    "   \"City\" : \"Surat\",\n",
    "   \"address\" : \"PQRX\"\n",
    "  }\n",
    " ],\n",
    " \"Head_Office_Contact\" : 8787878787\n",
    "}\n",
    "\"\"\""
   ]
  },
  {
   "cell_type": "code",
   "execution_count": 0,
   "metadata": {
    "application/vnd.databricks.v1+cell": {
     "cellMetadata": {
      "byteLimit": 2048000,
      "rowLimit": 10000
     },
     "inputWidgets": {},
     "nuid": "5c225715-b6dc-426b-a0e1-6905abc787b0",
     "showTitle": false,
     "tableResultSettingsMap": {},
     "title": ""
    }
   },
   "outputs": [
    {
     "output_type": "display_data",
     "data": {
      "text/plain": [
       ""
      ]
     },
     "metadata": {
      "application/vnd.databricks.v1+output": {
       "arguments": {},
       "data": "",
       "errorSummary": "Command skipped",
       "errorTraceType": "ansi",
       "metadata": {},
       "type": "ipynbError"
      }
     },
     "output_type": "display_data"
    }
   ],
   "source": [
    "from pyspark.sql.types import StringType,StructField,StructType,IntegerType,ArrayType,MapType\n",
    "\n",
    "schema=StructType(\n",
    "    [\n",
    "     StructField('Institute_Name',StringType(),False),\n",
    "     StructField('Course_type',StringType(),False),\n",
    "     StructField('Head_Office_Contact',StringType(),False),\n",
    "     #StructField('branches',ArrayType(StructType([\n",
    "          #      StructField('State', StringType(), True),\n",
    "           #     StructField('City', StringType(), True),\n",
    "           #     StructField('address', StringType(), True)\n",
    "          #  ]),False)\n",
    "     StructField('branches',ArrayType((MapType(StringType(), StringType(), False)),False)             \n",
    "                 \n",
    "     )\n",
    "     ]\n",
    ")"
   ]
  },
  {
   "cell_type": "code",
   "execution_count": 0,
   "metadata": {
    "application/vnd.databricks.v1+cell": {
     "cellMetadata": {
      "byteLimit": 2048000,
      "rowLimit": 10000
     },
     "inputWidgets": {},
     "nuid": "7420e3e3-6f47-48da-925b-ff71a78954c3",
     "showTitle": false,
     "tableResultSettingsMap": {},
     "title": ""
    }
   },
   "outputs": [
    {
     "output_type": "display_data",
     "data": {
      "text/plain": [
       ""
      ]
     },
     "metadata": {
      "application/vnd.databricks.v1+output": {
       "arguments": {},
       "data": "",
       "errorSummary": "Command skipped",
       "errorTraceType": "ansi",
       "metadata": {},
       "type": "ipynbError"
      }
     },
     "output_type": "display_data"
    }
   ],
   "source": [
    "df=spark.read.format('json')\\\n",
    "    .option('multiline',True)\\\n",
    "    .option('schema',schema)\\\n",
    "    .load('dbfs:/FileStore/tables/institute.txt')    \n",
    "df.show(truncate=False)"
   ]
  },
  {
   "cell_type": "code",
   "execution_count": 0,
   "metadata": {
    "application/vnd.databricks.v1+cell": {
     "cellMetadata": {
      "byteLimit": 2048000,
      "rowLimit": 10000
     },
     "inputWidgets": {},
     "nuid": "4ac2503c-60b1-4ae9-808b-0679851eb3e4",
     "showTitle": false,
     "tableResultSettingsMap": {},
     "title": ""
    }
   },
   "outputs": [
    {
     "output_type": "display_data",
     "data": {
      "text/plain": [
       ""
      ]
     },
     "metadata": {
      "application/vnd.databricks.v1+output": {
       "arguments": {},
       "data": "",
       "errorSummary": "Command skipped",
       "errorTraceType": "ansi",
       "metadata": {},
       "type": "ipynbError"
      }
     },
     "output_type": "display_data"
    }
   ],
   "source": [
    "df.printSchema()"
   ]
  },
  {
   "cell_type": "code",
   "execution_count": 0,
   "metadata": {
    "application/vnd.databricks.v1+cell": {
     "cellMetadata": {
      "byteLimit": 2048000,
      "rowLimit": 10000
     },
     "inputWidgets": {},
     "nuid": "7753ff3f-b05a-403b-86d5-51f240cea1cc",
     "showTitle": false,
     "tableResultSettingsMap": {},
     "title": ""
    }
   },
   "outputs": [
    {
     "output_type": "display_data",
     "data": {
      "text/plain": [
       ""
      ]
     },
     "metadata": {
      "application/vnd.databricks.v1+output": {
       "arguments": {},
       "data": "",
       "errorSummary": "Command skipped",
       "errorTraceType": "ansi",
       "metadata": {},
       "type": "ipynbError"
      }
     },
     "output_type": "display_data"
    }
   ],
   "source": [
    "df=df.withColumn('branches',F.explode(F.col('branches')))\n",
    "df.show(truncate=False)"
   ]
  },
  {
   "cell_type": "markdown",
   "metadata": {
    "application/vnd.databricks.v1+cell": {
     "cellMetadata": {
      "byteLimit": 2048000,
      "rowLimit": 10000
     },
     "inputWidgets": {},
     "nuid": "fc0a4087-17ad-47d3-9333-d4b57b522696",
     "showTitle": false,
     "tableResultSettingsMap": {},
     "title": ""
    }
   },
   "source": [
    "##Remove redundant pairs##\n"
   ]
  },
  {
   "cell_type": "code",
   "execution_count": 0,
   "metadata": {
    "application/vnd.databricks.v1+cell": {
     "cellMetadata": {
      "byteLimit": 2048000,
      "rowLimit": 10000
     },
     "inputWidgets": {},
     "nuid": "11923769-be57-41ee-9371-3f2bd83556b3",
     "showTitle": false,
     "tableResultSettingsMap": {},
     "title": ""
    }
   },
   "outputs": [
    {
     "output_type": "stream",
     "name": "stdout",
     "output_type": "stream",
     "text": [
      "+-------+-------+----+-------+-------+-------+-------+\n| brand1| brand2|year|custom1|custom2|custom3|custom4|\n+-------+-------+----+-------+-------+-------+-------+\n|  apple|samsung|2020|      1|      2|      1|      2|\n|samsung|  apple|2020|      1|      2|      1|      2|\n|  apple|samsung|2021|      1|      2|      5|      3|\n|samsung|  apple|2021|      5|      3|      1|      2|\n| google|   NULL|2020|      5|      9|   NULL|   NULL|\n|oneplus|nothing|2020|      5|      9|      6|      3|\n+-------+-------+----+-------+-------+-------+-------+\n\n"
     ]
    }
   ],
   "source": [
    "data = [\n",
    "    ('apple', 'samsung', 2020, 1, 2, 1, 2),\n",
    "    ('samsung', 'apple', 2020, 1, 2, 1, 2),\n",
    "    ('apple', 'samsung', 2021, 1, 2, 5, 3),\n",
    "    ('samsung', 'apple', 2021, 5, 3, 1, 2),\n",
    "    ('google', None, 2020, 5, 9, None, None),\n",
    "    ('oneplus', 'nothing', 2020, 5, 9, 6, 3)\n",
    "]\n",
    "schema = 'brand1 string , brand2 string , year int , custom1 int, custom2 int , custom3 int , custom4 int'\n",
    "\n",
    "df = spark.createDataFrame(data = data , schema = schema)\n",
    "df.show()"
   ]
  },
  {
   "cell_type": "code",
   "execution_count": 0,
   "metadata": {
    "application/vnd.databricks.v1+cell": {
     "cellMetadata": {
      "byteLimit": 2048000,
      "rowLimit": 10000
     },
     "inputWidgets": {},
     "nuid": "62c2759c-c638-4a31-969c-30c46891008e",
     "showTitle": false,
     "tableResultSettingsMap": {},
     "title": ""
    }
   },
   "outputs": [],
   "source": [
    "def sort_values(val):\n",
    "    if val:\n",
    "        return \"\".join(sorted(val))\n",
    "    else:\n",
    "        return val"
   ]
  },
  {
   "cell_type": "code",
   "execution_count": 0,
   "metadata": {
    "application/vnd.databricks.v1+cell": {
     "cellMetadata": {},
     "inputWidgets": {},
     "nuid": "5403a23e-ea68-4cdb-98e6-4b8ae83ea26d",
     "showTitle": false,
     "tableResultSettingsMap": {},
     "title": ""
    }
   },
   "outputs": [],
   "source": []
  },
  {
   "cell_type": "code",
   "execution_count": 0,
   "metadata": {
    "application/vnd.databricks.v1+cell": {
     "cellMetadata": {
      "byteLimit": 2048000,
      "rowLimit": 10000
     },
     "inputWidgets": {},
     "nuid": "19a95091-741a-4960-a79c-b222267a6c60",
     "showTitle": false,
     "tableResultSettingsMap": {},
     "title": ""
    }
   },
   "outputs": [],
   "source": [
    "#sort_values('samsungapple2020')\n",
    "sort_udf=udf(sort_values)"
   ]
  },
  {
   "cell_type": "code",
   "execution_count": 0,
   "metadata": {
    "application/vnd.databricks.v1+cell": {
     "cellMetadata": {
      "byteLimit": 2048000,
      "rowLimit": 10000
     },
     "inputWidgets": {},
     "nuid": "549e354e-c1fa-459b-a996-b705814c278a",
     "showTitle": false,
     "tableResultSettingsMap": {},
     "title": ""
    }
   },
   "outputs": [
    {
     "output_type": "stream",
     "name": "stdout",
     "output_type": "stream",
     "text": [
      "+-------+-------+----+-------+-------+-------+-------+------------------+\n| brand1| brand2|year|custom1|custom2|custom3|custom4|            pairid|\n+-------+-------+----+-------+-------+-------+-------+------------------+\n|  apple|samsung|2020|      1|      2|      1|      2|  applesamsung2020|\n|samsung|  apple|2020|      1|      2|      1|      2|  samsungapple2020|\n|  apple|samsung|2021|      1|      2|      5|      3|  applesamsung2021|\n|samsung|  apple|2021|      5|      3|      1|      2|  samsungapple2021|\n| google|   NULL|2020|      5|      9|   NULL|   NULL|              NULL|\n|oneplus|nothing|2020|      5|      9|      6|      3|oneplusnothing2020|\n+-------+-------+----+-------+-------+-------+-------+------------------+\n\n"
     ]
    }
   ],
   "source": [
    "import pyspark.sql.functions as F\n",
    "\n",
    "df_pair=df.withColumn('pairid' ,F.concat(F.col('brand1'),F.col('brand2'),F.col('year')) )\n",
    "#df_pair=df.withColumn('pairid' ,F.sort )\n",
    "df_pair.show()"
   ]
  },
  {
   "cell_type": "code",
   "execution_count": 0,
   "metadata": {
    "application/vnd.databricks.v1+cell": {
     "cellMetadata": {
      "byteLimit": 2048000,
      "rowLimit": 10000
     },
     "inputWidgets": {},
     "nuid": "bf411924-7775-44fb-ba9d-ad905af1d23d",
     "showTitle": false,
     "tableResultSettingsMap": {},
     "title": ""
    }
   },
   "outputs": [
    {
     "output_type": "stream",
     "name": "stdout",
     "output_type": "stream",
     "text": [
      "+-------+-------+-------+-------+------------------+\n|custom1|custom2|custom3|custom4|            pairid|\n+-------+-------+-------+-------+------------------+\n|      1|      2|      1|      2|  0022aaeglmnppssu|\n|      1|      2|      1|      2|  0022aaeglmnppssu|\n|      1|      2|      5|      3|  0122aaeglmnppssu|\n|      5|      3|      1|      2|  0122aaeglmnppssu|\n|      5|      9|   NULL|   NULL|              NULL|\n|      5|      9|      6|      3|0022eghilnnnoopstu|\n+-------+-------+-------+-------+------------------+\n\n"
     ]
    }
   ],
   "source": [
    "df_pair=df_pair.withColumn('pairid',sort_udf(F.col('pairid'))).drop('brand1','brand2','year')\n",
    "df_pair.show()"
   ]
  },
  {
   "cell_type": "code",
   "execution_count": 0,
   "metadata": {
    "application/vnd.databricks.v1+cell": {
     "cellMetadata": {
      "byteLimit": 2048000,
      "rowLimit": 10000
     },
     "inputWidgets": {},
     "nuid": "0a11d31c-b4f8-4afb-b525-bb04e70cb9cb",
     "showTitle": false,
     "tableResultSettingsMap": {},
     "title": ""
    }
   },
   "outputs": [],
   "source": [
    "from pyspark.sql.window import Window\n",
    "\n",
    "winspec=Window.partitionBy('pairid').orderBy('pairid')"
   ]
  },
  {
   "cell_type": "code",
   "execution_count": 0,
   "metadata": {
    "application/vnd.databricks.v1+cell": {
     "cellMetadata": {
      "byteLimit": 2048000,
      "rowLimit": 10000
     },
     "inputWidgets": {},
     "nuid": "0adeafe2-c7a1-4ad1-8dd7-57e5e5e3808a",
     "showTitle": false,
     "tableResultSettingsMap": {},
     "title": ""
    }
   },
   "outputs": [
    {
     "output_type": "stream",
     "name": "stdout",
     "output_type": "stream",
     "text": [
      "+-------+-------+-------+-------+------------------+-------+\n|custom1|custom2|custom3|custom4|            pairid|row_num|\n+-------+-------+-------+-------+------------------+-------+\n|      5|      9|   NULL|   NULL|              NULL|      1|\n|      1|      2|      1|      2|  0022aaeglmnppssu|      1|\n|      1|      2|      1|      2|  0022aaeglmnppssu|      2|\n|      5|      9|      6|      3|0022eghilnnnoopstu|      1|\n|      1|      2|      5|      3|  0122aaeglmnppssu|      1|\n|      5|      3|      1|      2|  0122aaeglmnppssu|      2|\n+-------+-------+-------+-------+------------------+-------+\n\n"
     ]
    }
   ],
   "source": [
    "df_pair=df_pair.withColumn('row_num',F.row_number().over(winspec))\n",
    "df_pair.show()"
   ]
  },
  {
   "cell_type": "code",
   "execution_count": 0,
   "metadata": {
    "application/vnd.databricks.v1+cell": {
     "cellMetadata": {
      "byteLimit": 2048000,
      "rowLimit": 10000
     },
     "inputWidgets": {},
     "nuid": "82522dd3-2fa0-49fb-85ef-af690191ad15",
     "showTitle": false,
     "tableResultSettingsMap": {},
     "title": ""
    }
   },
   "outputs": [
    {
     "output_type": "stream",
     "name": "stdout",
     "output_type": "stream",
     "text": [
      "+-------+-------+-------+-------+------------------+-------+\n|custom1|custom2|custom3|custom4|            pairid|row_num|\n+-------+-------+-------+-------+------------------+-------+\n|      5|      9|   NULL|   NULL|              NULL|      1|\n|      1|      2|      1|      2|  0022aaeglmnppssu|      1|\n|      5|      9|      6|      3|0022eghilnnnoopstu|      1|\n|      1|      2|      5|      3|  0122aaeglmnppssu|      1|\n|      5|      3|      1|      2|  0122aaeglmnppssu|      2|\n+-------+-------+-------+-------+------------------+-------+\n\n"
     ]
    }
   ],
   "source": [
    "df_pair=(\n",
    "    df_pair.filter((F.col(\"row_num\")==1 ) | ((F.col('custom1') !=F.col('custom3')) & (F.col('custom2') !=F.col('custom4')) ))\n",
    "    \n",
    "    )\n",
    "df_pair.show()"
   ]
  },
  {
   "cell_type": "markdown",
   "metadata": {
    "application/vnd.databricks.v1+cell": {
     "cellMetadata": {},
     "inputWidgets": {},
     "nuid": "0fa080ae-2972-4b45-8dcb-f8acbd1eb3a3",
     "showTitle": false,
     "tableResultSettingsMap": {},
     "title": ""
    }
   },
   "source": [
    "**Calculate percentage increase**"
   ]
  },
  {
   "cell_type": "code",
   "execution_count": 0,
   "metadata": {
    "application/vnd.databricks.v1+cell": {
     "cellMetadata": {
      "byteLimit": 2048000,
      "rowLimit": 10000
     },
     "inputWidgets": {},
     "nuid": "81432997-2906-4676-aa39-9c0ed7b0c687",
     "showTitle": false,
     "tableResultSettingsMap": {},
     "title": ""
    }
   },
   "outputs": [
    {
     "output_type": "stream",
     "name": "stdout",
     "output_type": "stream",
     "text": [
      "+--------------+----------+\n|cases_reported|     dates|\n+--------------+----------+\n|         20124|2020-01-10|\n|         40133|2020-01-15|\n|         65005|2020-01-20|\n|         30005|2020-02-08|\n|         35015|2020-02-19|\n|         15015|2020-03-03|\n|         35035|2020-03-10|\n|         49099|2020-03-14|\n|         84045|2020-03-20|\n|        100106|2020-03-31|\n+--------------+----------+\nonly showing top 10 rows\n\n"
     ]
    }
   ],
   "source": [
    "data = [\n",
    "    (20124 ,'2020-01-10'),\n",
    "    (40133 ,'2020-01-15'),\n",
    "    (65005 ,'2020-01-20'),\n",
    "    (30005 ,'2020-02-08'),\n",
    "    (35015 ,'2020-02-19'),\n",
    "    (15015 ,'2020-03-03'),\n",
    "    (35035 ,'2020-03-10'),\n",
    "    (49099 ,'2020-03-14'),\n",
    "    (84045 ,'2020-03-20'),\n",
    "    (100106 ,'2020-03-31'),\n",
    "    (17015 ,'2020-04-04'),\n",
    "    (36035 ,'2020-04-11'),\n",
    "    (50099 ,'2020-04-13'),\n",
    "    (87045 ,'2020-04-22'),\n",
    "    (101101 ,'2020-04-30'),\n",
    "    (40015 ,'2020-05-01'),\n",
    "    (54035 ,'2020-05-09'),\n",
    "    (71099 ,'2020-05-14'),\n",
    "    (82045 ,'2020-05-21'),\n",
    "    (90103 ,'2020-05-25'),\n",
    "    (99103 ,'2020-05-31'),\n",
    "    (11015 ,'2020-06-03'),\n",
    "    (28035 ,'2020-06-10'),\n",
    "    (38099 ,'2020-06-14'),\n",
    "    (45045 ,'2020-06-20'),\n",
    "    (36033 ,'2020-07-09'),\n",
    "    (40011 ,'2020-07-23'),\n",
    "    (25001 ,'2020-08-12'),\n",
    "    (29990 ,'2020-08-26'),\n",
    "    (20112 ,'2020-09-04'),\n",
    "    (43991 ,'2020-09-18'),\n",
    "    (51002 ,'2020-09-29'),\n",
    "    (26587 ,'2020-10-25'),\n",
    "    (11000 ,'2020-11-07'),\n",
    "    (35002 ,'2020-11-16'),\n",
    "    (56010 ,'2020-11-28'),\n",
    "    (15099 ,'2020-12-02'),\n",
    "    (38042 ,'2020-12-11'),\n",
    "    (73030 ,'2020-12-26')\n",
    "]\n",
    "\n",
    "schema = \"cases_reported int , dates string\"\n",
    "df = spark.createDataFrame(data= data , schema = schema)\n",
    "df.show(10)"
   ]
  },
  {
   "cell_type": "code",
   "execution_count": 0,
   "metadata": {
    "application/vnd.databricks.v1+cell": {
     "cellMetadata": {
      "byteLimit": 2048000,
      "rowLimit": 10000
     },
     "inputWidgets": {},
     "nuid": "5e5f9d71-ae18-471e-8b4b-c0b1c3c07e8d",
     "showTitle": false,
     "tableResultSettingsMap": {},
     "title": ""
    }
   },
   "outputs": [
    {
     "output_type": "stream",
     "name": "stdout",
     "output_type": "stream",
     "text": [
      "root\n |-- cases_reported: integer (nullable = true)\n |-- dates: string (nullable = true)\n\n"
     ]
    }
   ],
   "source": [
    "df.printSchema()"
   ]
  },
  {
   "cell_type": "code",
   "execution_count": 0,
   "metadata": {
    "application/vnd.databricks.v1+cell": {
     "cellMetadata": {
      "byteLimit": 2048000,
      "rowLimit": 10000
     },
     "inputWidgets": {},
     "nuid": "cd805560-c3d0-4e75-84fc-ccffbc08b6e1",
     "showTitle": false,
     "tableResultSettingsMap": {},
     "title": ""
    }
   },
   "outputs": [
    {
     "output_type": "stream",
     "name": "stdout",
     "output_type": "stream",
     "text": [
      "+--------------+----------+\n|cases_reported|     dates|\n+--------------+----------+\n|         20124|2020-01-10|\n|         40133|2020-01-15|\n|         65005|2020-01-20|\n|         30005|2020-02-08|\n|         35015|2020-02-19|\n|         15015|2020-03-03|\n|         35035|2020-03-10|\n|         49099|2020-03-14|\n|         84045|2020-03-20|\n|        100106|2020-03-31|\n|         17015|2020-04-04|\n+--------------+----------+\nonly showing top 11 rows\n\n"
     ]
    }
   ],
   "source": [
    "df=df.withColumn('dates',F.to_date(F.col('dates'), 'yyyy-MM-dd'))\n",
    "df.show(11)"
   ]
  },
  {
   "cell_type": "code",
   "execution_count": 0,
   "metadata": {
    "application/vnd.databricks.v1+cell": {
     "cellMetadata": {
      "byteLimit": 2048000,
      "rowLimit": 10000
     },
     "inputWidgets": {},
     "nuid": "6b3ae32a-e4d4-403f-84bf-d7d9af5f2f66",
     "showTitle": false,
     "tableResultSettingsMap": {},
     "title": ""
    }
   },
   "outputs": [
    {
     "output_type": "stream",
     "name": "stdout",
     "output_type": "stream",
     "text": [
      "+--------------+----------+-----+\n|cases_reported|     dates|month|\n+--------------+----------+-----+\n|         20124|2020-01-10|    1|\n|         40133|2020-01-15|    1|\n|         65005|2020-01-20|    1|\n|         30005|2020-02-08|    2|\n|         35015|2020-02-19|    2|\n|         15015|2020-03-03|    3|\n|         35035|2020-03-10|    3|\n|         49099|2020-03-14|    3|\n|         84045|2020-03-20|    3|\n|        100106|2020-03-31|    3|\n+--------------+----------+-----+\nonly showing top 10 rows\n\n"
     ]
    }
   ],
   "source": [
    "df=df.withColumn('month',F.month(F.col('dates')))\n",
    "df.show(10)"
   ]
  },
  {
   "cell_type": "code",
   "execution_count": 0,
   "metadata": {
    "application/vnd.databricks.v1+cell": {
     "cellMetadata": {
      "byteLimit": 2048000,
      "rowLimit": 10000
     },
     "inputWidgets": {},
     "nuid": "8d27bc72-c590-49b2-90dd-9e041d933c44",
     "showTitle": false,
     "tableResultSettingsMap": {},
     "title": ""
    }
   },
   "outputs": [
    {
     "output_type": "stream",
     "name": "stdout",
     "output_type": "stream",
     "text": [
      "+-----+-----------+\n|month|total_cases|\n+-----+-----------+\n|    1|     125262|\n|    2|      65020|\n|    3|     283300|\n|    4|     291295|\n|    5|     436400|\n|    6|     122194|\n|    8|      54991|\n|    7|      76044|\n|    9|     115105|\n|   12|     126171|\n|   10|      26587|\n|   11|     102012|\n+-----+-----------+\n\n"
     ]
    }
   ],
   "source": [
    "df_grouped=df.groupBy('month').agg((sum('cases_reported')).alias('total_cases'))\n",
    "df_grouped.show()"
   ]
  },
  {
   "cell_type": "code",
   "execution_count": 0,
   "metadata": {
    "application/vnd.databricks.v1+cell": {
     "cellMetadata": {
      "byteLimit": 2048000,
      "rowLimit": 10000
     },
     "inputWidgets": {},
     "nuid": "d0bd8175-b2b3-4395-bbac-74085f6bf37a",
     "showTitle": false,
     "tableResultSettingsMap": {},
     "title": ""
    }
   },
   "outputs": [],
   "source": [
    "df_grouped.createOrReplaceTempView('casesdata')"
   ]
  },
  {
   "cell_type": "code",
   "execution_count": 0,
   "metadata": {
    "application/vnd.databricks.v1+cell": {
     "cellMetadata": {
      "byteLimit": 2048000,
      "implicitDf": true,
      "rowLimit": 10000
     },
     "inputWidgets": {},
     "nuid": "689ea5be-6ea8-479b-8e6d-10c7d07b118d",
     "showTitle": false,
     "tableResultSettingsMap": {},
     "title": ""
    }
   },
   "outputs": [
    {
     "output_type": "display_data",
     "data": {
      "text/html": [
       "<style scoped>\n",
       "  .table-result-container {\n",
       "    max-height: 300px;\n",
       "    overflow: auto;\n",
       "  }\n",
       "  table, th, td {\n",
       "    border: 1px solid black;\n",
       "    border-collapse: collapse;\n",
       "  }\n",
       "  th, td {\n",
       "    padding: 5px;\n",
       "  }\n",
       "  th {\n",
       "    text-align: left;\n",
       "  }\n",
       "</style><div class='table-result-container'><table class='table-result'><thead style='background-color: white'><tr><th>month</th><th>total_cases</th><th>running_sum</th><th>prev_sum</th><th>percentage_inc</th></tr></thead><tbody><tr><td>1</td><td>125262</td><td>125262</td><td>0</td><td>null</td></tr><tr><td>2</td><td>65020</td><td>190282</td><td>125262</td><td>51.907</td></tr><tr><td>3</td><td>283300</td><td>473582</td><td>190282</td><td>148.884</td></tr><tr><td>4</td><td>291295</td><td>764877</td><td>473582</td><td>61.509</td></tr><tr><td>5</td><td>436400</td><td>1201277</td><td>764877</td><td>57.055</td></tr><tr><td>6</td><td>122194</td><td>1323471</td><td>1201277</td><td>10.172</td></tr><tr><td>7</td><td>76044</td><td>1399515</td><td>1323471</td><td>5.746</td></tr><tr><td>8</td><td>54991</td><td>1454506</td><td>1399515</td><td>3.929</td></tr><tr><td>9</td><td>115105</td><td>1569611</td><td>1454506</td><td>7.914</td></tr><tr><td>10</td><td>26587</td><td>1596198</td><td>1569611</td><td>1.694</td></tr><tr><td>11</td><td>102012</td><td>1698210</td><td>1596198</td><td>6.391</td></tr><tr><td>12</td><td>126171</td><td>1824381</td><td>1698210</td><td>7.430</td></tr></tbody></table></div>"
      ]
     },
     "metadata": {
      "application/vnd.databricks.v1+output": {
       "addedWidgets": {},
       "aggData": [],
       "aggError": "",
       "aggOverflow": false,
       "aggSchema": [],
       "aggSeriesLimitReached": false,
       "aggType": "",
       "arguments": {},
       "columnCustomDisplayInfos": {},
       "data": [
        [
         1,
         125262,
         125262,
         0,
         null
        ],
        [
         2,
         65020,
         190282,
         125262,
         "51.907"
        ],
        [
         3,
         283300,
         473582,
         190282,
         "148.884"
        ],
        [
         4,
         291295,
         764877,
         473582,
         "61.509"
        ],
        [
         5,
         436400,
         1201277,
         764877,
         "57.055"
        ],
        [
         6,
         122194,
         1323471,
         1201277,
         "10.172"
        ],
        [
         7,
         76044,
         1399515,
         1323471,
         "5.746"
        ],
        [
         8,
         54991,
         1454506,
         1399515,
         "3.929"
        ],
        [
         9,
         115105,
         1569611,
         1454506,
         "7.914"
        ],
        [
         10,
         26587,
         1596198,
         1569611,
         "1.694"
        ],
        [
         11,
         102012,
         1698210,
         1596198,
         "6.391"
        ],
        [
         12,
         126171,
         1824381,
         1698210,
         "7.430"
        ]
       ],
       "datasetInfos": [],
       "dbfsResultPath": null,
       "isJsonSchema": true,
       "metadata": {
        "dataframeName": "_sqldf",
        "executionCount": 73
       },
       "overflow": false,
       "plotOptions": {
        "customPlotOptions": {},
        "displayType": "table",
        "pivotAggregation": null,
        "pivotColumns": null,
        "xColumns": null,
        "yColumns": null
       },
       "removedWidgets": [],
       "schema": [
        {
         "metadata": "{}",
         "name": "month",
         "type": "\"integer\""
        },
        {
         "metadata": "{}",
         "name": "total_cases",
         "type": "\"long\""
        },
        {
         "metadata": "{}",
         "name": "running_sum",
         "type": "\"long\""
        },
        {
         "metadata": "{}",
         "name": "prev_sum",
         "type": "\"long\""
        },
        {
         "metadata": "{}",
         "name": "percentage_inc",
         "type": "\"decimal(20,3)\""
        }
       ],
       "type": "table"
      }
     },
     "output_type": "display_data"
    }
   ],
   "source": [
    "%sql\n",
    "with dataset as \n",
    "(\n",
    "select *,\n",
    "sum(total_cases) over(ORDER BY MONTH ROWS BETWEEN UNBOUNDED PRECEDING AND CURRENT ROW) running_sum \n",
    " from casesdata\n",
    " ),\n",
    " final_data as (\n",
    " select *\n",
    " ,LAG(running_sum,1,0) over(order by month) as prev_sum\n",
    "  from dataset\n",
    " )\n",
    "\n",
    " SELECT * \n",
    " ,((total_cases/prev_sum)*100):: decimal(20,3)  as percentage_inc\n",
    " from final_data"
   ]
  },
  {
   "cell_type": "markdown",
   "metadata": {
    "application/vnd.databricks.v1+cell": {
     "cellMetadata": {},
     "inputWidgets": {},
     "nuid": "02431d47-e8cc-4445-818d-193fafef0a9e",
     "showTitle": false,
     "tableResultSettingsMap": {},
     "title": ""
    }
   },
   "source": [
    "**Return the user who has loggedin for consecutive 5 or more days**"
   ]
  },
  {
   "cell_type": "code",
   "execution_count": 0,
   "metadata": {
    "application/vnd.databricks.v1+cell": {
     "cellMetadata": {
      "byteLimit": 2048000,
      "rowLimit": 10000
     },
     "inputWidgets": {},
     "nuid": "6fc8434f-aedc-428d-8be0-fc2be6af4043",
     "showTitle": false,
     "tableResultSettingsMap": {},
     "title": ""
    }
   },
   "outputs": [
    {
     "output_type": "display_data",
     "data": {
      "text/html": [
       "<style scoped>\n",
       "  .table-result-container {\n",
       "    max-height: 300px;\n",
       "    overflow: auto;\n",
       "  }\n",
       "  table, th, td {\n",
       "    border: 1px solid black;\n",
       "    border-collapse: collapse;\n",
       "  }\n",
       "  th, td {\n",
       "    padding: 5px;\n",
       "  }\n",
       "  th {\n",
       "    text-align: left;\n",
       "  }\n",
       "</style><div class='table-result-container'><table class='table-result'><thead style='background-color: white'><tr><th>user_id</th><th>login_date</th></tr></thead><tbody><tr><td>1</td><td>2024-03-01</td></tr><tr><td>1</td><td>2024-03-02</td></tr><tr><td>1</td><td>2024-03-03</td></tr><tr><td>1</td><td>2024-03-04</td></tr><tr><td>1</td><td>2024-03-06</td></tr><tr><td>1</td><td>2024-03-10</td></tr><tr><td>1</td><td>2024-03-11</td></tr><tr><td>1</td><td>2024-03-12</td></tr><tr><td>1</td><td>2024-03-13</td></tr><tr><td>1</td><td>2024-03-14</td></tr><tr><td>1</td><td>2024-03-20</td></tr><tr><td>1</td><td>2024-03-25</td></tr><tr><td>1</td><td>2024-03-26</td></tr><tr><td>1</td><td>2024-03-27</td></tr><tr><td>1</td><td>2024-03-28</td></tr><tr><td>1</td><td>2024-03-29</td></tr><tr><td>1</td><td>2024-03-30</td></tr><tr><td>2</td><td>2024-03-01</td></tr><tr><td>2</td><td>2024-03-02</td></tr><tr><td>2</td><td>2024-03-03</td></tr><tr><td>2</td><td>2024-03-04</td></tr><tr><td>3</td><td>2024-03-01</td></tr><tr><td>3</td><td>2024-03-02</td></tr><tr><td>3</td><td>2024-03-03</td></tr><tr><td>3</td><td>2024-03-04</td></tr><tr><td>3</td><td>2024-03-04</td></tr><tr><td>3</td><td>2024-03-04</td></tr><tr><td>3</td><td>2024-03-05</td></tr><tr><td>4</td><td>2024-03-01</td></tr><tr><td>4</td><td>2024-03-02</td></tr><tr><td>4</td><td>2024-03-03</td></tr><tr><td>4</td><td>2024-03-04</td></tr><tr><td>4</td><td>2024-03-04</td></tr></tbody></table></div>"
      ]
     },
     "metadata": {
      "application/vnd.databricks.v1+output": {
       "addedWidgets": {},
       "aggData": [],
       "aggError": "",
       "aggOverflow": false,
       "aggSchema": [],
       "aggSeriesLimitReached": false,
       "aggType": "",
       "arguments": {},
       "columnCustomDisplayInfos": {},
       "data": [
        [
         1,
         "2024-03-01"
        ],
        [
         1,
         "2024-03-02"
        ],
        [
         1,
         "2024-03-03"
        ],
        [
         1,
         "2024-03-04"
        ],
        [
         1,
         "2024-03-06"
        ],
        [
         1,
         "2024-03-10"
        ],
        [
         1,
         "2024-03-11"
        ],
        [
         1,
         "2024-03-12"
        ],
        [
         1,
         "2024-03-13"
        ],
        [
         1,
         "2024-03-14"
        ],
        [
         1,
         "2024-03-20"
        ],
        [
         1,
         "2024-03-25"
        ],
        [
         1,
         "2024-03-26"
        ],
        [
         1,
         "2024-03-27"
        ],
        [
         1,
         "2024-03-28"
        ],
        [
         1,
         "2024-03-29"
        ],
        [
         1,
         "2024-03-30"
        ],
        [
         2,
         "2024-03-01"
        ],
        [
         2,
         "2024-03-02"
        ],
        [
         2,
         "2024-03-03"
        ],
        [
         2,
         "2024-03-04"
        ],
        [
         3,
         "2024-03-01"
        ],
        [
         3,
         "2024-03-02"
        ],
        [
         3,
         "2024-03-03"
        ],
        [
         3,
         "2024-03-04"
        ],
        [
         3,
         "2024-03-04"
        ],
        [
         3,
         "2024-03-04"
        ],
        [
         3,
         "2024-03-05"
        ],
        [
         4,
         "2024-03-01"
        ],
        [
         4,
         "2024-03-02"
        ],
        [
         4,
         "2024-03-03"
        ],
        [
         4,
         "2024-03-04"
        ],
        [
         4,
         "2024-03-04"
        ]
       ],
       "datasetInfos": [],
       "dbfsResultPath": null,
       "isJsonSchema": true,
       "metadata": {},
       "overflow": false,
       "plotOptions": {
        "customPlotOptions": {},
        "displayType": "table",
        "pivotAggregation": null,
        "pivotColumns": null,
        "xColumns": null,
        "yColumns": null
       },
       "removedWidgets": [],
       "schema": [
        {
         "metadata": "{}",
         "name": "user_id",
         "type": "\"integer\""
        },
        {
         "metadata": "{}",
         "name": "login_date",
         "type": "\"string\""
        }
       ],
       "type": "table"
      }
     },
     "output_type": "display_data"
    }
   ],
   "source": [
    "data = [\n",
    "(1, '2024-03-01'),\n",
    "(1, '2024-03-02'),\n",
    "(1, '2024-03-03'),\n",
    "(1, '2024-03-04'),\n",
    "(1, '2024-03-06'),\n",
    "(1, '2024-03-10'),\n",
    "(1, '2024-03-11'),\n",
    "(1, '2024-03-12'),\n",
    "(1, '2024-03-13'),\n",
    "(1, '2024-03-14'),\n",
    "(1, '2024-03-20'),\n",
    "(1, '2024-03-25'),\n",
    "(1, '2024-03-26'),\n",
    "(1, '2024-03-27'),\n",
    "(1, '2024-03-28'),\n",
    "(1, '2024-03-29'),\n",
    "(1, '2024-03-30'),\n",
    "(2, '2024-03-01'),\n",
    "(2, '2024-03-02'),\n",
    "(2, '2024-03-03'),\n",
    "(2, '2024-03-04'),\n",
    "(3, '2024-03-01'),\n",
    "(3, '2024-03-02'),\n",
    "(3, '2024-03-03'),\n",
    "(3, '2024-03-04'),\n",
    "(3, '2024-03-04'),\n",
    "(3, '2024-03-04'),\n",
    "(3, '2024-03-05'),\n",
    "(4, '2024-03-01'),\n",
    "(4, '2024-03-02'),\n",
    "(4, '2024-03-03'),\n",
    "(4, '2024-03-04'),\n",
    "(4, '2024-03-04')\n",
    "]\n",
    "\n",
    "schema = \"user_id int , login_date string\"\n",
    "\n",
    "df = spark.createDataFrame(data = data , schema = schema)\n",
    "df.display()"
   ]
  },
  {
   "cell_type": "code",
   "execution_count": 0,
   "metadata": {
    "application/vnd.databricks.v1+cell": {
     "cellMetadata": {
      "byteLimit": 2048000,
      "rowLimit": 10000
     },
     "inputWidgets": {},
     "nuid": "daec1920-49b1-4828-9886-91355d1a038d",
     "showTitle": false,
     "tableResultSettingsMap": {},
     "title": ""
    }
   },
   "outputs": [
    {
     "output_type": "display_data",
     "data": {
      "text/html": [
       "<style scoped>\n",
       "  .table-result-container {\n",
       "    max-height: 300px;\n",
       "    overflow: auto;\n",
       "  }\n",
       "  table, th, td {\n",
       "    border: 1px solid black;\n",
       "    border-collapse: collapse;\n",
       "  }\n",
       "  th, td {\n",
       "    padding: 5px;\n",
       "  }\n",
       "  th {\n",
       "    text-align: left;\n",
       "  }\n",
       "</style><div class='table-result-container'><table class='table-result'><thead style='background-color: white'><tr><th>user_id</th><th>login_date</th><th>prevday_login</th><th>rownum</th></tr></thead><tbody><tr><td>1</td><td>2024-03-01</td><td>null</td><td>1</td></tr><tr><td>1</td><td>2024-03-02</td><td>2024-03-01</td><td>2</td></tr><tr><td>1</td><td>2024-03-03</td><td>2024-03-02</td><td>3</td></tr><tr><td>1</td><td>2024-03-04</td><td>2024-03-03</td><td>4</td></tr><tr><td>1</td><td>2024-03-06</td><td>2024-03-04</td><td>5</td></tr><tr><td>1</td><td>2024-03-10</td><td>2024-03-06</td><td>6</td></tr><tr><td>1</td><td>2024-03-11</td><td>2024-03-10</td><td>7</td></tr><tr><td>1</td><td>2024-03-12</td><td>2024-03-11</td><td>8</td></tr><tr><td>1</td><td>2024-03-13</td><td>2024-03-12</td><td>9</td></tr><tr><td>1</td><td>2024-03-14</td><td>2024-03-13</td><td>10</td></tr><tr><td>1</td><td>2024-03-20</td><td>2024-03-14</td><td>11</td></tr><tr><td>1</td><td>2024-03-25</td><td>2024-03-20</td><td>12</td></tr><tr><td>1</td><td>2024-03-26</td><td>2024-03-25</td><td>13</td></tr><tr><td>1</td><td>2024-03-27</td><td>2024-03-26</td><td>14</td></tr><tr><td>1</td><td>2024-03-28</td><td>2024-03-27</td><td>15</td></tr><tr><td>1</td><td>2024-03-29</td><td>2024-03-28</td><td>16</td></tr><tr><td>1</td><td>2024-03-30</td><td>2024-03-29</td><td>17</td></tr><tr><td>2</td><td>2024-03-01</td><td>null</td><td>1</td></tr><tr><td>2</td><td>2024-03-02</td><td>2024-03-01</td><td>2</td></tr><tr><td>2</td><td>2024-03-03</td><td>2024-03-02</td><td>3</td></tr><tr><td>2</td><td>2024-03-04</td><td>2024-03-03</td><td>4</td></tr><tr><td>3</td><td>2024-03-01</td><td>null</td><td>1</td></tr><tr><td>3</td><td>2024-03-02</td><td>2024-03-01</td><td>2</td></tr><tr><td>3</td><td>2024-03-03</td><td>2024-03-02</td><td>3</td></tr><tr><td>3</td><td>2024-03-04</td><td>2024-03-03</td><td>4</td></tr><tr><td>3</td><td>2024-03-04</td><td>2024-03-04</td><td>5</td></tr><tr><td>3</td><td>2024-03-04</td><td>2024-03-04</td><td>6</td></tr><tr><td>3</td><td>2024-03-05</td><td>2024-03-04</td><td>7</td></tr><tr><td>4</td><td>2024-03-01</td><td>null</td><td>1</td></tr><tr><td>4</td><td>2024-03-02</td><td>2024-03-01</td><td>2</td></tr><tr><td>4</td><td>2024-03-03</td><td>2024-03-02</td><td>3</td></tr><tr><td>4</td><td>2024-03-04</td><td>2024-03-03</td><td>4</td></tr><tr><td>4</td><td>2024-03-04</td><td>2024-03-04</td><td>5</td></tr></tbody></table></div>"
      ]
     },
     "metadata": {
      "application/vnd.databricks.v1+output": {
       "addedWidgets": {},
       "aggData": [],
       "aggError": "",
       "aggOverflow": false,
       "aggSchema": [],
       "aggSeriesLimitReached": false,
       "aggType": "",
       "arguments": {},
       "columnCustomDisplayInfos": {},
       "data": [
        [
         1,
         "2024-03-01",
         null,
         1
        ],
        [
         1,
         "2024-03-02",
         "2024-03-01",
         2
        ],
        [
         1,
         "2024-03-03",
         "2024-03-02",
         3
        ],
        [
         1,
         "2024-03-04",
         "2024-03-03",
         4
        ],
        [
         1,
         "2024-03-06",
         "2024-03-04",
         5
        ],
        [
         1,
         "2024-03-10",
         "2024-03-06",
         6
        ],
        [
         1,
         "2024-03-11",
         "2024-03-10",
         7
        ],
        [
         1,
         "2024-03-12",
         "2024-03-11",
         8
        ],
        [
         1,
         "2024-03-13",
         "2024-03-12",
         9
        ],
        [
         1,
         "2024-03-14",
         "2024-03-13",
         10
        ],
        [
         1,
         "2024-03-20",
         "2024-03-14",
         11
        ],
        [
         1,
         "2024-03-25",
         "2024-03-20",
         12
        ],
        [
         1,
         "2024-03-26",
         "2024-03-25",
         13
        ],
        [
         1,
         "2024-03-27",
         "2024-03-26",
         14
        ],
        [
         1,
         "2024-03-28",
         "2024-03-27",
         15
        ],
        [
         1,
         "2024-03-29",
         "2024-03-28",
         16
        ],
        [
         1,
         "2024-03-30",
         "2024-03-29",
         17
        ],
        [
         2,
         "2024-03-01",
         null,
         1
        ],
        [
         2,
         "2024-03-02",
         "2024-03-01",
         2
        ],
        [
         2,
         "2024-03-03",
         "2024-03-02",
         3
        ],
        [
         2,
         "2024-03-04",
         "2024-03-03",
         4
        ],
        [
         3,
         "2024-03-01",
         null,
         1
        ],
        [
         3,
         "2024-03-02",
         "2024-03-01",
         2
        ],
        [
         3,
         "2024-03-03",
         "2024-03-02",
         3
        ],
        [
         3,
         "2024-03-04",
         "2024-03-03",
         4
        ],
        [
         3,
         "2024-03-04",
         "2024-03-04",
         5
        ],
        [
         3,
         "2024-03-04",
         "2024-03-04",
         6
        ],
        [
         3,
         "2024-03-05",
         "2024-03-04",
         7
        ],
        [
         4,
         "2024-03-01",
         null,
         1
        ],
        [
         4,
         "2024-03-02",
         "2024-03-01",
         2
        ],
        [
         4,
         "2024-03-03",
         "2024-03-02",
         3
        ],
        [
         4,
         "2024-03-04",
         "2024-03-03",
         4
        ],
        [
         4,
         "2024-03-04",
         "2024-03-04",
         5
        ]
       ],
       "datasetInfos": [],
       "dbfsResultPath": null,
       "isJsonSchema": true,
       "metadata": {},
       "overflow": false,
       "plotOptions": {
        "customPlotOptions": {},
        "displayType": "table",
        "pivotAggregation": null,
        "pivotColumns": null,
        "xColumns": null,
        "yColumns": null
       },
       "removedWidgets": [],
       "schema": [
        {
         "metadata": "{}",
         "name": "user_id",
         "type": "\"integer\""
        },
        {
         "metadata": "{}",
         "name": "login_date",
         "type": "\"string\""
        },
        {
         "metadata": "{}",
         "name": "prevday_login",
         "type": "\"string\""
        },
        {
         "metadata": "{}",
         "name": "rownum",
         "type": "\"integer\""
        }
       ],
       "type": "table"
      }
     },
     "output_type": "display_data"
    }
   ],
   "source": [
    "df_user  =(\n",
    "    df.withColumn('prevday_login',lag('login_date').over(Window.partitionBy('user_id').orderBy('login_date')))\n",
    "    #.withColumn('prev_day',F.date_add(F.col('login_date'),-1))\n",
    "    .withColumn('rownum',F.row_number().over(Window.partitionBy('user_id').orderBy('login_date')))\n",
    "    #.withColumn('prevday_login', when(F.col('prevday_login')==None,lit('1999-01-01'))\n",
    "              # .otherwise(F.col('prevday_login')) )\n",
    ")\n",
    "display(df_user)"
   ]
  },
  {
   "cell_type": "code",
   "execution_count": 0,
   "metadata": {
    "application/vnd.databricks.v1+cell": {
     "cellMetadata": {
      "byteLimit": 2048000,
      "rowLimit": 10000
     },
     "inputWidgets": {},
     "nuid": "cb1e204a-627a-452d-a339-49b45552101b",
     "showTitle": false,
     "tableResultSettingsMap": {},
     "title": ""
    }
   },
   "outputs": [
    {
     "output_type": "display_data",
     "data": {
      "text/html": [
       "<style scoped>\n",
       "  .table-result-container {\n",
       "    max-height: 300px;\n",
       "    overflow: auto;\n",
       "  }\n",
       "  table, th, td {\n",
       "    border: 1px solid black;\n",
       "    border-collapse: collapse;\n",
       "  }\n",
       "  th, td {\n",
       "    padding: 5px;\n",
       "  }\n",
       "  th {\n",
       "    text-align: left;\n",
       "  }\n",
       "</style><div class='table-result-container'><table class='table-result'><thead style='background-color: white'><tr><th>user_id</th><th>login_date</th><th>prevday_login</th><th>rownum</th></tr></thead><tbody><tr><td>1</td><td>2024-03-01</td><td>1999-01-01</td><td>1</td></tr><tr><td>1</td><td>2024-03-02</td><td>2024-03-01</td><td>2</td></tr><tr><td>1</td><td>2024-03-03</td><td>2024-03-02</td><td>3</td></tr><tr><td>1</td><td>2024-03-04</td><td>2024-03-03</td><td>4</td></tr><tr><td>1</td><td>2024-03-06</td><td>2024-03-04</td><td>5</td></tr><tr><td>1</td><td>2024-03-10</td><td>2024-03-06</td><td>6</td></tr><tr><td>1</td><td>2024-03-11</td><td>2024-03-10</td><td>7</td></tr><tr><td>1</td><td>2024-03-12</td><td>2024-03-11</td><td>8</td></tr><tr><td>1</td><td>2024-03-13</td><td>2024-03-12</td><td>9</td></tr><tr><td>1</td><td>2024-03-14</td><td>2024-03-13</td><td>10</td></tr><tr><td>1</td><td>2024-03-20</td><td>2024-03-14</td><td>11</td></tr><tr><td>1</td><td>2024-03-25</td><td>2024-03-20</td><td>12</td></tr><tr><td>1</td><td>2024-03-26</td><td>2024-03-25</td><td>13</td></tr><tr><td>1</td><td>2024-03-27</td><td>2024-03-26</td><td>14</td></tr><tr><td>1</td><td>2024-03-28</td><td>2024-03-27</td><td>15</td></tr><tr><td>1</td><td>2024-03-29</td><td>2024-03-28</td><td>16</td></tr><tr><td>1</td><td>2024-03-30</td><td>2024-03-29</td><td>17</td></tr><tr><td>2</td><td>2024-03-01</td><td>1999-01-01</td><td>1</td></tr><tr><td>2</td><td>2024-03-02</td><td>2024-03-01</td><td>2</td></tr><tr><td>2</td><td>2024-03-03</td><td>2024-03-02</td><td>3</td></tr><tr><td>2</td><td>2024-03-04</td><td>2024-03-03</td><td>4</td></tr><tr><td>3</td><td>2024-03-01</td><td>1999-01-01</td><td>1</td></tr><tr><td>3</td><td>2024-03-02</td><td>2024-03-01</td><td>2</td></tr><tr><td>3</td><td>2024-03-03</td><td>2024-03-02</td><td>3</td></tr><tr><td>3</td><td>2024-03-04</td><td>2024-03-03</td><td>4</td></tr><tr><td>3</td><td>2024-03-04</td><td>2024-03-04</td><td>5</td></tr><tr><td>3</td><td>2024-03-04</td><td>2024-03-04</td><td>6</td></tr><tr><td>3</td><td>2024-03-05</td><td>2024-03-04</td><td>7</td></tr><tr><td>4</td><td>2024-03-01</td><td>1999-01-01</td><td>1</td></tr><tr><td>4</td><td>2024-03-02</td><td>2024-03-01</td><td>2</td></tr><tr><td>4</td><td>2024-03-03</td><td>2024-03-02</td><td>3</td></tr><tr><td>4</td><td>2024-03-04</td><td>2024-03-03</td><td>4</td></tr><tr><td>4</td><td>2024-03-04</td><td>2024-03-04</td><td>5</td></tr></tbody></table></div>"
      ]
     },
     "metadata": {
      "application/vnd.databricks.v1+output": {
       "addedWidgets": {},
       "aggData": [],
       "aggError": "",
       "aggOverflow": false,
       "aggSchema": [],
       "aggSeriesLimitReached": false,
       "aggType": "",
       "arguments": {},
       "columnCustomDisplayInfos": {},
       "data": [
        [
         1,
         "2024-03-01",
         "1999-01-01",
         1
        ],
        [
         1,
         "2024-03-02",
         "2024-03-01",
         2
        ],
        [
         1,
         "2024-03-03",
         "2024-03-02",
         3
        ],
        [
         1,
         "2024-03-04",
         "2024-03-03",
         4
        ],
        [
         1,
         "2024-03-06",
         "2024-03-04",
         5
        ],
        [
         1,
         "2024-03-10",
         "2024-03-06",
         6
        ],
        [
         1,
         "2024-03-11",
         "2024-03-10",
         7
        ],
        [
         1,
         "2024-03-12",
         "2024-03-11",
         8
        ],
        [
         1,
         "2024-03-13",
         "2024-03-12",
         9
        ],
        [
         1,
         "2024-03-14",
         "2024-03-13",
         10
        ],
        [
         1,
         "2024-03-20",
         "2024-03-14",
         11
        ],
        [
         1,
         "2024-03-25",
         "2024-03-20",
         12
        ],
        [
         1,
         "2024-03-26",
         "2024-03-25",
         13
        ],
        [
         1,
         "2024-03-27",
         "2024-03-26",
         14
        ],
        [
         1,
         "2024-03-28",
         "2024-03-27",
         15
        ],
        [
         1,
         "2024-03-29",
         "2024-03-28",
         16
        ],
        [
         1,
         "2024-03-30",
         "2024-03-29",
         17
        ],
        [
         2,
         "2024-03-01",
         "1999-01-01",
         1
        ],
        [
         2,
         "2024-03-02",
         "2024-03-01",
         2
        ],
        [
         2,
         "2024-03-03",
         "2024-03-02",
         3
        ],
        [
         2,
         "2024-03-04",
         "2024-03-03",
         4
        ],
        [
         3,
         "2024-03-01",
         "1999-01-01",
         1
        ],
        [
         3,
         "2024-03-02",
         "2024-03-01",
         2
        ],
        [
         3,
         "2024-03-03",
         "2024-03-02",
         3
        ],
        [
         3,
         "2024-03-04",
         "2024-03-03",
         4
        ],
        [
         3,
         "2024-03-04",
         "2024-03-04",
         5
        ],
        [
         3,
         "2024-03-04",
         "2024-03-04",
         6
        ],
        [
         3,
         "2024-03-05",
         "2024-03-04",
         7
        ],
        [
         4,
         "2024-03-01",
         "1999-01-01",
         1
        ],
        [
         4,
         "2024-03-02",
         "2024-03-01",
         2
        ],
        [
         4,
         "2024-03-03",
         "2024-03-02",
         3
        ],
        [
         4,
         "2024-03-04",
         "2024-03-03",
         4
        ],
        [
         4,
         "2024-03-04",
         "2024-03-04",
         5
        ]
       ],
       "datasetInfos": [],
       "dbfsResultPath": null,
       "isJsonSchema": true,
       "metadata": {},
       "overflow": false,
       "plotOptions": {
        "customPlotOptions": {},
        "displayType": "table",
        "pivotAggregation": null,
        "pivotColumns": null,
        "xColumns": null,
        "yColumns": null
       },
       "removedWidgets": [],
       "schema": [
        {
         "metadata": "{}",
         "name": "user_id",
         "type": "\"integer\""
        },
        {
         "metadata": "{}",
         "name": "login_date",
         "type": "\"string\""
        },
        {
         "metadata": "{}",
         "name": "prevday_login",
         "type": "\"string\""
        },
        {
         "metadata": "{}",
         "name": "rownum",
         "type": "\"integer\""
        }
       ],
       "type": "table"
      }
     },
     "output_type": "display_data"
    }
   ],
   "source": [
    "df_user=(\n",
    "    df_user.withColumn('prevday_login', when(F.col('rownum')==1,lit('1999-01-01'))\n",
    "               .otherwise(F.col('prevday_login')) )\n",
    "               )\n",
    "\n",
    "display(df_user)               "
   ]
  },
  {
   "cell_type": "code",
   "execution_count": 0,
   "metadata": {
    "application/vnd.databricks.v1+cell": {
     "cellMetadata": {
      "byteLimit": 2048000,
      "rowLimit": 10000
     },
     "inputWidgets": {},
     "nuid": "db92e806-c65e-4401-9ce5-53eb051ddc5b",
     "showTitle": false,
     "tableResultSettingsMap": {},
     "title": ""
    }
   },
   "outputs": [
    {
     "output_type": "display_data",
     "data": {
      "text/html": [
       "<style scoped>\n",
       "  .table-result-container {\n",
       "    max-height: 300px;\n",
       "    overflow: auto;\n",
       "  }\n",
       "  table, th, td {\n",
       "    border: 1px solid black;\n",
       "    border-collapse: collapse;\n",
       "  }\n",
       "  th, td {\n",
       "    padding: 5px;\n",
       "  }\n",
       "  th {\n",
       "    text-align: left;\n",
       "  }\n",
       "</style><div class='table-result-container'><table class='table-result'><thead style='background-color: white'><tr><th>user_id</th><th>login_date</th><th>prevday_login</th><th>rownum</th></tr></thead><tbody><tr><td>1</td><td>2024-03-01</td><td>1999-01-01</td><td>1</td></tr><tr><td>1</td><td>2024-03-02</td><td>2024-03-01</td><td>2</td></tr><tr><td>1</td><td>2024-03-03</td><td>2024-03-02</td><td>3</td></tr><tr><td>1</td><td>2024-03-04</td><td>2024-03-03</td><td>4</td></tr><tr><td>1</td><td>2024-03-06</td><td>2024-03-04</td><td>5</td></tr><tr><td>1</td><td>2024-03-10</td><td>2024-03-06</td><td>6</td></tr><tr><td>1</td><td>2024-03-11</td><td>2024-03-10</td><td>7</td></tr><tr><td>1</td><td>2024-03-12</td><td>2024-03-11</td><td>8</td></tr><tr><td>1</td><td>2024-03-13</td><td>2024-03-12</td><td>9</td></tr><tr><td>1</td><td>2024-03-14</td><td>2024-03-13</td><td>10</td></tr><tr><td>1</td><td>2024-03-20</td><td>2024-03-14</td><td>11</td></tr><tr><td>1</td><td>2024-03-25</td><td>2024-03-20</td><td>12</td></tr><tr><td>1</td><td>2024-03-26</td><td>2024-03-25</td><td>13</td></tr><tr><td>1</td><td>2024-03-27</td><td>2024-03-26</td><td>14</td></tr><tr><td>1</td><td>2024-03-28</td><td>2024-03-27</td><td>15</td></tr><tr><td>1</td><td>2024-03-29</td><td>2024-03-28</td><td>16</td></tr><tr><td>1</td><td>2024-03-30</td><td>2024-03-29</td><td>17</td></tr><tr><td>2</td><td>2024-03-01</td><td>1999-01-01</td><td>1</td></tr><tr><td>2</td><td>2024-03-02</td><td>2024-03-01</td><td>2</td></tr><tr><td>2</td><td>2024-03-03</td><td>2024-03-02</td><td>3</td></tr><tr><td>2</td><td>2024-03-04</td><td>2024-03-03</td><td>4</td></tr><tr><td>3</td><td>2024-03-01</td><td>1999-01-01</td><td>1</td></tr><tr><td>3</td><td>2024-03-02</td><td>2024-03-01</td><td>2</td></tr><tr><td>3</td><td>2024-03-03</td><td>2024-03-02</td><td>3</td></tr><tr><td>3</td><td>2024-03-04</td><td>2024-03-03</td><td>4</td></tr><tr><td>3</td><td>2024-03-05</td><td>2024-03-04</td><td>7</td></tr><tr><td>4</td><td>2024-03-01</td><td>1999-01-01</td><td>1</td></tr><tr><td>4</td><td>2024-03-02</td><td>2024-03-01</td><td>2</td></tr><tr><td>4</td><td>2024-03-03</td><td>2024-03-02</td><td>3</td></tr><tr><td>4</td><td>2024-03-04</td><td>2024-03-03</td><td>4</td></tr></tbody></table></div>"
      ]
     },
     "metadata": {
      "application/vnd.databricks.v1+output": {
       "addedWidgets": {},
       "aggData": [],
       "aggError": "",
       "aggOverflow": false,
       "aggSchema": [],
       "aggSeriesLimitReached": false,
       "aggType": "",
       "arguments": {},
       "columnCustomDisplayInfos": {},
       "data": [
        [
         1,
         "2024-03-01",
         "1999-01-01",
         1
        ],
        [
         1,
         "2024-03-02",
         "2024-03-01",
         2
        ],
        [
         1,
         "2024-03-03",
         "2024-03-02",
         3
        ],
        [
         1,
         "2024-03-04",
         "2024-03-03",
         4
        ],
        [
         1,
         "2024-03-06",
         "2024-03-04",
         5
        ],
        [
         1,
         "2024-03-10",
         "2024-03-06",
         6
        ],
        [
         1,
         "2024-03-11",
         "2024-03-10",
         7
        ],
        [
         1,
         "2024-03-12",
         "2024-03-11",
         8
        ],
        [
         1,
         "2024-03-13",
         "2024-03-12",
         9
        ],
        [
         1,
         "2024-03-14",
         "2024-03-13",
         10
        ],
        [
         1,
         "2024-03-20",
         "2024-03-14",
         11
        ],
        [
         1,
         "2024-03-25",
         "2024-03-20",
         12
        ],
        [
         1,
         "2024-03-26",
         "2024-03-25",
         13
        ],
        [
         1,
         "2024-03-27",
         "2024-03-26",
         14
        ],
        [
         1,
         "2024-03-28",
         "2024-03-27",
         15
        ],
        [
         1,
         "2024-03-29",
         "2024-03-28",
         16
        ],
        [
         1,
         "2024-03-30",
         "2024-03-29",
         17
        ],
        [
         2,
         "2024-03-01",
         "1999-01-01",
         1
        ],
        [
         2,
         "2024-03-02",
         "2024-03-01",
         2
        ],
        [
         2,
         "2024-03-03",
         "2024-03-02",
         3
        ],
        [
         2,
         "2024-03-04",
         "2024-03-03",
         4
        ],
        [
         3,
         "2024-03-01",
         "1999-01-01",
         1
        ],
        [
         3,
         "2024-03-02",
         "2024-03-01",
         2
        ],
        [
         3,
         "2024-03-03",
         "2024-03-02",
         3
        ],
        [
         3,
         "2024-03-04",
         "2024-03-03",
         4
        ],
        [
         3,
         "2024-03-05",
         "2024-03-04",
         7
        ],
        [
         4,
         "2024-03-01",
         "1999-01-01",
         1
        ],
        [
         4,
         "2024-03-02",
         "2024-03-01",
         2
        ],
        [
         4,
         "2024-03-03",
         "2024-03-02",
         3
        ],
        [
         4,
         "2024-03-04",
         "2024-03-03",
         4
        ]
       ],
       "datasetInfos": [],
       "dbfsResultPath": null,
       "isJsonSchema": true,
       "metadata": {},
       "overflow": false,
       "plotOptions": {
        "customPlotOptions": {},
        "displayType": "table",
        "pivotAggregation": null,
        "pivotColumns": null,
        "xColumns": null,
        "yColumns": null
       },
       "removedWidgets": [],
       "schema": [
        {
         "metadata": "{}",
         "name": "user_id",
         "type": "\"integer\""
        },
        {
         "metadata": "{}",
         "name": "login_date",
         "type": "\"string\""
        },
        {
         "metadata": "{}",
         "name": "prevday_login",
         "type": "\"string\""
        },
        {
         "metadata": "{}",
         "name": "rownum",
         "type": "\"integer\""
        }
       ],
       "type": "table"
      }
     },
     "output_type": "display_data"
    }
   ],
   "source": [
    "df_user_final=df_user.filter((F.col('login_date') != F.col('prevday_login')))\n",
    "display(df_user_final)"
   ]
  },
  {
   "cell_type": "code",
   "execution_count": 0,
   "metadata": {
    "application/vnd.databricks.v1+cell": {
     "cellMetadata": {},
     "inputWidgets": {},
     "nuid": "840f2eb6-6475-42d7-9c3e-e62ceb0a2a94",
     "showTitle": false,
     "tableResultSettingsMap": {},
     "title": ""
    }
   },
   "outputs": [],
   "source": []
  },
  {
   "cell_type": "code",
   "execution_count": 0,
   "metadata": {
    "application/vnd.databricks.v1+cell": {
     "cellMetadata": {},
     "inputWidgets": {},
     "nuid": "11dcab6b-91d7-4934-9fb0-8efcc91b785f",
     "showTitle": false,
     "tableResultSettingsMap": {},
     "title": ""
    }
   },
   "outputs": [],
   "source": []
  },
  {
   "cell_type": "code",
   "execution_count": 0,
   "metadata": {
    "application/vnd.databricks.v1+cell": {
     "cellMetadata": {},
     "inputWidgets": {},
     "nuid": "070db20a-71cc-4205-812e-ab4cbd774457",
     "showTitle": false,
     "tableResultSettingsMap": {},
     "title": ""
    }
   },
   "outputs": [],
   "source": []
  },
  {
   "cell_type": "code",
   "execution_count": 0,
   "metadata": {
    "application/vnd.databricks.v1+cell": {
     "cellMetadata": {},
     "inputWidgets": {},
     "nuid": "051a7c12-877e-474a-b071-8e31063e481a",
     "showTitle": false,
     "tableResultSettingsMap": {},
     "title": ""
    }
   },
   "outputs": [],
   "source": []
  },
  {
   "cell_type": "code",
   "execution_count": 0,
   "metadata": {
    "application/vnd.databricks.v1+cell": {
     "cellMetadata": {
      "byteLimit": 2048000,
      "rowLimit": 10000
     },
     "inputWidgets": {},
     "nuid": "808db07c-e974-4610-9249-4ed567f098bd",
     "showTitle": false,
     "tableResultSettingsMap": {},
     "title": ""
    }
   },
   "outputs": [],
   "source": []
  }
 ],
 "metadata": {
  "application/vnd.databricks.v1+notebook": {
   "computePreferences": null,
   "dashboards": [],
   "environmentMetadata": null,
   "inputWidgetPreferences": null,
   "language": "python",
   "notebookMetadata": {
    "mostRecentlyExecutedCommandWithImplicitDF": {
     "commandId": 4260071212338624,
     "dataframes": [
      "_sqldf"
     ]
    },
    "pythonIndentUnit": 4
   },
   "notebookName": "Interview_Questions_All_Companies_10_May_2025",
   "widgets": {}
  }
 },
 "nbformat": 4,
 "nbformat_minor": 0
}