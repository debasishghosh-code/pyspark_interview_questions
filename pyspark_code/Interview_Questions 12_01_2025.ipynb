{
 "cells": [
  {
   "cell_type": "markdown",
   "metadata": {
    "application/vnd.databricks.v1+cell": {
     "cellMetadata": {
      "byteLimit": 2048000,
      "rowLimit": 10000
     },
     "inputWidgets": {},
     "nuid": "6a924e7b-d189-4c18-8d9c-055936c2559f",
     "showTitle": false,
     "tableResultSettingsMap": {},
     "title": ""
    }
   },
   "source": [
    "**1-explode question**\n"
   ]
  },
  {
   "cell_type": "code",
   "execution_count": 0,
   "metadata": {
    "application/vnd.databricks.v1+cell": {
     "cellMetadata": {
      "byteLimit": 2048000,
      "rowLimit": 10000
     },
     "inputWidgets": {},
     "nuid": "c373f941-9f45-4e1e-90d5-2e3d24c4915f",
     "showTitle": false,
     "tableResultSettingsMap": {},
     "title": ""
    }
   },
   "outputs": [
    {
     "output_type": "stream",
     "name": "stdout",
     "output_type": "stream",
     "text": [
      "+-----+-----------------+\n|name |hobbies          |\n+-----+-----------------+\n|Alice|badminton,tennis |\n|Bob  |swimming,football|\n|Julie|cricket,boxing   |\n+-----+-----------------+\n\n"
     ]
    }
   ],
   "source": [
    "data=[('Alice','badminton,tennis'),('Bob','swimming,football'),('Julie','cricket,boxing')]\n",
    "columns=['name','hobbies']\n",
    "df_hobbies=spark.createDataFrame(data,columns)\n",
    "df_hobbies.show(truncate=False)"
   ]
  },
  {
   "cell_type": "code",
   "execution_count": 0,
   "metadata": {
    "application/vnd.databricks.v1+cell": {
     "cellMetadata": {
      "byteLimit": 2048000,
      "rowLimit": 10000
     },
     "inputWidgets": {},
     "nuid": "c3d6da83-bd43-4dac-9e6b-1fe02f28526a",
     "showTitle": false,
     "tableResultSettingsMap": {},
     "title": ""
    }
   },
   "outputs": [
    {
     "output_type": "display_data",
     "data": {
      "text/html": [
       "<style scoped>\n",
       "  .table-result-container {\n",
       "    max-height: 300px;\n",
       "    overflow: auto;\n",
       "  }\n",
       "  table, th, td {\n",
       "    border: 1px solid black;\n",
       "    border-collapse: collapse;\n",
       "  }\n",
       "  th, td {\n",
       "    padding: 5px;\n",
       "  }\n",
       "  th {\n",
       "    text-align: left;\n",
       "  }\n",
       "</style><div class='table-result-container'><table class='table-result'><thead style='background-color: white'><tr><th>name</th><th>hobbies</th></tr></thead><tbody><tr><td>Alice</td><td>List(badminton, tennis)</td></tr><tr><td>Bob</td><td>List(swimming, football)</td></tr><tr><td>Julie</td><td>List(cricket, boxing)</td></tr></tbody></table></div>"
      ]
     },
     "metadata": {
      "application/vnd.databricks.v1+output": {
       "addedWidgets": {},
       "aggData": [],
       "aggError": "",
       "aggOverflow": false,
       "aggSchema": [],
       "aggSeriesLimitReached": false,
       "aggType": "",
       "arguments": {},
       "columnCustomDisplayInfos": {},
       "data": [
        [
         "Alice",
         [
          "badminton",
          "tennis"
         ]
        ],
        [
         "Bob",
         [
          "swimming",
          "football"
         ]
        ],
        [
         "Julie",
         [
          "cricket",
          "boxing"
         ]
        ]
       ],
       "datasetInfos": [],
       "dbfsResultPath": null,
       "isJsonSchema": true,
       "metadata": {},
       "overflow": false,
       "plotOptions": {
        "customPlotOptions": {},
        "displayType": "table",
        "pivotAggregation": null,
        "pivotColumns": null,
        "xColumns": null,
        "yColumns": null
       },
       "removedWidgets": [],
       "schema": [
        {
         "metadata": "{}",
         "name": "name",
         "type": "\"string\""
        },
        {
         "metadata": "{}",
         "name": "hobbies",
         "type": "{\"type\":\"array\",\"elementType\":\"string\",\"containsNull\":false}"
        }
       ],
       "type": "table"
      }
     },
     "output_type": "display_data"
    },
    {
     "output_type": "stream",
     "name": "stdout",
     "output_type": "stream",
     "text": [
      "root\n |-- name: string (nullable = true)\n |-- hobbies: array (nullable = true)\n |    |-- element: string (containsNull = false)\n\n"
     ]
    }
   ],
   "source": [
    "from pyspark.sql.functions import *\n",
    "\n",
    "df_hobb1=df_hobbies.withColumn('hobbies',split(col('hobbies'),\",\"))\n",
    "display(df_hobb1)\n",
    "df_hobb1.printSchema()"
   ]
  },
  {
   "cell_type": "code",
   "execution_count": 0,
   "metadata": {
    "application/vnd.databricks.v1+cell": {
     "cellMetadata": {
      "byteLimit": 2048000,
      "rowLimit": 10000
     },
     "inputWidgets": {},
     "nuid": "25331d7c-0987-46fa-8438-979eb203233e",
     "showTitle": false,
     "tableResultSettingsMap": {},
     "title": ""
    }
   },
   "outputs": [
    {
     "output_type": "display_data",
     "data": {
      "text/html": [
       "<style scoped>\n",
       "  .table-result-container {\n",
       "    max-height: 300px;\n",
       "    overflow: auto;\n",
       "  }\n",
       "  table, th, td {\n",
       "    border: 1px solid black;\n",
       "    border-collapse: collapse;\n",
       "  }\n",
       "  th, td {\n",
       "    padding: 5px;\n",
       "  }\n",
       "  th {\n",
       "    text-align: left;\n",
       "  }\n",
       "</style><div class='table-result-container'><table class='table-result'><thead style='background-color: white'><tr><th>name</th><th>hobbies</th></tr></thead><tbody><tr><td>Alice</td><td>badminton</td></tr><tr><td>Alice</td><td>tennis</td></tr><tr><td>Bob</td><td>swimming</td></tr><tr><td>Bob</td><td>football</td></tr><tr><td>Julie</td><td>cricket</td></tr><tr><td>Julie</td><td>boxing</td></tr></tbody></table></div>"
      ]
     },
     "metadata": {
      "application/vnd.databricks.v1+output": {
       "addedWidgets": {},
       "aggData": [],
       "aggError": "",
       "aggOverflow": false,
       "aggSchema": [],
       "aggSeriesLimitReached": false,
       "aggType": "",
       "arguments": {},
       "columnCustomDisplayInfos": {},
       "data": [
        [
         "Alice",
         "badminton"
        ],
        [
         "Alice",
         "tennis"
        ],
        [
         "Bob",
         "swimming"
        ],
        [
         "Bob",
         "football"
        ],
        [
         "Julie",
         "cricket"
        ],
        [
         "Julie",
         "boxing"
        ]
       ],
       "datasetInfos": [],
       "dbfsResultPath": null,
       "isJsonSchema": true,
       "metadata": {},
       "overflow": false,
       "plotOptions": {
        "customPlotOptions": {},
        "displayType": "table",
        "pivotAggregation": null,
        "pivotColumns": null,
        "xColumns": null,
        "yColumns": null
       },
       "removedWidgets": [],
       "schema": [
        {
         "metadata": "{}",
         "name": "name",
         "type": "\"string\""
        },
        {
         "metadata": "{}",
         "name": "hobbies",
         "type": "\"string\""
        }
       ],
       "type": "table"
      }
     },
     "output_type": "display_data"
    }
   ],
   "source": [
    "\n",
    "display(df_hobb1.withColumn('hobbies',explode('hobbies')))"
   ]
  },
  {
   "cell_type": "markdown",
   "metadata": {
    "application/vnd.databricks.v1+cell": {
     "cellMetadata": {
      "byteLimit": 2048000,
      "rowLimit": 10000
     },
     "inputWidgets": {},
     "nuid": "dadbdcc3-3042-4a90-beef-bfacce0832a4",
     "showTitle": false,
     "tableResultSettingsMap": {},
     "title": ""
    }
   },
   "source": [
    "**2-coalesce question**"
   ]
  },
  {
   "cell_type": "code",
   "execution_count": 0,
   "metadata": {
    "application/vnd.databricks.v1+cell": {
     "cellMetadata": {
      "byteLimit": 2048000,
      "rowLimit": 10000
     },
     "inputWidgets": {},
     "nuid": "fae26288-8db5-4434-b444-954fdab9e1a1",
     "showTitle": false,
     "tableResultSettingsMap": {},
     "title": ""
    }
   },
   "outputs": [
    {
     "output_type": "display_data",
     "data": {
      "text/html": [
       "<style scoped>\n",
       "  .table-result-container {\n",
       "    max-height: 300px;\n",
       "    overflow: auto;\n",
       "  }\n",
       "  table, th, td {\n",
       "    border: 1px solid black;\n",
       "    border-collapse: collapse;\n",
       "  }\n",
       "  th, td {\n",
       "    padding: 5px;\n",
       "  }\n",
       "  th {\n",
       "    text-align: left;\n",
       "  }\n",
       "</style><div class='table-result-container'><table class='table-result'><thead style='background-color: white'><tr><th>city1</th><th>city2</th><th>city3</th></tr></thead><tbody><tr><td>Goa</td><td> </td><td>AP</td></tr><tr><td></td><td>AP</td><td>null</td></tr><tr><td>null</td><td> </td><td>Bglr</td></tr></tbody></table></div>"
      ]
     },
     "metadata": {
      "application/vnd.databricks.v1+output": {
       "addedWidgets": {},
       "aggData": [],
       "aggError": "",
       "aggOverflow": false,
       "aggSchema": [],
       "aggSeriesLimitReached": false,
       "aggType": "",
       "arguments": {},
       "columnCustomDisplayInfos": {},
       "data": [
        [
         "Goa",
         " ",
         "AP"
        ],
        [
         "",
         "AP",
         null
        ],
        [
         null,
         " ",
         "Bglr"
        ]
       ],
       "datasetInfos": [],
       "dbfsResultPath": null,
       "isJsonSchema": true,
       "metadata": {},
       "overflow": false,
       "plotOptions": {
        "customPlotOptions": {},
        "displayType": "table",
        "pivotAggregation": null,
        "pivotColumns": null,
        "xColumns": null,
        "yColumns": null
       },
       "removedWidgets": [],
       "schema": [
        {
         "metadata": "{}",
         "name": "city1",
         "type": "\"string\""
        },
        {
         "metadata": "{}",
         "name": "city2",
         "type": "\"string\""
        },
        {
         "metadata": "{}",
         "name": "city3",
         "type": "\"string\""
        }
       ],
       "type": "table"
      }
     },
     "output_type": "display_data"
    }
   ],
   "source": [
    "data2=[('Goa', ' ', 'AP'),('', 'AP', None), (None, ' ', 'Bglr')]\n",
    "columns2=[\"city1\", \"city2\", \"city3\"]\n",
    "df2=spark.createDataFrame(data2, columns2)\n",
    "display(df2)"
   ]
  },
  {
   "cell_type": "code",
   "execution_count": 0,
   "metadata": {
    "application/vnd.databricks.v1+cell": {
     "cellMetadata": {
      "byteLimit": 2048000,
      "rowLimit": 10000
     },
     "inputWidgets": {},
     "nuid": "a4f213ee-ae38-4fc4-9e12-8f3a15f72761",
     "showTitle": false,
     "tableResultSettingsMap": {},
     "title": ""
    }
   },
   "outputs": [
    {
     "output_type": "stream",
     "name": "stdout",
     "output_type": "stream",
     "text": [
      "+-----+-----+-----+---------------+\n|city1|city2|city3|firstnotnullval|\n+-----+-----+-----+---------------+\n|  Goa|     |   AP|            Goa|\n|     |   AP| null|             AP|\n| null|     | Bglr|               |\n+-----+-----+-----+---------------+\n\n"
     ]
    }
   ],
   "source": [
    "df22=(\n",
    "    df2.withColumn('firstnotnullval',coalesce(when(df2.city1==\"\",None).otherwise(df2.city1)\n",
    "                                              ,when(df2.city2==\"\",None).otherwise(df2.city2)\n",
    "                                              ,when(df2.city3==\"\",None).otherwise(df2.city3))\n",
    "                   )\n",
    ")\n",
    "df22.show()"
   ]
  },
  {
   "cell_type": "markdown",
   "metadata": {
    "application/vnd.databricks.v1+cell": {
     "cellMetadata": {
      "byteLimit": 2048000,
      "rowLimit": 10000
     },
     "inputWidgets": {},
     "nuid": "a1b17192-13fa-416b-8c3d-c6e0bb559815",
     "showTitle": false,
     "tableResultSettingsMap": {},
     "title": ""
    }
   },
   "source": [
    "**3 percentage marks and result**"
   ]
  },
  {
   "cell_type": "code",
   "execution_count": 0,
   "metadata": {
    "application/vnd.databricks.v1+cell": {
     "cellMetadata": {
      "byteLimit": 2048000,
      "rowLimit": 10000
     },
     "inputWidgets": {},
     "nuid": "47074556-33d6-410c-a17d-c07ae3ea1fb0",
     "showTitle": false,
     "tableResultSettingsMap": {},
     "title": ""
    }
   },
   "outputs": [
    {
     "output_type": "display_data",
     "data": {
      "text/html": [
       "<style scoped>\n",
       "  .table-result-container {\n",
       "    max-height: 300px;\n",
       "    overflow: auto;\n",
       "  }\n",
       "  table, th, td {\n",
       "    border: 1px solid black;\n",
       "    border-collapse: collapse;\n",
       "  }\n",
       "  th, td {\n",
       "    padding: 5px;\n",
       "  }\n",
       "  th {\n",
       "    text-align: left;\n",
       "  }\n",
       "</style><div class='table-result-container'><table class='table-result'><thead style='background-color: white'><tr><th>Id</th><th>Name</th></tr></thead><tbody><tr><td>1</td><td>Steve</td></tr><tr><td>2</td><td>David</td></tr><tr><td>3</td><td>John</td></tr><tr><td>4</td><td>Shree</td></tr><tr><td>5</td><td>Helen</td></tr></tbody></table></div>"
      ]
     },
     "metadata": {
      "application/vnd.databricks.v1+output": {
       "addedWidgets": {},
       "aggData": [],
       "aggError": "",
       "aggOverflow": false,
       "aggSchema": [],
       "aggSeriesLimitReached": false,
       "aggType": "",
       "arguments": {},
       "columnCustomDisplayInfos": {},
       "data": [
        [
         1,
         "Steve"
        ],
        [
         2,
         "David"
        ],
        [
         3,
         "John"
        ],
        [
         4,
         "Shree"
        ],
        [
         5,
         "Helen"
        ]
       ],
       "datasetInfos": [],
       "dbfsResultPath": null,
       "isJsonSchema": true,
       "metadata": {},
       "overflow": false,
       "plotOptions": {
        "customPlotOptions": {},
        "displayType": "table",
        "pivotAggregation": null,
        "pivotColumns": null,
        "xColumns": null,
        "yColumns": null
       },
       "removedWidgets": [],
       "schema": [
        {
         "metadata": "{}",
         "name": "Id",
         "type": "\"long\""
        },
        {
         "metadata": "{}",
         "name": "Name",
         "type": "\"string\""
        }
       ],
       "type": "table"
      }
     },
     "output_type": "display_data"
    },
    {
     "output_type": "display_data",
     "data": {
      "text/html": [
       "<style scoped>\n",
       "  .table-result-container {\n",
       "    max-height: 300px;\n",
       "    overflow: auto;\n",
       "  }\n",
       "  table, th, td {\n",
       "    border: 1px solid black;\n",
       "    border-collapse: collapse;\n",
       "  }\n",
       "  th, td {\n",
       "    padding: 5px;\n",
       "  }\n",
       "  th {\n",
       "    text-align: left;\n",
       "  }\n",
       "</style><div class='table-result-container'><table class='table-result'><thead style='background-color: white'><tr><th>Id</th><th>Subject</th><th>Mark</th></tr></thead><tbody><tr><td>1</td><td>SQL</td><td>90</td></tr><tr><td>1</td><td>PySpark</td><td>100</td></tr><tr><td>2</td><td>SQL</td><td>70</td></tr><tr><td>2</td><td>PySpark</td><td>60</td></tr><tr><td>3</td><td>SQL</td><td>30</td></tr><tr><td>3</td><td>PySpark</td><td>20</td></tr><tr><td>4</td><td>SQL</td><td>50</td></tr><tr><td>4</td><td>PySpark</td><td>50</td></tr><tr><td>5</td><td>SQL</td><td>45</td></tr><tr><td>5</td><td>PySpark</td><td>45</td></tr></tbody></table></div>"
      ]
     },
     "metadata": {
      "application/vnd.databricks.v1+output": {
       "addedWidgets": {},
       "aggData": [],
       "aggError": "",
       "aggOverflow": false,
       "aggSchema": [],
       "aggSeriesLimitReached": false,
       "aggType": "",
       "arguments": {},
       "columnCustomDisplayInfos": {},
       "data": [
        [
         1,
         "SQL",
         90
        ],
        [
         1,
         "PySpark",
         100
        ],
        [
         2,
         "SQL",
         70
        ],
        [
         2,
         "PySpark",
         60
        ],
        [
         3,
         "SQL",
         30
        ],
        [
         3,
         "PySpark",
         20
        ],
        [
         4,
         "SQL",
         50
        ],
        [
         4,
         "PySpark",
         50
        ],
        [
         5,
         "SQL",
         45
        ],
        [
         5,
         "PySpark",
         45
        ]
       ],
       "datasetInfos": [],
       "dbfsResultPath": null,
       "isJsonSchema": true,
       "metadata": {},
       "overflow": false,
       "plotOptions": {
        "customPlotOptions": {},
        "displayType": "table",
        "pivotAggregation": null,
        "pivotColumns": null,
        "xColumns": null,
        "yColumns": null
       },
       "removedWidgets": [],
       "schema": [
        {
         "metadata": "{}",
         "name": "Id",
         "type": "\"long\""
        },
        {
         "metadata": "{}",
         "name": "Subject",
         "type": "\"string\""
        },
        {
         "metadata": "{}",
         "name": "Mark",
         "type": "\"long\""
        }
       ],
       "type": "table"
      }
     },
     "output_type": "display_data"
    }
   ],
   "source": [
    "\n",
    "data1=[(1,\"Steve\"),(2,\"David\"),(3,\"John\"),(4,\"Shree\"),(5,\"Helen\")]\n",
    "data2=[(1,\"SQL\",90),(1,\"PySpark\",100),(2,\"SQL\",70),(2,\"PySpark\",60),(3,\"SQL\",30),(3,\"PySpark\",20),(4,\"SQL\",50),(4,\"PySpark\",50),(5,\"SQL\",45),(5,\"PySpark\",45)]\n",
    "\n",
    "schema1=[\"Id\",\"Name\"]\n",
    "schema2=[\"Id\",\"Subject\",\"Mark\"]\n",
    "\n",
    "df1=spark.createDataFrame(data1,schema1)\n",
    "df2=spark.createDataFrame(data2,schema2)\n",
    "display(df1)\n",
    "display(df2)"
   ]
  },
  {
   "cell_type": "code",
   "execution_count": 0,
   "metadata": {
    "application/vnd.databricks.v1+cell": {
     "cellMetadata": {
      "byteLimit": 2048000,
      "rowLimit": 10000
     },
     "inputWidgets": {},
     "nuid": "0cf3361c-d235-4379-8641-3492fa2130fe",
     "showTitle": false,
     "tableResultSettingsMap": {},
     "title": ""
    }
   },
   "outputs": [
    {
     "output_type": "stream",
     "name": "stdout",
     "output_type": "stream",
     "text": [
      "+---+-----+-------+----+\n| Id| Name|Subject|Mark|\n+---+-----+-------+----+\n|  1|Steve|    SQL|  90|\n|  1|Steve|PySpark| 100|\n|  2|David|    SQL|  70|\n|  2|David|PySpark|  60|\n+---+-----+-------+----+\nonly showing top 4 rows\n\n"
     ]
    }
   ],
   "source": [
    "df_join=df1.join(df2,df1.Id==df2.Id,'inner').select(df1.Id,df1.Name,df2.Subject,df2.Mark)\n",
    "df_join.show(4)"
   ]
  },
  {
   "cell_type": "code",
   "execution_count": 0,
   "metadata": {
    "application/vnd.databricks.v1+cell": {
     "cellMetadata": {
      "byteLimit": 2048000,
      "rowLimit": 10000
     },
     "inputWidgets": {},
     "nuid": "49438bbb-b782-4edf-b4bf-f07dabe80b77",
     "showTitle": false,
     "tableResultSettingsMap": {},
     "title": ""
    }
   },
   "outputs": [
    {
     "output_type": "stream",
     "name": "stdout",
     "output_type": "stream",
     "text": [
      "+---+-----+----------+\n| Id| Name|percentage|\n+---+-----+----------+\n|  1|Steve|      95.0|\n|  2|David|      65.0|\n|  3| John|      25.0|\n|  4|Shree|      50.0|\n|  5|Helen|      45.0|\n+---+-----+----------+\n\n"
     ]
    }
   ],
   "source": [
    "from pyspark.sql.window import Window\n",
    "#windowspec=Window.partitionBy('Id','Name').orderBy('Mark')\n",
    "df_perc=df_join.groupBy('Id','Name').agg((sum('Mark')/count('*')).alias('percentage'))\n",
    "df_perc.show()"
   ]
  },
  {
   "cell_type": "code",
   "execution_count": 0,
   "metadata": {
    "application/vnd.databricks.v1+cell": {
     "cellMetadata": {
      "byteLimit": 2048000,
      "rowLimit": 10000
     },
     "inputWidgets": {},
     "nuid": "c394a2b5-e9ec-4316-8514-f57e3267e064",
     "showTitle": false,
     "tableResultSettingsMap": {},
     "title": ""
    }
   },
   "outputs": [
    {
     "output_type": "stream",
     "name": "stdout",
     "output_type": "stream",
     "text": [
      "+---+-----+----------+-----------+\n| Id| Name|percentage|     result|\n+---+-----+----------+-----------+\n|  1|Steve|      95.0|Distinction|\n|  2|David|      65.0|First class|\n|  3| John|      25.0|       Fail|\n|  4|Shree|      50.0|       Fail|\n|  5|Helen|      45.0|Third class|\n+---+-----+----------+-----------+\n\n"
     ]
    }
   ],
   "source": [
    "df_result=(\n",
    "    df_perc.withColumn('result',when(col('percentage')>70,'Distinction')\n",
    "                                .when((col('percentage')>60) & (col('percentage')<69),'First class')\n",
    "                                .when((col('percentage')>50) & (col('percentage')<59),'Second class')\n",
    "                                .when((col('percentage')>40) & (col('percentage')<49),'Third class')\n",
    "                                .otherwise(lit('Fail'))\n",
    "                       )\n",
    ")\n",
    "\n",
    "df_result.show()"
   ]
  },
  {
   "cell_type": "markdown",
   "metadata": {
    "application/vnd.databricks.v1+cell": {
     "cellMetadata": {
      "byteLimit": 2048000,
      "rowLimit": 10000
     },
     "inputWidgets": {},
     "nuid": "8dc0d074-8b16-44ca-a3ea-6189615c0275",
     "showTitle": false,
     "tableResultSettingsMap": {},
     "title": ""
    }
   },
   "source": [
    "**4 employee manager self join**"
   ]
  },
  {
   "cell_type": "code",
   "execution_count": 0,
   "metadata": {
    "application/vnd.databricks.v1+cell": {
     "cellMetadata": {
      "byteLimit": 2048000,
      "rowLimit": 10000
     },
     "inputWidgets": {},
     "nuid": "b70441f4-8fe3-4126-bee8-4ec66a4d62bf",
     "showTitle": false,
     "tableResultSettingsMap": {},
     "title": ""
    }
   },
   "outputs": [
    {
     "output_type": "display_data",
     "data": {
      "text/html": [
       "<style scoped>\n",
       "  .table-result-container {\n",
       "    max-height: 300px;\n",
       "    overflow: auto;\n",
       "  }\n",
       "  table, th, td {\n",
       "    border: 1px solid black;\n",
       "    border-collapse: collapse;\n",
       "  }\n",
       "  th, td {\n",
       "    padding: 5px;\n",
       "  }\n",
       "  th {\n",
       "    text-align: left;\n",
       "  }\n",
       "</style><div class='table-result-container'><table class='table-result'><thead style='background-color: white'><tr><th>EmpId</th><th>EmpName</th><th>Mgrid</th><th>deptid</th><th>salarydt</th><th>salary</th></tr></thead><tbody><tr><td>100</td><td>Raj</td><td>null</td><td>1</td><td>01-04-23</td><td>50000</td></tr><tr><td>200</td><td>Joanne</td><td>100</td><td>1</td><td>01-04-23</td><td>4000</td></tr><tr><td>200</td><td>Joanne</td><td>100</td><td>1</td><td>13-04-23</td><td>4500</td></tr><tr><td>200</td><td>Joanne</td><td>100</td><td>1</td><td>14-04-23</td><td>4020</td></tr></tbody></table></div>"
      ]
     },
     "metadata": {
      "application/vnd.databricks.v1+output": {
       "addedWidgets": {},
       "aggData": [],
       "aggError": "",
       "aggOverflow": false,
       "aggSchema": [],
       "aggSeriesLimitReached": false,
       "aggType": "",
       "arguments": {},
       "columnCustomDisplayInfos": {},
       "data": [
        [
         100,
         "Raj",
         null,
         1,
         "01-04-23",
         50000
        ],
        [
         200,
         "Joanne",
         100,
         1,
         "01-04-23",
         4000
        ],
        [
         200,
         "Joanne",
         100,
         1,
         "13-04-23",
         4500
        ],
        [
         200,
         "Joanne",
         100,
         1,
         "14-04-23",
         4020
        ]
       ],
       "datasetInfos": [],
       "dbfsResultPath": null,
       "isJsonSchema": true,
       "metadata": {},
       "overflow": false,
       "plotOptions": {
        "customPlotOptions": {},
        "displayType": "table",
        "pivotAggregation": null,
        "pivotColumns": null,
        "xColumns": null,
        "yColumns": null
       },
       "removedWidgets": [],
       "schema": [
        {
         "metadata": "{}",
         "name": "EmpId",
         "type": "\"long\""
        },
        {
         "metadata": "{}",
         "name": "EmpName",
         "type": "\"string\""
        },
        {
         "metadata": "{}",
         "name": "Mgrid",
         "type": "\"long\""
        },
        {
         "metadata": "{}",
         "name": "deptid",
         "type": "\"long\""
        },
        {
         "metadata": "{}",
         "name": "salarydt",
         "type": "\"string\""
        },
        {
         "metadata": "{}",
         "name": "salary",
         "type": "\"long\""
        }
       ],
       "type": "table"
      }
     },
     "output_type": "display_data"
    },
    {
     "output_type": "display_data",
     "data": {
      "text/html": [
       "<style scoped>\n",
       "  .table-result-container {\n",
       "    max-height: 300px;\n",
       "    overflow: auto;\n",
       "  }\n",
       "  table, th, td {\n",
       "    border: 1px solid black;\n",
       "    border-collapse: collapse;\n",
       "  }\n",
       "  th, td {\n",
       "    padding: 5px;\n",
       "  }\n",
       "  th {\n",
       "    text-align: left;\n",
       "  }\n",
       "</style><div class='table-result-container'><table class='table-result'><thead style='background-color: white'><tr><th>deptid</th><th>deptname</th></tr></thead><tbody><tr><td>1</td><td>IT</td></tr><tr><td>2</td><td>HR</td></tr></tbody></table></div>"
      ]
     },
     "metadata": {
      "application/vnd.databricks.v1+output": {
       "addedWidgets": {},
       "aggData": [],
       "aggError": "",
       "aggOverflow": false,
       "aggSchema": [],
       "aggSeriesLimitReached": false,
       "aggType": "",
       "arguments": {},
       "columnCustomDisplayInfos": {},
       "data": [
        [
         1,
         "IT"
        ],
        [
         2,
         "HR"
        ]
       ],
       "datasetInfos": [],
       "dbfsResultPath": null,
       "isJsonSchema": true,
       "metadata": {},
       "overflow": false,
       "plotOptions": {
        "customPlotOptions": {},
        "displayType": "table",
        "pivotAggregation": null,
        "pivotColumns": null,
        "xColumns": null,
        "yColumns": null
       },
       "removedWidgets": [],
       "schema": [
        {
         "metadata": "{}",
         "name": "deptid",
         "type": "\"long\""
        },
        {
         "metadata": "{}",
         "name": "deptname",
         "type": "\"string\""
        }
       ],
       "type": "table"
      }
     },
     "output_type": "display_data"
    }
   ],
   "source": [
    "#Employees Salary info\n",
    "data1=[(100,\"Raj\",None,1,\"01-04-23\",50000),\n",
    "       (200,\"Joanne\",100,1,\"01-04-23\",4000),(200,\"Joanne\",100,1,\"13-04-23\",4500),(200,\"Joanne\",100,1,\"14-04-23\",4020)]\n",
    "schema1=[\"EmpId\",\"EmpName\",\"Mgrid\",\"deptid\",\"salarydt\",\"salary\"]\n",
    "df_salary=spark.createDataFrame(data1,schema1)\n",
    "display(df_salary)\n",
    "#department dataframe\n",
    "data2=[(1,\"IT\"),\n",
    "       (2,\"HR\")]\n",
    "schema2=[\"deptid\",\"deptname\"]\n",
    "df_dept=spark.createDataFrame(data2,schema2)\n",
    "display(df_dept)"
   ]
  },
  {
   "cell_type": "code",
   "execution_count": 0,
   "metadata": {
    "application/vnd.databricks.v1+cell": {
     "cellMetadata": {
      "byteLimit": 2048000,
      "rowLimit": 10000
     },
     "inputWidgets": {},
     "nuid": "61ecaa5d-f442-495f-891a-6d0161bdd645",
     "showTitle": false,
     "tableResultSettingsMap": {},
     "title": ""
    }
   },
   "outputs": [
    {
     "output_type": "stream",
     "name": "stdout",
     "output_type": "stream",
     "text": [
      "+-----+-------+-----+------+--------+------+--------+\n|EmpId|EmpName|Mgrid|deptid|salarydt|salary|deptname|\n+-----+-------+-----+------+--------+------+--------+\n|  100|    Raj| null|     1|01-04-23| 50000|      IT|\n|  200| Joanne|  100|     1|01-04-23|  4000|      IT|\n|  200| Joanne|  100|     1|13-04-23|  4500|      IT|\n|  200| Joanne|  100|     1|14-04-23|  4020|      IT|\n+-----+-------+-----+------+--------+------+--------+\n\n"
     ]
    }
   ],
   "source": [
    "emp_join=df_salary.join(df_dept,df_salary.deptid==df_dept.deptid,'inner').drop(df_dept.deptid)\n",
    "emp_join.show()"
   ]
  },
  {
   "cell_type": "code",
   "execution_count": 0,
   "metadata": {
    "application/vnd.databricks.v1+cell": {
     "cellMetadata": {
      "byteLimit": 2048000,
      "rowLimit": 10000
     },
     "inputWidgets": {},
     "nuid": "95d95204-b823-4e70-8897-f113cba3df9e",
     "showTitle": false,
     "tableResultSettingsMap": {},
     "title": ""
    }
   },
   "outputs": [
    {
     "output_type": "stream",
     "name": "stdout",
     "output_type": "stream",
     "text": [
      "+--------+-----------+-------+--------+------+\n|deptname|ManagerName|EmpName|salarydt|salary|\n+--------+-----------+-------+--------+------+\n|      IT|       null|    Raj|01-04-23| 50000|\n|      IT|        Raj| Joanne|01-04-23|  4000|\n|      IT|        Raj| Joanne|13-04-23|  4500|\n|      IT|        Raj| Joanne|14-04-23|  4020|\n+--------+-----------+-------+--------+------+\n\n"
     ]
    }
   ],
   "source": [
    "df_mngr=emp_join.alias('a').join(emp_join.alias('b'),col('a.Mgrid')==col('b.EmpId'),'left')\\\n",
    "    .select(   col('a.deptname'),\n",
    "    col('b.EmpName').alias('ManagerName'),\n",
    "    col('a.EmpName'),\n",
    "    col('a.salarydt'),\n",
    "    col('a.salary'))\n",
    "\n",
    "df_mngr.show()    "
   ]
  },
  {
   "cell_type": "code",
   "execution_count": 0,
   "metadata": {
    "application/vnd.databricks.v1+cell": {
     "cellMetadata": {
      "byteLimit": 2048000,
      "rowLimit": 10000
     },
     "inputWidgets": {},
     "nuid": "b7539c81-2862-4403-8943-d8a7364495ad",
     "showTitle": false,
     "tableResultSettingsMap": {},
     "title": ""
    }
   },
   "outputs": [
    {
     "output_type": "stream",
     "name": "stdout",
     "output_type": "stream",
     "text": [
      "+--------+-----------+-------+------+------------+-----------+\n|deptname|ManagerName|EmpName|salary|salary_month|salary_year|\n+--------+-----------+-------+------+------------+-----------+\n|      IT|       null|    Raj| 50000|           4|       2023|\n|      IT|        Raj| Joanne|  4000|           4|       2023|\n|      IT|        Raj| Joanne|  4500|           4|       2023|\n|      IT|        Raj| Joanne|  4020|           4|       2023|\n+--------+-----------+-------+------+------------+-----------+\n\n"
     ]
    }
   ],
   "source": [
    "from pyspark.sql.functions import to_date,month,year\n",
    "\n",
    "df_mngr1=df_mngr.withColumn('newsalarydate',to_date(col('salarydt'),'dd-MM-yy')).drop('salarydt')\n",
    "df_mngr2=(\n",
    "    df_mngr1.withColumn('salary_month',month(col('newsalarydate')))\n",
    "    .withColumn('salary_year',year(col('newsalarydate')))\n",
    "    .drop('newsalarydate')\n",
    ")\n",
    "df_mngr2.show()"
   ]
  },
  {
   "cell_type": "markdown",
   "metadata": {
    "application/vnd.databricks.v1+cell": {
     "cellMetadata": {},
     "inputWidgets": {},
     "nuid": "e395302e-f28f-486f-ae0f-650ed04e62a6",
     "showTitle": false,
     "tableResultSettingsMap": {},
     "title": ""
    }
   },
   "source": [
    "**Nested json question**"
   ]
  },
  {
   "cell_type": "code",
   "execution_count": 0,
   "metadata": {
    "application/vnd.databricks.v1+cell": {
     "cellMetadata": {
      "byteLimit": 2048000,
      "rowLimit": 10000
     },
     "inputWidgets": {},
     "nuid": "8a0a9bca-6a57-4b00-b46a-51e20b3baf69",
     "showTitle": false,
     "tableResultSettingsMap": {},
     "title": ""
    }
   },
   "outputs": [],
   "source": [
    "json_str=\"\"\" \n",
    "{\n",
    " \"Institute_Name\" : \"ABC_Coaching_Center\",\n",
    " \"Course_type\" : \"Best_seller\" ,\n",
    " \"branches\" : [\n",
    "  {\n",
    "   \"State\" : \"Maharashtra\",\n",
    "   \"City\" : \"Mumbai\",\n",
    "   \"address\" : \"XYZ\"\n",
    "  },\n",
    "  {\n",
    "   \"State\" : \"Gujrat\",\n",
    "   \"City\" : \"Surat\",\n",
    "   \"address\" : \"PQRX\"\n",
    "  }\n",
    " ],\n",
    " \"Head_Office_Contact\" : 8787878787\n",
    "}\n",
    "\"\"\""
   ]
  },
  {
   "cell_type": "code",
   "execution_count": 0,
   "metadata": {
    "application/vnd.databricks.v1+cell": {
     "cellMetadata": {
      "byteLimit": 2048000,
      "rowLimit": 10000
     },
     "inputWidgets": {},
     "nuid": "6a6511d8-abc5-43f6-bf16-ee6cea08c28c",
     "showTitle": false,
     "tableResultSettingsMap": {},
     "title": ""
    }
   },
   "outputs": [
    {
     "output_type": "stream",
     "name": "stdout",
     "output_type": "stream",
     "text": [
      "root\n |-- address: struct (nullable = true)\n |    |-- city: string (nullable = true)\n |    |-- state: string (nullable = true)\n |-- id: long (nullable = true)\n |-- name: string (nullable = true)\n |-- phone_numbers: array (nullable = true)\n |    |-- element: struct (containsNull = true)\n |    |    |-- number: string (nullable = true)\n |    |    |-- type: string (nullable = true)\n\n+-------------------+---+----+--------------------------------------------+\n|address            |id |name|phone_numbers                               |\n+-------------------+---+----+--------------------------------------------+\n|{New York, NY}     |1  |John|[{123-456-7890, home}, {987-654-3210, work}]|\n|{San Francisco, CA}|2  |Jane|[{555-1234, mobile}, {777-4321, work}]      |\n+-------------------+---+----+--------------------------------------------+\n\n"
     ]
    }
   ],
   "source": [
    "from pyspark.sql.functions import *\n",
    "from pyspark.sql.types import MapType,StructType,StructField,StringType,IntegerType,ArrayType,DecimalType\n",
    "\n",
    "schema1=(\n",
    "    StructType([\n",
    "    StructField('name',StringType()),\n",
    "    StructField('id',IntegerType()),\n",
    "    StructField('address', StructType([\n",
    "         StructField('city', StringType(), True),\n",
    "         StructField('state', StringType(), True)\n",
    "         ])),\n",
    "     StructField('phone_numbers', ArrayType(\n",
    "        StructType([\n",
    "         StructField('number', StringType(), True),\n",
    "         StructField('type', StringType(), True)\n",
    "         ])\n",
    "     ))\n",
    "    ])\n",
    ")\n",
    "\n",
    "df_json=(\n",
    "    spark.read.format('json')\n",
    "    .option('multiLine',True)\n",
    "    .option(\"header\",True) \n",
    "    .option(\"schema\",schema1)\n",
    "    .load('dbfs:/FileStore/tables/nested_json.txt')\n",
    "\n",
    ")\n",
    "df_json.printSchema()\n",
    "df_json.show(truncate=False)"
   ]
  },
  {
   "cell_type": "markdown",
   "metadata": {
    "application/vnd.databricks.v1+cell": {
     "cellMetadata": {},
     "inputWidgets": {},
     "nuid": "6289d61a-8a07-4146-a120-78351ce9a3dc",
     "showTitle": false,
     "tableResultSettingsMap": {},
     "title": ""
    }
   },
   "source": [
    "**Flight question**"
   ]
  },
  {
   "cell_type": "code",
   "execution_count": 0,
   "metadata": {
    "application/vnd.databricks.v1+cell": {
     "cellMetadata": {
      "byteLimit": 2048000,
      "rowLimit": 10000
     },
     "inputWidgets": {},
     "nuid": "9ea08f86-00f3-40ab-964c-0164c176d614",
     "showTitle": false,
     "tableResultSettingsMap": {},
     "title": ""
    }
   },
   "outputs": [
    {
     "output_type": "stream",
     "name": "stdout",
     "output_type": "stream",
     "text": [
      "+-------+---------+---------+-----------+\n|cust_id|flight_id|   origin|destination|\n+-------+---------+---------+-----------+\n|      1|  Flight1|    Delhi|  Hyderabad|\n|      1|  Flight2|Hyderabad|      Kochi|\n|      1|  Flight3|    Kochi|  Mangalore|\n|      2|  Flight1|   Mumbai|    Ayodhya|\n|      2|  Flight2|  Ayodhya|  Gorakhpur|\n+-------+---------+---------+-----------+\n\n"
     ]
    }
   ],
   "source": [
    "flights_data = [(1,'Flight1' , 'Delhi' , 'Hyderabad'),\n",
    "                (1,'Flight2' , 'Hyderabad' , 'Kochi'),\n",
    "                (1,'Flight3' , 'Kochi' , 'Mangalore'),\n",
    "                (2,'Flight1' , 'Mumbai' , 'Ayodhya'),\n",
    "                (2,'Flight2' , 'Ayodhya' , 'Gorakhpur')\n",
    "                ]\n",
    "\n",
    "_schema = \"cust_id int, flight_id string , origin string , destination string\"\n",
    "\n",
    "df_flight = spark.createDataFrame(data = flights_data , schema= _schema)\n",
    "df_flight.show()"
   ]
  },
  {
   "cell_type": "code",
   "execution_count": 0,
   "metadata": {
    "application/vnd.databricks.v1+cell": {
     "cellMetadata": {
      "byteLimit": 2048000,
      "rowLimit": 10000
     },
     "inputWidgets": {},
     "nuid": "fe9170ad-429f-425a-8951-13505c03e81b",
     "showTitle": false,
     "tableResultSettingsMap": {},
     "title": ""
    }
   },
   "outputs": [],
   "source": [
    "from pyspark.sql.window import Window\n",
    "\n",
    "windowspec=Window.partitionBy('cust_id').orderBy('flight_id')\n",
    "\n",
    "df_flights=df_flight.withColumn('rnk',rank().over(windowspec))"
   ]
  },
  {
   "cell_type": "code",
   "execution_count": 0,
   "metadata": {
    "application/vnd.databricks.v1+cell": {
     "cellMetadata": {
      "byteLimit": 2048000,
      "rowLimit": 10000
     },
     "inputWidgets": {},
     "nuid": "c74d3ce4-047a-4dfd-b2b0-e9a802f3e555",
     "showTitle": false,
     "tableResultSettingsMap": {},
     "title": ""
    }
   },
   "outputs": [
    {
     "output_type": "display_data",
     "data": {
      "text/html": [
       "<style scoped>\n",
       "  .table-result-container {\n",
       "    max-height: 300px;\n",
       "    overflow: auto;\n",
       "  }\n",
       "  table, th, td {\n",
       "    border: 1px solid black;\n",
       "    border-collapse: collapse;\n",
       "  }\n",
       "  th, td {\n",
       "    padding: 5px;\n",
       "  }\n",
       "  th {\n",
       "    text-align: left;\n",
       "  }\n",
       "</style><div class='table-result-container'><table class='table-result'><thead style='background-color: white'><tr><th>cust_id</th><th>flight_id</th><th>origin</th><th>destination</th><th>rnk</th></tr></thead><tbody><tr><td>1</td><td>Flight1</td><td>Delhi</td><td>Hyderabad</td><td>1</td></tr><tr><td>1</td><td>Flight2</td><td>Hyderabad</td><td>Kochi</td><td>2</td></tr><tr><td>1</td><td>Flight3</td><td>Kochi</td><td>Mangalore</td><td>3</td></tr><tr><td>2</td><td>Flight1</td><td>Mumbai</td><td>Ayodhya</td><td>1</td></tr><tr><td>2</td><td>Flight2</td><td>Ayodhya</td><td>Gorakhpur</td><td>2</td></tr></tbody></table></div>"
      ]
     },
     "metadata": {
      "application/vnd.databricks.v1+output": {
       "addedWidgets": {},
       "aggData": [],
       "aggError": "",
       "aggOverflow": false,
       "aggSchema": [],
       "aggSeriesLimitReached": false,
       "aggType": "",
       "arguments": {},
       "columnCustomDisplayInfos": {},
       "data": [
        [
         1,
         "Flight1",
         "Delhi",
         "Hyderabad",
         1
        ],
        [
         1,
         "Flight2",
         "Hyderabad",
         "Kochi",
         2
        ],
        [
         1,
         "Flight3",
         "Kochi",
         "Mangalore",
         3
        ],
        [
         2,
         "Flight1",
         "Mumbai",
         "Ayodhya",
         1
        ],
        [
         2,
         "Flight2",
         "Ayodhya",
         "Gorakhpur",
         2
        ]
       ],
       "datasetInfos": [],
       "dbfsResultPath": null,
       "isJsonSchema": true,
       "metadata": {},
       "overflow": false,
       "plotOptions": {
        "customPlotOptions": {},
        "displayType": "table",
        "pivotAggregation": null,
        "pivotColumns": null,
        "xColumns": null,
        "yColumns": null
       },
       "removedWidgets": [],
       "schema": [
        {
         "metadata": "{}",
         "name": "cust_id",
         "type": "\"integer\""
        },
        {
         "metadata": "{}",
         "name": "flight_id",
         "type": "\"string\""
        },
        {
         "metadata": "{}",
         "name": "origin",
         "type": "\"string\""
        },
        {
         "metadata": "{}",
         "name": "destination",
         "type": "\"string\""
        },
        {
         "metadata": "{}",
         "name": "rnk",
         "type": "\"integer\""
        }
       ],
       "type": "table"
      }
     },
     "output_type": "display_data"
    }
   ],
   "source": [
    "display(df_flights)"
   ]
  },
  {
   "cell_type": "code",
   "execution_count": 0,
   "metadata": {
    "application/vnd.databricks.v1+cell": {
     "cellMetadata": {
      "byteLimit": 2048000,
      "rowLimit": 10000
     },
     "inputWidgets": {},
     "nuid": "8c3cd492-ecff-4387-bdd7-ef6d846740c3",
     "showTitle": false,
     "tableResultSettingsMap": {},
     "title": ""
    }
   },
   "outputs": [
    {
     "output_type": "stream",
     "name": "stdout",
     "output_type": "stream",
     "text": [
      "+-------+-----+---+\n|cust_id|start|end|\n+-------+-----+---+\n|      1|    1|  3|\n|      2|    1|  2|\n+-------+-----+---+\n\n"
     ]
    }
   ],
   "source": [
    "\n",
    "\n",
    "df_flights1=df_flights.groupBy('cust_id').agg(min('rnk').alias('start'),\n",
    "                                              max('rnk').alias('end'))\n",
    "\n",
    "df_flights1.show()                                              \n"
   ]
  },
  {
   "cell_type": "code",
   "execution_count": 0,
   "metadata": {
    "application/vnd.databricks.v1+cell": {
     "cellMetadata": {
      "byteLimit": 2048000,
      "rowLimit": 10000
     },
     "inputWidgets": {},
     "nuid": "11900b70-0374-4423-8c27-e026878ad9e1",
     "showTitle": false,
     "tableResultSettingsMap": {},
     "title": ""
    }
   },
   "outputs": [
    {
     "output_type": "stream",
     "name": "stdout",
     "output_type": "stream",
     "text": [
      "+-------+---------+---------+-----------+---+\n|cust_id|flight_id|   origin|destination|rnk|\n+-------+---------+---------+-----------+---+\n|      1|  Flight1|    Delhi|  Hyderabad|  1|\n|      1|  Flight2|Hyderabad|      Kochi|  2|\n|      1|  Flight3|    Kochi|  Mangalore|  3|\n+-------+---------+---------+-----------+---+\nonly showing top 3 rows\n\n"
     ]
    }
   ],
   "source": [
    "df_flights.show(3)"
   ]
  },
  {
   "cell_type": "code",
   "execution_count": 0,
   "metadata": {
    "application/vnd.databricks.v1+cell": {
     "cellMetadata": {
      "byteLimit": 2048000,
      "rowLimit": 10000
     },
     "inputWidgets": {},
     "nuid": "1b9cddd4-2b1f-4411-98c8-317005e09a68",
     "showTitle": false,
     "tableResultSettingsMap": {},
     "title": ""
    }
   },
   "outputs": [
    {
     "output_type": "stream",
     "name": "stdout",
     "output_type": "stream",
     "text": [
      "+-------+-----+---+---------+---------+-----------+---+\n|cust_id|start|end|flight_id|   origin|destination|rnk|\n+-------+-----+---+---------+---------+-----------+---+\n|      1|    1|  3|  Flight1|    Delhi|  Hyderabad|  1|\n|      1|    1|  3|  Flight2|Hyderabad|      Kochi|  2|\n|      1|    1|  3|  Flight3|    Kochi|  Mangalore|  3|\n|      2|    1|  2|  Flight1|   Mumbai|    Ayodhya|  1|\n|      2|    1|  2|  Flight2|  Ayodhya|  Gorakhpur|  2|\n+-------+-----+---+---------+---------+-----------+---+\n\n"
     ]
    }
   ],
   "source": [
    "df_flights2=(\n",
    "    df_flights1.alias('a').join(df_flights.alias('b'),col('a.cust_id')==col('b.cust_id'),'inner')\n",
    "\n",
    ").drop(col('b.cust_id'))\n",
    "df_flights2.show()\n"
   ]
  },
  {
   "cell_type": "code",
   "execution_count": 0,
   "metadata": {
    "application/vnd.databricks.v1+cell": {
     "cellMetadata": {
      "byteLimit": 2048000,
      "rowLimit": 10000
     },
     "inputWidgets": {},
     "nuid": "5cbb4c3a-eaff-4737-b635-9c69d9de4d22",
     "showTitle": false,
     "tableResultSettingsMap": {},
     "title": ""
    }
   },
   "outputs": [
    {
     "output_type": "stream",
     "name": "stdout",
     "output_type": "stream",
     "text": [
      "+-------+------+-----------+\n|cust_id|origin|destination|\n+-------+------+-----------+\n|      1| Delhi|  Mangalore|\n|      2|Mumbai|  Gorakhpur|\n+-------+------+-----------+\n\n"
     ]
    }
   ],
   "source": [
    "df_final=(df_flights2.groupBy('cust_id').agg(\n",
    "    max(when(col('start')==col('rnk'),col('origin'))).alias('origin'),\n",
    "     max(when(col('end')==col('rnk'),col('destination'))).alias('destination')\n",
    ")\n",
    ")\n",
    "df_final.show()"
   ]
  },
  {
   "cell_type": "markdown",
   "metadata": {
    "application/vnd.databricks.v1+cell": {
     "cellMetadata": {},
     "inputWidgets": {},
     "nuid": "c03af55f-bfae-4d17-beb2-92a55e78d5a4",
     "showTitle": false,
     "tableResultSettingsMap": {},
     "title": ""
    }
   },
   "source": [
    "**Matching records**"
   ]
  },
  {
   "cell_type": "code",
   "execution_count": 0,
   "metadata": {
    "application/vnd.databricks.v1+cell": {
     "cellMetadata": {
      "byteLimit": 2048000,
      "rowLimit": 10000
     },
     "inputWidgets": {},
     "nuid": "340a91e7-5199-4706-9641-3646e369a2bc",
     "showTitle": false,
     "tableResultSettingsMap": {},
     "title": ""
    }
   },
   "outputs": [],
   "source": [
    "source_data = [(1, 'A'), (2, 'B'), (3, 'C'), (4, 'D')]\n",
    "source_columns = ['id','name']\n",
    "target_data = [(1, 'A'), (2, 'B'), (4, 'X'), (5, 'F')]\n",
    "target_columns = ['id','name']\n",
    "\n",
    "source_df = spark.createDataFrame(data=source_data, schema=source_columns)\n",
    "target_df = spark.createDataFrame(data=target_data, schema=target_columns)"
   ]
  },
  {
   "cell_type": "code",
   "execution_count": 0,
   "metadata": {
    "application/vnd.databricks.v1+cell": {
     "cellMetadata": {
      "byteLimit": 2048000,
      "rowLimit": 10000
     },
     "inputWidgets": {},
     "nuid": "e1f63f5a-36f1-45cb-9e41-24b90ed88e7c",
     "showTitle": false,
     "tableResultSettingsMap": {},
     "title": ""
    }
   },
   "outputs": [
    {
     "output_type": "stream",
     "name": "stdout",
     "output_type": "stream",
     "text": [
      "+---+----+\n| id|name|\n+---+----+\n|  1|   A|\n|  2|   B|\n|  3|   C|\n|  4|   D|\n+---+----+\n\n+---+----+\n| id|name|\n+---+----+\n|  1|   A|\n|  2|   B|\n|  4|   X|\n|  5|   F|\n+---+----+\n\n"
     ]
    }
   ],
   "source": [
    "source_df.show()\n",
    "target_df.show()\n"
   ]
  },
  {
   "cell_type": "code",
   "execution_count": 0,
   "metadata": {
    "application/vnd.databricks.v1+cell": {
     "cellMetadata": {
      "byteLimit": 2048000,
      "rowLimit": 10000
     },
     "inputWidgets": {},
     "nuid": "f9acd895-5511-4474-8096-2072540e5904",
     "showTitle": false,
     "tableResultSettingsMap": {},
     "title": ""
    }
   },
   "outputs": [
    {
     "output_type": "stream",
     "name": "stdout",
     "output_type": "stream",
     "text": [
      "+---------+-----------+---------+-----------+\n|source_id|source_name|target_id|target_name|\n+---------+-----------+---------+-----------+\n|        1|          A|        1|          A|\n|        2|          B|        2|          B|\n|        3|          C|     null|       null|\n|        4|          D|        4|          X|\n|     null|       null|        5|          F|\n+---------+-----------+---------+-----------+\n\n"
     ]
    }
   ],
   "source": [
    "df_full=(\n",
    "    source_df.alias('s').join(target_df.alias('t'),col('s.id')==col('t.id'),'outer')\n",
    "            .select(col('s.id').alias('source_id'),col('s.name').alias('source_name'),col('t.id').alias('target_id'),\n",
    "                    col('t.name').alias('target_name'))\n",
    ")\n",
    "df_full.show()"
   ]
  },
  {
   "cell_type": "code",
   "execution_count": 0,
   "metadata": {
    "application/vnd.databricks.v1+cell": {
     "cellMetadata": {
      "byteLimit": 2048000,
      "rowLimit": 10000
     },
     "inputWidgets": {},
     "nuid": "7fde8bcc-eeaf-4f17-bca2-86edad933fa6",
     "showTitle": false,
     "tableResultSettingsMap": {},
     "title": ""
    }
   },
   "outputs": [
    {
     "output_type": "stream",
     "name": "stdout",
     "output_type": "stream",
     "text": [
      "+---------+-----------+---------+-----------+\n|source_id|source_name|target_id|target_name|\n+---------+-----------+---------+-----------+\n|        1|          A|        1|          A|\n|        2|          B|        2|          B|\n|        3|          C|     null|       null|\n|        4|          D|        4|          X|\n|     null|       null|        5|          F|\n+---------+-----------+---------+-----------+\n\n"
     ]
    }
   ],
   "source": [
    "#df_full=df_full.selectExpr('*').filter(\"source_name <> target_name\")\n",
    "df_full.show()"
   ]
  },
  {
   "cell_type": "code",
   "execution_count": 0,
   "metadata": {
    "application/vnd.databricks.v1+cell": {
     "cellMetadata": {
      "byteLimit": 2048000,
      "rowLimit": 10000
     },
     "inputWidgets": {},
     "nuid": "5ec3e20c-9633-49f8-8a50-6637c9c58cbc",
     "showTitle": false,
     "tableResultSettingsMap": {},
     "title": ""
    }
   },
   "outputs": [
    {
     "output_type": "display_data",
     "data": {
      "text/html": [
       "<style scoped>\n",
       "  .table-result-container {\n",
       "    max-height: 300px;\n",
       "    overflow: auto;\n",
       "  }\n",
       "  table, th, td {\n",
       "    border: 1px solid black;\n",
       "    border-collapse: collapse;\n",
       "  }\n",
       "  th, td {\n",
       "    padding: 5px;\n",
       "  }\n",
       "  th {\n",
       "    text-align: left;\n",
       "  }\n",
       "</style><div class='table-result-container'><table class='table-result'><thead style='background-color: white'><tr><th>source_id</th><th>source_name</th><th>target_id</th><th>target_name</th><th>comment</th></tr></thead><tbody><tr><td>1</td><td>A</td><td>1</td><td>A</td><td>null</td></tr><tr><td>2</td><td>B</td><td>2</td><td>B</td><td>null</td></tr><tr><td>3</td><td>C</td><td>null</td><td>null</td><td>New in target</td></tr><tr><td>4</td><td>D</td><td>4</td><td>X</td><td>Mismatched</td></tr><tr><td>null</td><td>null</td><td>5</td><td>F</td><td>New in source</td></tr></tbody></table></div>"
      ]
     },
     "metadata": {
      "application/vnd.databricks.v1+output": {
       "addedWidgets": {},
       "aggData": [],
       "aggError": "",
       "aggOverflow": false,
       "aggSchema": [],
       "aggSeriesLimitReached": false,
       "aggType": "",
       "arguments": {},
       "columnCustomDisplayInfos": {},
       "data": [
        [
         1,
         "A",
         1,
         "A",
         null
        ],
        [
         2,
         "B",
         2,
         "B",
         null
        ],
        [
         3,
         "C",
         null,
         null,
         "New in target"
        ],
        [
         4,
         "D",
         4,
         "X",
         "Mismatched"
        ],
        [
         null,
         null,
         5,
         "F",
         "New in source"
        ]
       ],
       "datasetInfos": [],
       "dbfsResultPath": null,
       "isJsonSchema": true,
       "metadata": {},
       "overflow": false,
       "plotOptions": {
        "customPlotOptions": {},
        "displayType": "table",
        "pivotAggregation": null,
        "pivotColumns": null,
        "xColumns": null,
        "yColumns": null
       },
       "removedWidgets": [],
       "schema": [
        {
         "metadata": "{}",
         "name": "source_id",
         "type": "\"long\""
        },
        {
         "metadata": "{}",
         "name": "source_name",
         "type": "\"string\""
        },
        {
         "metadata": "{}",
         "name": "target_id",
         "type": "\"long\""
        },
        {
         "metadata": "{}",
         "name": "target_name",
         "type": "\"string\""
        },
        {
         "metadata": "{}",
         "name": "comment",
         "type": "\"string\""
        }
       ],
       "type": "table"
      }
     },
     "output_type": "display_data"
    }
   ],
   "source": [
    "display(df_full.withColumn('comment',when((col('source_id')==col('target_id')) & (col('source_name')!=col('target_name')),lit('Mismatched'))\n",
    "                                    .when(col('target_id').isNull(),lit('New in target'))\n",
    "                                    .when(col('source_id').isNull(),lit('New in source'))\n",
    "                           ))"
   ]
  },
  {
   "cell_type": "markdown",
   "metadata": {
    "application/vnd.databricks.v1+cell": {
     "cellMetadata": {},
     "inputWidgets": {},
     "nuid": "0f1f4f2b-b2ea-42ae-8d72-3f9a5adbd9bc",
     "showTitle": false,
     "tableResultSettingsMap": {},
     "title": ""
    }
   },
   "source": [
    "**Product by increasing sales each year**"
   ]
  },
  {
   "cell_type": "code",
   "execution_count": 0,
   "metadata": {
    "application/vnd.databricks.v1+cell": {
     "cellMetadata": {
      "byteLimit": 2048000,
      "rowLimit": 10000
     },
     "inputWidgets": {},
     "nuid": "2dfe37ac-e24f-4ce3-82b8-20f4716017c2",
     "showTitle": false,
     "tableResultSettingsMap": {},
     "title": ""
    }
   },
   "outputs": [
    {
     "output_type": "stream",
     "name": "stdout",
     "output_type": "stream",
     "text": [
      "+----------+----+-------------------+\n|product_id|year|total_sales_revenue|\n+----------+----+-------------------+\n|         1|2019|             1000.0|\n|         1|2020|             1200.0|\n|         1|2021|             1100.0|\n|         2|2019|              500.0|\n|         2|2020|              600.0|\n|         2|2021|              900.0|\n|         3|2019|              300.0|\n|         3|2020|              450.0|\n|         3|2021|              400.0|\n+----------+----+-------------------+\n\n"
     ]
    }
   ],
   "source": [
    "sales_data = [\n",
    " (1, 2019, 1000.00),\n",
    " (1, 2020, 1200.00),\n",
    " (1, 2021, 1100.00),\n",
    " (2, 2019, 500.00),\n",
    " (2, 2020, 600.00),\n",
    " (2, 2021, 900.00),\n",
    " (3, 2019, 300.00),\n",
    " (3, 2020, 450.00),\n",
    " (3, 2021, 400.00)\n",
    " ]\n",
    "\n",
    "sales_schema = ['product_id', 'year', 'total_sales_revenue']\n",
    "\n",
    "sales_df = spark.createDataFrame(data = sales_data , schema = sales_schema)\n",
    "sales_df.show()"
   ]
  },
  {
   "cell_type": "code",
   "execution_count": 0,
   "metadata": {
    "application/vnd.databricks.v1+cell": {
     "cellMetadata": {
      "byteLimit": 2048000,
      "rowLimit": 10000
     },
     "inputWidgets": {},
     "nuid": "75b1ae49-15d8-46a7-8d09-47f71b2d4247",
     "showTitle": false,
     "tableResultSettingsMap": {},
     "title": ""
    }
   },
   "outputs": [
    {
     "output_type": "stream",
     "name": "stdout",
     "output_type": "stream",
     "text": [
      "+----------+----+-------------------+------------+\n|product_id|year|total_sales_revenue|next_yr_sale|\n+----------+----+-------------------+------------+\n|         1|2019|             1000.0|      1200.0|\n|         1|2020|             1200.0|      1100.0|\n|         1|2021|             1100.0|         0.0|\n|         2|2019|              500.0|       600.0|\n|         2|2020|              600.0|       900.0|\n|         2|2021|              900.0|         0.0|\n|         3|2019|              300.0|       450.0|\n|         3|2020|              450.0|       400.0|\n|         3|2021|              400.0|         0.0|\n+----------+----+-------------------+------------+\n\n"
     ]
    }
   ],
   "source": [
    "df_prod=(\n",
    "    sales_df\n",
    "    .withColumn('next_yr_sale',lead('total_sales_revenue',1,0).over(Window.partitionBy('product_id').orderBy('year')))\n",
    ")\n",
    "\n",
    "df_prod.show()"
   ]
  },
  {
   "cell_type": "code",
   "execution_count": 0,
   "metadata": {
    "application/vnd.databricks.v1+cell": {
     "cellMetadata": {
      "byteLimit": 2048000,
      "rowLimit": 10000
     },
     "inputWidgets": {},
     "nuid": "c7f8423e-89d5-4ef7-a2d3-ed299b3d27df",
     "showTitle": false,
     "tableResultSettingsMap": {},
     "title": ""
    }
   },
   "outputs": [
    {
     "output_type": "stream",
     "name": "stdout",
     "output_type": "stream",
     "text": [
      "+----------+----+-------------------+------------+\n|product_id|year|total_sales_revenue|next_yr_sale|\n+----------+----+-------------------+------------+\n|         1|2019|             1000.0|      1200.0|\n|         2|2019|              500.0|       600.0|\n|         2|2020|              600.0|       900.0|\n|         3|2019|              300.0|       450.0|\n+----------+----+-------------------+------------+\n\n"
     ]
    }
   ],
   "source": [
    "df_prod1=df_prod.where('next_yr_sale > total_sales_revenue')\n",
    "df_prod1.show()"
   ]
  },
  {
   "cell_type": "markdown",
   "metadata": {
    "application/vnd.databricks.v1+cell": {
     "cellMetadata": {},
     "inputWidgets": {},
     "nuid": "20c5c7c8-93dc-4507-8efb-c2abe4d789d0",
     "showTitle": false,
     "tableResultSettingsMap": {},
     "title": ""
    }
   },
   "source": [
    "**Swap name with even/odd**"
   ]
  },
  {
   "cell_type": "code",
   "execution_count": 0,
   "metadata": {
    "application/vnd.databricks.v1+cell": {
     "cellMetadata": {
      "byteLimit": 2048000,
      "rowLimit": 10000
     },
     "inputWidgets": {},
     "nuid": "4e9151ae-3ed9-4ed4-8b7b-ca7ce6358258",
     "showTitle": false,
     "tableResultSettingsMap": {},
     "title": ""
    }
   },
   "outputs": [
    {
     "output_type": "stream",
     "name": "stdout",
     "output_type": "stream",
     "text": [
      "+---+-------+\n| id|student|\n+---+-------+\n|  1|  Abbot|\n|  2|  Doris|\n|  3|Emerson|\n|  4|  Green|\n|  5| Jeames|\n+---+-------+\n\n"
     ]
    }
   ],
   "source": [
    "_data = [(1,'Abbot'),(2,'Doris'),(3,'Emerson'),(4,'Green'),(5,'Jeames')]\n",
    "_schema = ['id', 'student']\n",
    "\n",
    "\n",
    "df = spark.createDataFrame(data = _data, schema=_schema)\n",
    "df.show()\n"
   ]
  },
  {
   "cell_type": "code",
   "execution_count": 0,
   "metadata": {
    "application/vnd.databricks.v1+cell": {
     "cellMetadata": {
      "byteLimit": 2048000,
      "rowLimit": 10000
     },
     "inputWidgets": {},
     "nuid": "4bc2654e-cfb9-4c77-ba7a-3c5624750a70",
     "showTitle": false,
     "tableResultSettingsMap": {},
     "title": ""
    }
   },
   "outputs": [
    {
     "output_type": "stream",
     "name": "stdout",
     "output_type": "stream",
     "text": [
      "+---+-------+------------+------------+\n| id|student|next_student|prev_student|\n+---+-------+------------+------------+\n|  1|  Abbot|       Doris|        null|\n|  2|  Doris|     Emerson|       Abbot|\n|  3|Emerson|       Green|       Doris|\n|  4|  Green|      Jeames|     Emerson|\n|  5| Jeames|        null|       Green|\n+---+-------+------------+------------+\n\n"
     ]
    }
   ],
   "source": [
    "#windowprev=Window.\n",
    "\n",
    "df_mid=(\n",
    "    df.withColumn('next_student',lead('student',1).over(Window.orderBy('id')))\n",
    "          .withColumn('prev_student',lag('student',1).over(Window.orderBy('id')))\n",
    ")\n",
    "\n",
    "df_mid.show()"
   ]
  },
  {
   "cell_type": "code",
   "execution_count": 0,
   "metadata": {
    "application/vnd.databricks.v1+cell": {
     "cellMetadata": {
      "byteLimit": 2048000,
      "rowLimit": 10000
     },
     "inputWidgets": {},
     "nuid": "b4d4251e-9f55-4df9-8830-a2b691699c9a",
     "showTitle": false,
     "tableResultSettingsMap": {},
     "title": ""
    }
   },
   "outputs": [
    {
     "output_type": "stream",
     "name": "stdout",
     "output_type": "stream",
     "text": [
      "+---+-----------+\n| id|new_student|\n+---+-----------+\n|  1|      Doris|\n|  2|      Abbot|\n|  3|      Green|\n|  4|    Emerson|\n|  5|     Jeames|\n+---+-----------+\n\n"
     ]
    }
   ],
   "source": [
    "df_final=(\n",
    "    df_mid.withColumn('new_student',when(col('id') % 2==0,col('prev_student'))\n",
    "                                    .when((col('id') % 2!=0) & (col('next_student').isNull()),col('student'))\n",
    "                                    .when(col('id') % 2!=0,col('next_student'))\n",
    "                                                                     \n",
    "                                    \n",
    "                      )\n",
    ")\n",
    "\n",
    "df_final.select('id','new_student').show()"
   ]
  },
  {
   "cell_type": "markdown",
   "metadata": {
    "application/vnd.databricks.v1+cell": {
     "cellMetadata": {},
     "inputWidgets": {},
     "nuid": "2978fba3-114f-46a1-8ed1-6c8a895737bb",
     "showTitle": false,
     "tableResultSettingsMap": {},
     "title": ""
    }
   },
   "source": [
    "**Retrieve information of employees who has loggedin atleast 2 consecutive days**"
   ]
  },
  {
   "cell_type": "code",
   "execution_count": 0,
   "metadata": {
    "application/vnd.databricks.v1+cell": {
     "cellMetadata": {
      "byteLimit": 2048000,
      "rowLimit": 10000
     },
     "inputWidgets": {},
     "nuid": "d0d855f6-c65a-4c98-a288-7e6cb12211dd",
     "showTitle": false,
     "tableResultSettingsMap": {},
     "title": ""
    }
   },
   "outputs": [
    {
     "output_type": "stream",
     "name": "stdout",
     "output_type": "stream",
     "text": [
      "+------+----------+----+\n|emp_id|  log_date|flag|\n+------+----------+----+\n|   101|02-01-2024|   N|\n|   101|03-01-2024|   Y|\n|   101|04-01-2024|   N|\n|   101|07-01-2024|   Y|\n|   102|01-01-2024|   N|\n|   102|02-01-2024|   Y|\n|   102|03-01-2024|   Y|\n|   102|04-01-2024|   N|\n|   102|05-01-2024|   Y|\n|   102|06-01-2024|   Y|\n|   102|07-01-2024|   Y|\n|   103|01-01-2024|   N|\n|   103|04-01-2024|   N|\n|   103|05-01-2024|   Y|\n|   103|06-01-2024|   Y|\n|   103|07-01-2024|   N|\n+------+----------+----+\n\n"
     ]
    }
   ],
   "source": [
    "_data = [(101,'02-01-2024','N'),\n",
    "(101,'03-01-2024','Y'),\n",
    "(101,'04-01-2024','N'),\n",
    "(101,'07-01-2024','Y'),\n",
    "(102,'01-01-2024','N'),\n",
    "(102,'02-01-2024','Y'),\n",
    "(102,'03-01-2024','Y'),\n",
    "(102,'04-01-2024','N'),\n",
    "(102,'05-01-2024','Y'),\n",
    "(102,'06-01-2024','Y'),\n",
    "(102,'07-01-2024','Y'),\n",
    "(103,'01-01-2024','N'),\n",
    "(103,'04-01-2024','N'),\n",
    "(103,'05-01-2024','Y'),\n",
    "(103,'06-01-2024','Y'),\n",
    "(103,'07-01-2024','N')\n",
    "]\n",
    "_schema = [\"emp_id\" , \"log_date\" , \"flag\"]\n",
    "\n",
    "df = spark.createDataFrame(data = _data , schema = _schema)\n",
    "df.show()\n"
   ]
  },
  {
   "cell_type": "code",
   "execution_count": 0,
   "metadata": {
    "application/vnd.databricks.v1+cell": {
     "cellMetadata": {
      "byteLimit": 2048000,
      "rowLimit": 10000
     },
     "inputWidgets": {},
     "nuid": "7f478da3-7663-4411-bfee-01a1cefde33c",
     "showTitle": false,
     "tableResultSettingsMap": {},
     "title": ""
    }
   },
   "outputs": [
    {
     "output_type": "stream",
     "name": "stdout",
     "output_type": "stream",
     "text": [
      "root\n |-- emp_id: long (nullable = true)\n |-- log_date: string (nullable = true)\n |-- flag: string (nullable = true)\n\n"
     ]
    }
   ],
   "source": [
    "df.printSchema()"
   ]
  },
  {
   "cell_type": "code",
   "execution_count": 0,
   "metadata": {
    "application/vnd.databricks.v1+cell": {
     "cellMetadata": {
      "byteLimit": 2048000,
      "rowLimit": 10000
     },
     "inputWidgets": {},
     "nuid": "97016511-4360-4d4d-aae1-80faacdd37a5",
     "showTitle": false,
     "tableResultSettingsMap": {},
     "title": ""
    }
   },
   "outputs": [
    {
     "output_type": "stream",
     "name": "stdout",
     "output_type": "stream",
     "text": [
      "+------+----------+----+\n|emp_id|  log_date|flag|\n+------+----------+----+\n|   101|03-01-2024|   Y|\n|   101|07-01-2024|   Y|\n|   102|02-01-2024|   Y|\n|   102|03-01-2024|   Y|\n|   102|05-01-2024|   Y|\n|   102|06-01-2024|   Y|\n|   102|07-01-2024|   Y|\n|   103|05-01-2024|   Y|\n|   103|06-01-2024|   Y|\n+------+----------+----+\n\n"
     ]
    }
   ],
   "source": [
    "df_filtered=df.filter(\"flag='Y'\")\n",
    "df_filtered.show()"
   ]
  },
  {
   "cell_type": "code",
   "execution_count": 0,
   "metadata": {
    "application/vnd.databricks.v1+cell": {
     "cellMetadata": {
      "byteLimit": 2048000,
      "rowLimit": 10000
     },
     "inputWidgets": {},
     "nuid": "e8cee8b8-65bf-4099-839a-b02fd4001be8",
     "showTitle": false,
     "tableResultSettingsMap": {},
     "title": ""
    }
   },
   "outputs": [
    {
     "output_type": "stream",
     "name": "stdout",
     "output_type": "stream",
     "text": [
      "+------+----------+----+---+\n|emp_id|  log_date|flag|rnk|\n+------+----------+----+---+\n|   101|03-01-2024|   Y|  1|\n|   101|07-01-2024|   Y|  2|\n|   102|02-01-2024|   Y|  1|\n|   102|03-01-2024|   Y|  2|\n|   102|05-01-2024|   Y|  3|\n|   102|06-01-2024|   Y|  4|\n|   102|07-01-2024|   Y|  5|\n|   103|05-01-2024|   Y|  1|\n|   103|06-01-2024|   Y|  2|\n+------+----------+----+---+\n\n"
     ]
    }
   ],
   "source": [
    "df_filtered_rn=(\n",
    "    df_filtered.withColumn('rnk',rank().over(Window.partitionBy('emp_id').orderBy('log_date')))\n",
    ")\n",
    "\n",
    "df_filtered_rn.show()"
   ]
  },
  {
   "cell_type": "code",
   "execution_count": 0,
   "metadata": {
    "application/vnd.databricks.v1+cell": {
     "cellMetadata": {
      "byteLimit": 2048000,
      "rowLimit": 10000
     },
     "inputWidgets": {},
     "nuid": "3227fe15-13d5-469a-8020-7542bdd735c9",
     "showTitle": false,
     "tableResultSettingsMap": {},
     "title": ""
    }
   },
   "outputs": [
    {
     "output_type": "stream",
     "name": "stdout",
     "output_type": "stream",
     "text": [
      "+------+----------+----+---+---+\n|emp_id|  log_date|flag|rnk|day|\n+------+----------+----+---+---+\n|   101|03-01-2024|   Y|  1|  3|\n|   101|07-01-2024|   Y|  2|  7|\n|   102|02-01-2024|   Y|  1|  2|\n|   102|03-01-2024|   Y|  2|  3|\n|   102|05-01-2024|   Y|  3|  5|\n|   102|06-01-2024|   Y|  4|  6|\n|   102|07-01-2024|   Y|  5|  7|\n|   103|05-01-2024|   Y|  1|  5|\n|   103|06-01-2024|   Y|  2|  6|\n+------+----------+----+---+---+\n\n"
     ]
    }
   ],
   "source": [
    "from pyspark.sql.functions import to_date,dayofmonth\n",
    "\n",
    "_df_day=df_filtered_rn.withColumn('day',dayofmonth(to_date('log_date','dd-mm-yyyy')))\n",
    "\n",
    "_df_day.show()"
   ]
  },
  {
   "cell_type": "code",
   "execution_count": 0,
   "metadata": {
    "application/vnd.databricks.v1+cell": {
     "cellMetadata": {
      "byteLimit": 2048000,
      "rowLimit": 10000
     },
     "inputWidgets": {},
     "nuid": "7861c844-ecd5-4e79-8609-d94204dcf6ab",
     "showTitle": false,
     "tableResultSettingsMap": {},
     "title": ""
    }
   },
   "outputs": [
    {
     "output_type": "stream",
     "name": "stdout",
     "output_type": "stream",
     "text": [
      "+------+----------+----+---+---+-----+\n|emp_id|  log_date|flag|rnk|day|group|\n+------+----------+----+---+---+-----+\n|   101|03-01-2024|   Y|  1|  3|    2|\n|   101|07-01-2024|   Y|  2|  7|    5|\n|   102|02-01-2024|   Y|  1|  2|    1|\n|   102|03-01-2024|   Y|  2|  3|    1|\n|   102|05-01-2024|   Y|  3|  5|    2|\n|   102|06-01-2024|   Y|  4|  6|    2|\n|   102|07-01-2024|   Y|  5|  7|    2|\n|   103|05-01-2024|   Y|  1|  5|    4|\n|   103|06-01-2024|   Y|  2|  6|    4|\n+------+----------+----+---+---+-----+\n\n"
     ]
    }
   ],
   "source": [
    "_df_day1=_df_day.withColumn('group',col('day')-col('rnk'))\n",
    "_df_day1.show()"
   ]
  },
  {
   "cell_type": "code",
   "execution_count": 0,
   "metadata": {
    "application/vnd.databricks.v1+cell": {
     "cellMetadata": {
      "byteLimit": 2048000,
      "rowLimit": 10000
     },
     "inputWidgets": {},
     "nuid": "ae82a93d-7a20-472b-8b7c-adabb8673788",
     "showTitle": false,
     "tableResultSettingsMap": {},
     "title": ""
    }
   },
   "outputs": [
    {
     "output_type": "stream",
     "name": "stdout",
     "output_type": "stream",
     "text": [
      "+------+-----+-----+\n|emp_id|group|count|\n+------+-----+-----+\n|   102|    1|    2|\n|   102|    2|    3|\n|   103|    4|    2|\n+------+-----+-----+\n\n"
     ]
    }
   ],
   "source": [
    "_df_day2=_df_day1.groupBy('emp_id','group').agg(count('*').alias('count')).filter(\"count>=2\")\n",
    "\n",
    "_df_day2.show()"
   ]
  },
  {
   "cell_type": "code",
   "execution_count": 0,
   "metadata": {
    "application/vnd.databricks.v1+cell": {
     "cellMetadata": {},
     "inputWidgets": {},
     "nuid": "9c878c01-d648-4e09-87c2-44d040395c89",
     "showTitle": false,
     "tableResultSettingsMap": {},
     "title": ""
    }
   },
   "outputs": [],
   "source": []
  }
 ],
 "metadata": {
  "application/vnd.databricks.v1+notebook": {
   "computePreferences": null,
   "dashboards": [],
   "environmentMetadata": {
    "base_environment": "",
    "environment_version": "1"
   },
   "inputWidgetPreferences": null,
   "language": "python",
   "notebookMetadata": {
    "pythonIndentUnit": 4
   },
   "notebookName": "Interview_Questions 12_01_2025",
   "widgets": {}
  }
 },
 "nbformat": 4,
 "nbformat_minor": 0
}