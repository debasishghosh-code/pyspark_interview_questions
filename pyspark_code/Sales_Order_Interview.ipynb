{
 "cells": [
  {
   "cell_type": "code",
   "execution_count": 0,
   "metadata": {
    "application/vnd.databricks.v1+cell": {
     "cellMetadata": {
      "byteLimit": 2048000,
      "rowLimit": 10000
     },
     "inputWidgets": {},
     "nuid": "bf8f867a-c3ac-4fec-a5db-4be05809f5a1",
     "showTitle": false,
     "tableResultSettingsMap": {},
     "title": ""
    }
   },
   "outputs": [
    {
     "output_type": "stream",
     "name": "stdout",
     "output_type": "stream",
     "text": [
      "Out[1]: True"
     ]
    }
   ],
   "source": [
    "dbutils.fs.mkdirs('dbfs:/FileStore/Salesdata')"
   ]
  },
  {
   "cell_type": "code",
   "execution_count": 0,
   "metadata": {
    "application/vnd.databricks.v1+cell": {
     "cellMetadata": {
      "byteLimit": 2048000,
      "rowLimit": 10000
     },
     "inputWidgets": {},
     "nuid": "41df3b70-38a3-40ad-9608-b9c30b5de3fa",
     "showTitle": false,
     "tableResultSettingsMap": {},
     "title": ""
    }
   },
   "outputs": [],
   "source": [
    "from pyspark.sql.functions import *\n",
    "from pyspark.sql.types import MapType,StructType,StructField,StringType,IntegerType,ArrayType,DecimalType"
   ]
  },
  {
   "cell_type": "code",
   "execution_count": 0,
   "metadata": {
    "application/vnd.databricks.v1+cell": {
     "cellMetadata": {
      "byteLimit": 2048000,
      "rowLimit": 10000
     },
     "inputWidgets": {},
     "nuid": "6c3d924b-8bcd-4ec9-acce-20df1641e328",
     "showTitle": false,
     "tableResultSettingsMap": {},
     "title": ""
    }
   },
   "outputs": [],
   "source": [
    "sales_df=(\n",
    "  spark.read.format('csv').option('header',True)\n",
    "  .option('inferSchema',True)\n",
    "  .load('dbfs:/FileStore/Salesdata/sales_short.csv')\n",
    "  )"
   ]
  },
  {
   "cell_type": "code",
   "execution_count": 0,
   "metadata": {
    "application/vnd.databricks.v1+cell": {
     "cellMetadata": {
      "byteLimit": 2048000,
      "rowLimit": 10000
     },
     "inputWidgets": {},
     "nuid": "47a3f995-837f-4cc0-b49d-2a62469e41a7",
     "showTitle": false,
     "tableResultSettingsMap": {},
     "title": ""
    }
   },
   "outputs": [
    {
     "output_type": "stream",
     "name": "stdout",
     "output_type": "stream",
     "text": [
      "root\n |-- Order_date: timestamp (nullable = true)\n |-- Order_id: integer (nullable = true)\n |-- Product: string (nullable = true)\n |-- Address: string (nullable = true)\n\n"
     ]
    }
   ],
   "source": [
    "sales_df.printSchema()"
   ]
  },
  {
   "cell_type": "code",
   "execution_count": 0,
   "metadata": {
    "application/vnd.databricks.v1+cell": {
     "cellMetadata": {
      "byteLimit": 2048000,
      "rowLimit": 10000
     },
     "inputWidgets": {},
     "nuid": "02630900-7656-439a-8a12-bd23d8c803a1",
     "showTitle": false,
     "tableResultSettingsMap": {},
     "title": ""
    }
   },
   "outputs": [
    {
     "output_type": "stream",
     "name": "stdout",
     "output_type": "stream",
     "text": [
      "+-------------------+--------+--------------------+--------------------+\n|         Order_date|Order_id|             Product|             Address|\n+-------------------+--------+--------------------+--------------------+\n|2020-01-22 21:25:00|  141234|              iPhone|944 Walnut St, Bo...|\n|2020-02-28 14:15:00|  141235|Lightning Chargin...|185 Maple St, Por...|\n|2019-03-17 13:33:00|  141236|    Wired Headphones|538 Adams St, San...|\n|2019-03-05 20:33:00|  141237|    27in FHD Monitor|738 10th St, Los ...|\n|2021-04-25 11:59:00|  141238|    Wired Headphones|387 10th St, Aust...|\n+-------------------+--------+--------------------+--------------------+\nonly showing top 5 rows\n\n"
     ]
    }
   ],
   "source": [
    "sales_df.show(5)"
   ]
  },
  {
   "cell_type": "code",
   "execution_count": 0,
   "metadata": {
    "application/vnd.databricks.v1+cell": {
     "cellMetadata": {
      "byteLimit": 2048000,
      "rowLimit": 10000
     },
     "inputWidgets": {},
     "nuid": "c2946043-ae6e-47a6-bb37-08ac76fd4397",
     "showTitle": false,
     "tableResultSettingsMap": {},
     "title": ""
    }
   },
   "outputs": [
    {
     "output_type": "stream",
     "name": "stdout",
     "output_type": "stream",
     "text": [
      "+--------+---+----------+\n|Order_id|qty|price_each|\n+--------+---+----------+\n|  141234|  1|       700|\n|  141235|  1|     14.95|\n|  141236|  2|     11.99|\n|  141237|  1|    149.99|\n|  141238|  1|     11.99|\n+--------+---+----------+\nonly showing top 5 rows\n\n"
     ]
    }
   ],
   "source": [
    "order_df = spark.read.format(\"csv\").option(\"header\", \"true\").load('dbfs:/FileStore/Salesdata/sales_order_price.csv')\n",
    "order_df.show(5)"
   ]
  },
  {
   "cell_type": "code",
   "execution_count": 0,
   "metadata": {
    "application/vnd.databricks.v1+cell": {
     "cellMetadata": {},
     "inputWidgets": {},
     "nuid": "130c9390-06dc-4ba8-9a81-ea4e6f0e66d2",
     "showTitle": false,
     "tableResultSettingsMap": {},
     "title": ""
    }
   },
   "outputs": [],
   "source": []
  },
  {
   "cell_type": "markdown",
   "metadata": {
    "application/vnd.databricks.v1+cell": {
     "cellMetadata": {},
     "inputWidgets": {},
     "nuid": "b4310bd8-a30f-4f0a-9ac6-934f28016ece",
     "showTitle": false,
     "tableResultSettingsMap": {},
     "title": ""
    }
   },
   "source": [
    "Q1. Display the total price of each product ordered in 1st and 5th month of 2020\n",
    " 1. 1st DF (sales) will contain all product and order_id that were purchased in 1st and 5th month of 2020. You can keep order date also for reference\n",
    " 2. 2nd DF (order) will contain order_id and total_price (total_price = qty*price_each)]\n",
    " 3. Now join the 1st and 2nd df on order id.\n",
    " 4. Then group by on product and sum total price_"
   ]
  },
  {
   "cell_type": "code",
   "execution_count": 0,
   "metadata": {
    "application/vnd.databricks.v1+cell": {
     "cellMetadata": {
      "byteLimit": 2048000,
      "rowLimit": 10000
     },
     "inputWidgets": {},
     "nuid": "4ed4718b-fd4c-4c61-b739-5a4b9b782a8f",
     "showTitle": false,
     "tableResultSettingsMap": {},
     "title": ""
    },
    "jupyter": {
     "outputs_hidden": true
    }
   },
   "outputs": [
    {
     "output_type": "stream",
     "name": "stdout",
     "output_type": "stream",
     "text": [
      "+-------------------+--------+--------------------+--------------------+--------------+\n|         Order_date|Order_id|             Product|             Address|Order_date_new|\n+-------------------+--------+--------------------+--------------------+--------------+\n|2020-01-22 21:25:00|  141234|              iPhone|944 Walnut St, Bo...|    2020-01-22|\n|2020-02-28 14:15:00|  141235|Lightning Chargin...|185 Maple St, Por...|    2020-02-28|\n|2019-03-17 13:33:00|  141236|    Wired Headphones|538 Adams St, San...|    2019-03-17|\n|2019-03-05 20:33:00|  141237|    27in FHD Monitor|738 10th St, Los ...|    2019-03-05|\n|2021-04-25 11:59:00|  141238|    Wired Headphones|387 10th St, Aust...|    2021-04-25|\n|2020-04-29 20:22:00|  141239|AAA Batteries (4-...|775 Willow St, Sa...|    2020-04-29|\n|2019-04-26 12:16:00|  141240|27in 4K Gaming Mo...|979 Park St, Los ...|    2019-04-26|\n|2019-04-05 12:04:00|  141241|USB-C Charging Cable|181 6th St, San F...|    2019-04-05|\n|2019-05-01 10:30:01|  141242|Bose SoundSport H...|867 Willow St, Lo...|    2019-05-01|\n|2019-05-22 21:20:00|  141243|Apple Airpods Hea...|657 Johnson St, S...|    2019-05-22|\n|2019-05-07 11:29:00|  141244|Apple Airpods Hea...|492 Walnut St, Sa...|    2019-05-07|\n|2021-01-31 10:12:00|  141245|  Macbook Pro Laptop|322 6th St, San F...|    2021-01-31|\n|2019-02-09 18:57:00|  141246|AAA Batteries (4-...|618 7th St, Los A...|    2019-02-09|\n|2020-03-25 19:19:00|  141247|    27in FHD Monitor|512 Wilson St, Sa...|    2020-03-25|\n|2019-01-03 21:54:00|  141248|       Flatscreen TV|363 Spruce St, Au...|    2019-01-03|\n|2021-05-05 17:20:00|  141249|    27in FHD Monitor|440 Cedar St, Por...|    2021-05-05|\n|2020-05-10 11:20:00|  141250|     Vareebadd Phone|471 Center St, Lo...|    2020-05-10|\n|2019-04-24 08:13:00|  141251|Apple Airpods Hea...|414 Walnut St, Bo...|    2019-04-24|\n|2019-01-30 09:28:00|  141252|USB-C Charging Cable|220 9th St, Los A...|    2019-01-30|\n|2019-01-17 00:09:00|  141253|AA Batteries (4-p...|385 11th St, Atla...|    2019-01-17|\n+-------------------+--------+--------------------+--------------------+--------------+\nonly showing top 20 rows\n\n"
     ]
    }
   ],
   "source": [
    "sales_df=sales_df.withColumn('Order_date_new',to_date(col('Order_date'),'yyyy-MM-ddHH:mm:ss.SSSZ'))\n"
   ]
  },
  {
   "cell_type": "code",
   "execution_count": 0,
   "metadata": {
    "application/vnd.databricks.v1+cell": {
     "cellMetadata": {
      "byteLimit": 2048000,
      "rowLimit": 10000
     },
     "inputWidgets": {},
     "nuid": "7ee873a8-48b5-4821-9eb9-6101e491b84b",
     "showTitle": false,
     "tableResultSettingsMap": {},
     "title": ""
    }
   },
   "outputs": [
    {
     "output_type": "stream",
     "name": "stdout",
     "output_type": "stream",
     "text": [
      "+-------------------+--------+--------------------+--------------------+--------------+\n|         Order_date|Order_id|             Product|             Address|Order_date_new|\n+-------------------+--------+--------------------+--------------------+--------------+\n|2020-01-22 21:25:00|  141234|              iPhone|944 Walnut St, Bo...|    2020-01-22|\n|2020-02-28 14:15:00|  141235|Lightning Chargin...|185 Maple St, Por...|    2020-02-28|\n|2019-03-17 13:33:00|  141236|    Wired Headphones|538 Adams St, San...|    2019-03-17|\n|2019-03-05 20:33:00|  141237|    27in FHD Monitor|738 10th St, Los ...|    2019-03-05|\n|2021-04-25 11:59:00|  141238|    Wired Headphones|387 10th St, Aust...|    2021-04-25|\n+-------------------+--------+--------------------+--------------------+--------------+\nonly showing top 5 rows\n\n"
     ]
    }
   ],
   "source": [
    "sales_df.show(5)"
   ]
  },
  {
   "cell_type": "code",
   "execution_count": 0,
   "metadata": {
    "application/vnd.databricks.v1+cell": {
     "cellMetadata": {
      "byteLimit": 2048000,
      "rowLimit": 10000
     },
     "inputWidgets": {},
     "nuid": "ed055600-999d-4d0e-8505-36cfee919a48",
     "showTitle": false,
     "tableResultSettingsMap": {},
     "title": ""
    }
   },
   "outputs": [
    {
     "output_type": "stream",
     "name": "stdout",
     "output_type": "stream",
     "text": [
      "root\n |-- Order_date: timestamp (nullable = true)\n |-- Order_id: integer (nullable = true)\n |-- Product: string (nullable = true)\n |-- Address: string (nullable = true)\n |-- Order_date_new: date (nullable = true)\n\n"
     ]
    }
   ],
   "source": [
    "sales_df.printSchema()"
   ]
  },
  {
   "cell_type": "code",
   "execution_count": 0,
   "metadata": {
    "application/vnd.databricks.v1+cell": {
     "cellMetadata": {
      "byteLimit": 2048000,
      "rowLimit": 10000
     },
     "inputWidgets": {},
     "nuid": "65695b13-0f32-47b7-825c-7148306c1091",
     "showTitle": false,
     "tableResultSettingsMap": {},
     "title": ""
    }
   },
   "outputs": [
    {
     "output_type": "stream",
     "name": "stdout",
     "output_type": "stream",
     "text": [
      "+--------+---------------+--------------+\n|Order_id|        Product|Order_date_new|\n+--------+---------------+--------------+\n|  141234|         iPhone|    2020-01-22|\n|  141250|Vareebadd Phone|    2020-05-10|\n|  141256|   Google Phone|    2020-01-29|\n+--------+---------------+--------------+\n\n"
     ]
    }
   ],
   "source": [
    "df_product =sales_df.select('Order_id','Product','Order_date_new').filter(\"month(Order_date_new) in (1,5) and year(Order_date_new) in (2020)\")\n",
    "df_product.show(8)"
   ]
  },
  {
   "cell_type": "code",
   "execution_count": 0,
   "metadata": {
    "application/vnd.databricks.v1+cell": {
     "cellMetadata": {
      "byteLimit": 2048000,
      "rowLimit": 10000
     },
     "inputWidgets": {},
     "nuid": "4b3ae646-b2a4-406f-b4e1-3c64d8c6e753",
     "showTitle": false,
     "tableResultSettingsMap": {},
     "title": ""
    }
   },
   "outputs": [
    {
     "output_type": "stream",
     "name": "stdout",
     "output_type": "stream",
     "text": [
      "+--------+---+----------+-----------+\n|Order_id|qty|price_each|total_price|\n+--------+---+----------+-----------+\n|  141234|  1|       700|      700.0|\n|  141235|  1|     14.95|      14.95|\n|  141236|  2|     11.99|      23.98|\n|  141237|  1|    149.99|     149.99|\n|  141238|  1|     11.99|      11.99|\n|  141239|  1|      2.99|       2.99|\n|  141240|  1|    389.99|     389.99|\n|  141241|  1|     11.95|      11.95|\n|  141242|  1|     99.99|      99.99|\n|  141243|  1|       150|      150.0|\n|  141244|  1|       150|      150.0|\n|  141245|  1|      1700|     1700.0|\n|  141246|  3|      2.99|       8.97|\n|  141247|  1|    149.99|     149.99|\n|  141248|  1|       300|      300.0|\n|  141249|  1|    149.99|     149.99|\n|  141250|  1|       400|      400.0|\n|  141251|  1|       150|      150.0|\n|  141252|  1|     11.95|      11.95|\n|  141253|  1|      3.84|       3.84|\n+--------+---+----------+-----------+\nonly showing top 20 rows\n\n"
     ]
    }
   ],
   "source": [
    "df_order=order_df.withColumn('total_price',(col('qty') * col('price_each')))\n",
    "df_order.show()"
   ]
  },
  {
   "cell_type": "code",
   "execution_count": 0,
   "metadata": {
    "application/vnd.databricks.v1+cell": {
     "cellMetadata": {
      "byteLimit": 2048000,
      "rowLimit": 10000
     },
     "inputWidgets": {},
     "nuid": "b64ef182-c239-442e-b73b-067efc449206",
     "showTitle": false,
     "tableResultSettingsMap": {},
     "title": ""
    }
   },
   "outputs": [],
   "source": [
    "#join \n",
    "joined_df=df_product.join(df_order,df_product.Order_id ==df_order.Order_id ).select(df_product['*'],'total_price')"
   ]
  },
  {
   "cell_type": "code",
   "execution_count": 0,
   "metadata": {
    "application/vnd.databricks.v1+cell": {
     "cellMetadata": {
      "byteLimit": 2048000,
      "rowLimit": 10000
     },
     "inputWidgets": {},
     "nuid": "4bd33ee4-b54b-4792-8330-ec9a2babe4a5",
     "showTitle": false,
     "tableResultSettingsMap": {},
     "title": ""
    }
   },
   "outputs": [
    {
     "output_type": "stream",
     "name": "stdout",
     "output_type": "stream",
     "text": [
      "+--------+---------------+--------------+-----------+\n|Order_id|        Product|Order_date_new|total_price|\n+--------+---------------+--------------+-----------+\n|  141234|         iPhone|    2020-01-22|      700.0|\n|  141250|Vareebadd Phone|    2020-05-10|      400.0|\n|  141256|   Google Phone|    2020-01-29|      600.0|\n+--------+---------------+--------------+-----------+\n\n"
     ]
    }
   ],
   "source": [
    "joined_df.show(6)"
   ]
  },
  {
   "cell_type": "code",
   "execution_count": 0,
   "metadata": {
    "application/vnd.databricks.v1+cell": {
     "cellMetadata": {
      "byteLimit": 2048000,
      "rowLimit": 10000
     },
     "inputWidgets": {},
     "nuid": "37e7f1d6-a7ac-4e53-a86d-44fff2000120",
     "showTitle": false,
     "tableResultSettingsMap": {},
     "title": ""
    }
   },
   "outputs": [
    {
     "output_type": "stream",
     "name": "stdout",
     "output_type": "stream",
     "text": [
      "+---------------+-----------+\n|        Product|total_price|\n+---------------+-----------+\n|         iPhone|      700.0|\n|Vareebadd Phone|      400.0|\n|   Google Phone|      600.0|\n+---------------+-----------+\n\n"
     ]
    }
   ],
   "source": [
    "group_df=joined_df.groupBy('Product').agg(sum('total_price').alias('total_price'))\n",
    "group_df.show()"
   ]
  },
  {
   "cell_type": "markdown",
   "metadata": {
    "application/vnd.databricks.v1+cell": {
     "cellMetadata": {},
     "inputWidgets": {},
     "nuid": "0027762f-4f6d-42de-8241-16f7380f496f",
     "showTitle": false,
     "tableResultSettingsMap": {},
     "title": ""
    }
   },
   "source": [
    "Q2. How many no of days between 1st USB-C Charging Cable and 2nd USB-C Charging Cable sales"
   ]
  },
  {
   "cell_type": "code",
   "execution_count": 0,
   "metadata": {
    "application/vnd.databricks.v1+cell": {
     "cellMetadata": {
      "byteLimit": 2048000,
      "rowLimit": 10000
     },
     "inputWidgets": {},
     "nuid": "51c40f6e-c3ae-4c0e-8452-24aeb3d54430",
     "showTitle": false,
     "tableResultSettingsMap": {},
     "title": ""
    }
   },
   "outputs": [],
   "source": [
    "sales_df=(\n",
    "  spark.read.format('csv').option('header',True)\n",
    "  .option('inferSchema',True)\n",
    "  .load('dbfs:/FileStore/Salesdata/sales_short.csv')\n",
    "  )"
   ]
  },
  {
   "cell_type": "code",
   "execution_count": 0,
   "metadata": {
    "application/vnd.databricks.v1+cell": {
     "cellMetadata": {
      "byteLimit": 2048000,
      "rowLimit": 10000
     },
     "inputWidgets": {},
     "nuid": "4a8c7e37-d355-4073-a772-b95afa81cc6c",
     "showTitle": false,
     "tableResultSettingsMap": {},
     "title": ""
    }
   },
   "outputs": [
    {
     "output_type": "stream",
     "name": "stdout",
     "output_type": "stream",
     "text": [
      "+-------------------+--------+--------------------+--------------------+\n|         Order_date|Order_id|             Product|             Address|\n+-------------------+--------+--------------------+--------------------+\n|2019-04-05 12:04:00|  141241|USB-C Charging Cable|181 6th St, San F...|\n|2019-01-30 09:28:00|  141252|USB-C Charging Cable|220 9th St, Los A...|\n|2019-02-09 20:55:00|  141255|USB-C Charging Cable|764 11th St, Los ...|\n+-------------------+--------+--------------------+--------------------+\n\n"
     ]
    }
   ],
   "source": [
    "sales_df.filter(expr(\"Product ='USB-C Charging Cable'\")).show(8)"
   ]
  },
  {
   "cell_type": "code",
   "execution_count": 0,
   "metadata": {
    "application/vnd.databricks.v1+cell": {
     "cellMetadata": {
      "byteLimit": 2048000,
      "rowLimit": 10000
     },
     "inputWidgets": {},
     "nuid": "1a273bba-6225-4390-828b-46984357f668",
     "showTitle": false,
     "tableResultSettingsMap": {},
     "title": ""
    }
   },
   "outputs": [],
   "source": [
    "sales_df=sales_df.withColumn('Order_date',to_date(col('Order_date'),'yyyy-MM-ddHH:mm:ss.SSSZ'))"
   ]
  },
  {
   "cell_type": "code",
   "execution_count": 0,
   "metadata": {
    "application/vnd.databricks.v1+cell": {
     "cellMetadata": {
      "byteLimit": 2048000,
      "rowLimit": 10000
     },
     "inputWidgets": {},
     "nuid": "b713617c-8738-4b0c-a4c3-85cd39c2956e",
     "showTitle": false,
     "tableResultSettingsMap": {},
     "title": ""
    }
   },
   "outputs": [
    {
     "output_type": "stream",
     "name": "stdout",
     "output_type": "stream",
     "text": [
      "+----------+--------+--------------------+--------------------+\n|Order_date|Order_id|             Product|             Address|\n+----------+--------+--------------------+--------------------+\n|2020-01-22|  141234|              iPhone|944 Walnut St, Bo...|\n|2020-02-28|  141235|Lightning Chargin...|185 Maple St, Por...|\n|2019-03-17|  141236|    Wired Headphones|538 Adams St, San...|\n|2019-03-05|  141237|    27in FHD Monitor|738 10th St, Los ...|\n|2021-04-25|  141238|    Wired Headphones|387 10th St, Aust...|\n|2020-04-29|  141239|AAA Batteries (4-...|775 Willow St, Sa...|\n|2019-04-26|  141240|27in 4K Gaming Mo...|979 Park St, Los ...|\n|2019-04-05|  141241|USB-C Charging Cable|181 6th St, San F...|\n+----------+--------+--------------------+--------------------+\nonly showing top 8 rows\n\n"
     ]
    }
   ],
   "source": [
    "sales_df.show(8)"
   ]
  },
  {
   "cell_type": "code",
   "execution_count": 0,
   "metadata": {
    "application/vnd.databricks.v1+cell": {
     "cellMetadata": {
      "byteLimit": 2048000,
      "rowLimit": 10000
     },
     "inputWidgets": {},
     "nuid": "3b6c3b7d-e493-416c-bc2c-7b2debfa24b3",
     "showTitle": false,
     "tableResultSettingsMap": {},
     "title": ""
    }
   },
   "outputs": [
    {
     "output_type": "stream",
     "name": "stdout",
     "output_type": "stream",
     "text": [
      "+----------+--------+--------------------+--------------------+---------------+\n|Order_date|Order_id|             Product|             Address|prev_order_date|\n+----------+--------+--------------------+--------------------+---------------+\n|2019-01-30|  141252|USB-C Charging Cable|220 9th St, Los A...|           null|\n|2019-02-09|  141255|USB-C Charging Cable|764 11th St, Los ...|     2019-01-30|\n|2019-04-05|  141241|USB-C Charging Cable|181 6th St, San F...|     2019-02-09|\n+----------+--------+--------------------+--------------------+---------------+\n\n"
     ]
    }
   ],
   "source": [
    "from pyspark.sql.window import Window\n",
    "\n",
    "wind_spec=Window.partitionBy('Product').orderBy('Order_date')\n",
    "\n",
    "new_sales_df=sales_df.withColumn('prev_order_date',lag('Order_date').over(wind_spec))\n",
    "new_sales_df.filter(expr(\"Product ='USB-C Charging Cable'\")).show(10)"
   ]
  },
  {
   "cell_type": "code",
   "execution_count": 0,
   "metadata": {
    "application/vnd.databricks.v1+cell": {
     "cellMetadata": {
      "byteLimit": 2048000,
      "rowLimit": 10000
     },
     "inputWidgets": {},
     "nuid": "8e3494f8-434c-444b-97e0-b07db771f295",
     "showTitle": false,
     "tableResultSettingsMap": {},
     "title": ""
    }
   },
   "outputs": [
    {
     "output_type": "stream",
     "name": "stdout",
     "output_type": "stream",
     "text": [
      "+----------+--------+--------------------+--------------------+---------------+---------+\n|Order_date|Order_id|             Product|             Address|prev_order_date|days_diff|\n+----------+--------+--------------------+--------------------+---------------+---------+\n|2019-01-30|  141252|USB-C Charging Cable|220 9th St, Los A...|           null|     null|\n|2019-02-09|  141255|USB-C Charging Cable|764 11th St, Los ...|     2019-01-30|       10|\n|2019-04-05|  141241|USB-C Charging Cable|181 6th St, San F...|     2019-02-09|       55|\n+----------+--------+--------------------+--------------------+---------------+---------+\n\n"
     ]
    }
   ],
   "source": [
    "df_result =new_sales_df.filter(expr(\"Product ='USB-C Charging Cable'\")).withColumn('days_diff', datediff(col('Order_date'),col('prev_order_date')))\n",
    "df_result.show()"
   ]
  },
  {
   "cell_type": "markdown",
   "metadata": {
    "application/vnd.databricks.v1+cell": {
     "cellMetadata": {},
     "inputWidgets": {},
     "nuid": "df00aebc-bd21-458d-952e-0c8d92a7c595",
     "showTitle": false,
     "tableResultSettingsMap": {},
     "title": ""
    }
   },
   "source": [
    "Q3. Which month of 2020 has the most no of total sales"
   ]
  },
  {
   "cell_type": "code",
   "execution_count": 0,
   "metadata": {
    "application/vnd.databricks.v1+cell": {
     "cellMetadata": {
      "byteLimit": 2048000,
      "rowLimit": 10000
     },
     "inputWidgets": {},
     "nuid": "5df0ecc0-a49c-4a18-bb4b-521e79d75ed3",
     "showTitle": false,
     "tableResultSettingsMap": {},
     "title": ""
    }
   },
   "outputs": [],
   "source": [
    "sales_df=sales_df.withColumn('Order_date',to_date('Order_date'))"
   ]
  },
  {
   "cell_type": "code",
   "execution_count": 0,
   "metadata": {
    "application/vnd.databricks.v1+cell": {
     "cellMetadata": {
      "byteLimit": 2048000,
      "rowLimit": 10000
     },
     "inputWidgets": {},
     "nuid": "b4394c13-1cde-4334-bd08-c915b65ec684",
     "showTitle": false,
     "tableResultSettingsMap": {},
     "title": ""
    }
   },
   "outputs": [
    {
     "output_type": "stream",
     "name": "stdout",
     "output_type": "stream",
     "text": [
      "+----------+--------+----------------+--------------------+\n|Order_date|Order_id|         Product|             Address|\n+----------+--------+----------------+--------------------+\n|2019-03-05|  141237|27in FHD Monitor|738 10th St, Los ...|\n|2020-03-25|  141247|27in FHD Monitor|512 Wilson St, Sa...|\n|2021-05-05|  141249|27in FHD Monitor|440 Cedar St, Por...|\n+----------+--------+----------------+--------------------+\n\n"
     ]
    }
   ],
   "source": [
    "sales_df.filter(expr(\" Product ='27in FHD Monitor'\")).show(4)"
   ]
  },
  {
   "cell_type": "code",
   "execution_count": 0,
   "metadata": {
    "application/vnd.databricks.v1+cell": {
     "cellMetadata": {
      "byteLimit": 2048000,
      "rowLimit": 10000
     },
     "inputWidgets": {},
     "nuid": "b8199602-0828-4e90-aee5-2987198c6f50",
     "showTitle": false,
     "tableResultSettingsMap": {},
     "title": ""
    }
   },
   "outputs": [
    {
     "output_type": "stream",
     "name": "stdout",
     "output_type": "stream",
     "text": [
      "+--------+---+----------+-----------+\n|Order_id|qty|price_each|total_price|\n+--------+---+----------+-----------+\n|  141234|  1|       700|      700.0|\n|  141235|  1|     14.95|      14.95|\n|  141236|  2|     11.99|      23.98|\n|  141237|  1|    149.99|     149.99|\n+--------+---+----------+-----------+\nonly showing top 4 rows\n\n"
     ]
    }
   ],
   "source": [
    "df_order.show(4)"
   ]
  },
  {
   "cell_type": "code",
   "execution_count": 0,
   "metadata": {
    "application/vnd.databricks.v1+cell": {
     "cellMetadata": {
      "byteLimit": 2048000,
      "rowLimit": 10000
     },
     "inputWidgets": {},
     "nuid": "d7fb4780-efcc-44c4-8f98-b11c8cd94d07",
     "showTitle": false,
     "tableResultSettingsMap": {},
     "title": ""
    }
   },
   "outputs": [],
   "source": [
    "sales_order_joined=sales_df.join(df_order,sales_df.Order_id==df_order.Order_id).select(sales_df['*'],'total_price')"
   ]
  },
  {
   "cell_type": "code",
   "execution_count": 0,
   "metadata": {
    "application/vnd.databricks.v1+cell": {
     "cellMetadata": {
      "byteLimit": 2048000,
      "rowLimit": 10000
     },
     "inputWidgets": {},
     "nuid": "65ed493c-b322-49b8-a11a-820628d9e782",
     "showTitle": false,
     "tableResultSettingsMap": {},
     "title": ""
    }
   },
   "outputs": [
    {
     "output_type": "stream",
     "name": "stdout",
     "output_type": "stream",
     "text": [
      "+----------+--------+--------------------+--------------------+-----------+\n|Order_date|Order_id|             Product|             Address|total_price|\n+----------+--------+--------------------+--------------------+-----------+\n|2020-01-22|  141234|              iPhone|944 Walnut St, Bo...|      700.0|\n|2020-02-28|  141235|Lightning Chargin...|185 Maple St, Por...|      14.95|\n|2019-03-17|  141236|    Wired Headphones|538 Adams St, San...|      23.98|\n|2019-03-05|  141237|    27in FHD Monitor|738 10th St, Los ...|     149.99|\n|2021-04-25|  141238|    Wired Headphones|387 10th St, Aust...|      11.99|\n|2020-04-29|  141239|AAA Batteries (4-...|775 Willow St, Sa...|       2.99|\n+----------+--------+--------------------+--------------------+-----------+\nonly showing top 6 rows\n\n"
     ]
    }
   ],
   "source": [
    "sales_order_joined.show(6)"
   ]
  },
  {
   "cell_type": "code",
   "execution_count": 0,
   "metadata": {
    "application/vnd.databricks.v1+cell": {
     "cellMetadata": {
      "byteLimit": 2048000,
      "rowLimit": 10000
     },
     "inputWidgets": {},
     "nuid": "0be84e83-5444-48ab-a2c9-55d2a1e50b9c",
     "showTitle": false,
     "tableResultSettingsMap": {},
     "title": ""
    }
   },
   "outputs": [
    {
     "output_type": "stream",
     "name": "stdout",
     "output_type": "stream",
     "text": [
      "+-----+---------+\n|month|max_sales|\n+-----+---------+\n|    1|    700.0|\n|    3|    150.0|\n|    5|    400.0|\n|    4|     2.99|\n|    2|    14.95|\n+-----+---------+\n\n"
     ]
    }
   ],
   "source": [
    "from pyspark.sql import functions as F\n",
    "\n",
    "(sales_order_joined\n",
    "    .filter(F.year('Order_date') == 2020)\n",
    "    .groupBy(F.month('Order_date').alias('month'))\n",
    "    .agg(F.max('total_price').alias('max_sales'))\n",
    ").show()\n"
   ]
  },
  {
   "cell_type": "markdown",
   "metadata": {
    "application/vnd.databricks.v1+cell": {
     "cellMetadata": {},
     "inputWidgets": {},
     "nuid": "966f7a44-f338-49b3-b6f8-f9119dbb451d",
     "showTitle": false,
     "tableResultSettingsMap": {},
     "title": ""
    }
   },
   "source": [
    "Q4. How many months between the purchase of 1st and 3rd 27in FHD Monitor"
   ]
  },
  {
   "cell_type": "code",
   "execution_count": 0,
   "metadata": {
    "application/vnd.databricks.v1+cell": {
     "cellMetadata": {
      "byteLimit": 2048000,
      "rowLimit": 10000
     },
     "inputWidgets": {},
     "nuid": "9c7735d7-4c73-4b0f-94b4-6e22adb1e87b",
     "showTitle": false,
     "tableResultSettingsMap": {},
     "title": ""
    }
   },
   "outputs": [
    {
     "output_type": "stream",
     "name": "stdout",
     "output_type": "stream",
     "text": [
      "+----------+--------+----------------+--------------------+\n|Order_date|Order_id|         Product|             Address|\n+----------+--------+----------------+--------------------+\n|2019-03-05|  141237|27in FHD Monitor|738 10th St, Los ...|\n|2020-03-25|  141247|27in FHD Monitor|512 Wilson St, Sa...|\n|2021-05-05|  141249|27in FHD Monitor|440 Cedar St, Por...|\n+----------+--------+----------------+--------------------+\n\n"
     ]
    }
   ],
   "source": [
    "sales_df.filter(expr(\" Product ='27in FHD Monitor'\")).show(4)"
   ]
  },
  {
   "cell_type": "code",
   "execution_count": 0,
   "metadata": {
    "application/vnd.databricks.v1+cell": {
     "cellMetadata": {
      "byteLimit": 2048000,
      "rowLimit": 10000
     },
     "inputWidgets": {},
     "nuid": "b9bd4865-1e22-43ab-b029-1ff6057e0ca8",
     "showTitle": false,
     "tableResultSettingsMap": {},
     "title": ""
    }
   },
   "outputs": [
    {
     "output_type": "stream",
     "name": "stdout",
     "output_type": "stream",
     "text": [
      "+----------+--------+----------------+--------------------+----------+\n|Order_date|Order_id|         Product|             Address|prev_day_3|\n+----------+--------+----------------+--------------------+----------+\n|2019-03-05|  141237|27in FHD Monitor|738 10th St, Los ...|      null|\n|2020-03-25|  141247|27in FHD Monitor|512 Wilson St, Sa...|      null|\n|2021-05-05|  141249|27in FHD Monitor|440 Cedar St, Por...|2019-03-05|\n+----------+--------+----------------+--------------------+----------+\n\n"
     ]
    }
   ],
   "source": [
    "winspec=Window.partitionBy('Product').orderBy('Order_date')\n",
    "\n",
    "df_fhd_prev_date = sales_df.withColumn('prev_day_3',lag('Order_date',2).over(winspec))\n",
    "df_fhd_prev_date.filter(expr(\" Product ='27in FHD Monitor'\")).show(4)"
   ]
  },
  {
   "cell_type": "code",
   "execution_count": 0,
   "metadata": {
    "application/vnd.databricks.v1+cell": {
     "cellMetadata": {
      "byteLimit": 2048000,
      "rowLimit": 10000
     },
     "inputWidgets": {},
     "nuid": "1f274c0e-cbf3-43b6-8ec5-13319d033719",
     "showTitle": false,
     "tableResultSettingsMap": {},
     "title": ""
    }
   },
   "outputs": [
    {
     "output_type": "stream",
     "name": "stdout",
     "output_type": "stream",
     "text": [
      "+----------+--------+----------------+--------------------+----------+---------+\n|Order_date|Order_id|         Product|             Address|prev_day_3|days_diff|\n+----------+--------+----------------+--------------------+----------+---------+\n|2019-03-05|  141237|27in FHD Monitor|738 10th St, Los ...|      null|     null|\n|2020-03-25|  141247|27in FHD Monitor|512 Wilson St, Sa...|      null|     null|\n|2021-05-05|  141249|27in FHD Monitor|440 Cedar St, Por...|2019-03-05|    -26.0|\n+----------+--------+----------------+--------------------+----------+---------+\n\n"
     ]
    }
   ],
   "source": [
    "\n",
    "(df_fhd_prev_date.filter(F.expr(\"Product = '27in FHD Monitor'\"))\n",
    "    .withColumn('days_diff', F.months_between(F.col('prev_day_3'), F.col('Order_date')))\n",
    "    ).show()\n"
   ]
  },
  {
   "cell_type": "code",
   "execution_count": 0,
   "metadata": {
    "application/vnd.databricks.v1+cell": {
     "cellMetadata": {},
     "inputWidgets": {},
     "nuid": "2fc85660-9f7c-4717-95a9-30e617d1c119",
     "showTitle": false,
     "tableResultSettingsMap": {},
     "title": ""
    }
   },
   "outputs": [],
   "source": []
  },
  {
   "cell_type": "code",
   "execution_count": 0,
   "metadata": {
    "application/vnd.databricks.v1+cell": {
     "cellMetadata": {},
     "inputWidgets": {},
     "nuid": "3e10c5e7-ca9e-4710-9ee1-a4db0749ad1f",
     "showTitle": false,
     "tableResultSettingsMap": {},
     "title": ""
    }
   },
   "outputs": [],
   "source": []
  }
 ],
 "metadata": {
  "application/vnd.databricks.v1+notebook": {
   "computePreferences": null,
   "dashboards": [],
   "environmentMetadata": null,
   "inputWidgetPreferences": null,
   "language": "python",
   "notebookMetadata": {
    "mostRecentlyExecutedCommandWithImplicitDF": {
     "commandId": 1247279734128996,
     "dataframes": [
      "_sqldf"
     ]
    },
    "pythonIndentUnit": 4
   },
   "notebookName": "Sales_Order_Interview",
   "widgets": {}
  }
 },
 "nbformat": 4,
 "nbformat_minor": 0
}